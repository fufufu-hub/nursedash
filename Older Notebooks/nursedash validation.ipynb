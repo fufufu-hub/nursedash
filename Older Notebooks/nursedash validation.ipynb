{
 "cells": [
  {
   "cell_type": "markdown",
   "metadata": {},
   "source": [
    "# Connect to DB, Fetch data"
   ]
  },
  {
   "cell_type": "code",
   "execution_count": 35,
   "metadata": {},
   "outputs": [],
   "source": [
    "import pandas as pd\n",
    "# specify connection to database\n",
    "import psycopg2\n",
    "connection = psycopg2.connect(\n",
    "    host=\"nursedash-prod.cuzi2kducsnv.us-east-1.rds.amazonaws.com\",\n",
    "    database=\"nursedash\",\n",
    "    user=\"external_analyst\",\n",
    "    password=\"uDps8APganhSLc3K2xe7NtMPq\")"
   ]
  },
  {
   "cell_type": "markdown",
   "metadata": {},
   "source": [
    "### <font color = green> all time to chicago time, No withdrawn info"
   ]
  },
  {
   "cell_type": "code",
   "execution_count": 36,
   "metadata": {},
   "outputs": [],
   "source": [
    "df = pd.read_sql_query(\"\"\"\n",
    "\n",
    "SELECT  sa.id, sa.user_id, sa.shift_id, f.id AS facility_id, sa.\"withdrawnInfo\" -> 'initiator' as withdrawnInfo_value,\n",
    "sa.\"status\", sa.\"prevStatus\", sa.\"distance\", s.\"facility_id\", \"s\".\"description\" AS \"shift_description\",\n",
    "\"s\".\"assigned_nurse_id\", s.\"net_pay\", \"s\".\"unit\" AS \"s_unit\",s.\"type\",\n",
    "\"s\".\"qualifications\" AS \"s_qualifications\", \"s\".\"breakTime\" AS \"s_breakTime\", sa.\"withdrawnInfo\",\n",
    "\"f\".\"name\" AS \"f_name\",\"f\".\"short_name\" AS \"f_short_name\", f.\"segmentName\", f.\"areaName\",\n",
    "timezone('America/Chicago', s.\"createdAt\") as s_create,\n",
    "timezone('America/Chicago', sa.\"createdAt\") as sa_create,\n",
    "timezone('America/Chicago', u.\"approvedAt\") as u_approve,\n",
    "timezone('America/Chicago', u.\"createdAt\") as u_create,\n",
    "timezone('America/Chicago', sa.\"statusUpdatedAt\") as sa_statusUpdate,\n",
    "timezone('America/Chicago', timezone('UTC', s.start_time)) AS \"Start_Time\" \n",
    "FROM shifts s\n",
    "INNER JOIN shift_applications sa ON s.id = sa.shift_id\n",
    "INNER JOIN facilities f ON s.facility_id = f.id\n",
    "INNER JOIN users u ON sa.user_id = u.id\n",
    "\n",
    "\"\"\", con = connection)"
   ]
  },
  {
   "cell_type": "code",
   "execution_count": 37,
   "metadata": {},
   "outputs": [
    {
     "data": {
      "text/plain": [
       "Index(['id', 'user_id', 'shift_id', 'facility_id', 'withdrawninfo_value',\n",
       "       'status', 'prevStatus', 'distance', 'facility_id', 'shift_description',\n",
       "       'assigned_nurse_id', 'net_pay', 's_unit', 'type', 's_qualifications',\n",
       "       's_breakTime', 'withdrawnInfo', 'f_name', 'f_short_name', 'segmentName',\n",
       "       'areaName', 's_create', 'sa_create', 'u_approve', 'u_create',\n",
       "       'sa_statusupdate', 'Start_Time'],\n",
       "      dtype='object')"
      ]
     },
     "execution_count": 37,
     "metadata": {},
     "output_type": "execute_result"
    }
   ],
   "source": [
    "df.columns"
   ]
  },
  {
   "cell_type": "markdown",
   "metadata": {},
   "source": [
    "### 2 new columns to determine target"
   ]
  },
  {
   "cell_type": "code",
   "execution_count": 38,
   "metadata": {},
   "outputs": [],
   "source": [
    "# CW_Time2Start_Time\n",
    "df['CW_Time2Start_Time'] = df.apply(lambda row: (row['Start_Time'] - row['sa_statusupdate']).total_seconds()/3600 if str(row['Start_Time'])[:2] != '00' else 9999, \n",
    "                                         axis = 1)\n",
    "\n",
    "# Target\n",
    "def CW_by_nurse(row):\n",
    "    if row['status']=='withdrawn' and row['prevStatus'] == 'confirmed':\n",
    "        if row['withdrawninfo_value'] == 'nurse':\n",
    "            if row['CW_Time2Start_Time'] <= 24:\n",
    "                return \"UCW\"\n",
    "            else:\n",
    "                return \"CW\"\n",
    "        else:\n",
    "            return 0\n",
    "    else:\n",
    "        return 0\n",
    "    \n",
    "df['target'] = df.apply (lambda row: CW_by_nurse(row), axis=1)"
   ]
  },
  {
   "cell_type": "code",
   "execution_count": 39,
   "metadata": {},
   "outputs": [
    {
     "data": {
      "text/html": [
       "<div>\n",
       "<style scoped>\n",
       "    .dataframe tbody tr th:only-of-type {\n",
       "        vertical-align: middle;\n",
       "    }\n",
       "\n",
       "    .dataframe tbody tr th {\n",
       "        vertical-align: top;\n",
       "    }\n",
       "\n",
       "    .dataframe thead th {\n",
       "        text-align: right;\n",
       "    }\n",
       "</style>\n",
       "<table border=\"1\" class=\"dataframe\">\n",
       "  <thead>\n",
       "    <tr style=\"text-align: right;\">\n",
       "      <th></th>\n",
       "      <th>id</th>\n",
       "      <th>user_id</th>\n",
       "      <th>shift_id</th>\n",
       "      <th>facility_id</th>\n",
       "      <th>withdrawninfo_value</th>\n",
       "      <th>status</th>\n",
       "      <th>prevStatus</th>\n",
       "      <th>distance</th>\n",
       "      <th>facility_id</th>\n",
       "      <th>shift_description</th>\n",
       "      <th>...</th>\n",
       "      <th>segmentName</th>\n",
       "      <th>areaName</th>\n",
       "      <th>s_create</th>\n",
       "      <th>sa_create</th>\n",
       "      <th>u_approve</th>\n",
       "      <th>u_create</th>\n",
       "      <th>sa_statusupdate</th>\n",
       "      <th>Start_Time</th>\n",
       "      <th>CW_Time2Start_Time</th>\n",
       "      <th>target</th>\n",
       "    </tr>\n",
       "  </thead>\n",
       "  <tbody>\n",
       "    <tr>\n",
       "      <th>172142</th>\n",
       "      <td>172013</td>\n",
       "      <td>11143</td>\n",
       "      <td>126274</td>\n",
       "      <td>495</td>\n",
       "      <td>nurse</td>\n",
       "      <td>withdrawn</td>\n",
       "      <td>confirmed</td>\n",
       "      <td>11085.0</td>\n",
       "      <td>495</td>\n",
       "      <td>COVID-19 Unit. If selected, you will be workin...</td>\n",
       "      <td>...</td>\n",
       "      <td>Senior Living</td>\n",
       "      <td>DFW</td>\n",
       "      <td>2021-03-26 11:26:49.997509</td>\n",
       "      <td>2021-03-26 11:27:08.068697</td>\n",
       "      <td>2020-08-10 21:32:09.478</td>\n",
       "      <td>2020-08-10 19:38:17.666270</td>\n",
       "      <td>2021-04-05 09:29:02.034870</td>\n",
       "      <td>2021-04-27 18:00:00</td>\n",
       "      <td>536.516101</td>\n",
       "      <td>CW</td>\n",
       "    </tr>\n",
       "  </tbody>\n",
       "</table>\n",
       "<p>1 rows × 29 columns</p>\n",
       "</div>"
      ],
      "text/plain": [
       "            id  user_id  shift_id  facility_id withdrawninfo_value     status  \\\n",
       "172142  172013    11143    126274          495               nurse  withdrawn   \n",
       "\n",
       "       prevStatus  distance  facility_id  \\\n",
       "172142  confirmed   11085.0          495   \n",
       "\n",
       "                                        shift_description  ...    segmentName  \\\n",
       "172142  COVID-19 Unit. If selected, you will be workin...  ...  Senior Living   \n",
       "\n",
       "        areaName                   s_create                  sa_create  \\\n",
       "172142       DFW 2021-03-26 11:26:49.997509 2021-03-26 11:27:08.068697   \n",
       "\n",
       "                     u_approve                   u_create  \\\n",
       "172142 2020-08-10 21:32:09.478 2020-08-10 19:38:17.666270   \n",
       "\n",
       "                  sa_statusupdate           Start_Time CW_Time2Start_Time  \\\n",
       "172142 2021-04-05 09:29:02.034870  2021-04-27 18:00:00         536.516101   \n",
       "\n",
       "       target  \n",
       "172142     CW  \n",
       "\n",
       "[1 rows x 29 columns]"
      ]
     },
     "execution_count": 39,
     "metadata": {},
     "output_type": "execute_result"
    }
   ],
   "source": [
    "test = df[df['target']==\"UCW\"]\n",
    "df[df['id']==172013]"
   ]
  },
  {
   "cell_type": "markdown",
   "metadata": {},
   "source": [
    "# combine the prediction file with real data"
   ]
  },
  {
   "cell_type": "code",
   "execution_count": 41,
   "metadata": {
    "scrolled": true
   },
   "outputs": [],
   "source": [
    "# read the prediction file\n",
    "prediction = pd.read_csv('pred_2021-4-4.csv')\n",
    "validation = prediction.merge(df, on = 'id', how = 'left')"
   ]
  },
  {
   "cell_type": "code",
   "execution_count": 42,
   "metadata": {},
   "outputs": [
    {
     "data": {
      "text/html": [
       "<div>\n",
       "<style scoped>\n",
       "    .dataframe tbody tr th:only-of-type {\n",
       "        vertical-align: middle;\n",
       "    }\n",
       "\n",
       "    .dataframe tbody tr th {\n",
       "        vertical-align: top;\n",
       "    }\n",
       "\n",
       "    .dataframe thead th {\n",
       "        text-align: right;\n",
       "    }\n",
       "</style>\n",
       "<table border=\"1\" class=\"dataframe\">\n",
       "  <thead>\n",
       "    <tr style=\"text-align: right;\">\n",
       "      <th></th>\n",
       "      <th>id</th>\n",
       "      <th>Start_Time</th>\n",
       "      <th>prob</th>\n",
       "    </tr>\n",
       "  </thead>\n",
       "  <tbody>\n",
       "    <tr>\n",
       "      <th>0</th>\n",
       "      <td>172321</td>\n",
       "      <td>2021-04-04 05:00:00</td>\n",
       "      <td>0.271126</td>\n",
       "    </tr>\n",
       "    <tr>\n",
       "      <th>1</th>\n",
       "      <td>170592</td>\n",
       "      <td>2021-04-04 05:00:00</td>\n",
       "      <td>0.415821</td>\n",
       "    </tr>\n",
       "    <tr>\n",
       "      <th>2</th>\n",
       "      <td>173405</td>\n",
       "      <td>2021-04-04 06:00:00</td>\n",
       "      <td>0.607138</td>\n",
       "    </tr>\n",
       "    <tr>\n",
       "      <th>3</th>\n",
       "      <td>172482</td>\n",
       "      <td>2021-04-04 06:00:00</td>\n",
       "      <td>0.468472</td>\n",
       "    </tr>\n",
       "    <tr>\n",
       "      <th>4</th>\n",
       "      <td>174072</td>\n",
       "      <td>2021-04-04 06:00:00</td>\n",
       "      <td>0.681695</td>\n",
       "    </tr>\n",
       "    <tr>\n",
       "      <th>...</th>\n",
       "      <td>...</td>\n",
       "      <td>...</td>\n",
       "      <td>...</td>\n",
       "    </tr>\n",
       "    <tr>\n",
       "      <th>801</th>\n",
       "      <td>170607</td>\n",
       "      <td>2021-05-01 05:00:00</td>\n",
       "      <td>0.156116</td>\n",
       "    </tr>\n",
       "    <tr>\n",
       "      <th>802</th>\n",
       "      <td>173937</td>\n",
       "      <td>2021-05-02 05:00:00</td>\n",
       "      <td>0.250273</td>\n",
       "    </tr>\n",
       "    <tr>\n",
       "      <th>803</th>\n",
       "      <td>170735</td>\n",
       "      <td>2021-05-02 06:00:00</td>\n",
       "      <td>0.393660</td>\n",
       "    </tr>\n",
       "    <tr>\n",
       "      <th>804</th>\n",
       "      <td>172969</td>\n",
       "      <td>2021-05-02 17:00:00</td>\n",
       "      <td>0.110990</td>\n",
       "    </tr>\n",
       "    <tr>\n",
       "      <th>805</th>\n",
       "      <td>171733</td>\n",
       "      <td>2021-05-08 18:00:00</td>\n",
       "      <td>0.055794</td>\n",
       "    </tr>\n",
       "  </tbody>\n",
       "</table>\n",
       "<p>806 rows × 3 columns</p>\n",
       "</div>"
      ],
      "text/plain": [
       "         id           Start_Time      prob\n",
       "0    172321  2021-04-04 05:00:00  0.271126\n",
       "1    170592  2021-04-04 05:00:00  0.415821\n",
       "2    173405  2021-04-04 06:00:00  0.607138\n",
       "3    172482  2021-04-04 06:00:00  0.468472\n",
       "4    174072  2021-04-04 06:00:00  0.681695\n",
       "..      ...                  ...       ...\n",
       "801  170607  2021-05-01 05:00:00  0.156116\n",
       "802  173937  2021-05-02 05:00:00  0.250273\n",
       "803  170735  2021-05-02 06:00:00  0.393660\n",
       "804  172969  2021-05-02 17:00:00  0.110990\n",
       "805  171733  2021-05-08 18:00:00  0.055794\n",
       "\n",
       "[806 rows x 3 columns]"
      ]
     },
     "execution_count": 42,
     "metadata": {},
     "output_type": "execute_result"
    }
   ],
   "source": [
    "prediction"
   ]
  },
  {
   "cell_type": "code",
   "execution_count": 43,
   "metadata": {
    "scrolled": true
   },
   "outputs": [],
   "source": [
    "from datetime import date\n",
    "\n",
    "today = date.today()\n",
    "\n",
    "# convert to datetime for conditonal selection\n",
    "validation['Start_Time_x'] = pd.to_datetime(validation['Start_Time_x'])\n",
    "\n",
    "# record as realdata\n",
    "validation['Study Set'] = validation['Start_Time_x'].apply(lambda x: \"Y\" if x <= today else \"N\")"
   ]
  },
  {
   "cell_type": "code",
   "execution_count": 44,
   "metadata": {},
   "outputs": [],
   "source": [
    "validation = validation.rename(columns={\"Start_Time_x\": \"Start_Time\"})\n",
    "validation = validation[['id','prob','target','Study Set','Start_Time','status','type','prevStatus', 'withdrawnInfo','areaName','segmentName']]"
   ]
  },
  {
   "cell_type": "code",
   "execution_count": 45,
   "metadata": {},
   "outputs": [
    {
     "data": {
      "text/plain": [
       "Index(['prob', 'target', 'Study Set', 'Start_Time', 'status', 'type',\n",
       "       'prevStatus', 'withdrawnInfo', 'areaName', 'segmentName'],\n",
       "      dtype='object')"
      ]
     },
     "execution_count": 45,
     "metadata": {},
     "output_type": "execute_result"
    }
   ],
   "source": [
    "validation = validation.set_index(\"id\")\n",
    "validation.columns"
   ]
  },
  {
   "cell_type": "code",
   "execution_count": 46,
   "metadata": {},
   "outputs": [],
   "source": [
    "# read excel and save to a particular worksheet & it will help update the pivot table\n",
    "import pandas\n",
    "\n",
    "from openpyxl import load_workbook\n",
    "\n",
    "book = load_workbook('analysis-for-predictatiion_2021-4-4.xlsx')\n",
    "\n",
    "writer = pandas.ExcelWriter('analysis-for-predictatiion_2021-4-4.xlsx', engine='openpyxl') \n",
    "\n",
    "writer.book = book\n",
    "\n",
    "writer.sheets = dict((ws.title, ws) for ws in book.worksheets)\n",
    "\n",
    "validation.to_excel(writer, sheet_name='validation data')\n",
    "\n",
    "writer.save()"
   ]
  },
  {
   "cell_type": "code",
   "execution_count": null,
   "metadata": {},
   "outputs": [],
   "source": []
  },
  {
   "cell_type": "code",
   "execution_count": null,
   "metadata": {},
   "outputs": [],
   "source": []
  },
  {
   "cell_type": "code",
   "execution_count": null,
   "metadata": {},
   "outputs": [],
   "source": []
  }
 ],
 "metadata": {
  "kernelspec": {
   "display_name": "Python 3",
   "language": "python",
   "name": "python3"
  },
  "language_info": {
   "codemirror_mode": {
    "name": "ipython",
    "version": 3
   },
   "file_extension": ".py",
   "mimetype": "text/x-python",
   "name": "python",
   "nbconvert_exporter": "python",
   "pygments_lexer": "ipython3",
   "version": "3.8.5"
  }
 },
 "nbformat": 4,
 "nbformat_minor": 4
}
