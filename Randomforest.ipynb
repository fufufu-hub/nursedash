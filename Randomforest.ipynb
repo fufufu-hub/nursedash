{
 "cells": [
  {
   "cell_type": "code",
   "execution_count": 29,
   "metadata": {},
   "outputs": [],
   "source": [
    "import pandas as pd\n",
    "import numpy as np\n",
    "df = pd.read_csv('model_data.csv').drop(columns = ['Unnamed: 0'])"
   ]
  },
  {
   "cell_type": "code",
   "execution_count": 31,
   "metadata": {
    "scrolled": true
   },
   "outputs": [
    {
     "data": {
      "text/html": [
       "<div>\n",
       "<style scoped>\n",
       "    .dataframe tbody tr th:only-of-type {\n",
       "        vertical-align: middle;\n",
       "    }\n",
       "\n",
       "    .dataframe tbody tr th {\n",
       "        vertical-align: top;\n",
       "    }\n",
       "\n",
       "    .dataframe thead th {\n",
       "        text-align: right;\n",
       "    }\n",
       "</style>\n",
       "<table border=\"1\" class=\"dataframe\">\n",
       "  <thead>\n",
       "    <tr style=\"text-align: right;\">\n",
       "      <th></th>\n",
       "      <th>prev_CW/SA_rate</th>\n",
       "      <th>S_create2SA_Create</th>\n",
       "      <th>S_Create2Start_Time</th>\n",
       "      <th>SA_Create2Start_Time</th>\n",
       "      <th>U_create2now</th>\n",
       "      <th>U_approve2now</th>\n",
       "      <th>type_d</th>\n",
       "      <th>segmentName_d</th>\n",
       "      <th>net_pay</th>\n",
       "      <th>distance</th>\n",
       "      <th>target</th>\n",
       "    </tr>\n",
       "  </thead>\n",
       "  <tbody>\n",
       "    <tr>\n",
       "      <th>0</th>\n",
       "      <td>0.000000</td>\n",
       "      <td>0.024444</td>\n",
       "      <td>217.047500</td>\n",
       "      <td>217.023056</td>\n",
       "      <td>31.272810</td>\n",
       "      <td>24.076044</td>\n",
       "      <td>2</td>\n",
       "      <td>0</td>\n",
       "      <td>11.0</td>\n",
       "      <td>NaN</td>\n",
       "      <td>0</td>\n",
       "    </tr>\n",
       "    <tr>\n",
       "      <th>1</th>\n",
       "      <td>0.000000</td>\n",
       "      <td>0.034444</td>\n",
       "      <td>19.714444</td>\n",
       "      <td>19.680000</td>\n",
       "      <td>31.272810</td>\n",
       "      <td>24.076044</td>\n",
       "      <td>2</td>\n",
       "      <td>0</td>\n",
       "      <td>45.0</td>\n",
       "      <td>NaN</td>\n",
       "      <td>0</td>\n",
       "    </tr>\n",
       "    <tr>\n",
       "      <th>2</th>\n",
       "      <td>0.000000</td>\n",
       "      <td>0.011111</td>\n",
       "      <td>0.019167</td>\n",
       "      <td>0.008056</td>\n",
       "      <td>31.272810</td>\n",
       "      <td>24.076044</td>\n",
       "      <td>2</td>\n",
       "      <td>0</td>\n",
       "      <td>45.0</td>\n",
       "      <td>NaN</td>\n",
       "      <td>0</td>\n",
       "    </tr>\n",
       "    <tr>\n",
       "      <th>3</th>\n",
       "      <td>0.000000</td>\n",
       "      <td>0.031667</td>\n",
       "      <td>183.788611</td>\n",
       "      <td>183.756944</td>\n",
       "      <td>31.272810</td>\n",
       "      <td>24.076044</td>\n",
       "      <td>2</td>\n",
       "      <td>1</td>\n",
       "      <td>40.0</td>\n",
       "      <td>NaN</td>\n",
       "      <td>0</td>\n",
       "    </tr>\n",
       "    <tr>\n",
       "      <th>4</th>\n",
       "      <td>0.000000</td>\n",
       "      <td>6.073056</td>\n",
       "      <td>18.681111</td>\n",
       "      <td>12.608056</td>\n",
       "      <td>31.272810</td>\n",
       "      <td>24.076044</td>\n",
       "      <td>2</td>\n",
       "      <td>0</td>\n",
       "      <td>45.0</td>\n",
       "      <td>NaN</td>\n",
       "      <td>0</td>\n",
       "    </tr>\n",
       "    <tr>\n",
       "      <th>...</th>\n",
       "      <td>...</td>\n",
       "      <td>...</td>\n",
       "      <td>...</td>\n",
       "      <td>...</td>\n",
       "      <td>...</td>\n",
       "      <td>...</td>\n",
       "      <td>...</td>\n",
       "      <td>...</td>\n",
       "      <td>...</td>\n",
       "      <td>...</td>\n",
       "      <td>...</td>\n",
       "    </tr>\n",
       "    <tr>\n",
       "      <th>167718</th>\n",
       "      <td>0.666667</td>\n",
       "      <td>197.229722</td>\n",
       "      <td>240.713333</td>\n",
       "      <td>43.483611</td>\n",
       "      <td>0.159435</td>\n",
       "      <td>0.096586</td>\n",
       "      <td>0</td>\n",
       "      <td>1</td>\n",
       "      <td>18.0</td>\n",
       "      <td>39929.0</td>\n",
       "      <td>0</td>\n",
       "    </tr>\n",
       "    <tr>\n",
       "      <th>167719</th>\n",
       "      <td>0.500000</td>\n",
       "      <td>0.144722</td>\n",
       "      <td>17.701111</td>\n",
       "      <td>17.556111</td>\n",
       "      <td>0.159435</td>\n",
       "      <td>0.096586</td>\n",
       "      <td>0</td>\n",
       "      <td>1</td>\n",
       "      <td>14.0</td>\n",
       "      <td>11252.0</td>\n",
       "      <td>0</td>\n",
       "    </tr>\n",
       "    <tr>\n",
       "      <th>167720</th>\n",
       "      <td>0.000000</td>\n",
       "      <td>68.506389</td>\n",
       "      <td>96.981944</td>\n",
       "      <td>28.475556</td>\n",
       "      <td>0.104826</td>\n",
       "      <td>0.076095</td>\n",
       "      <td>1</td>\n",
       "      <td>1</td>\n",
       "      <td>32.0</td>\n",
       "      <td>60926.0</td>\n",
       "      <td>0</td>\n",
       "    </tr>\n",
       "    <tr>\n",
       "      <th>167721</th>\n",
       "      <td>0.000000</td>\n",
       "      <td>68.506389</td>\n",
       "      <td>96.981944</td>\n",
       "      <td>28.475556</td>\n",
       "      <td>0.104826</td>\n",
       "      <td>0.076095</td>\n",
       "      <td>1</td>\n",
       "      <td>1</td>\n",
       "      <td>32.0</td>\n",
       "      <td>60926.0</td>\n",
       "      <td>0</td>\n",
       "    </tr>\n",
       "    <tr>\n",
       "      <th>167722</th>\n",
       "      <td>0.000000</td>\n",
       "      <td>13.711389</td>\n",
       "      <td>17.736389</td>\n",
       "      <td>4.025000</td>\n",
       "      <td>0.104826</td>\n",
       "      <td>0.076095</td>\n",
       "      <td>1</td>\n",
       "      <td>1</td>\n",
       "      <td>26.5</td>\n",
       "      <td>54681.0</td>\n",
       "      <td>0</td>\n",
       "    </tr>\n",
       "  </tbody>\n",
       "</table>\n",
       "<p>167723 rows × 11 columns</p>\n",
       "</div>"
      ],
      "text/plain": [
       "        prev_CW/SA_rate  S_create2SA_Create  S_Create2Start_Time  \\\n",
       "0              0.000000            0.024444           217.047500   \n",
       "1              0.000000            0.034444            19.714444   \n",
       "2              0.000000            0.011111             0.019167   \n",
       "3              0.000000            0.031667           183.788611   \n",
       "4              0.000000            6.073056            18.681111   \n",
       "...                 ...                 ...                  ...   \n",
       "167718         0.666667          197.229722           240.713333   \n",
       "167719         0.500000            0.144722            17.701111   \n",
       "167720         0.000000           68.506389            96.981944   \n",
       "167721         0.000000           68.506389            96.981944   \n",
       "167722         0.000000           13.711389            17.736389   \n",
       "\n",
       "        SA_Create2Start_Time  U_create2now  U_approve2now  type_d  \\\n",
       "0                 217.023056     31.272810      24.076044       2   \n",
       "1                  19.680000     31.272810      24.076044       2   \n",
       "2                   0.008056     31.272810      24.076044       2   \n",
       "3                 183.756944     31.272810      24.076044       2   \n",
       "4                  12.608056     31.272810      24.076044       2   \n",
       "...                      ...           ...            ...     ...   \n",
       "167718             43.483611      0.159435       0.096586       0   \n",
       "167719             17.556111      0.159435       0.096586       0   \n",
       "167720             28.475556      0.104826       0.076095       1   \n",
       "167721             28.475556      0.104826       0.076095       1   \n",
       "167722              4.025000      0.104826       0.076095       1   \n",
       "\n",
       "        segmentName_d  net_pay  distance  target  \n",
       "0                   0     11.0       NaN       0  \n",
       "1                   0     45.0       NaN       0  \n",
       "2                   0     45.0       NaN       0  \n",
       "3                   1     40.0       NaN       0  \n",
       "4                   0     45.0       NaN       0  \n",
       "...               ...      ...       ...     ...  \n",
       "167718              1     18.0   39929.0       0  \n",
       "167719              1     14.0   11252.0       0  \n",
       "167720              1     32.0   60926.0       0  \n",
       "167721              1     32.0   60926.0       0  \n",
       "167722              1     26.5   54681.0       0  \n",
       "\n",
       "[167723 rows x 11 columns]"
      ]
     },
     "execution_count": 31,
     "metadata": {},
     "output_type": "execute_result"
    }
   ],
   "source": [
    "df"
   ]
  },
  {
   "cell_type": "code",
   "execution_count": 32,
   "metadata": {},
   "outputs": [],
   "source": [
    "# make a dataset that num of tar = num of non tar\n",
    "import random\n",
    "df_tar = df[df['target']==1]\n",
    "df_nontar = df[df['target']==0]\n",
    "\n",
    "number_of_tar = df_tar.shape[0]\n",
    "random_indices = random.sample(range(len(df_nontar)), int(number_of_tar))\n",
    "df_nontar = df_nontar[df_nontar.index.isin(random_indices)]\n",
    "\n",
    "# concat\n",
    "df = pd.concat([df_tar, df_nontar])"
   ]
  },
  {
   "cell_type": "code",
   "execution_count": 33,
   "metadata": {},
   "outputs": [],
   "source": [
    "df.dropna(inplace = True) # If True, do operation inplace and return None."
   ]
  },
  {
   "cell_type": "code",
   "execution_count": 34,
   "metadata": {},
   "outputs": [],
   "source": [
    "# scale\n",
    "from sklearn.preprocessing import StandardScaler\n",
    "scaler = StandardScaler()\n",
    "scaler.fit(df.drop('target',axis=1))\n",
    "scaled_features = scaler.transform(df.drop('target',axis=1))\n",
    "\n",
    "X = pd.DataFrame(scaled_features,columns=df.columns[:-1])\n",
    "y = df['target']\n",
    "\n",
    "# train test\n",
    "from sklearn.model_selection import train_test_split\n",
    "X_train, X_test, y_train, y_test = train_test_split(X,y,\n",
    "                                                    test_size=0.30)"
   ]
  },
  {
   "cell_type": "markdown",
   "metadata": {},
   "source": [
    "# Decision Trees"
   ]
  },
  {
   "cell_type": "code",
   "execution_count": 35,
   "metadata": {},
   "outputs": [
    {
     "data": {
      "text/plain": [
       "DecisionTreeClassifier()"
      ]
     },
     "execution_count": 35,
     "metadata": {},
     "output_type": "execute_result"
    }
   ],
   "source": [
    "# fit\n",
    "from sklearn.tree import DecisionTreeClassifier\n",
    "dtree = DecisionTreeClassifier()\n",
    "dtree.fit(X_train,y_train)"
   ]
  },
  {
   "cell_type": "code",
   "execution_count": 36,
   "metadata": {},
   "outputs": [
    {
     "name": "stdout",
     "output_type": "stream",
     "text": [
      "[[255 187]\n",
      " [178 352]]\n",
      "\n",
      "\n",
      "              precision    recall  f1-score   support\n",
      "\n",
      "           0       0.59      0.58      0.58       442\n",
      "           1       0.65      0.66      0.66       530\n",
      "\n",
      "    accuracy                           0.62       972\n",
      "   macro avg       0.62      0.62      0.62       972\n",
      "weighted avg       0.62      0.62      0.62       972\n",
      "\n"
     ]
    }
   ],
   "source": [
    "# predict\n",
    "predictions = dtree.predict(X_test)\n",
    "from sklearn.metrics import classification_report,confusion_matrix\n",
    "print(confusion_matrix(y_test,predictions))\n",
    "print('\\n')\n",
    "print(classification_report(y_test,predictions))"
   ]
  },
  {
   "cell_type": "markdown",
   "metadata": {},
   "source": [
    "## Random Forests\n"
   ]
  },
  {
   "cell_type": "code",
   "execution_count": 37,
   "metadata": {
    "scrolled": true
   },
   "outputs": [
    {
     "data": {
      "text/plain": [
       "RandomForestClassifier()"
      ]
     },
     "execution_count": 37,
     "metadata": {},
     "output_type": "execute_result"
    }
   ],
   "source": [
    "# fit\n",
    "from sklearn.ensemble import RandomForestClassifier\n",
    "rfc = RandomForestClassifier(n_estimators=100)\n",
    "rfc.fit(X_train, y_train)"
   ]
  },
  {
   "cell_type": "code",
   "execution_count": 38,
   "metadata": {},
   "outputs": [],
   "source": [
    "# predict\n",
    "rfc_pred = rfc.predict(X_test)"
   ]
  },
  {
   "cell_type": "code",
   "execution_count": 39,
   "metadata": {},
   "outputs": [
    {
     "name": "stdout",
     "output_type": "stream",
     "text": [
      "[[269 173]\n",
      " [126 404]]\n",
      "\n",
      "\n",
      "              precision    recall  f1-score   support\n",
      "\n",
      "           0       0.68      0.61      0.64       442\n",
      "           1       0.70      0.76      0.73       530\n",
      "\n",
      "    accuracy                           0.69       972\n",
      "   macro avg       0.69      0.69      0.69       972\n",
      "weighted avg       0.69      0.69      0.69       972\n",
      "\n"
     ]
    }
   ],
   "source": [
    "print(confusion_matrix(y_test,rfc_pred))\n",
    "print('\\n')\n",
    "print(classification_report(y_test,rfc_pred))"
   ]
  }
 ],
 "metadata": {
  "kernelspec": {
   "display_name": "Python 3",
   "language": "python",
   "name": "python3"
  },
  "language_info": {
   "codemirror_mode": {
    "name": "ipython",
    "version": 3
   },
   "file_extension": ".py",
   "mimetype": "text/x-python",
   "name": "python",
   "nbconvert_exporter": "python",
   "pygments_lexer": "ipython3",
   "version": "3.8.5"
  }
 },
 "nbformat": 4,
 "nbformat_minor": 4
}
