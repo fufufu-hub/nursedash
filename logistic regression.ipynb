{
 "cells": [
  {
   "cell_type": "code",
   "execution_count": 1828,
   "metadata": {},
   "outputs": [],
   "source": [
    "import pandas as pd\n",
    "import numpy as np\n",
    "df = pd.read_csv('model_data.csv').drop(columns = ['Unnamed: 0', 'distance'])"
   ]
  },
  {
   "cell_type": "code",
   "execution_count": 1829,
   "metadata": {},
   "outputs": [
    {
     "data": {
      "text/plain": [
       "Index(['id', 'user_id', 'shift_id', 'prev_CW/SA_rate', 'status',\n",
       "       'S_create2SA_Create', 'S_Create2Start_Time', 'SA_Create2Start_Time',\n",
       "       'U_create2now', 'U_approve2now', 'prev_CW x SA_rate', 'type_RN',\n",
       "       'type_LVN+LPN', 'segmentName_d', 'areaName_houston', 'areaName_no',\n",
       "       'areaName_dfw', 'areaName_austin', 'areaName_san', 'net_pay', 'target',\n",
       "       'createdAt', 'Start_Time'],\n",
       "      dtype='object')"
      ]
     },
     "execution_count": 1829,
     "metadata": {},
     "output_type": "execute_result"
    }
   ],
   "source": [
    "df.columns"
   ]
  },
  {
   "cell_type": "markdown",
   "metadata": {},
   "source": [
    "# Data Prepration"
   ]
  },
  {
   "cell_type": "code",
   "execution_count": 1830,
   "metadata": {},
   "outputs": [],
   "source": [
    "# standardlize, dont standardlize dummy! \n",
    "from sklearn.preprocessing import StandardScaler\n",
    "scaler = StandardScaler()\n",
    "scaler.fit(df.drop(['id', 'user_id', 'shift_id', 'status', 'target', 'createdAt', 'Start_Time', 'type_RN', \n",
    "                    'type_LVN+LPN', 'segmentName_d', 'areaName_houston', 'areaName_no', 'areaName_dfw', \n",
    "                    'areaName_austin', 'areaName_san'], axis=1))\n",
    "scaled_features = scaler.transform(df.drop(['id', 'user_id', 'shift_id', 'status', 'target', 'createdAt',\n",
    "                                            'Start_Time', 'type_RN', 'type_LVN+LPN', 'segmentName_d', \n",
    "                                            'areaName_houston', 'areaName_no', 'areaName_dfw', \n",
    "                                            'areaName_austin', 'areaName_san'], axis=1))\n",
    "\n",
    "# scaled features\n",
    "X = pd.DataFrame(scaled_features, columns = ['prev_CW/SA_rate', 'prev_CW x SA_rate', 'S_create2SA_Create', \n",
    "                                             'S_Create2Start_Time', 'SA_Create2Start_Time', 'U_create2now', \n",
    "                                             'U_approve2now', 'net_pay'])\n",
    "# concat with dummy\n",
    "df = pd.concat([df[['id', 'user_id', 'shift_id', 'status', 'target', 'createdAt',\n",
    "                    'Start_Time', 'type_RN', 'type_LVN+LPN', 'segmentName_d', \n",
    "                    'areaName_houston', 'areaName_no', 'areaName_dfw', \n",
    "                    'areaName_austin', 'areaName_san']], X], axis = 1)\n",
    "\n",
    "# drop nas\n",
    "df.dropna(inplace = True)"
   ]
  },
  {
   "cell_type": "markdown",
   "metadata": {},
   "source": [
    "### Slice df by the end of this week, for predcition output"
   ]
  },
  {
   "cell_type": "code",
   "execution_count": 1831,
   "metadata": {},
   "outputs": [],
   "source": [
    "end_of_week = '2021-3-29'\n",
    "\n",
    "# convert to datetime for conditonal selection\n",
    "df['Start_Time'] = pd.to_datetime(df['Start_Time'])\n",
    "# sort by start time -> for slicing\n",
    "df = df.sort_values(by = 'Start_Time') \n",
    "# record as realdata\n",
    "realdata = df[df['Start_Time'].apply(lambda x: x >= pd.to_datetime(end_of_week))]\n",
    "# record predction output rows, don't include it in tran test validation\n",
    "realdata_len = realdata.shape[0]\n",
    "# only keep status = confirmed\n",
    "realdata = realdata[realdata['status'] == 'confirmed']"
   ]
  },
  {
   "cell_type": "code",
   "execution_count": 1832,
   "metadata": {
    "scrolled": true
   },
   "outputs": [
    {
     "data": {
      "text/plain": [
       "0"
      ]
     },
     "execution_count": 1832,
     "metadata": {},
     "output_type": "execute_result"
    }
   ],
   "source": [
    "realdata_len"
   ]
  },
  {
   "cell_type": "code",
   "execution_count": 1834,
   "metadata": {},
   "outputs": [
    {
     "data": {
      "text/html": [
       "<div>\n",
       "<style scoped>\n",
       "    .dataframe tbody tr th:only-of-type {\n",
       "        vertical-align: middle;\n",
       "    }\n",
       "\n",
       "    .dataframe tbody tr th {\n",
       "        vertical-align: top;\n",
       "    }\n",
       "\n",
       "    .dataframe thead th {\n",
       "        text-align: right;\n",
       "    }\n",
       "</style>\n",
       "<table border=\"1\" class=\"dataframe\">\n",
       "  <thead>\n",
       "    <tr style=\"text-align: right;\">\n",
       "      <th></th>\n",
       "      <th>id</th>\n",
       "      <th>user_id</th>\n",
       "      <th>shift_id</th>\n",
       "      <th>status</th>\n",
       "      <th>target</th>\n",
       "      <th>createdAt</th>\n",
       "      <th>Start_Time</th>\n",
       "      <th>type_RN</th>\n",
       "      <th>type_LVN+LPN</th>\n",
       "      <th>segmentName_d</th>\n",
       "      <th>...</th>\n",
       "      <th>areaName_austin</th>\n",
       "      <th>areaName_san</th>\n",
       "      <th>prev_CW/SA_rate</th>\n",
       "      <th>prev_CW x SA_rate</th>\n",
       "      <th>S_create2SA_Create</th>\n",
       "      <th>S_Create2Start_Time</th>\n",
       "      <th>SA_Create2Start_Time</th>\n",
       "      <th>U_create2now</th>\n",
       "      <th>U_approve2now</th>\n",
       "      <th>net_pay</th>\n",
       "    </tr>\n",
       "  </thead>\n",
       "  <tbody>\n",
       "    <tr>\n",
       "      <th>214</th>\n",
       "      <td>29316</td>\n",
       "      <td>1721</td>\n",
       "      <td>12515</td>\n",
       "      <td>confirmed</td>\n",
       "      <td>0</td>\n",
       "      <td>2019-09-12 20:00:22.553699</td>\n",
       "      <td>2019-09-14 06:00:00</td>\n",
       "      <td>0</td>\n",
       "      <td>0</td>\n",
       "      <td>1</td>\n",
       "      <td>...</td>\n",
       "      <td>0</td>\n",
       "      <td>0</td>\n",
       "      <td>-0.536648</td>\n",
       "      <td>-0.415223</td>\n",
       "      <td>-0.855313</td>\n",
       "      <td>-0.796289</td>\n",
       "      <td>1.529298</td>\n",
       "      <td>1.165478</td>\n",
       "      <td>-0.363432</td>\n",
       "      <td>-0.988077</td>\n",
       "    </tr>\n",
       "    <tr>\n",
       "      <th>170</th>\n",
       "      <td>29160</td>\n",
       "      <td>4675</td>\n",
       "      <td>12488</td>\n",
       "      <td>confirmed</td>\n",
       "      <td>0</td>\n",
       "      <td>2019-09-11 21:12:59.058392</td>\n",
       "      <td>2019-09-14 06:00:00</td>\n",
       "      <td>0</td>\n",
       "      <td>0</td>\n",
       "      <td>1</td>\n",
       "      <td>...</td>\n",
       "      <td>0</td>\n",
       "      <td>0</td>\n",
       "      <td>-0.536648</td>\n",
       "      <td>-0.553756</td>\n",
       "      <td>-0.845526</td>\n",
       "      <td>-0.654632</td>\n",
       "      <td>0.986908</td>\n",
       "      <td>1.257228</td>\n",
       "      <td>-0.363432</td>\n",
       "      <td>-0.770445</td>\n",
       "    </tr>\n",
       "    <tr>\n",
       "      <th>88</th>\n",
       "      <td>28864</td>\n",
       "      <td>531</td>\n",
       "      <td>12299</td>\n",
       "      <td>withdrawn</td>\n",
       "      <td>0</td>\n",
       "      <td>2019-09-10 15:00:22.918030</td>\n",
       "      <td>2019-09-14 06:45:00</td>\n",
       "      <td>1</td>\n",
       "      <td>0</td>\n",
       "      <td>0</td>\n",
       "      <td>...</td>\n",
       "      <td>0</td>\n",
       "      <td>0</td>\n",
       "      <td>-0.536648</td>\n",
       "      <td>-0.487788</td>\n",
       "      <td>-0.661755</td>\n",
       "      <td>-0.462192</td>\n",
       "      <td>2.234790</td>\n",
       "      <td>1.208485</td>\n",
       "      <td>-0.363432</td>\n",
       "      <td>2.167580</td>\n",
       "    </tr>\n",
       "    <tr>\n",
       "      <th>87</th>\n",
       "      <td>28864</td>\n",
       "      <td>531</td>\n",
       "      <td>12299</td>\n",
       "      <td>withdrawn</td>\n",
       "      <td>0</td>\n",
       "      <td>2019-09-10 15:00:22.918030</td>\n",
       "      <td>2019-09-14 06:45:00</td>\n",
       "      <td>1</td>\n",
       "      <td>0</td>\n",
       "      <td>0</td>\n",
       "      <td>...</td>\n",
       "      <td>0</td>\n",
       "      <td>0</td>\n",
       "      <td>-0.536648</td>\n",
       "      <td>-0.487788</td>\n",
       "      <td>-0.661755</td>\n",
       "      <td>-0.462192</td>\n",
       "      <td>2.234790</td>\n",
       "      <td>1.208485</td>\n",
       "      <td>-0.363432</td>\n",
       "      <td>2.167580</td>\n",
       "    </tr>\n",
       "    <tr>\n",
       "      <th>2</th>\n",
       "      <td>26912</td>\n",
       "      <td>4733</td>\n",
       "      <td>11310</td>\n",
       "      <td>confirmed</td>\n",
       "      <td>0</td>\n",
       "      <td>2019-08-27 19:16:40.669964</td>\n",
       "      <td>2019-09-14 07:00:00</td>\n",
       "      <td>0</td>\n",
       "      <td>0</td>\n",
       "      <td>1</td>\n",
       "      <td>...</td>\n",
       "      <td>0</td>\n",
       "      <td>0</td>\n",
       "      <td>-0.536648</td>\n",
       "      <td>-0.534947</td>\n",
       "      <td>0.798190</td>\n",
       "      <td>1.595090</td>\n",
       "      <td>0.973140</td>\n",
       "      <td>1.177310</td>\n",
       "      <td>-0.363432</td>\n",
       "      <td>-0.661630</td>\n",
       "    </tr>\n",
       "    <tr>\n",
       "      <th>...</th>\n",
       "      <td>...</td>\n",
       "      <td>...</td>\n",
       "      <td>...</td>\n",
       "      <td>...</td>\n",
       "      <td>...</td>\n",
       "      <td>...</td>\n",
       "      <td>...</td>\n",
       "      <td>...</td>\n",
       "      <td>...</td>\n",
       "      <td>...</td>\n",
       "      <td>...</td>\n",
       "      <td>...</td>\n",
       "      <td>...</td>\n",
       "      <td>...</td>\n",
       "      <td>...</td>\n",
       "      <td>...</td>\n",
       "      <td>...</td>\n",
       "      <td>...</td>\n",
       "      <td>...</td>\n",
       "      <td>...</td>\n",
       "      <td>...</td>\n",
       "    </tr>\n",
       "    <tr>\n",
       "      <th>65452</th>\n",
       "      <td>170702</td>\n",
       "      <td>15697</td>\n",
       "      <td>124295</td>\n",
       "      <td>confirmed</td>\n",
       "      <td>0</td>\n",
       "      <td>2021-03-22 16:33:39.674771</td>\n",
       "      <td>2021-03-28 22:30:00</td>\n",
       "      <td>0</td>\n",
       "      <td>0</td>\n",
       "      <td>1</td>\n",
       "      <td>...</td>\n",
       "      <td>0</td>\n",
       "      <td>1</td>\n",
       "      <td>0.003954</td>\n",
       "      <td>-0.553019</td>\n",
       "      <td>-0.425221</td>\n",
       "      <td>-0.075601</td>\n",
       "      <td>-1.506883</td>\n",
       "      <td>-1.541047</td>\n",
       "      <td>-0.338120</td>\n",
       "      <td>-0.552814</td>\n",
       "    </tr>\n",
       "    <tr>\n",
       "      <th>65659</th>\n",
       "      <td>171179</td>\n",
       "      <td>6723</td>\n",
       "      <td>125251</td>\n",
       "      <td>withdrawn</td>\n",
       "      <td>0</td>\n",
       "      <td>2021-03-23 23:39:12.320638</td>\n",
       "      <td>2021-03-28 23:00:00</td>\n",
       "      <td>0</td>\n",
       "      <td>0</td>\n",
       "      <td>1</td>\n",
       "      <td>...</td>\n",
       "      <td>0</td>\n",
       "      <td>0</td>\n",
       "      <td>0.177157</td>\n",
       "      <td>-0.538898</td>\n",
       "      <td>-0.558124</td>\n",
       "      <td>-0.271970</td>\n",
       "      <td>0.596293</td>\n",
       "      <td>0.795047</td>\n",
       "      <td>0.863483</td>\n",
       "      <td>0.100081</td>\n",
       "    </tr>\n",
       "    <tr>\n",
       "      <th>65660</th>\n",
       "      <td>171179</td>\n",
       "      <td>6723</td>\n",
       "      <td>125251</td>\n",
       "      <td>withdrawn</td>\n",
       "      <td>0</td>\n",
       "      <td>2021-03-23 23:39:12.320638</td>\n",
       "      <td>2021-03-28 23:00:00</td>\n",
       "      <td>0</td>\n",
       "      <td>0</td>\n",
       "      <td>1</td>\n",
       "      <td>...</td>\n",
       "      <td>0</td>\n",
       "      <td>0</td>\n",
       "      <td>0.173709</td>\n",
       "      <td>-0.538898</td>\n",
       "      <td>-0.558124</td>\n",
       "      <td>-0.271970</td>\n",
       "      <td>0.596293</td>\n",
       "      <td>0.795047</td>\n",
       "      <td>0.869439</td>\n",
       "      <td>0.100081</td>\n",
       "    </tr>\n",
       "    <tr>\n",
       "      <th>65905</th>\n",
       "      <td>172081</td>\n",
       "      <td>993</td>\n",
       "      <td>126324</td>\n",
       "      <td>confirmed</td>\n",
       "      <td>0</td>\n",
       "      <td>2021-03-26 19:51:40.379743</td>\n",
       "      <td>2021-03-28 23:00:00</td>\n",
       "      <td>0</td>\n",
       "      <td>0</td>\n",
       "      <td>1</td>\n",
       "      <td>...</td>\n",
       "      <td>0</td>\n",
       "      <td>0</td>\n",
       "      <td>0.324937</td>\n",
       "      <td>-0.556047</td>\n",
       "      <td>-0.872502</td>\n",
       "      <td>-0.689718</td>\n",
       "      <td>1.894060</td>\n",
       "      <td>0.216398</td>\n",
       "      <td>0.923042</td>\n",
       "      <td>-0.770445</td>\n",
       "    </tr>\n",
       "    <tr>\n",
       "      <th>65846</th>\n",
       "      <td>171764</td>\n",
       "      <td>13585</td>\n",
       "      <td>125252</td>\n",
       "      <td>confirmed</td>\n",
       "      <td>0</td>\n",
       "      <td>2021-03-25 22:31:10.787376</td>\n",
       "      <td>2021-03-28 23:00:00</td>\n",
       "      <td>0</td>\n",
       "      <td>0</td>\n",
       "      <td>1</td>\n",
       "      <td>...</td>\n",
       "      <td>0</td>\n",
       "      <td>0</td>\n",
       "      <td>-0.016446</td>\n",
       "      <td>-0.224013</td>\n",
       "      <td>-0.558128</td>\n",
       "      <td>-0.563281</td>\n",
       "      <td>-1.197703</td>\n",
       "      <td>-1.151069</td>\n",
       "      <td>-0.126685</td>\n",
       "      <td>-0.335182</td>\n",
       "    </tr>\n",
       "  </tbody>\n",
       "</table>\n",
       "<p>65951 rows × 23 columns</p>\n",
       "</div>"
      ],
      "text/plain": [
       "           id  user_id  shift_id     status  target  \\\n",
       "214     29316     1721     12515  confirmed       0   \n",
       "170     29160     4675     12488  confirmed       0   \n",
       "88      28864      531     12299  withdrawn       0   \n",
       "87      28864      531     12299  withdrawn       0   \n",
       "2       26912     4733     11310  confirmed       0   \n",
       "...       ...      ...       ...        ...     ...   \n",
       "65452  170702    15697    124295  confirmed       0   \n",
       "65659  171179     6723    125251  withdrawn       0   \n",
       "65660  171179     6723    125251  withdrawn       0   \n",
       "65905  172081      993    126324  confirmed       0   \n",
       "65846  171764    13585    125252  confirmed       0   \n",
       "\n",
       "                        createdAt          Start_Time  type_RN  type_LVN+LPN  \\\n",
       "214    2019-09-12 20:00:22.553699 2019-09-14 06:00:00        0             0   \n",
       "170    2019-09-11 21:12:59.058392 2019-09-14 06:00:00        0             0   \n",
       "88     2019-09-10 15:00:22.918030 2019-09-14 06:45:00        1             0   \n",
       "87     2019-09-10 15:00:22.918030 2019-09-14 06:45:00        1             0   \n",
       "2      2019-08-27 19:16:40.669964 2019-09-14 07:00:00        0             0   \n",
       "...                           ...                 ...      ...           ...   \n",
       "65452  2021-03-22 16:33:39.674771 2021-03-28 22:30:00        0             0   \n",
       "65659  2021-03-23 23:39:12.320638 2021-03-28 23:00:00        0             0   \n",
       "65660  2021-03-23 23:39:12.320638 2021-03-28 23:00:00        0             0   \n",
       "65905  2021-03-26 19:51:40.379743 2021-03-28 23:00:00        0             0   \n",
       "65846  2021-03-25 22:31:10.787376 2021-03-28 23:00:00        0             0   \n",
       "\n",
       "       segmentName_d  ...  areaName_austin  areaName_san  prev_CW/SA_rate  \\\n",
       "214                1  ...                0             0        -0.536648   \n",
       "170                1  ...                0             0        -0.536648   \n",
       "88                 0  ...                0             0        -0.536648   \n",
       "87                 0  ...                0             0        -0.536648   \n",
       "2                  1  ...                0             0        -0.536648   \n",
       "...              ...  ...              ...           ...              ...   \n",
       "65452              1  ...                0             1         0.003954   \n",
       "65659              1  ...                0             0         0.177157   \n",
       "65660              1  ...                0             0         0.173709   \n",
       "65905              1  ...                0             0         0.324937   \n",
       "65846              1  ...                0             0        -0.016446   \n",
       "\n",
       "       prev_CW x SA_rate  S_create2SA_Create  S_Create2Start_Time  \\\n",
       "214            -0.415223           -0.855313            -0.796289   \n",
       "170            -0.553756           -0.845526            -0.654632   \n",
       "88             -0.487788           -0.661755            -0.462192   \n",
       "87             -0.487788           -0.661755            -0.462192   \n",
       "2              -0.534947            0.798190             1.595090   \n",
       "...                  ...                 ...                  ...   \n",
       "65452          -0.553019           -0.425221            -0.075601   \n",
       "65659          -0.538898           -0.558124            -0.271970   \n",
       "65660          -0.538898           -0.558124            -0.271970   \n",
       "65905          -0.556047           -0.872502            -0.689718   \n",
       "65846          -0.224013           -0.558128            -0.563281   \n",
       "\n",
       "       SA_Create2Start_Time  U_create2now  U_approve2now   net_pay  \n",
       "214                1.529298      1.165478      -0.363432 -0.988077  \n",
       "170                0.986908      1.257228      -0.363432 -0.770445  \n",
       "88                 2.234790      1.208485      -0.363432  2.167580  \n",
       "87                 2.234790      1.208485      -0.363432  2.167580  \n",
       "2                  0.973140      1.177310      -0.363432 -0.661630  \n",
       "...                     ...           ...            ...       ...  \n",
       "65452             -1.506883     -1.541047      -0.338120 -0.552814  \n",
       "65659              0.596293      0.795047       0.863483  0.100081  \n",
       "65660              0.596293      0.795047       0.869439  0.100081  \n",
       "65905              1.894060      0.216398       0.923042 -0.770445  \n",
       "65846             -1.197703     -1.151069      -0.126685 -0.335182  \n",
       "\n",
       "[65951 rows x 23 columns]"
      ]
     },
     "execution_count": 1834,
     "metadata": {},
     "output_type": "execute_result"
    }
   ],
   "source": [
    "df"
   ]
  },
  {
   "cell_type": "markdown",
   "metadata": {},
   "source": [
    "###  <font color = green> Validation set: 1000 recently records"
   ]
  },
  {
   "cell_type": "code",
   "execution_count": 1797,
   "metadata": {
    "scrolled": true
   },
   "outputs": [
    {
     "data": {
      "text/plain": [
       "0    973\n",
       "1     27\n",
       "Name: target, dtype: int64"
      ]
     },
     "execution_count": 1797,
     "metadata": {},
     "output_type": "execute_result"
    }
   ],
   "source": [
    "# slice, dont include realdata\n",
    "validation = df[-1000-realdata_len : -realdata_len]\n",
    "\n",
    "y_valid = validation['target']\n",
    "x_valid = validation.drop(['id','user_id', 'shift_id', 'status', 'createdAt', 'Start_Time', 'target'], axis = 1)\n",
    "\n",
    "y_valid.value_counts()"
   ]
  },
  {
   "cell_type": "markdown",
   "metadata": {},
   "source": [
    "### Train test: main dataset - validation set"
   ]
  },
  {
   "cell_type": "code",
   "execution_count": 1798,
   "metadata": {},
   "outputs": [],
   "source": [
    "df = df[:-1000-realdata_len] # slice "
   ]
  },
  {
   "cell_type": "code",
   "execution_count": 1799,
   "metadata": {},
   "outputs": [],
   "source": [
    "# # make a dataset that num of tar = num of non tar, use it for train test\n",
    "# import random\n",
    "# df_tar = df[df['target']==1].reset_index(drop = True)\n",
    "# df_nontar = df[df['target']==0].reset_index(drop = True)\n",
    "\n",
    "# number_of_tar = df_tar.shape[0]\n",
    "# random_indices = random.sample(range(len(df_nontar)), int(number_of_tar))\n",
    "# df_nontar = df_nontar[df_nontar.index.isin(random_indices)]\n",
    "\n",
    "# # concat\n",
    "# df = pd.concat([df_tar, df_nontar]).reset_index(drop = True)"
   ]
  },
  {
   "cell_type": "code",
   "execution_count": 1800,
   "metadata": {},
   "outputs": [],
   "source": [
    "X = df.drop(['id','user_id', 'shift_id', 'status', 'target', 'createdAt', 'Start_Time'], axis = 1)\n",
    "y = df['target']\n",
    "\n",
    "# set test, train\n",
    "from sklearn.model_selection import train_test_split\n",
    "X_train, X_test, y_train, y_test = train_test_split(X, y, test_size=0.30)"
   ]
  },
  {
   "cell_type": "code",
   "execution_count": 1801,
   "metadata": {
    "scrolled": true
   },
   "outputs": [
    {
     "data": {
      "text/plain": [
       "0    62005\n",
       "1     4345\n",
       "Name: target, dtype: int64"
      ]
     },
     "execution_count": 1801,
     "metadata": {},
     "output_type": "execute_result"
    }
   ],
   "source": [
    "df['target'].value_counts()"
   ]
  },
  {
   "cell_type": "markdown",
   "metadata": {},
   "source": [
    "# Logistic Regression 1  "
   ]
  },
  {
   "cell_type": "code",
   "execution_count": 1802,
   "metadata": {},
   "outputs": [
    {
     "data": {
      "text/plain": [
       "LogisticRegression(class_weight='balanced')"
      ]
     },
     "execution_count": 1802,
     "metadata": {},
     "output_type": "execute_result"
    }
   ],
   "source": [
    "from sklearn.linear_model import LogisticRegression, LogisticRegressionCV\n",
    "\n",
    "# assign less punlishment for classifying 0 as 1 -> find more 1's\n",
    "# weights = {0:1, 1:10}\n",
    "# class_weight = 'balanced': automatically adjust weights inversely proportional to class frequencies in the input data\n",
    "logit = LogisticRegression(solver = 'lbfgs', class_weight = 'balanced')\n",
    "logit.fit(X_train,y_train)"
   ]
  },
  {
   "cell_type": "markdown",
   "metadata": {},
   "source": [
    "### Train Test result"
   ]
  },
  {
   "cell_type": "code",
   "execution_count": 1803,
   "metadata": {
    "scrolled": true
   },
   "outputs": [
    {
     "name": "stdout",
     "output_type": "stream",
     "text": [
      "[[11553  7072]\n",
      " [  515   765]]\n",
      "\n",
      "\n",
      "              precision    recall  f1-score   support\n",
      "\n",
      "           0       0.96      0.62      0.75     18625\n",
      "           1       0.10      0.60      0.17      1280\n",
      "\n",
      "    accuracy                           0.62     19905\n",
      "   macro avg       0.53      0.61      0.46     19905\n",
      "weighted avg       0.90      0.62      0.72     19905\n",
      "\n"
     ]
    }
   ],
   "source": [
    "from sklearn.metrics import classification_report, confusion_matrix\n",
    "\n",
    "y_pred = logit.predict(X_test)\n",
    "print(confusion_matrix(y_test, y_pred))\n",
    "print('\\n')\n",
    "print(classification_report(y_test, y_pred))"
   ]
  },
  {
   "cell_type": "code",
   "execution_count": 1804,
   "metadata": {},
   "outputs": [],
   "source": [
    "# from cf_matrix import make_confusion_matrix\n",
    "# labels = ['True Neg','False Pos','False Neg','True Pos']\n",
    "# categories = ['Zero', 'One']\n",
    "# make_confusion_matrix(confusion_matrix(y_test, y_pred), \n",
    "#                       group_names=labels,\n",
    "#                       categories=categories, \n",
    "#                       cmap='Blues')"
   ]
  },
  {
   "cell_type": "code",
   "execution_count": 1805,
   "metadata": {
    "scrolled": true
   },
   "outputs": [
    {
     "name": "stdout",
     "output_type": "stream",
     "text": [
      "Optimization terminated successfully.\n",
      "         Current function value: 0.235334\n",
      "         Iterations 7\n"
     ]
    },
    {
     "data": {
      "text/html": [
       "<table class=\"simpletable\">\n",
       "<caption>Logit Regression Results</caption>\n",
       "<tr>\n",
       "  <th>Dep. Variable:</th>        <td>target</td>      <th>  No. Observations:  </th>   <td> 46445</td>  \n",
       "</tr>\n",
       "<tr>\n",
       "  <th>Model:</th>                 <td>Logit</td>      <th>  Df Residuals:      </th>   <td> 46429</td>  \n",
       "</tr>\n",
       "<tr>\n",
       "  <th>Method:</th>                 <td>MLE</td>       <th>  Df Model:          </th>   <td>    15</td>  \n",
       "</tr>\n",
       "<tr>\n",
       "  <th>Date:</th>            <td>Sun, 28 Mar 2021</td> <th>  Pseudo R-squ.:     </th>   <td>0.03213</td> \n",
       "</tr>\n",
       "<tr>\n",
       "  <th>Time:</th>                <td>18:35:57</td>     <th>  Log-Likelihood:    </th>  <td> -10930.</td> \n",
       "</tr>\n",
       "<tr>\n",
       "  <th>converged:</th>             <td>True</td>       <th>  LL-Null:           </th>  <td> -11293.</td> \n",
       "</tr>\n",
       "<tr>\n",
       "  <th>Covariance Type:</th>     <td>nonrobust</td>    <th>  LLR p-value:       </th> <td>6.412e-145</td>\n",
       "</tr>\n",
       "</table>\n",
       "<table class=\"simpletable\">\n",
       "<tr>\n",
       "            <td></td>              <th>coef</th>     <th>std err</th>      <th>z</th>      <th>P>|z|</th>  <th>[0.025</th>    <th>0.975]</th>  \n",
       "</tr>\n",
       "<tr>\n",
       "  <th>type_RN</th>              <td>   -2.6355</td> <td>    0.174</td> <td>  -15.178</td> <td> 0.000</td> <td>   -2.976</td> <td>   -2.295</td>\n",
       "</tr>\n",
       "<tr>\n",
       "  <th>type_LVN+LPN</th>         <td>   -1.1000</td> <td>    0.080</td> <td>  -13.709</td> <td> 0.000</td> <td>   -1.257</td> <td>   -0.943</td>\n",
       "</tr>\n",
       "<tr>\n",
       "  <th>segmentName_d</th>        <td>    0.5200</td> <td>    0.100</td> <td>    5.202</td> <td> 0.000</td> <td>    0.324</td> <td>    0.716</td>\n",
       "</tr>\n",
       "<tr>\n",
       "  <th>areaName_houston</th>     <td>   -2.9672</td> <td>    0.095</td> <td>  -31.288</td> <td> 0.000</td> <td>   -3.153</td> <td>   -2.781</td>\n",
       "</tr>\n",
       "<tr>\n",
       "  <th>areaName_no</th>          <td>   -2.8247</td> <td>    0.103</td> <td>  -27.418</td> <td> 0.000</td> <td>   -3.027</td> <td>   -2.623</td>\n",
       "</tr>\n",
       "<tr>\n",
       "  <th>areaName_dfw</th>         <td>   -2.9590</td> <td>    0.110</td> <td>  -26.924</td> <td> 0.000</td> <td>   -3.174</td> <td>   -2.744</td>\n",
       "</tr>\n",
       "<tr>\n",
       "  <th>areaName_austin</th>      <td>   -2.7655</td> <td>    0.128</td> <td>  -21.523</td> <td> 0.000</td> <td>   -3.017</td> <td>   -2.514</td>\n",
       "</tr>\n",
       "<tr>\n",
       "  <th>areaName_san</th>         <td>   -2.5709</td> <td>    0.137</td> <td>  -18.766</td> <td> 0.000</td> <td>   -2.839</td> <td>   -2.302</td>\n",
       "</tr>\n",
       "<tr>\n",
       "  <th>prev_CW/SA_rate</th>      <td>    0.0653</td> <td>    0.014</td> <td>    4.595</td> <td> 0.000</td> <td>    0.037</td> <td>    0.093</td>\n",
       "</tr>\n",
       "<tr>\n",
       "  <th>prev_CW x SA_rate</th>    <td>    1.4890</td> <td>    0.808</td> <td>    1.843</td> <td> 0.065</td> <td>   -0.095</td> <td>    3.073</td>\n",
       "</tr>\n",
       "<tr>\n",
       "  <th>S_create2SA_Create</th>   <td>   -2.2159</td> <td>    1.240</td> <td>   -1.787</td> <td> 0.074</td> <td>   -4.647</td> <td>    0.215</td>\n",
       "</tr>\n",
       "<tr>\n",
       "  <th>S_Create2Start_Time</th>  <td>    1.2857</td> <td>    0.923</td> <td>    1.392</td> <td> 0.164</td> <td>   -0.524</td> <td>    3.096</td>\n",
       "</tr>\n",
       "<tr>\n",
       "  <th>SA_Create2Start_Time</th> <td>    0.1894</td> <td>    0.049</td> <td>    3.902</td> <td> 0.000</td> <td>    0.094</td> <td>    0.285</td>\n",
       "</tr>\n",
       "<tr>\n",
       "  <th>U_create2now</th>         <td>   -0.1658</td> <td>    0.049</td> <td>   -3.373</td> <td> 0.001</td> <td>   -0.262</td> <td>   -0.069</td>\n",
       "</tr>\n",
       "<tr>\n",
       "  <th>U_approve2now</th>        <td>    0.0190</td> <td>    0.020</td> <td>    0.956</td> <td> 0.339</td> <td>   -0.020</td> <td>    0.058</td>\n",
       "</tr>\n",
       "<tr>\n",
       "  <th>net_pay</th>              <td>    0.7138</td> <td>    0.039</td> <td>   18.131</td> <td> 0.000</td> <td>    0.637</td> <td>    0.791</td>\n",
       "</tr>\n",
       "</table>"
      ],
      "text/plain": [
       "<class 'statsmodels.iolib.summary.Summary'>\n",
       "\"\"\"\n",
       "                           Logit Regression Results                           \n",
       "==============================================================================\n",
       "Dep. Variable:                 target   No. Observations:                46445\n",
       "Model:                          Logit   Df Residuals:                    46429\n",
       "Method:                           MLE   Df Model:                           15\n",
       "Date:                Sun, 28 Mar 2021   Pseudo R-squ.:                 0.03213\n",
       "Time:                        18:35:57   Log-Likelihood:                -10930.\n",
       "converged:                       True   LL-Null:                       -11293.\n",
       "Covariance Type:            nonrobust   LLR p-value:                6.412e-145\n",
       "========================================================================================\n",
       "                           coef    std err          z      P>|z|      [0.025      0.975]\n",
       "----------------------------------------------------------------------------------------\n",
       "type_RN                 -2.6355      0.174    -15.178      0.000      -2.976      -2.295\n",
       "type_LVN+LPN            -1.1000      0.080    -13.709      0.000      -1.257      -0.943\n",
       "segmentName_d            0.5200      0.100      5.202      0.000       0.324       0.716\n",
       "areaName_houston        -2.9672      0.095    -31.288      0.000      -3.153      -2.781\n",
       "areaName_no             -2.8247      0.103    -27.418      0.000      -3.027      -2.623\n",
       "areaName_dfw            -2.9590      0.110    -26.924      0.000      -3.174      -2.744\n",
       "areaName_austin         -2.7655      0.128    -21.523      0.000      -3.017      -2.514\n",
       "areaName_san            -2.5709      0.137    -18.766      0.000      -2.839      -2.302\n",
       "prev_CW/SA_rate          0.0653      0.014      4.595      0.000       0.037       0.093\n",
       "prev_CW x SA_rate        1.4890      0.808      1.843      0.065      -0.095       3.073\n",
       "S_create2SA_Create      -2.2159      1.240     -1.787      0.074      -4.647       0.215\n",
       "S_Create2Start_Time      1.2857      0.923      1.392      0.164      -0.524       3.096\n",
       "SA_Create2Start_Time     0.1894      0.049      3.902      0.000       0.094       0.285\n",
       "U_create2now            -0.1658      0.049     -3.373      0.001      -0.262      -0.069\n",
       "U_approve2now            0.0190      0.020      0.956      0.339      -0.020       0.058\n",
       "net_pay                  0.7138      0.039     18.131      0.000       0.637       0.791\n",
       "========================================================================================\n",
       "\"\"\""
      ]
     },
     "execution_count": 1805,
     "metadata": {},
     "output_type": "execute_result"
    }
   ],
   "source": [
    "# logit summary\n",
    "import statsmodels.api as sm\n",
    "smlogit = sm.Logit(y_train,X_train).fit()\n",
    "smlogit.summary()"
   ]
  },
  {
   "cell_type": "markdown",
   "metadata": {},
   "source": [
    "### Overfitting? No"
   ]
  },
  {
   "cell_type": "code",
   "execution_count": 1806,
   "metadata": {},
   "outputs": [
    {
     "name": "stdout",
     "output_type": "stream",
     "text": [
      "[[26901 16479]\n",
      " [ 1203  1862]]\n",
      "\n",
      "\n",
      "              precision    recall  f1-score   support\n",
      "\n",
      "           0       0.96      0.62      0.75     43380\n",
      "           1       0.10      0.61      0.17      3065\n",
      "\n",
      "    accuracy                           0.62     46445\n",
      "   macro avg       0.53      0.61      0.46     46445\n",
      "weighted avg       0.90      0.62      0.71     46445\n",
      "\n"
     ]
    }
   ],
   "source": [
    "y_pred = logit.predict(X_train)\n",
    "\n",
    "print(confusion_matrix(y_train, y_pred))\n",
    "print('\\n')\n",
    "print(classification_report(y_train, y_pred))"
   ]
  },
  {
   "cell_type": "markdown",
   "metadata": {},
   "source": [
    "### <font color = green> Validation result"
   ]
  },
  {
   "cell_type": "code",
   "execution_count": 1807,
   "metadata": {},
   "outputs": [
    {
     "name": "stdout",
     "output_type": "stream",
     "text": [
      "[[880  93]\n",
      " [ 12  15]]\n",
      "\n",
      "\n",
      "              precision    recall  f1-score   support\n",
      "\n",
      "           0       0.99      0.90      0.94       973\n",
      "           1       0.14      0.56      0.22        27\n",
      "\n",
      "    accuracy                           0.90      1000\n",
      "   macro avg       0.56      0.73      0.58      1000\n",
      "weighted avg       0.96      0.90      0.92      1000\n",
      "\n"
     ]
    }
   ],
   "source": [
    "# test threshold\n",
    "limiter = .6\n",
    "\n",
    "y_prob = list(logit.predict_proba(x_valid)[:,1])\n",
    "y_pred = []\n",
    "count =0\n",
    "for prob in y_prob:\n",
    "    if prob >= limiter:\n",
    "        y_pred.append(1)\n",
    "        count+=1\n",
    "    else:\n",
    "        y_pred.append(0)\n",
    "\n",
    "print(confusion_matrix(y_valid, y_pred))\n",
    "print('\\n')\n",
    "print(classification_report(y_valid, y_pred))"
   ]
  },
  {
   "cell_type": "markdown",
   "metadata": {},
   "source": [
    "# Logistic Regression 2 Not good"
   ]
  },
  {
   "cell_type": "markdown",
   "metadata": {},
   "source": [
    "###  <font color = green> Validation set"
   ]
  },
  {
   "cell_type": "code",
   "execution_count": 1808,
   "metadata": {
    "scrolled": true
   },
   "outputs": [],
   "source": [
    "# y_valid = validation['target']\n",
    "# x_valid = validation[['type_RN', 'type_LVN+LPN', 'areaName_houston', 'areaName_no', 'areaName_dfw',\n",
    "#                       'areaName_austin', 'areaName_san', 'net_pay',]]"
   ]
  },
  {
   "cell_type": "markdown",
   "metadata": {},
   "source": [
    "### Train Test set"
   ]
  },
  {
   "cell_type": "code",
   "execution_count": 1809,
   "metadata": {},
   "outputs": [],
   "source": [
    "# X = df[['type_RN', 'type_LVN+LPN', 'areaName_houston', 'areaName_no', \n",
    "#         'areaName_dfw','areaName_austin', 'areaName_san', 'net_pay',]]\n",
    "# Y = df['target']\n",
    "# X_train, X_test, y_train, y_test = train_test_split(X, Y, test_size=0.30)"
   ]
  },
  {
   "cell_type": "markdown",
   "metadata": {},
   "source": [
    "# Fit real data in this model"
   ]
  },
  {
   "cell_type": "code",
   "execution_count": 1810,
   "metadata": {},
   "outputs": [],
   "source": [
    "# set input\n",
    "real_X = realdata.drop(['id','user_id', 'shift_id', 'status', 'target', 'createdAt', 'Start_Time'], axis = 1)"
   ]
  },
  {
   "cell_type": "code",
   "execution_count": 1811,
   "metadata": {
    "scrolled": true
   },
   "outputs": [],
   "source": [
    "# concat predicted prob with data\n",
    "realdata['prob'] = list(logit.predict_proba(real_X)[:,1])"
   ]
  },
  {
   "cell_type": "code",
   "execution_count": 1812,
   "metadata": {},
   "outputs": [],
   "source": [
    "# record when this prediction is ran\n",
    "from datetime import date\n",
    "time = str(date.today().year) + '-' + str(date.today().month) + '-' + str(date.today().day)\n",
    "\n",
    "realdata[['id', 'Start_Time', 'prob']].to_csv('pred_{}.csv'.format(time), index = False)"
   ]
  },
  {
   "cell_type": "markdown",
   "metadata": {},
   "source": [
    "# Check real data in this model"
   ]
  },
  {
   "cell_type": "code",
   "execution_count": 1787,
   "metadata": {},
   "outputs": [],
   "source": [
    "thisweek = pd.read_csv('download.csv')\n",
    "thisweek = thisweek[thisweek.apply(lambda row: (row['prevStatus'] == 'confirmed') or (row['status'] == 'confirmed'), axis = 1)]"
   ]
  },
  {
   "cell_type": "code",
   "execution_count": 1363,
   "metadata": {},
   "outputs": [],
   "source": [
    "realdata_test = realdata[['id', 'prob']]\n",
    "thisweek_validation = thisweek.merge(realdata_test, on = 'id', how = 'left')\n",
    "thisweek_validation.dropna(subset=['prob'],inplace = True)"
   ]
  },
  {
   "cell_type": "code",
   "execution_count": 1364,
   "metadata": {},
   "outputs": [
    {
     "data": {
      "text/plain": [
       "prob    0\n",
       "dtype: int64"
      ]
     },
     "execution_count": 1364,
     "metadata": {},
     "output_type": "execute_result"
    }
   ],
   "source": [
    "thisweek_validation[['prob']].isna().sum()"
   ]
  },
  {
   "cell_type": "code",
   "execution_count": 1365,
   "metadata": {},
   "outputs": [],
   "source": [
    "thisweek_validation\n",
    "\n",
    "def CW_by_nurse(row):\n",
    "    if row['status']=='withdrawn' and row['prevStatus'] == 'confirmed':\n",
    "        if row['withdrawnInfo_value'] == 'nurse':\n",
    "            if row['CW_Time2Start_Time'] < 0 and row['CW_Time2Start_Time'] >= -24:\n",
    "                return 1\n",
    "            else:\n",
    "                return 0\n",
    "        else:\n",
    "            return 0\n",
    "    else:\n",
    "        return 0\n",
    "    \n",
    "thisweek_validation['target'] = thisweek_validation.apply (lambda row: CW_by_nurse(row), axis=1)"
   ]
  },
  {
   "cell_type": "code",
   "execution_count": 1366,
   "metadata": {},
   "outputs": [],
   "source": [
    "thisweek_validation = thisweek_validation[['id', 'prob', 'target', 'net_pay', 'type', 'segmentName', 'areaName']]\n",
    "\n",
    "# thisweek_validation.to_csv('week322_check.csv', index = False)"
   ]
  },
  {
   "cell_type": "code",
   "execution_count": 1367,
   "metadata": {},
   "outputs": [
    {
     "name": "stdout",
     "output_type": "stream",
     "text": [
      "[[328 762]\n",
      " [  3  17]]\n",
      "\n",
      "\n",
      "              precision    recall  f1-score   support\n",
      "\n",
      "           0       0.99      0.30      0.46      1090\n",
      "           1       0.02      0.85      0.04        20\n",
      "\n",
      "    accuracy                           0.31      1110\n",
      "   macro avg       0.51      0.58      0.25      1110\n",
      "weighted avg       0.97      0.31      0.45      1110\n",
      "\n"
     ]
    }
   ],
   "source": [
    "limiter = .5\n",
    "\n",
    "\n",
    "y_prob = thisweek_validation['prob']\n",
    "y_pred = []\n",
    "count =0\n",
    "for prob in y_prob:\n",
    "    if prob >= limiter:\n",
    "        y_pred.append(1)\n",
    "        count += 1\n",
    "    else:\n",
    "        y_pred.append(0)\n",
    "        \n",
    "print(confusion_matrix(thisweek_validation['target'], y_pred))\n",
    "print('\\n')\n",
    "print(classification_report(thisweek_validation['target'], y_pred))"
   ]
  },
  {
   "cell_type": "code",
   "execution_count": 1296,
   "metadata": {},
   "outputs": [
    {
     "data": {
      "text/plain": [
       "target\n",
       "0    0.547651\n",
       "1    0.606011\n",
       "Name: prob, dtype: float64"
      ]
     },
     "execution_count": 1296,
     "metadata": {},
     "output_type": "execute_result"
    }
   ],
   "source": [
    "thisweek_validation.groupby(\"target\")['prob'].mean()"
   ]
  },
  {
   "cell_type": "code",
   "execution_count": null,
   "metadata": {},
   "outputs": [],
   "source": []
  }
 ],
 "metadata": {
  "kernelspec": {
   "display_name": "Python 3",
   "language": "python",
   "name": "python3"
  },
  "language_info": {
   "codemirror_mode": {
    "name": "ipython",
    "version": 3
   },
   "file_extension": ".py",
   "mimetype": "text/x-python",
   "name": "python",
   "nbconvert_exporter": "python",
   "pygments_lexer": "ipython3",
   "version": "3.8.3"
  }
 },
 "nbformat": 4,
 "nbformat_minor": 4
}
