{
 "cells": [
  {
   "cell_type": "code",
   "execution_count": 1612,
   "metadata": {},
   "outputs": [],
   "source": [
    "import pandas as pd\n",
    "import numpy as np\n",
    "df = pd.read_csv('model_data.csv').drop(columns = ['Unnamed: 0', 'distance'])"
   ]
  },
  {
   "cell_type": "code",
   "execution_count": 1613,
   "metadata": {},
   "outputs": [
    {
     "data": {
      "text/plain": [
       "Index(['id', 'user_id', 'shift_id', 'prev_CW/SA_rate', 'S_create2SA_Create',\n",
       "       'S_Create2Start_Time', 'SA_Create2Start_Time', 'U_create2now',\n",
       "       'U_approve2now', 'prev_CW x SA_rate', 'type_RN', 'type_LVN+LPN',\n",
       "       'segmentName_d', 'areaName_houston', 'areaName_no', 'areaName_dfw',\n",
       "       'areaName_austin', 'areaName_san', 'net_pay', 'target', 'createdAt',\n",
       "       'Start_Time'],\n",
       "      dtype='object')"
      ]
     },
     "execution_count": 1613,
     "metadata": {},
     "output_type": "execute_result"
    }
   ],
   "source": [
    "df.columns"
   ]
  },
  {
   "cell_type": "markdown",
   "metadata": {},
   "source": [
    "# Data Prepration"
   ]
  },
  {
   "cell_type": "code",
   "execution_count": 1614,
   "metadata": {},
   "outputs": [],
   "source": [
    "# standardlize, dont standardlize dummy! \n",
    "from sklearn.preprocessing import StandardScaler\n",
    "scaler = StandardScaler()\n",
    "scaler.fit(df.drop(['id', 'user_id', 'shift_id', 'target', 'createdAt', 'Start_Time', 'type_RN', \n",
    "                    'type_LVN+LPN', 'segmentName_d', 'areaName_houston', 'areaName_no', 'areaName_dfw', \n",
    "                    'areaName_austin', 'areaName_san'], axis=1))\n",
    "scaled_features = scaler.transform(df.drop(['id', 'user_id', 'shift_id', 'target', 'createdAt',\n",
    "                                            'Start_Time', 'type_RN', 'type_LVN+LPN', 'segmentName_d', \n",
    "                                            'areaName_houston', 'areaName_no', 'areaName_dfw', \n",
    "                                            'areaName_austin', 'areaName_san'], axis=1))\n",
    "\n",
    "# scaled features\n",
    "X = pd.DataFrame(scaled_features, columns = ['prev_CW/SA_rate', 'prev_CW x SA_rate', 'S_create2SA_Create', \n",
    "                                             'S_Create2Start_Time', 'SA_Create2Start_Time', 'U_create2now', \n",
    "                                             'U_approve2now', 'net_pay'])\n",
    "# concat with dummy\n",
    "df = pd.concat([df[['id', 'user_id', 'shift_id', 'target', 'createdAt',\n",
    "                    'Start_Time', 'type_RN', 'type_LVN+LPN', 'segmentName_d', \n",
    "                    'areaName_houston', 'areaName_no', 'areaName_dfw', \n",
    "                    'areaName_austin', 'areaName_san']], X], axis = 1)\n",
    "\n",
    "# drop nas\n",
    "df.dropna(inplace = True)"
   ]
  },
  {
   "cell_type": "markdown",
   "metadata": {},
   "source": [
    "### Slice df by the end of this week, for predcition output"
   ]
  },
  {
   "cell_type": "code",
   "execution_count": 1615,
   "metadata": {},
   "outputs": [],
   "source": [
    "end_of_week = '2021-3-28'\n",
    "\n",
    "# convert to datetime for conditonal selection\n",
    "df['Start_Time'] = pd.to_datetime(df['Start_Time'])\n",
    "# sort by start time -> for slicing\n",
    "df = df.sort_values(by = 'Start_Time') \n",
    "# record as realdata\n",
    "realdata = df[df['Start_Time'].apply(lambda x: x >= pd.to_datetime(end_of_week))]"
   ]
  },
  {
   "cell_type": "code",
   "execution_count": 1616,
   "metadata": {},
   "outputs": [
    {
     "data": {
      "text/plain": [
       "588"
      ]
     },
     "execution_count": 1616,
     "metadata": {},
     "output_type": "execute_result"
    }
   ],
   "source": [
    "# record predction output rows, don't include it in tran test validation\n",
    "realdata_len = realdata.shape[0]\n",
    "realdata_len"
   ]
  },
  {
   "cell_type": "markdown",
   "metadata": {},
   "source": [
    "###  <font color = green> Validation set: 1000 recently records"
   ]
  },
  {
   "cell_type": "code",
   "execution_count": 1617,
   "metadata": {
    "scrolled": true
   },
   "outputs": [
    {
     "data": {
      "text/plain": [
       "0    971\n",
       "1     29\n",
       "Name: target, dtype: int64"
      ]
     },
     "execution_count": 1617,
     "metadata": {},
     "output_type": "execute_result"
    }
   ],
   "source": [
    "# slice, dont include realdata\n",
    "validation = df[-1000-realdata_len:-realdata_len]\n",
    "\n",
    "y_valid = validation['target']\n",
    "x_valid = validation.drop(['id','user_id', 'shift_id', 'createdAt', 'Start_Time', 'target'], axis = 1)\n",
    "\n",
    "y_valid.value_counts()"
   ]
  },
  {
   "cell_type": "markdown",
   "metadata": {},
   "source": [
    "### Train test: main dataset - validation set"
   ]
  },
  {
   "cell_type": "code",
   "execution_count": 1618,
   "metadata": {},
   "outputs": [],
   "source": [
    "df = df[:-1000-realdata_len] # slice "
   ]
  },
  {
   "cell_type": "code",
   "execution_count": 1619,
   "metadata": {},
   "outputs": [],
   "source": [
    "# # make a dataset that num of tar = num of non tar, use it for train test\n",
    "# import random\n",
    "# df_tar = df[df['target']==1].reset_index(drop = True)\n",
    "# df_nontar = df[df['target']==0].reset_index(drop = True)\n",
    "\n",
    "# number_of_tar = df_tar.shape[0]\n",
    "# random_indices = random.sample(range(len(df_nontar)), int(number_of_tar))\n",
    "# df_nontar = df_nontar[df_nontar.index.isin(random_indices)]\n",
    "\n",
    "# # concat\n",
    "# df = pd.concat([df_tar, df_nontar]).reset_index(drop = True)"
   ]
  },
  {
   "cell_type": "code",
   "execution_count": 1620,
   "metadata": {},
   "outputs": [],
   "source": [
    "X = df.drop(['id','user_id', 'shift_id', 'target', 'createdAt', 'Start_Time'], axis = 1)\n",
    "y = df['target']\n",
    "\n",
    "# set test, train\n",
    "from sklearn.model_selection import train_test_split\n",
    "X_train, X_test, y_train, y_test = train_test_split(X, y, test_size=0.30)"
   ]
  },
  {
   "cell_type": "code",
   "execution_count": 1621,
   "metadata": {
    "scrolled": true
   },
   "outputs": [
    {
     "data": {
      "text/plain": [
       "0    61941\n",
       "1     4343\n",
       "Name: target, dtype: int64"
      ]
     },
     "execution_count": 1621,
     "metadata": {},
     "output_type": "execute_result"
    }
   ],
   "source": [
    "df['target'].value_counts()"
   ]
  },
  {
   "cell_type": "markdown",
   "metadata": {},
   "source": [
    "# Logistic Regression 1  "
   ]
  },
  {
   "cell_type": "code",
   "execution_count": 1622,
   "metadata": {},
   "outputs": [
    {
     "data": {
      "text/plain": [
       "LogisticRegression(class_weight='balanced')"
      ]
     },
     "execution_count": 1622,
     "metadata": {},
     "output_type": "execute_result"
    }
   ],
   "source": [
    "from sklearn.linear_model import LogisticRegression, LogisticRegressionCV\n",
    "\n",
    "# assign less punlishment for classifying 0 as 1 -> find more 1's\n",
    "# weights = {0:1, 1:10}\n",
    "# class_weight = 'balanced': automatically adjust weights inversely proportional to class frequencies in the input data\n",
    "logit = LogisticRegression(solver = 'lbfgs', class_weight = 'balanced')\n",
    "logit.fit(X_train,y_train)"
   ]
  },
  {
   "cell_type": "markdown",
   "metadata": {},
   "source": [
    "### Train Test result"
   ]
  },
  {
   "cell_type": "code",
   "execution_count": 1623,
   "metadata": {
    "scrolled": true
   },
   "outputs": [
    {
     "name": "stdout",
     "output_type": "stream",
     "text": [
      "[[11508  7044]\n",
      " [  524   810]]\n",
      "\n",
      "\n",
      "              precision    recall  f1-score   support\n",
      "\n",
      "           0       0.96      0.62      0.75     18552\n",
      "           1       0.10      0.61      0.18      1334\n",
      "\n",
      "    accuracy                           0.62     19886\n",
      "   macro avg       0.53      0.61      0.46     19886\n",
      "weighted avg       0.90      0.62      0.71     19886\n",
      "\n"
     ]
    }
   ],
   "source": [
    "from sklearn.metrics import classification_report, confusion_matrix\n",
    "\n",
    "y_pred = logit.predict(X_test)\n",
    "print(confusion_matrix(y_test, y_pred))\n",
    "print('\\n')\n",
    "print(classification_report(y_test, y_pred))"
   ]
  },
  {
   "cell_type": "code",
   "execution_count": 1624,
   "metadata": {},
   "outputs": [],
   "source": [
    "# from cf_matrix import make_confusion_matrix\n",
    "# labels = ['True Neg','False Pos','False Neg','True Pos']\n",
    "# categories = ['Zero', 'One']\n",
    "# make_confusion_matrix(confusion_matrix(y_test, y_pred), \n",
    "#                       group_names=labels,\n",
    "#                       categories=categories, \n",
    "#                       cmap='Blues')"
   ]
  },
  {
   "cell_type": "code",
   "execution_count": 1625,
   "metadata": {
    "scrolled": true
   },
   "outputs": [
    {
     "name": "stdout",
     "output_type": "stream",
     "text": [
      "Optimization terminated successfully.\n",
      "         Current function value: 0.232729\n",
      "         Iterations 7\n"
     ]
    },
    {
     "data": {
      "text/html": [
       "<table class=\"simpletable\">\n",
       "<caption>Logit Regression Results</caption>\n",
       "<tr>\n",
       "  <th>Dep. Variable:</th>        <td>target</td>      <th>  No. Observations:  </th>   <td> 46398</td>  \n",
       "</tr>\n",
       "<tr>\n",
       "  <th>Model:</th>                 <td>Logit</td>      <th>  Df Residuals:      </th>   <td> 46382</td>  \n",
       "</tr>\n",
       "<tr>\n",
       "  <th>Method:</th>                 <td>MLE</td>       <th>  Df Model:          </th>   <td>    15</td>  \n",
       "</tr>\n",
       "<tr>\n",
       "  <th>Date:</th>            <td>Sun, 28 Mar 2021</td> <th>  Pseudo R-squ.:     </th>   <td>0.03076</td> \n",
       "</tr>\n",
       "<tr>\n",
       "  <th>Time:</th>                <td>14:37:51</td>     <th>  Log-Likelihood:    </th>  <td> -10798.</td> \n",
       "</tr>\n",
       "<tr>\n",
       "  <th>converged:</th>             <td>True</td>       <th>  LL-Null:           </th>  <td> -11141.</td> \n",
       "</tr>\n",
       "<tr>\n",
       "  <th>Covariance Type:</th>     <td>nonrobust</td>    <th>  LLR p-value:       </th> <td>2.482e-136</td>\n",
       "</tr>\n",
       "</table>\n",
       "<table class=\"simpletable\">\n",
       "<tr>\n",
       "            <td></td>              <th>coef</th>     <th>std err</th>      <th>z</th>      <th>P>|z|</th>  <th>[0.025</th>    <th>0.975]</th>  \n",
       "</tr>\n",
       "<tr>\n",
       "  <th>type_RN</th>              <td>   -2.5262</td> <td>    0.175</td> <td>  -14.469</td> <td> 0.000</td> <td>   -2.868</td> <td>   -2.184</td>\n",
       "</tr>\n",
       "<tr>\n",
       "  <th>type_LVN+LPN</th>         <td>   -1.0138</td> <td>    0.080</td> <td>  -12.610</td> <td> 0.000</td> <td>   -1.171</td> <td>   -0.856</td>\n",
       "</tr>\n",
       "<tr>\n",
       "  <th>segmentName_d</th>        <td>    0.4880</td> <td>    0.100</td> <td>    4.880</td> <td> 0.000</td> <td>    0.292</td> <td>    0.684</td>\n",
       "</tr>\n",
       "<tr>\n",
       "  <th>areaName_houston</th>     <td>   -2.9688</td> <td>    0.095</td> <td>  -31.243</td> <td> 0.000</td> <td>   -3.155</td> <td>   -2.783</td>\n",
       "</tr>\n",
       "<tr>\n",
       "  <th>areaName_no</th>          <td>   -2.8289</td> <td>    0.103</td> <td>  -27.431</td> <td> 0.000</td> <td>   -3.031</td> <td>   -2.627</td>\n",
       "</tr>\n",
       "<tr>\n",
       "  <th>areaName_dfw</th>         <td>   -2.9809</td> <td>    0.110</td> <td>  -27.024</td> <td> 0.000</td> <td>   -3.197</td> <td>   -2.765</td>\n",
       "</tr>\n",
       "<tr>\n",
       "  <th>areaName_austin</th>      <td>   -2.7281</td> <td>    0.128</td> <td>  -21.319</td> <td> 0.000</td> <td>   -2.979</td> <td>   -2.477</td>\n",
       "</tr>\n",
       "<tr>\n",
       "  <th>areaName_san</th>         <td>   -2.6444</td> <td>    0.140</td> <td>  -18.905</td> <td> 0.000</td> <td>   -2.919</td> <td>   -2.370</td>\n",
       "</tr>\n",
       "<tr>\n",
       "  <th>prev_CW/SA_rate</th>      <td>    0.0752</td> <td>    0.014</td> <td>    5.344</td> <td> 0.000</td> <td>    0.048</td> <td>    0.103</td>\n",
       "</tr>\n",
       "<tr>\n",
       "  <th>prev_CW x SA_rate</th>    <td>    0.3495</td> <td>    0.797</td> <td>    0.439</td> <td> 0.661</td> <td>   -1.212</td> <td>    1.911</td>\n",
       "</tr>\n",
       "<tr>\n",
       "  <th>S_create2SA_Create</th>   <td>   -0.4663</td> <td>    1.221</td> <td>   -0.382</td> <td> 0.702</td> <td>   -2.859</td> <td>    1.926</td>\n",
       "</tr>\n",
       "<tr>\n",
       "  <th>S_Create2Start_Time</th>  <td>   -0.0134</td> <td>    0.910</td> <td>   -0.015</td> <td> 0.988</td> <td>   -1.796</td> <td>    1.769</td>\n",
       "</tr>\n",
       "<tr>\n",
       "  <th>SA_Create2Start_Time</th> <td>    0.1836</td> <td>    0.049</td> <td>    3.742</td> <td> 0.000</td> <td>    0.087</td> <td>    0.280</td>\n",
       "</tr>\n",
       "<tr>\n",
       "  <th>U_create2now</th>         <td>   -0.1646</td> <td>    0.050</td> <td>   -3.309</td> <td> 0.001</td> <td>   -0.262</td> <td>   -0.067</td>\n",
       "</tr>\n",
       "<tr>\n",
       "  <th>U_approve2now</th>        <td>   -0.0083</td> <td>    0.021</td> <td>   -0.394</td> <td> 0.694</td> <td>   -0.050</td> <td>    0.033</td>\n",
       "</tr>\n",
       "<tr>\n",
       "  <th>net_pay</th>              <td>    0.6842</td> <td>    0.040</td> <td>   17.141</td> <td> 0.000</td> <td>    0.606</td> <td>    0.762</td>\n",
       "</tr>\n",
       "</table>"
      ],
      "text/plain": [
       "<class 'statsmodels.iolib.summary.Summary'>\n",
       "\"\"\"\n",
       "                           Logit Regression Results                           \n",
       "==============================================================================\n",
       "Dep. Variable:                 target   No. Observations:                46398\n",
       "Model:                          Logit   Df Residuals:                    46382\n",
       "Method:                           MLE   Df Model:                           15\n",
       "Date:                Sun, 28 Mar 2021   Pseudo R-squ.:                 0.03076\n",
       "Time:                        14:37:51   Log-Likelihood:                -10798.\n",
       "converged:                       True   LL-Null:                       -11141.\n",
       "Covariance Type:            nonrobust   LLR p-value:                2.482e-136\n",
       "========================================================================================\n",
       "                           coef    std err          z      P>|z|      [0.025      0.975]\n",
       "----------------------------------------------------------------------------------------\n",
       "type_RN                 -2.5262      0.175    -14.469      0.000      -2.868      -2.184\n",
       "type_LVN+LPN            -1.0138      0.080    -12.610      0.000      -1.171      -0.856\n",
       "segmentName_d            0.4880      0.100      4.880      0.000       0.292       0.684\n",
       "areaName_houston        -2.9688      0.095    -31.243      0.000      -3.155      -2.783\n",
       "areaName_no             -2.8289      0.103    -27.431      0.000      -3.031      -2.627\n",
       "areaName_dfw            -2.9809      0.110    -27.024      0.000      -3.197      -2.765\n",
       "areaName_austin         -2.7281      0.128    -21.319      0.000      -2.979      -2.477\n",
       "areaName_san            -2.6444      0.140    -18.905      0.000      -2.919      -2.370\n",
       "prev_CW/SA_rate          0.0752      0.014      5.344      0.000       0.048       0.103\n",
       "prev_CW x SA_rate        0.3495      0.797      0.439      0.661      -1.212       1.911\n",
       "S_create2SA_Create      -0.4663      1.221     -0.382      0.702      -2.859       1.926\n",
       "S_Create2Start_Time     -0.0134      0.910     -0.015      0.988      -1.796       1.769\n",
       "SA_Create2Start_Time     0.1836      0.049      3.742      0.000       0.087       0.280\n",
       "U_create2now            -0.1646      0.050     -3.309      0.001      -0.262      -0.067\n",
       "U_approve2now           -0.0083      0.021     -0.394      0.694      -0.050       0.033\n",
       "net_pay                  0.6842      0.040     17.141      0.000       0.606       0.762\n",
       "========================================================================================\n",
       "\"\"\""
      ]
     },
     "execution_count": 1625,
     "metadata": {},
     "output_type": "execute_result"
    }
   ],
   "source": [
    "# logit summary\n",
    "import statsmodels.api as sm\n",
    "smlogit = sm.Logit(y_train,X_train).fit()\n",
    "smlogit.summary()"
   ]
  },
  {
   "cell_type": "markdown",
   "metadata": {},
   "source": [
    "### Overfitting? No"
   ]
  },
  {
   "cell_type": "code",
   "execution_count": 1626,
   "metadata": {},
   "outputs": [
    {
     "name": "stdout",
     "output_type": "stream",
     "text": [
      "[[26966 16423]\n",
      " [ 1187  1822]]\n",
      "\n",
      "\n",
      "              precision    recall  f1-score   support\n",
      "\n",
      "           0       0.96      0.62      0.75     43389\n",
      "           1       0.10      0.61      0.17      3009\n",
      "\n",
      "    accuracy                           0.62     46398\n",
      "   macro avg       0.53      0.61      0.46     46398\n",
      "weighted avg       0.90      0.62      0.72     46398\n",
      "\n"
     ]
    }
   ],
   "source": [
    "y_pred = logit.predict(X_train)\n",
    "\n",
    "print(confusion_matrix(y_train, y_pred))\n",
    "print('\\n')\n",
    "print(classification_report(y_train, y_pred))"
   ]
  },
  {
   "cell_type": "markdown",
   "metadata": {},
   "source": [
    "### <font color = green> Validation result"
   ]
  },
  {
   "cell_type": "code",
   "execution_count": 1630,
   "metadata": {},
   "outputs": [
    {
     "name": "stdout",
     "output_type": "stream",
     "text": [
      "[[945  26]\n",
      " [ 24   5]]\n",
      "\n",
      "\n",
      "              precision    recall  f1-score   support\n",
      "\n",
      "           0       0.98      0.97      0.97       971\n",
      "           1       0.16      0.17      0.17        29\n",
      "\n",
      "    accuracy                           0.95      1000\n",
      "   macro avg       0.57      0.57      0.57      1000\n",
      "weighted avg       0.95      0.95      0.95      1000\n",
      "\n"
     ]
    }
   ],
   "source": [
    "# test threshold\n",
    "limiter = .7\n",
    "\n",
    "y_prob = list(logit.predict_proba(x_valid)[:,1])\n",
    "y_pred = []\n",
    "count =0\n",
    "for prob in y_prob:\n",
    "    if prob >= limiter:\n",
    "        y_pred.append(1)\n",
    "        count+=1\n",
    "    else:\n",
    "        y_pred.append(0)\n",
    "\n",
    "print(confusion_matrix(y_valid, y_pred))\n",
    "print('\\n')\n",
    "print(classification_report(y_valid, y_pred))"
   ]
  },
  {
   "cell_type": "markdown",
   "metadata": {},
   "source": [
    "# Logistic Regression 2 Not good"
   ]
  },
  {
   "cell_type": "markdown",
   "metadata": {},
   "source": [
    "###  <font color = green> Validation set"
   ]
  },
  {
   "cell_type": "code",
   "execution_count": 1584,
   "metadata": {
    "scrolled": true
   },
   "outputs": [],
   "source": [
    "y_valid = validation['target']\n",
    "x_valid = validation[['type_RN', 'type_LVN+LPN', 'areaName_houston', 'areaName_no', 'areaName_dfw',\n",
    "                      'areaName_austin', 'areaName_san', 'net_pay',]]"
   ]
  },
  {
   "cell_type": "markdown",
   "metadata": {},
   "source": [
    "### Train Test set"
   ]
  },
  {
   "cell_type": "code",
   "execution_count": 1585,
   "metadata": {},
   "outputs": [],
   "source": [
    "X = df[['type_RN', 'type_LVN+LPN', 'areaName_houston', 'areaName_no', \n",
    "        'areaName_dfw','areaName_austin', 'areaName_san', 'net_pay',]]\n",
    "Y = df['target']\n",
    "X_train, X_test, y_train, y_test = train_test_split(X, Y, test_size=0.30)"
   ]
  },
  {
   "cell_type": "markdown",
   "metadata": {},
   "source": [
    "# Fit real data in this model"
   ]
  },
  {
   "cell_type": "code",
   "execution_count": 1631,
   "metadata": {},
   "outputs": [],
   "source": [
    "# set input\n",
    "real_X = realdata.drop(['id','user_id', 'shift_id', 'target', 'createdAt', 'Start_Time'], axis = 1)"
   ]
  },
  {
   "cell_type": "code",
   "execution_count": 1632,
   "metadata": {
    "scrolled": true
   },
   "outputs": [],
   "source": [
    "# concat predicted prob with data\n",
    "realdata['prob'] = list(logit.predict_proba(real_X)[:,1])"
   ]
  },
  {
   "cell_type": "code",
   "execution_count": 1633,
   "metadata": {},
   "outputs": [],
   "source": [
    "# record when this prediction is ran\n",
    "from datetime import date\n",
    "time = str(date.today().year) + '-' + str(date.today().month) + '-' + str(date.today().day)\n",
    "\n",
    "realdata.to_csv('pred_{}.csv'.format(time), index = False)"
   ]
  },
  {
   "cell_type": "markdown",
   "metadata": {},
   "source": [
    "# Check real data in this model"
   ]
  },
  {
   "cell_type": "code",
   "execution_count": 1362,
   "metadata": {},
   "outputs": [],
   "source": [
    "thisweek = pd.read_csv('download.csv')"
   ]
  },
  {
   "cell_type": "code",
   "execution_count": 1363,
   "metadata": {},
   "outputs": [],
   "source": [
    "realdata_test = realdata[['id', 'prob']]\n",
    "thisweek_validation = thisweek.merge(realdata_test, on = 'id', how = 'left')\n",
    "thisweek_validation.dropna(subset=['prob'],inplace = True)"
   ]
  },
  {
   "cell_type": "code",
   "execution_count": 1364,
   "metadata": {},
   "outputs": [
    {
     "data": {
      "text/plain": [
       "prob    0\n",
       "dtype: int64"
      ]
     },
     "execution_count": 1364,
     "metadata": {},
     "output_type": "execute_result"
    }
   ],
   "source": [
    "thisweek_validation[['prob']].isna().sum()"
   ]
  },
  {
   "cell_type": "code",
   "execution_count": 1365,
   "metadata": {},
   "outputs": [],
   "source": [
    "thisweek_validation\n",
    "\n",
    "def CW_by_nurse(row):\n",
    "    if row['status']=='withdrawn' and row['prevStatus'] == 'confirmed':\n",
    "        if row['withdrawnInfo_value'] == 'nurse':\n",
    "            if row['CW_Time2Start_Time'] < 0 and row['CW_Time2Start_Time'] >= -24:\n",
    "                return 1\n",
    "            else:\n",
    "                return 0\n",
    "        else:\n",
    "            return 0\n",
    "    else:\n",
    "        return 0\n",
    "    \n",
    "thisweek_validation['target'] = thisweek_validation.apply (lambda row: CW_by_nurse(row), axis=1)"
   ]
  },
  {
   "cell_type": "code",
   "execution_count": 1366,
   "metadata": {},
   "outputs": [],
   "source": [
    "thisweek_validation = thisweek_validation[['id', 'prob', 'target', 'net_pay', 'type', 'segmentName', 'areaName']]\n",
    "\n",
    "# thisweek_validation.to_csv('week322_check.csv', index = False)"
   ]
  },
  {
   "cell_type": "code",
   "execution_count": 1367,
   "metadata": {},
   "outputs": [
    {
     "name": "stdout",
     "output_type": "stream",
     "text": [
      "[[328 762]\n",
      " [  3  17]]\n",
      "\n",
      "\n",
      "              precision    recall  f1-score   support\n",
      "\n",
      "           0       0.99      0.30      0.46      1090\n",
      "           1       0.02      0.85      0.04        20\n",
      "\n",
      "    accuracy                           0.31      1110\n",
      "   macro avg       0.51      0.58      0.25      1110\n",
      "weighted avg       0.97      0.31      0.45      1110\n",
      "\n"
     ]
    }
   ],
   "source": [
    "limiter = .5\n",
    "\n",
    "\n",
    "y_prob = thisweek_validation['prob']\n",
    "y_pred = []\n",
    "count =0\n",
    "for prob in y_prob:\n",
    "    if prob >= limiter:\n",
    "        y_pred.append(1)\n",
    "        count += 1\n",
    "    else:\n",
    "        y_pred.append(0)\n",
    "        \n",
    "print(confusion_matrix(thisweek_validation['target'], y_pred))\n",
    "print('\\n')\n",
    "print(classification_report(thisweek_validation['target'], y_pred))"
   ]
  },
  {
   "cell_type": "code",
   "execution_count": 1296,
   "metadata": {},
   "outputs": [
    {
     "data": {
      "text/plain": [
       "target\n",
       "0    0.547651\n",
       "1    0.606011\n",
       "Name: prob, dtype: float64"
      ]
     },
     "execution_count": 1296,
     "metadata": {},
     "output_type": "execute_result"
    }
   ],
   "source": [
    "thisweek_validation.groupby(\"target\")['prob'].mean()"
   ]
  },
  {
   "cell_type": "code",
   "execution_count": null,
   "metadata": {},
   "outputs": [],
   "source": []
  }
 ],
 "metadata": {
  "kernelspec": {
   "display_name": "Python 3",
   "language": "python",
   "name": "python3"
  },
  "language_info": {
   "codemirror_mode": {
    "name": "ipython",
    "version": 3
   },
   "file_extension": ".py",
   "mimetype": "text/x-python",
   "name": "python",
   "nbconvert_exporter": "python",
   "pygments_lexer": "ipython3",
   "version": "3.8.3"
  }
 },
 "nbformat": 4,
 "nbformat_minor": 4
}
