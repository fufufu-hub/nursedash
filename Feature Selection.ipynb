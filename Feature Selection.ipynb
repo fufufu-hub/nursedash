{
 "cells": [
  {
   "cell_type": "markdown",
   "metadata": {},
   "source": [
    "# Import dataset"
   ]
  },
  {
   "cell_type": "code",
   "execution_count": 2,
   "metadata": {},
   "outputs": [],
   "source": [
    "import pandas as pd\n",
    "import numpy as np\n",
    "df = pd.read_csv('feature_selection.csv').drop(columns = ['Unnamed: 0'])\n",
    "\n",
    "# one type named as 'rn' while others are 'RN'\n",
    "df['type'] = df['type'].apply(lambda x: 'RN' if x == 'rn' else x.strip())\n",
    "\n",
    "# keep only prevstatus or status = confirmed\n",
    "df = df[df.apply(lambda row: (row['prevStatus'] == 'confirmed') or (row['status'] == 'confirmed'), \n",
    "                 axis = 1)].reset_index(drop = True)\n",
    "\n",
    "# CW_Time2Start_Time columns has many nan\n",
    "df = df.fillna(0)"
   ]
  },
  {
   "cell_type": "code",
   "execution_count": 2,
   "metadata": {
    "scrolled": true
   },
   "outputs": [
    {
     "data": {
      "text/plain": [
       "Index(['id', 'user_id', 'shift_id', 'facility_id', 'withdrawninfo_value',\n",
       "       'status', 'prevStatus', 'distance', 'shift_description',\n",
       "       'assigned_nurse_id', 'net_pay', 's_unit', 'type', 's_qualifications',\n",
       "       's_breakTime', 'withdrawnInfo', 'f_name', 'f_short_name', 'segmentName',\n",
       "       'areaName', 's_create', 'sa_create', 'u_approve', 'u_create',\n",
       "       'sa_statusupdate', 'Start_Time', 'U_create2U_approve', 'U_create2now',\n",
       "       'U_approve2now', 'S_create2SA_Create', 'SA_Create2Start_Time',\n",
       "       'S_Create2Start_Time', 'CW_Time2Start_Time', 'target', 'count_prev_SA',\n",
       "       'count_prev_CW', 'prev_CW/SA_rate', 'prev_CW x SA_rate',\n",
       "       'Str_Start_Time', 'start_date', 'CW_in_a_month'],\n",
       "      dtype='object')"
      ]
     },
     "execution_count": 2,
     "metadata": {},
     "output_type": "execute_result"
    }
   ],
   "source": [
    "df.columns"
   ]
  },
  {
   "cell_type": "markdown",
   "metadata": {},
   "source": [
    "# <font color = blue> Select categorical variables"
   ]
  },
  {
   "cell_type": "markdown",
   "metadata": {},
   "source": [
    "### Feature selection using chi-squared statistical hypothesis test\n",
    "* Test set couldnt include all facility ids, makes result inaccessible"
   ]
  },
  {
   "cell_type": "code",
   "execution_count": 23,
   "metadata": {},
   "outputs": [
    {
     "name": "stdout",
     "output_type": "stream",
     "text": [
      "                 score\n",
      "type         10.783081\n",
      "segmentName  13.821743\n",
      "areaName      2.999222\n",
      "f_name       98.613822\n"
     ]
    },
    {
     "data": {
      "image/png": "[encoded data removed]",
      "text/plain": [
       "<Figure size 432x288 with 1 Axes>"
      ]
     },
     "metadata": {
      "needs_background": "light"
     },
     "output_type": "display_data"
    }
   ],
   "source": [
    "# feature selection using chi-squared statistical hypothesis test\n",
    "from pandas import read_csv\n",
    "from sklearn.model_selection import train_test_split\n",
    "from sklearn.preprocessing import LabelEncoder\n",
    "from sklearn.preprocessing import OrdinalEncoder\n",
    "from sklearn.feature_selection import SelectKBest\n",
    "from sklearn.feature_selection import chi2\n",
    "from matplotlib import pyplot\n",
    "\n",
    "\n",
    "# OrdinalEncoder() for features\n",
    "def prepare_inputs(X_train, X_test):\n",
    "    oe = OrdinalEncoder()\n",
    "    oe.fit(X_train)\n",
    "    X_train_enc = oe.transform(X_train)\n",
    "    X_test_enc = oe.transform(X_test)\n",
    "    return X_train_enc, X_test_enc\n",
    "\n",
    "\n",
    "def prepare_targets(y_train, y_test):\n",
    "    le = LabelEncoder()\n",
    "    le.fit(y_train)\n",
    "    y_train_enc = le.transform(y_train)\n",
    "    y_test_enc = le.transform(y_test)\n",
    "    return X_train_enc, X_test_enc\n",
    "\n",
    "def select_feature_chi(X_train, y_train, X_test):\n",
    "    fs = SelectKBest(score_func = chi2, k = 'all') # k: number of top features to select\n",
    "    fs.fit(X_train, y_train)\n",
    "    X_train_fs = fs.transform(X_train)\n",
    "    X_test_fs = fs.transform(X_test)\n",
    "    return X_train_fs, X_test_fs, fs\n",
    "\n",
    "\n",
    "# load dataset\n",
    "X = df[['type', 'segmentName', 'areaName', 'f_name']].values\n",
    "y = df['target'].values\n",
    "\n",
    "# split into train and test sets\n",
    "X_train, X_test, y_train, y_test = train_test_split(X, y, test_size = 0.2)\n",
    "\n",
    "# prepare input data\n",
    "X_train_enc, X_test_enc = prepare_inputs(X_train, X_test)\n",
    "\n",
    "# # prepare output data\n",
    "# y_train_enc, y_test_enc = prepare_targets(y_train, y_test)\n",
    "y_train_enc = y_train\n",
    "\n",
    "# feature selection\n",
    "X_train_fs, X_test_fs, fs = select_feature_chi(X_train_enc, y_train_enc, X_test_enc)\n",
    "\n",
    "# what are scores for the features\n",
    "print(pd.DataFrame(fs.scores_, index = ['type', 'segmentName', 'areaName', 'f_name'], columns = ['score']))\n",
    "# plot the scores\n",
    "pyplot.bar(['type', 'segmentName', 'areaName', 'f_name'], fs.scores_)\n",
    "pyplot.show()"
   ]
  },
  {
   "cell_type": "markdown",
   "metadata": {},
   "source": [
    "### Mutual information feature selection for categorical data\n"
   ]
  },
  {
   "cell_type": "code",
   "execution_count": 24,
   "metadata": {},
   "outputs": [
    {
     "name": "stdout",
     "output_type": "stream",
     "text": [
      "                score\n",
      "type         0.005957\n",
      "segmentName  0.009670\n",
      "areaName     0.005671\n",
      "f_name       0.011575\n"
     ]
    },
    {
     "data": {
      "image/png": "[encoded data removed]",
      "text/plain": [
       "<Figure size 432x288 with 1 Axes>"
      ]
     },
     "metadata": {
      "needs_background": "light"
     },
     "output_type": "display_data"
    }
   ],
   "source": [
    "from sklearn.feature_selection import mutual_info_classif\n",
    "\n",
    "def select_feature_IG(X_train, y_train, X_test):\n",
    "    fs = SelectKBest(score_func = mutual_info_classif, k = 'all') # k: number of top features to select\n",
    "    fs.fit(X_train, y_train)\n",
    "    X_train_fs = fs.transform(X_train)\n",
    "    X_test_fs = fs.transform(X_test)\n",
    "    return X_train_fs, X_test_fs, fs\n",
    "\n",
    "# feature selection\n",
    "X_train_fs, X_test_fs, fs = select_feature_IG(X_train_enc, y_train_enc, X_test_enc)\n",
    "\n",
    "# what are scores for the features\n",
    "print(pd.DataFrame(fs.scores_, index = ['type', 'segmentName', 'areaName', 'f_name'], columns = ['score']))\n",
    "# plot the scores\n",
    "pyplot.bar(['type', 'segmentName', 'areaName', 'f_name'], fs.scores_)\n",
    "pyplot.show()"
   ]
  },
  {
   "cell_type": "markdown",
   "metadata": {},
   "source": [
    "# <font color = blue> Select Numerical variables"
   ]
  },
  {
   "cell_type": "markdown",
   "metadata": {},
   "source": [
    "### Anova f-test feature selection for numerical data"
   ]
  },
  {
   "cell_type": "code",
   "execution_count": 25,
   "metadata": {
    "scrolled": true
   },
   "outputs": [
    {
     "name": "stdout",
     "output_type": "stream",
     "text": [
      "                           score\n",
      "prev_CW/SA_rate       743.985536\n",
      "U_approve2now         428.619283\n",
      "count_prev_CW         401.480438\n",
      "U_create2now          375.540581\n",
      "CW_in_a_month         373.380553\n",
      "SA_Create2Start_Time  156.278139\n",
      "S_create2SA_Create    129.371991\n",
      "prev_CW x SA_rate      71.906874\n",
      "count_prev_SA          71.186375\n",
      "s_breakTime            59.209209\n",
      "net_pay                40.404107\n",
      "U_create2U_approve      3.658496\n",
      "S_Create2Start_Time     3.236463\n"
     ]
    },
    {
     "data": {
      "image/png": "[encoded data removed]",
      "text/plain": [
       "<Figure size 432x288 with 1 Axes>"
      ]
     },
     "metadata": {
      "needs_background": "light"
     },
     "output_type": "display_data"
    }
   ],
   "source": [
    "from sklearn.feature_selection import f_classif\n",
    "\n",
    "# feature selection\n",
    "def select_features_f(X_train, y_train, X_test):\n",
    "    # configure to select all features\n",
    "    fs = SelectKBest(score_func = f_classif, k='all')\n",
    "    # learn relationship from training data\n",
    "    fs.fit(X_train, y_train)\n",
    "    # transform train input data\n",
    "    X_train_fs = fs.transform(X_train)\n",
    "    # transform test input data\n",
    "    X_test_fs = fs.transform(X_test)\n",
    "    return X_train_fs, X_test_fs, fs\n",
    "\n",
    "# load dataset\n",
    "test_df = df[['net_pay', 's_breakTime','U_create2U_approve', 'U_create2now',\n",
    "              'U_approve2now', 'S_create2SA_Create', 'SA_Create2Start_Time',\n",
    "              'S_Create2Start_Time', 'count_prev_SA',\n",
    "              'count_prev_CW', 'prev_CW/SA_rate', 'prev_CW x SA_rate', 'CW_in_a_month']]\n",
    "X = test_df.values\n",
    "y = df['target'].values\n",
    "\n",
    "# split into train and test sets\n",
    "X_train, X_test, y_train, y_test = train_test_split(X, y, test_size = 0.2)\n",
    "\n",
    "# feature selection\n",
    "X_train_fs, X_test_fs, fs = select_features_f(X_train, y_train, X_test)\n",
    "\n",
    "# what are scores for the features\n",
    "print(pd.DataFrame(fs.scores_, index = list(test_df.columns), \n",
    "                   columns = ['score']).sort_values(by = 'score', ascending = False))\n",
    "\n",
    "# plot the scores\n",
    "pyplot.barh(list(test_df.columns), fs.scores_)\n",
    "pyplot.show()"
   ]
  },
  {
   "cell_type": "markdown",
   "metadata": {},
   "source": [
    "### Grid search"
   ]
  },
  {
   "cell_type": "code",
   "execution_count": 32,
   "metadata": {},
   "outputs": [],
   "source": [
    "# from sklearn.model_selection import RepeatedStratifiedKFold\n",
    "# from sklearn.linear_model import LogisticRegression\n",
    "# from sklearn.pipeline import Pipeline\n",
    "# from sklearn.model_selection import GridSearchCV\n",
    "\n",
    "# # feature selection\n",
    "# def select_features_f(X_train, y_train, X_test):\n",
    "#     # configure to select all features\n",
    "#     fs = SelectKBest(score_func = f_classif, k='all')\n",
    "#     # learn relationship from training data\n",
    "#     fs.fit(X_train, y_train)\n",
    "#     # transform train input data\n",
    "#     X_train_fs = fs.transform(X_train)\n",
    "#     # transform test input data\n",
    "#     X_test_fs = fs.transform(X_test)\n",
    "#     return X_train_fs, X_test_fs, fs\n",
    "\n",
    "# # load dataset\n",
    "# test_df = df[['net_pay', 's_breakTime','U_create2U_approve', 'U_create2now',\n",
    "#               'U_approve2now', 'S_create2SA_Create', 'SA_Create2Start_Time',\n",
    "#               'S_Create2Start_Time', 'count_prev_SA',\n",
    "#               'count_prev_CW', 'prev_CW/SA_rate', 'prev_CW x SA_rate', 'CW_in_a_month']]\n",
    "# X = test_df.values\n",
    "# y = df['target'].values\n",
    "\n",
    "# # define the evaluation method\n",
    "# # stratifiedKFold is a variation of k-fold which returns stratified folds: each set contains approximately the \n",
    "# # same percentage of samples of each target class as the complete set\n",
    "# # n_splits: number of folds\n",
    "# # n_repeats: number of times cross-validator need to be repeated\n",
    "# cv = RepeatedStratifiedKFold(n_splits=10, n_repeats=3, random_state=1)\n",
    "\n",
    "# # define the pipeline to evaluate\n",
    "# model = LogisticRegression(solver = 'lbfgs', class_weight = 'balanced')\n",
    "# fs = SelectKBest(score_func = f_classif) #\n",
    "# pipeline = Pipeline(steps=[('anova', fs), ('lr',  model)])\n",
    "\n",
    "# # define the grid\n",
    "# grid = dict()\n",
    "# grid['anova__k'] = [i+1 for i in range(X.shape[1])]\n",
    "\n",
    "# # define the grid search\n",
    "# # estimator : this is assumed to implement the scikit learn estimator interface\n",
    "# # param_grid: dictionary with parameters names as keys and list of parameter settings to try as values\n",
    "# # scoring: evaluation metric to use when ranking results\n",
    "# # n_jobs: number of jobs to run in parallel, -1 means using all processors \n",
    "# # cv: number of cv folds for each combination of parameters\n",
    "# search = GridSearchCV(pipeline, grid, scoring='precision', n_jobs = 5, cv=cv)\n",
    "\n",
    "# # perform the search\n",
    "# results = search.fit(X, y)\n",
    "\n",
    "# # summarize best\n",
    "# print('Best Precision: %.3f' % results.best_score_)\n",
    "# print('Best Config: %s' % results.best_params_)"
   ]
  },
  {
   "cell_type": "markdown",
   "metadata": {},
   "source": [
    "### With mutual information"
   ]
  },
  {
   "cell_type": "code",
   "execution_count": 27,
   "metadata": {},
   "outputs": [
    {
     "name": "stdout",
     "output_type": "stream",
     "text": [
      "                         score\n",
      "U_create2now          0.032268\n",
      "U_approve2now         0.031928\n",
      "net_pay               0.031198\n",
      "U_create2U_approve    0.024303\n",
      "prev_CW/SA_rate       0.006866\n",
      "s_breakTime           0.006593\n",
      "prev_CW x SA_rate     0.006407\n",
      "S_create2SA_Create    0.004793\n",
      "SA_Create2Start_Time  0.004609\n",
      "count_prev_CW         0.004132\n",
      "CW_in_a_month         0.003950\n",
      "count_prev_SA         0.002298\n",
      "S_Create2Start_Time   0.002226\n"
     ]
    },
    {
     "data": {
      "image/png": "[encoded data removed]",
      "text/plain": [
       "<Figure size 432x288 with 1 Axes>"
      ]
     },
     "metadata": {
      "needs_background": "light"
     },
     "output_type": "display_data"
    }
   ],
   "source": [
    "from sklearn.feature_selection import mutual_info_classif\n",
    "\n",
    "\n",
    "# feature selection\n",
    "def select_features_IG_num(X_train, y_train, X_test):\n",
    "    # configure to select all features\n",
    "    fs = SelectKBest(score_func = mutual_info_classif, k='all')\n",
    "    # learn relationship from training data\n",
    "    fs.fit(X_train, y_train)\n",
    "    # transform train input data\n",
    "    X_train_fs = fs.transform(X_train)\n",
    "    # transform test input data\n",
    "    X_test_fs = fs.transform(X_test)\n",
    "    return X_train_fs, X_test_fs, fs\n",
    "\n",
    "# feature selection\n",
    "X_train_fs, X_test_fs, fs = select_features_IG_num(X_train, y_train, X_test)\n",
    "\n",
    "# what are scores for the features\n",
    "print(pd.DataFrame(fs.scores_, index = list(test_df.columns), \n",
    "                   columns = ['score']).sort_values(by = 'score', ascending = False))\n",
    "\n",
    "# plot the scores\n",
    "pyplot.barh(list(test_df.columns), fs.scores_)\n",
    "pyplot.show()"
   ]
  },
  {
   "cell_type": "markdown",
   "metadata": {},
   "source": [
    "### compare performance num of features-mutual information"
   ]
  },
  {
   "cell_type": "code",
   "execution_count": 34,
   "metadata": {},
   "outputs": [
    {
     "name": "stdout",
     "output_type": "stream",
     "text": [
      ">1 0.571 (0.048)\n",
      ">2 0.554 (0.006)\n",
      ">3 0.552 (0.007)\n",
      ">4 0.561 (0.013)\n",
      ">5 0.585 (0.030)\n",
      ">6 0.573 (0.033)\n",
      ">7 0.561 (0.017)\n",
      ">8 0.565 (0.019)\n",
      ">9 0.577 (0.009)\n",
      ">10 0.584 (0.018)\n",
      ">11 0.607 (0.019)\n",
      ">12 0.607 (0.017)\n",
      ">13 0.609 (0.014)\n"
     ]
    },
    {
     "data": {
      "image/png": "[encoded data removed]",
      "text/plain": [
       "<Figure size 432x288 with 1 Axes>"
      ]
     },
     "metadata": {
      "needs_background": "light"
     },
     "output_type": "display_data"
    }
   ],
   "source": [
    "from numpy import mean\n",
    "from numpy import std\n",
    "from pandas import read_csv\n",
    "from sklearn.model_selection import cross_val_score\n",
    "from sklearn.model_selection import RepeatedStratifiedKFold\n",
    "from sklearn.feature_selection import SelectKBest\n",
    "from sklearn.feature_selection import f_classif\n",
    "from sklearn.linear_model import LogisticRegression\n",
    "from sklearn.pipeline import Pipeline\n",
    "from matplotlib import pyplot\n",
    "\n",
    "# load dataset\n",
    "test_df = df[['net_pay', 's_breakTime','U_create2U_approve', 'U_create2now',\n",
    "              'U_approve2now', 'S_create2SA_Create', 'SA_Create2Start_Time',\n",
    "              'S_Create2Start_Time', 'count_prev_SA',\n",
    "              'count_prev_CW', 'prev_CW/SA_rate', 'prev_CW x SA_rate', 'CW_in_a_month']]\n",
    "X = test_df.values\n",
    "y = df['target'].values\n",
    "\n",
    "\n",
    "# evaluate a given model using cross-validation\n",
    "def evaluate_model(model, X, y):\n",
    "    cv = RepeatedStratifiedKFold(n_splits=10, n_repeats=3, random_state=1)\n",
    "    scores = cross_val_score(model, X, y, scoring='accuracy', cv=cv, n_jobs=-1)\n",
    "    return scores\n",
    "# define number of features to evaluate\n",
    "num_features = [i+1 for i in range(X.shape[1])]\n",
    "\n",
    "# enumerate each number of features\n",
    "results = list()\n",
    "for k in num_features:\n",
    "    # create pipeline\n",
    "    model = LogisticRegression(solver = 'lbfgs', class_weight = 'balanced')\n",
    "    fs = SelectKBest(score_func = mutual_info_classif, k=k)\n",
    "    pipeline = Pipeline(steps=[('anova',fs), ('lr', model)])\n",
    "    # evaluate the model\n",
    "    scores = evaluate_model(pipeline, X, y)\n",
    "    results.append(scores)\n",
    "    # summarize the results\n",
    "    print('>%d %.3f (%.3f)' % (k, mean(scores), std(scores)))\n",
    "# plot model performance for comparison\n",
    "pyplot.boxplot(results, labels=num_features, showmeans=True)\n",
    "pyplot.show()"
   ]
  },
  {
   "cell_type": "markdown",
   "metadata": {},
   "source": [
    "# <font color = blue> Use RFE for feature selection\n",
    "* Recursive Feature Elimination"
   ]
  },
  {
   "cell_type": "markdown",
   "metadata": {},
   "source": [
    "### Automatically select the number of features for RFE & report feature rank"
   ]
  },
  {
   "cell_type": "code",
   "execution_count": 29,
   "metadata": {},
   "outputs": [],
   "source": [
    "from sklearn.preprocessing import OrdinalEncoder\n",
    "\n",
    "\n",
    "# numerical column name\n",
    "num_colname = ['net_pay', 's_breakTime','U_create2U_approve', 'U_create2now',\n",
    "               'U_approve2now', 'S_create2SA_Create', 'SA_Create2Start_Time',\n",
    "               'S_Create2Start_Time', 'count_prev_SA', 'count_prev_CW', \n",
    "               'prev_CW/SA_rate', 'prev_CW x SA_rate', 'CW_in_a_month']\n",
    "# categorical column name\n",
    "cat_colname = ['type', 'segmentName', 'areaName', 'f_name']\n",
    "\n",
    "\n",
    "# categorical\n",
    "X = df[cat_colname].values\n",
    "oe = OrdinalEncoder()\n",
    "oe.fit(X)\n",
    "X_enc = oe.transform(X)\n",
    "X_dummy = pd.DataFrame(X_enc, columns = cat_colname)\n",
    "# concat with numberical - feature\n",
    "X = pd.concat([df[num_colname], X_dummy], axis = 1)\n",
    "\n",
    "# target\n",
    "y = df['target']"
   ]
  },
  {
   "cell_type": "code",
   "execution_count": 30,
   "metadata": {},
   "outputs": [
    {
     "name": "stdout",
     "output_type": "stream",
     "text": [
      "Column: 0, Selected=True, Rank: 1\n",
      "Column: 1, Selected=False, Rank: 9\n",
      "Column: 2, Selected=False, Rank: 3\n",
      "Column: 3, Selected=False, Rank: 4\n",
      "Column: 4, Selected=True, Rank: 1\n",
      "Column: 5, Selected=True, Rank: 1\n",
      "Column: 6, Selected=True, Rank: 1\n",
      "Column: 7, Selected=True, Rank: 1\n",
      "Column: 8, Selected=True, Rank: 1\n",
      "Column: 9, Selected=False, Rank: 8\n",
      "Column: 10, Selected=False, Rank: 2\n",
      "Column: 11, Selected=False, Rank: 5\n",
      "Column: 12, Selected=False, Rank: 10\n",
      "Column: 13, Selected=False, Rank: 7\n",
      "Column: 14, Selected=False, Rank: 11\n",
      "Column: 15, Selected=False, Rank: 6\n",
      "Column: 16, Selected=True, Rank: 1\n"
     ]
    }
   ],
   "source": [
    "from numpy import mean\n",
    "from numpy import std\n",
    "from sklearn.datasets import make_classification\n",
    "from sklearn.model_selection import cross_val_score\n",
    "from sklearn.model_selection import RepeatedStratifiedKFold\n",
    "from sklearn.feature_selection import RFECV\n",
    "from sklearn.tree import DecisionTreeClassifier\n",
    "from sklearn.pipeline import Pipeline\n",
    "from sklearn.feature_selection import RFE\n",
    "\n",
    "\n",
    "# define RFE\n",
    "rfe = RFE(estimator=DecisionTreeClassifier(), n_features_to_select = 7)\n",
    "# fit RFE\n",
    "rfe.fit(X, y)\n",
    "# summarize all features\n",
    "for i in range(X.shape[1]):\n",
    "    print('Column: %d, Selected=%s, Rank: %d' % (i, rfe.support_[i], rfe.ranking_[i]))"
   ]
  },
  {
   "cell_type": "code",
   "execution_count": 31,
   "metadata": {},
   "outputs": [
    {
     "data": {
      "text/html": [
       "<div>\n",
       "<style scoped>\n",
       "    .dataframe tbody tr th:only-of-type {\n",
       "        vertical-align: middle;\n",
       "    }\n",
       "\n",
       "    .dataframe tbody tr th {\n",
       "        vertical-align: top;\n",
       "    }\n",
       "\n",
       "    .dataframe thead th {\n",
       "        text-align: right;\n",
       "    }\n",
       "</style>\n",
       "<table border=\"1\" class=\"dataframe\">\n",
       "  <thead>\n",
       "    <tr style=\"text-align: right;\">\n",
       "      <th></th>\n",
       "      <th>net_pay</th>\n",
       "      <th>s_breakTime</th>\n",
       "      <th>U_create2U_approve</th>\n",
       "      <th>U_create2now</th>\n",
       "      <th>U_approve2now</th>\n",
       "      <th>S_create2SA_Create</th>\n",
       "      <th>SA_Create2Start_Time</th>\n",
       "      <th>S_Create2Start_Time</th>\n",
       "      <th>count_prev_SA</th>\n",
       "      <th>count_prev_CW</th>\n",
       "      <th>prev_CW/SA_rate</th>\n",
       "      <th>prev_CW x SA_rate</th>\n",
       "      <th>CW_in_a_month</th>\n",
       "      <th>type</th>\n",
       "      <th>segmentName</th>\n",
       "      <th>areaName</th>\n",
       "      <th>f_name</th>\n",
       "    </tr>\n",
       "  </thead>\n",
       "  <tbody>\n",
       "    <tr>\n",
       "      <th>0</th>\n",
       "      <td>40.0</td>\n",
       "      <td>0.0</td>\n",
       "      <td>0.000000</td>\n",
       "      <td>32.429831</td>\n",
       "      <td>0.000000</td>\n",
       "      <td>0.029823</td>\n",
       "      <td>0.235789</td>\n",
       "      <td>0.265612</td>\n",
       "      <td>0</td>\n",
       "      <td>0</td>\n",
       "      <td>0.0</td>\n",
       "      <td>0</td>\n",
       "      <td>0</td>\n",
       "      <td>4.0</td>\n",
       "      <td>1.0</td>\n",
       "      <td>3.0</td>\n",
       "      <td>187.0</td>\n",
       "    </tr>\n",
       "    <tr>\n",
       "      <th>1</th>\n",
       "      <td>30.0</td>\n",
       "      <td>0.0</td>\n",
       "      <td>5305.129378</td>\n",
       "      <td>32.429831</td>\n",
       "      <td>25.167358</td>\n",
       "      <td>0.011317</td>\n",
       "      <td>2.008072</td>\n",
       "      <td>2.019389</td>\n",
       "      <td>4</td>\n",
       "      <td>0</td>\n",
       "      <td>0.0</td>\n",
       "      <td>0</td>\n",
       "      <td>0</td>\n",
       "      <td>6.0</td>\n",
       "      <td>1.0</td>\n",
       "      <td>3.0</td>\n",
       "      <td>187.0</td>\n",
       "    </tr>\n",
       "    <tr>\n",
       "      <th>2</th>\n",
       "      <td>45.0</td>\n",
       "      <td>0.0</td>\n",
       "      <td>5305.129378</td>\n",
       "      <td>32.429831</td>\n",
       "      <td>25.167358</td>\n",
       "      <td>0.005437</td>\n",
       "      <td>0.038918</td>\n",
       "      <td>0.044354</td>\n",
       "      <td>7</td>\n",
       "      <td>0</td>\n",
       "      <td>0.0</td>\n",
       "      <td>0</td>\n",
       "      <td>0</td>\n",
       "      <td>4.0</td>\n",
       "      <td>1.0</td>\n",
       "      <td>3.0</td>\n",
       "      <td>187.0</td>\n",
       "    </tr>\n",
       "    <tr>\n",
       "      <th>3</th>\n",
       "      <td>40.0</td>\n",
       "      <td>0.0</td>\n",
       "      <td>5305.129378</td>\n",
       "      <td>32.429831</td>\n",
       "      <td>25.167358</td>\n",
       "      <td>72.900516</td>\n",
       "      <td>22.122296</td>\n",
       "      <td>95.022811</td>\n",
       "      <td>6</td>\n",
       "      <td>0</td>\n",
       "      <td>0.0</td>\n",
       "      <td>0</td>\n",
       "      <td>0</td>\n",
       "      <td>4.0</td>\n",
       "      <td>1.0</td>\n",
       "      <td>3.0</td>\n",
       "      <td>187.0</td>\n",
       "    </tr>\n",
       "    <tr>\n",
       "      <th>4</th>\n",
       "      <td>45.0</td>\n",
       "      <td>0.0</td>\n",
       "      <td>5305.129378</td>\n",
       "      <td>32.429831</td>\n",
       "      <td>25.167358</td>\n",
       "      <td>0.003420</td>\n",
       "      <td>9.731844</td>\n",
       "      <td>9.735264</td>\n",
       "      <td>8</td>\n",
       "      <td>0</td>\n",
       "      <td>0.0</td>\n",
       "      <td>0</td>\n",
       "      <td>0</td>\n",
       "      <td>4.0</td>\n",
       "      <td>1.0</td>\n",
       "      <td>3.0</td>\n",
       "      <td>187.0</td>\n",
       "    </tr>\n",
       "    <tr>\n",
       "      <th>...</th>\n",
       "      <td>...</td>\n",
       "      <td>...</td>\n",
       "      <td>...</td>\n",
       "      <td>...</td>\n",
       "      <td>...</td>\n",
       "      <td>...</td>\n",
       "      <td>...</td>\n",
       "      <td>...</td>\n",
       "      <td>...</td>\n",
       "      <td>...</td>\n",
       "      <td>...</td>\n",
       "      <td>...</td>\n",
       "      <td>...</td>\n",
       "      <td>...</td>\n",
       "      <td>...</td>\n",
       "      <td>...</td>\n",
       "      <td>...</td>\n",
       "    </tr>\n",
       "    <tr>\n",
       "      <th>67131</th>\n",
       "      <td>30.0</td>\n",
       "      <td>30.0</td>\n",
       "      <td>14.607588</td>\n",
       "      <td>0.217446</td>\n",
       "      <td>0.197452</td>\n",
       "      <td>239.708428</td>\n",
       "      <td>448.297171</td>\n",
       "      <td>688.005599</td>\n",
       "      <td>1</td>\n",
       "      <td>0</td>\n",
       "      <td>0.0</td>\n",
       "      <td>0</td>\n",
       "      <td>1</td>\n",
       "      <td>3.0</td>\n",
       "      <td>1.0</td>\n",
       "      <td>2.0</td>\n",
       "      <td>277.0</td>\n",
       "    </tr>\n",
       "    <tr>\n",
       "      <th>67132</th>\n",
       "      <td>12.5</td>\n",
       "      <td>0.0</td>\n",
       "      <td>51.556530</td>\n",
       "      <td>0.121269</td>\n",
       "      <td>0.050693</td>\n",
       "      <td>21.010757</td>\n",
       "      <td>71.742966</td>\n",
       "      <td>92.753723</td>\n",
       "      <td>0</td>\n",
       "      <td>0</td>\n",
       "      <td>0.0</td>\n",
       "      <td>0</td>\n",
       "      <td>0</td>\n",
       "      <td>1.0</td>\n",
       "      <td>1.0</td>\n",
       "      <td>3.0</td>\n",
       "      <td>211.0</td>\n",
       "    </tr>\n",
       "    <tr>\n",
       "      <th>67133</th>\n",
       "      <td>15.0</td>\n",
       "      <td>30.0</td>\n",
       "      <td>15.087454</td>\n",
       "      <td>0.073117</td>\n",
       "      <td>0.052466</td>\n",
       "      <td>0.029436</td>\n",
       "      <td>99.153814</td>\n",
       "      <td>99.183249</td>\n",
       "      <td>0</td>\n",
       "      <td>0</td>\n",
       "      <td>0.0</td>\n",
       "      <td>0</td>\n",
       "      <td>0</td>\n",
       "      <td>0.0</td>\n",
       "      <td>1.0</td>\n",
       "      <td>3.0</td>\n",
       "      <td>305.0</td>\n",
       "    </tr>\n",
       "    <tr>\n",
       "      <th>67134</th>\n",
       "      <td>20.0</td>\n",
       "      <td>30.0</td>\n",
       "      <td>14.344444</td>\n",
       "      <td>0.055543</td>\n",
       "      <td>0.035909</td>\n",
       "      <td>223.255459</td>\n",
       "      <td>81.171369</td>\n",
       "      <td>304.426828</td>\n",
       "      <td>0</td>\n",
       "      <td>0</td>\n",
       "      <td>0.0</td>\n",
       "      <td>0</td>\n",
       "      <td>0</td>\n",
       "      <td>5.0</td>\n",
       "      <td>1.0</td>\n",
       "      <td>1.0</td>\n",
       "      <td>61.0</td>\n",
       "    </tr>\n",
       "    <tr>\n",
       "      <th>67135</th>\n",
       "      <td>32.0</td>\n",
       "      <td>0.0</td>\n",
       "      <td>13.944383</td>\n",
       "      <td>0.054976</td>\n",
       "      <td>0.035889</td>\n",
       "      <td>17.909563</td>\n",
       "      <td>258.795057</td>\n",
       "      <td>276.704620</td>\n",
       "      <td>0</td>\n",
       "      <td>0</td>\n",
       "      <td>0.0</td>\n",
       "      <td>0</td>\n",
       "      <td>0</td>\n",
       "      <td>3.0</td>\n",
       "      <td>1.0</td>\n",
       "      <td>0.0</td>\n",
       "      <td>57.0</td>\n",
       "    </tr>\n",
       "  </tbody>\n",
       "</table>\n",
       "<p>67136 rows × 17 columns</p>\n",
       "</div>"
      ],
      "text/plain": [
       "       net_pay  s_breakTime  U_create2U_approve  U_create2now  U_approve2now  \\\n",
       "0         40.0          0.0            0.000000     32.429831       0.000000   \n",
       "1         30.0          0.0         5305.129378     32.429831      25.167358   \n",
       "2         45.0          0.0         5305.129378     32.429831      25.167358   \n",
       "3         40.0          0.0         5305.129378     32.429831      25.167358   \n",
       "4         45.0          0.0         5305.129378     32.429831      25.167358   \n",
       "...        ...          ...                 ...           ...            ...   \n",
       "67131     30.0         30.0           14.607588      0.217446       0.197452   \n",
       "67132     12.5          0.0           51.556530      0.121269       0.050693   \n",
       "67133     15.0         30.0           15.087454      0.073117       0.052466   \n",
       "67134     20.0         30.0           14.344444      0.055543       0.035909   \n",
       "67135     32.0          0.0           13.944383      0.054976       0.035889   \n",
       "\n",
       "       S_create2SA_Create  SA_Create2Start_Time  S_Create2Start_Time  \\\n",
       "0                0.029823              0.235789             0.265612   \n",
       "1                0.011317              2.008072             2.019389   \n",
       "2                0.005437              0.038918             0.044354   \n",
       "3               72.900516             22.122296            95.022811   \n",
       "4                0.003420              9.731844             9.735264   \n",
       "...                   ...                   ...                  ...   \n",
       "67131          239.708428            448.297171           688.005599   \n",
       "67132           21.010757             71.742966            92.753723   \n",
       "67133            0.029436             99.153814            99.183249   \n",
       "67134          223.255459             81.171369           304.426828   \n",
       "67135           17.909563            258.795057           276.704620   \n",
       "\n",
       "       count_prev_SA  count_prev_CW  prev_CW/SA_rate  prev_CW x SA_rate  \\\n",
       "0                  0              0              0.0                  0   \n",
       "1                  4              0              0.0                  0   \n",
       "2                  7              0              0.0                  0   \n",
       "3                  6              0              0.0                  0   \n",
       "4                  8              0              0.0                  0   \n",
       "...              ...            ...              ...                ...   \n",
       "67131              1              0              0.0                  0   \n",
       "67132              0              0              0.0                  0   \n",
       "67133              0              0              0.0                  0   \n",
       "67134              0              0              0.0                  0   \n",
       "67135              0              0              0.0                  0   \n",
       "\n",
       "       CW_in_a_month  type  segmentName  areaName  f_name  \n",
       "0                  0   4.0          1.0       3.0   187.0  \n",
       "1                  0   6.0          1.0       3.0   187.0  \n",
       "2                  0   4.0          1.0       3.0   187.0  \n",
       "3                  0   4.0          1.0       3.0   187.0  \n",
       "4                  0   4.0          1.0       3.0   187.0  \n",
       "...              ...   ...          ...       ...     ...  \n",
       "67131              1   3.0          1.0       2.0   277.0  \n",
       "67132              0   1.0          1.0       3.0   211.0  \n",
       "67133              0   0.0          1.0       3.0   305.0  \n",
       "67134              0   5.0          1.0       1.0    61.0  \n",
       "67135              0   3.0          1.0       0.0    57.0  \n",
       "\n",
       "[67136 rows x 17 columns]"
      ]
     },
     "execution_count": 31,
     "metadata": {},
     "output_type": "execute_result"
    }
   ],
   "source": [
    "X"
   ]
  },
  {
   "cell_type": "code",
   "execution_count": null,
   "metadata": {},
   "outputs": [],
   "source": [
    "num_colname = ['net_pay', 's_breakTime','U_create2U_approve', 'U_create2now',\n",
    "               'U_approve2now', 'S_create2SA_Create', 'SA_Create2Start_Time',\n",
    "               'S_Create2Start_Time', 'count_prev_SA', 'count_prev_CW', \n",
    "               'prev_CW/SA_rate', 'prev_CW x SA_rate', 'CW_in_a_month']"
   ]
  },
  {
   "cell_type": "code",
   "execution_count": 32,
   "metadata": {},
   "outputs": [],
   "source": [
    "X_1 = X[['prev_CW/SA_rate', 'U_approve2now', 'count_prev_CW', 'U_create2now', \n",
    "         'CW_in_a_month', 'SA_Create2Start_Time', 'S_create2SA_Create', \n",
    "         'prev_CW x SA_rate', 'count_prev_SA', 's_breakTime', 'net_pay']]"
   ]
  },
  {
   "cell_type": "code",
   "execution_count": 41,
   "metadata": {},
   "outputs": [
    {
     "data": {
      "text/plain": [
       "LogisticRegression(class_weight='balanced', max_iter=100000)"
      ]
     },
     "execution_count": 41,
     "metadata": {},
     "output_type": "execute_result"
    }
   ],
   "source": [
    "from sklearn.model_selection import train_test_split\n",
    "X_train, X_test, y_train, y_test = train_test_split(X_1, y, test_size=0.30)\n",
    "\n",
    "from sklearn.linear_model import LogisticRegression, LogisticRegressionCV\n",
    "\n",
    "logit = LogisticRegression(solver = 'lbfgs', class_weight = 'balanced', max_iter = 100000)\n",
    "logit.fit(X_train,y_train)"
   ]
  },
  {
   "cell_type": "code",
   "execution_count": 42,
   "metadata": {},
   "outputs": [
    {
     "name": "stdout",
     "output_type": "stream",
     "text": [
      "[[11459  7362]\n",
      " [  465   855]]\n",
      "\n",
      "\n",
      "              precision    recall  f1-score   support\n",
      "\n",
      "           0       0.96      0.61      0.75     18821\n",
      "           1       0.10      0.65      0.18      1320\n",
      "\n",
      "    accuracy                           0.61     20141\n",
      "   macro avg       0.53      0.63      0.46     20141\n",
      "weighted avg       0.90      0.61      0.71     20141\n",
      "\n"
     ]
    }
   ],
   "source": [
    "from sklearn.metrics import classification_report, confusion_matrix\n",
    "\n",
    "y_pred = logit.predict(X_test)\n",
    "print(confusion_matrix(y_test, y_pred))\n",
    "print('\\n')\n",
    "print(classification_report(y_test, y_pred))"
   ]
  },
  {
   "cell_type": "code",
   "execution_count": 45,
   "metadata": {},
   "outputs": [],
   "source": [
    "y_pred_prob = logit.predict_proba(X_test)"
   ]
  },
  {
   "cell_type": "code",
   "execution_count": 58,
   "metadata": {},
   "outputs": [
    {
     "data": {
      "text/html": [
       "<div>\n",
       "<style scoped>\n",
       "    .dataframe tbody tr th:only-of-type {\n",
       "        vertical-align: middle;\n",
       "    }\n",
       "\n",
       "    .dataframe tbody tr th {\n",
       "        vertical-align: top;\n",
       "    }\n",
       "\n",
       "    .dataframe thead th {\n",
       "        text-align: right;\n",
       "    }\n",
       "</style>\n",
       "<table border=\"1\" class=\"dataframe\">\n",
       "  <thead>\n",
       "    <tr style=\"text-align: right;\">\n",
       "      <th></th>\n",
       "      <th>pred</th>\n",
       "      <th>true</th>\n",
       "    </tr>\n",
       "  </thead>\n",
       "  <tbody>\n",
       "    <tr>\n",
       "      <th>0</th>\n",
       "      <td>0.659077</td>\n",
       "      <td>0</td>\n",
       "    </tr>\n",
       "    <tr>\n",
       "      <th>1</th>\n",
       "      <td>0.575098</td>\n",
       "      <td>1</td>\n",
       "    </tr>\n",
       "    <tr>\n",
       "      <th>2</th>\n",
       "      <td>0.286337</td>\n",
       "      <td>0</td>\n",
       "    </tr>\n",
       "    <tr>\n",
       "      <th>3</th>\n",
       "      <td>0.212562</td>\n",
       "      <td>0</td>\n",
       "    </tr>\n",
       "    <tr>\n",
       "      <th>4</th>\n",
       "      <td>0.588676</td>\n",
       "      <td>0</td>\n",
       "    </tr>\n",
       "    <tr>\n",
       "      <th>...</th>\n",
       "      <td>...</td>\n",
       "      <td>...</td>\n",
       "    </tr>\n",
       "    <tr>\n",
       "      <th>20136</th>\n",
       "      <td>0.638406</td>\n",
       "      <td>0</td>\n",
       "    </tr>\n",
       "    <tr>\n",
       "      <th>20137</th>\n",
       "      <td>0.462912</td>\n",
       "      <td>0</td>\n",
       "    </tr>\n",
       "    <tr>\n",
       "      <th>20138</th>\n",
       "      <td>0.594409</td>\n",
       "      <td>0</td>\n",
       "    </tr>\n",
       "    <tr>\n",
       "      <th>20139</th>\n",
       "      <td>0.206236</td>\n",
       "      <td>0</td>\n",
       "    </tr>\n",
       "    <tr>\n",
       "      <th>20140</th>\n",
       "      <td>0.300621</td>\n",
       "      <td>0</td>\n",
       "    </tr>\n",
       "  </tbody>\n",
       "</table>\n",
       "<p>20141 rows × 2 columns</p>\n",
       "</div>"
      ],
      "text/plain": [
       "           pred  true\n",
       "0      0.659077     0\n",
       "1      0.575098     1\n",
       "2      0.286337     0\n",
       "3      0.212562     0\n",
       "4      0.588676     0\n",
       "...         ...   ...\n",
       "20136  0.638406     0\n",
       "20137  0.462912     0\n",
       "20138  0.594409     0\n",
       "20139  0.206236     0\n",
       "20140  0.300621     0\n",
       "\n",
       "[20141 rows x 2 columns]"
      ]
     },
     "execution_count": 58,
     "metadata": {},
     "output_type": "execute_result"
    }
   ],
   "source": [
    "t = pd.DataFrame(list(zip(y_pred_prob[:,1], y_test)), columns = ['pred', 'true'])\n",
    "t"
   ]
  },
  {
   "cell_type": "code",
   "execution_count": 61,
   "metadata": {},
   "outputs": [
    {
     "data": {
      "text/plain": [
       "0.5501521012824272"
      ]
     },
     "execution_count": 61,
     "metadata": {},
     "output_type": "execute_result"
    }
   ],
   "source": [
    "import statistics\n",
    "mean(t[t['true'] == 1]['pred'])"
   ]
  },
  {
   "cell_type": "code",
   "execution_count": 62,
   "metadata": {},
   "outputs": [
    {
     "data": {
      "text/plain": [
       "0.4523860738963099"
      ]
     },
     "execution_count": 62,
     "metadata": {},
     "output_type": "execute_result"
    }
   ],
   "source": [
    "mean(t[t['true'] == 0]['pred'])"
   ]
  },
  {
   "cell_type": "code",
   "execution_count": null,
   "metadata": {},
   "outputs": [],
   "source": []
  }
 ],
 "metadata": {
  "kernelspec": {
   "display_name": "Python 3",
   "language": "python",
   "name": "python3"
  },
  "language_info": {
   "codemirror_mode": {
    "name": "ipython",
    "version": 3
   },
   "file_extension": ".py",
   "mimetype": "text/x-python",
   "name": "python",
   "nbconvert_exporter": "python",
   "pygments_lexer": "ipython3",
   "version": "3.8.3"
  }
 },
 "nbformat": 4,
 "nbformat_minor": 4
}
