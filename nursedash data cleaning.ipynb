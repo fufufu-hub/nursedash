{
 "cells": [
  {
   "cell_type": "markdown",
   "metadata": {},
   "source": [
    "## Target- urgent withdrawn by nurse(within 24hr)\n",
    "* shift_applications status == 'cancelled' + shift_application prevStatus == 'confirmed'\n",
    "\n",
    "\n",
    "### IDs -> only look at shifts application, leave each shifts after\n",
    "* shift_applications id\n",
    "* shift_applications user_id\n",
    "* shift_applications shift_id\n",
    "\n",
    "\n",
    "### Numeric Field\n",
    "* shifts rate\n",
    "* shifts net_pay: rate - nursedash profit\n",
    "* shift_applications distance\n",
    "* shift break time\n",
    "* user withdrawn times: \n",
    "    Problem: \n",
    "        1. We don't know in reality that you will withdraw your previous one.\n",
    "        2. cannot be used to predict new user\n",
    "* user applied times:\n",
    "* <b>prev SA/CW rate<b/>\n",
    "\n",
    "\n",
    "## Time\n",
    "### shift, shift app time\n",
    "* S_Create (shift created) => SA_Create (application created) => CWTime (comfim withdrawn) => Start_Time (shift start)\n",
    "* S_Create: shift create time\n",
    "* SA_Create: shift application create time\n",
    "* CWTime: shift withdrawn time, whole confirmed withdrawn population (include within 24hr and > 24hr)\n",
    "* Start_Time: shift start time\n",
    "##### calculated field, graph in hours\n",
    "* <b>S_Create2SA_Create<b/>: shift application create time - shift create time\n",
    "* <b>S_Create2Start_Time<b/>: shift start time - shift create time\n",
    "        1. has negative values. delete maybe?\n",
    "* <b>SA_Create2Start_Time<b/>: shift start time - shift application create time\n",
    "        1. has negative values. delete maybe?\n",
    "\n",
    "### User\n",
    "* user approvedAt:\n",
    "* user createdAt:\n",
    "#### Calculated field\n",
    "* U_Create2U_approved: User approve time - User create time\n",
    "* <b>U_Create2now<b/>: now - User create time, in months(seconds/2629746)\n",
    "* <b>U_Approve2now<b/>: now - User approve time\n",
    "\n",
    "\n",
    "### Categorical\n",
    "* shifts role: position name + type\n",
    "* facilities name = facilities short_name\n",
    "* facilities areaId = facilities areaName\n",
    "* withdrawnInfo_key, withdrawnInfo_value\n",
    "* facilities segmentName: Senior Living = 1, Healthcare = 0\n",
    "* Users enableNotifications:\n",
    "* Users emailNotifications:\n",
    "* Users appNotifications:\n",
    "* Users allowedNotifications:\n",
    "\n",
    "\n",
    "### ?\n",
    "* facilities allowedQualification\n",
    "* facilities createdAt\n",
    "* facilities rates\n",
    "* nurse shift withdrawn by admin, when policy start, how many withdrawn by admin\n",
    "* shifts = unit\n",
    "* role\n",
    "* users updateAt ?\n",
    "* users relationToFacility"
   ]
  },
  {
   "cell_type": "markdown",
   "metadata": {},
   "source": [
    "# Concat data"
   ]
  },
  {
   "cell_type": "code",
   "execution_count": 128,
   "metadata": {},
   "outputs": [],
   "source": [
    "import pandas as pd\n",
    "import numpy as np"
   ]
  },
  {
   "cell_type": "code",
   "execution_count": 129,
   "metadata": {},
   "outputs": [],
   "source": [
    "df1 = pd.read_csv('0-2 new.csv')\n",
    "df2 = pd.read_csv('2-5.csv')\n",
    "df3 = pd.read_csv('5-9.csv')\n",
    "df4 = pd.read_csv('9-12.csv')\n",
    "df5 = pd.read_csv('12-18.csv')\n",
    "\n",
    "main = pd.concat([df1, df2, df3, df4, df5], axis = 0)\n",
    "\n",
    "main.to_csv('main.csv')"
   ]
  },
  {
   "cell_type": "markdown",
   "metadata": {},
   "source": [
    "# Data Cleaning"
   ]
  },
  {
   "cell_type": "code",
   "execution_count": 130,
   "metadata": {},
   "outputs": [
    {
     "data": {
      "text/plain": [
       "Index(['id', 'user_id', 'shift_id', 'status', 'createdAt',\n",
       "       'hasNurseCheckEvent', 'hasBreakTime', 'prevStatus', 'distance', 'id.1',\n",
       "       'facility_id', 'description', 'start_time', 'assigned_nurse_id', 'rate',\n",
       "       'net_pay', 'unit', 'type', 'createdAt.1', 'qualifications', 'breakTime',\n",
       "       'prevStatus.1', 'id.2', 'name', 'short_name', 'createdAt.2', 'rates',\n",
       "       'S_Create', 'SA_Create', 'S_create2SA_Create', 'Start_Time',\n",
       "       'SA_Create2Start_Time', 'S_Create2Start_Time', 'CW_Time',\n",
       "       'CW_Time2Start_Time', 'SA_Create2CW_Time', 'S_Create2CW_Time',\n",
       "       'allowedQualifications', 'areaId', 'areaName', 'segmentName',\n",
       "       'U_create2now', 'U_approve2now', 'U_create2U_approve',\n",
       "       'withdrawnInfo_key', 'withdrawnInfo_value'],\n",
       "      dtype='object')"
      ]
     },
     "execution_count": 130,
     "metadata": {},
     "output_type": "execute_result"
    }
   ],
   "source": [
    "df = pd.read_csv('main.csv').drop(columns = ['Unnamed: 0'])\n",
    "df.columns"
   ]
  },
  {
   "cell_type": "code",
   "execution_count": 131,
   "metadata": {},
   "outputs": [],
   "source": [
    "# fill these column with 0, no cw make these column nan\n",
    "df[['CW_Time', 'SA_Create2CW_Time', 'S_Create2CW_Time']] = df[['CW_Time', 'SA_Create2CW_Time', 'S_Create2CW_Time']].fillna(0)\n",
    "\n",
    "# make time to datetime object\n",
    "df['start_time'] = pd.to_datetime(df['start_time'])\n",
    "df['createdAt'] = pd.to_datetime(df['createdAt'])"
   ]
  },
  {
   "cell_type": "code",
   "execution_count": 132,
   "metadata": {
    "scrolled": true
   },
   "outputs": [
    {
     "data": {
      "text/plain": [
       "(172051, 46)"
      ]
     },
     "execution_count": 132,
     "metadata": {},
     "output_type": "execute_result"
    }
   ],
   "source": [
    "df.shape"
   ]
  },
  {
   "cell_type": "code",
   "execution_count": 133,
   "metadata": {},
   "outputs": [],
   "source": [
    "#df['tar'] = df.apply(lambda x: 1 if x['status'] == 'withdrawn' and x['prevStatus'] == 'confirmed' and x['withdrawnInfo_value'] == 'nurse' and df['CW_Time2Start_Time'] > -24 else 0, axis =1)"
   ]
  },
  {
   "cell_type": "code",
   "execution_count": 134,
   "metadata": {},
   "outputs": [],
   "source": [
    "# There are some negative numbers in these column. Target all = 0, drop for now\n",
    "df = df[(df[\"S_Create2Start_Time\"]>0) & (df[\"SA_Create2Start_Time\"]>0)]\n",
    "\n",
    "# sort by time that shift was created\n",
    "df = df.sort_values(by = 'createdAt').reset_index(drop = True)"
   ]
  },
  {
   "cell_type": "markdown",
   "metadata": {},
   "source": [
    "# Feature Engineering"
   ]
  },
  {
   "cell_type": "markdown",
   "metadata": {},
   "source": [
    "### Target: urgent withdrawn as 1"
   ]
  },
  {
   "cell_type": "code",
   "execution_count": 135,
   "metadata": {},
   "outputs": [],
   "source": [
    "def CW_by_nurse(row):\n",
    "    if row['status']=='withdrawn' and row['prevStatus'] == 'confirmed':\n",
    "        if row['withdrawnInfo_value'] == 'nurse':\n",
    "            if row['CW_Time2Start_Time'] < 0 and row['CW_Time2Start_Time'] >= -24:\n",
    "                return 1\n",
    "            else:\n",
    "                return 0\n",
    "        else:\n",
    "            return 0\n",
    "    else:\n",
    "        return 0\n",
    "    \n",
    "df['target'] = df.apply (lambda row: CW_by_nurse(row), axis=1)"
   ]
  },
  {
   "cell_type": "code",
   "execution_count": 136,
   "metadata": {
    "scrolled": false
   },
   "outputs": [
    {
     "data": {
      "text/plain": [
       "0    165745\n",
       "1      4372\n",
       "Name: target, dtype: int64"
      ]
     },
     "execution_count": 136,
     "metadata": {},
     "output_type": "execute_result"
    }
   ],
   "source": [
    "df['target'].value_counts()"
   ]
  },
  {
   "cell_type": "markdown",
   "metadata": {},
   "source": [
    "### Count previsous shift application"
   ]
  },
  {
   "cell_type": "code",
   "execution_count": 137,
   "metadata": {},
   "outputs": [],
   "source": [
    "# track by using dictionary\n",
    "count_prev_SA = []\n",
    "test = df[['user_id', 'createdAt']]\n",
    "\n",
    "# create SA dictionary, set all value = 0 -> dramatically reduce computational cost\n",
    "uid_library = list(pd.unique(test['user_id']))\n",
    "sa_dict = {} \n",
    "for uid in uid_library:\n",
    "    sa_dict.update({uid: 0}) \n",
    "    \n",
    "for i, v in enumerate(test['user_id']):\n",
    "    sa_dict[v] += 1\n",
    "    count_prev_SA.append(sa_dict[v]-1)\n",
    " \n",
    "df['count_prev_SA'] = count_prev_SA"
   ]
  },
  {
   "cell_type": "markdown",
   "metadata": {},
   "source": [
    "### Count previsous urgent withdrawns"
   ]
  },
  {
   "cell_type": "code",
   "execution_count": 138,
   "metadata": {},
   "outputs": [],
   "source": [
    "# track by using dictionary\n",
    "count_prev_CW = []\n",
    "test = df[['user_id', 'count_prev_SA', 'createdAt', 'target']]\n",
    "\n",
    "# create cw dictionary, set all value = 0 -> dramatically reduce computational cost\n",
    "uid_library = list(pd.unique(test['user_id']))\n",
    "cw_dict = {} \n",
    "for uid in uid_library:\n",
    "    cw_dict.update({uid: 0}) \n",
    "    \n",
    "# fill dictionary and fill cw count\n",
    "for i, v in enumerate(test['user_id']):\n",
    "    if test['target'][i] == 1:\n",
    "        cw_dict[v] += 1\n",
    "        count_prev_CW.append(cw_dict[v]-1)\n",
    "    else:\n",
    "        count_prev_CW.append(cw_dict[v])\n",
    "        \n",
    "df['count_prev_CW'] = count_prev_CW"
   ]
  },
  {
   "cell_type": "markdown",
   "metadata": {},
   "source": [
    "### Count previsous urgent withdrawns/Count previsous shift applications"
   ]
  },
  {
   "cell_type": "code",
   "execution_count": 139,
   "metadata": {},
   "outputs": [],
   "source": [
    "df['prev_CW/SA_rate'] = df['count_prev_CW']/df['count_prev_SA']\n",
    "\n",
    "# fill nan with 0, happend bc 0/0, meaning rate = 0\n",
    "df['prev_CW/SA_rate'].fillna(0,inplace=True)"
   ]
  },
  {
   "cell_type": "markdown",
   "metadata": {},
   "source": [
    "### Type dummy: RN = 1, LVN + LPN = 2, rest = 0\n"
   ]
  },
  {
   "cell_type": "code",
   "execution_count": 140,
   "metadata": {},
   "outputs": [],
   "source": [
    "def create_type_dummy(row):\n",
    "    if row['type']=='RN':\n",
    "        return 2\n",
    "    elif row['type'] == 'LVN' or row['type'] == 'LPN':\n",
    "        return 1\n",
    "    else:\n",
    "        return 0\n",
    "    \n",
    "df['type_d'] = df.apply(lambda row: create_type_dummy(row), axis=1)"
   ]
  },
  {
   "cell_type": "markdown",
   "metadata": {},
   "source": [
    "### Type dummy: Senior Living, Healthcare"
   ]
  },
  {
   "cell_type": "code",
   "execution_count": 141,
   "metadata": {},
   "outputs": [],
   "source": [
    "def create_segmentName_dummy(row):\n",
    "    if row['segmentName']=='Senior Living':\n",
    "        return 1\n",
    "    else:\n",
    "        return 0\n",
    "    \n",
    "df['segmentName_d'] = df.apply(lambda row: create_segmentName_dummy(row), axis=1)"
   ]
  },
  {
   "cell_type": "markdown",
   "metadata": {},
   "source": [
    "### <font color = green>output feature dataframe"
   ]
  },
  {
   "cell_type": "code",
   "execution_count": 142,
   "metadata": {},
   "outputs": [],
   "source": [
    "feature_df = df[['prev_CW/SA_rate','S_create2SA_Create','S_Create2Start_Time','SA_Create2Start_Time','U_create2now',\n",
    "                 'U_approve2now', 'type_d','segmentName_d','net_pay','target', 'createdAt', 'start_time']]\n",
    "feature_df.to_csv('model_data.csv')"
   ]
  },
  {
   "cell_type": "code",
   "execution_count": 109,
   "metadata": {},
   "outputs": [],
   "source": [
    "# def profit_calculation(model, x_value, y_value):\n",
    "#     d_cutoff = 1/2\n",
    "\n",
    "#     decision = list(model.predict_proba(x_value)[:,1] < d_cutoff)   \n",
    "#     decision = list(model.predict(x_value))\n",
    "#     y = list(y_value)\n",
    "#     n_obs = len(y)\n",
    "\n",
    "#     cum_profit = 0\n",
    "\n",
    "#     for i in range(n_obs):\n",
    "#         if decision[i] == True and y[i] == 1: \n",
    "#             profit = 0 \n",
    "#         elif decision[i] == True and y[i] == 0: \n",
    "#             profit = 8 \n",
    "#         elif decision[i] == False and y[i] == 1: \n",
    "#             profit = -2\n",
    "#         else:\n",
    "#             profit = 10 \n",
    "#         cum_profit = cum_profit + profit \n",
    "\n",
    "#     average_net_profit = cum_profit / n_obs \n",
    "#     return average_net_profit"
   ]
  },
  {
   "cell_type": "code",
   "execution_count": null,
   "metadata": {},
   "outputs": [],
   "source": []
  }
 ],
 "metadata": {
  "kernelspec": {
   "display_name": "Python 3",
   "language": "python",
   "name": "python3"
  },
  "language_info": {
   "codemirror_mode": {
    "name": "ipython",
    "version": 3
   },
   "file_extension": ".py",
   "mimetype": "text/x-python",
   "name": "python",
   "nbconvert_exporter": "python",
   "pygments_lexer": "ipython3",
   "version": "3.8.3"
  }
 },
 "nbformat": 4,
 "nbformat_minor": 4
}
