{
 "cells": [
  {
   "cell_type": "markdown",
   "metadata": {},
   "source": [
    "## Target- urgent withdrawn by nurse(within 24hr)\n",
    "* shift_applications status == 'cancelled' + shift_application prevStatus == 'confirmed'\n",
    "\n",
    "\n",
    "### IDs -> only look at shifts application, leave each shifts after\n",
    "* shift_applications id\n",
    "* shift_applications user_id\n",
    "* shift_applications shift_id\n",
    "\n",
    "\n",
    "### Numeric Field\n",
    "* shifts rate\n",
    "* shifts net_pay: rate - nursedash profit\n",
    "* shift_applications distance\n",
    "* shift break time\n",
    "* user withdrawn times: \n",
    "    Problem: \n",
    "        1. We don't know in reality that you will withdraw your previous one.\n",
    "        2. cannot be used to predict new user\n",
    "* user applied times:\n",
    "* <b>prev SA/CW rate<b/>\n",
    "\n",
    "\n",
    "## Time\n",
    "### shift, shift app time\n",
    "* S_Create (shift created) => SA_Create (application created) => CWTime (comfim withdrawn) => Start_Time (shift start)\n",
    "* S_Create: shift create time\n",
    "* SA_Create: shift application create time\n",
    "* CWTime: shift withdrawn time, whole confirmed withdrawn population (include within 24hr and > 24hr)\n",
    "* Start_Time: shift start time\n",
    "##### calculated field, graph in hours\n",
    "* <b>S_Create2SA_Create<b/>: shift application create time - shift create time\n",
    "* <b>S_Create2Start_Time<b/>: shift start time - shift create time\n",
    "        1. has negative values. delete maybe?\n",
    "* <b>SA_Create2Start_Time<b/>: shift start time - shift application create time\n",
    "        1. has negative values. delete maybe?\n",
    "\n",
    "### User\n",
    "* user approvedAt:\n",
    "* user createdAt:\n",
    "#### Calculated field\n",
    "* U_Create2U_approved: User approve time - User create time\n",
    "* <b>U_Create2now<b/>: now - User create time, in months(seconds/2629746)\n",
    "* <b>U_Approve2now<b/>: now - User approve time\n",
    "\n",
    "\n",
    "### Categorical\n",
    "* shifts role: position name + type\n",
    "* facilities name = facilities short_name\n",
    "* facilities areaId = facilities areaName\n",
    "* withdrawnInfo_key, withdrawnInfo_value\n",
    "* facilities segmentName: Senior Living = 1, Healthcare = 0\n",
    "* Users enableNotifications:\n",
    "* Users emailNotifications:\n",
    "* Users appNotifications:\n",
    "* Users allowedNotifications:\n",
    "\n",
    "\n",
    "### ?\n",
    "* facilities allowedQualification\n",
    "* facilities createdAt\n",
    "* facilities rates\n",
    "* nurse shift withdrawn by admin, when policy start, how many withdrawn by admin\n",
    "* shifts = unit\n",
    "* role\n",
    "* users updateAt ?\n",
    "* users relationToFacility"
   ]
  },
  {
   "cell_type": "markdown",
   "metadata": {},
   "source": [
    "# Data Cleaning"
   ]
  },
  {
   "cell_type": "code",
   "execution_count": 28,
   "metadata": {},
   "outputs": [
    {
     "data": {
      "text/plain": [
       "Index(['Unnamed: 0', 'id', 'user_id', 'shift_id', 'status', 'createdAt',\n",
       "       'hasNurseCheckEvent', 'hasBreakTime', 'prevStatus', 'distance', 'id.1',\n",
       "       'facility_id', 'description', 'start_time', 'assigned_nurse_id', 'rate',\n",
       "       'net_pay', 'unit', 'type', 'createdAt.1', 'qualifications', 'breakTime',\n",
       "       'prevStatus.1', 'id.2', 'name', 'short_name', 'createdAt.2', 'rates',\n",
       "       'S_Create', 'SA_Create', 'S_create2SA_Create', 'Start_Time',\n",
       "       'SA_Create2Start_Time', 'S_Create2Start_Time', 'CW_Time',\n",
       "       'CW_Time2Start_Time', 'SA_Create2CW_Time', 'S_Create2CW_Time',\n",
       "       'allowedQualifications', 'areaId', 'areaName', 'segmentName',\n",
       "       'U_create2now', 'U_approve2now', 'U_create2U_approve',\n",
       "       'withdrawnInfo_key', 'withdrawnInfo_value', 'tar'],\n",
       "      dtype='object')"
      ]
     },
     "execution_count": 28,
     "metadata": {},
     "output_type": "execute_result"
    }
   ],
   "source": [
    "import pandas as pd\n",
    "import numpy as np\n",
    "df = pd.read_csv('main.csv')\n",
    "df.columns"
   ]
  },
  {
   "cell_type": "code",
   "execution_count": 29,
   "metadata": {},
   "outputs": [
    {
     "data": {
      "text/plain": [
       "(169654, 48)"
      ]
     },
     "execution_count": 29,
     "metadata": {},
     "output_type": "execute_result"
    }
   ],
   "source": [
    "df.shape"
   ]
  },
  {
   "cell_type": "code",
   "execution_count": 30,
   "metadata": {},
   "outputs": [],
   "source": [
    "#df['tar'] = df.apply(lambda x: 1 if x['status'] == 'withdrawn' and x['prevStatus'] == 'confirmed' and x['withdrawnInfo_value'] == 'nurse' and df['CW_Time2Start_Time'] > -24 else 0, axis =1)"
   ]
  },
  {
   "cell_type": "code",
   "execution_count": 31,
   "metadata": {},
   "outputs": [],
   "source": [
    "def CW_by_nurse(row):\n",
    "    if row['status']=='withdrawn' and row['prevStatus'] == 'confirmed':\n",
    "        if row['withdrawnInfo_value'] == 'nurse':\n",
    "            if row['CW_Time2Start_Time'] < 0 and row['CW_Time2Start_Time'] >= -24:\n",
    "                return 1\n",
    "            else:\n",
    "                return 0\n",
    "        else:\n",
    "            return 0\n",
    "    else:\n",
    "        return 0\n",
    "    \n",
    "df['target'] = df.apply (lambda row: CW_by_nurse(row), axis=1)"
   ]
  },
  {
   "cell_type": "code",
   "execution_count": 32,
   "metadata": {},
   "outputs": [
    {
     "data": {
      "text/plain": [
       "0    165284\n",
       "1      4370\n",
       "Name: target, dtype: int64"
      ]
     },
     "execution_count": 32,
     "metadata": {},
     "output_type": "execute_result"
    }
   ],
   "source": [
    "df['target'].value_counts()"
   ]
  },
  {
   "cell_type": "code",
   "execution_count": 33,
   "metadata": {},
   "outputs": [],
   "source": [
    "# There are some negative numbers in this column. Not very much. \n",
    "# I think we need to delete these data entries since it make it impossible to nurse to apply on time.\n",
    "\n",
    "df = df[(df[\"S_Create2Start_Time\"]>0) & (df[\"SA_Create2Start_Time\"]>0)]"
   ]
  },
  {
   "cell_type": "code",
   "execution_count": 34,
   "metadata": {},
   "outputs": [],
   "source": [
    "# df2 is a sorted version of df1, data is exactly the same\n",
    "df1 = df.set_index(['user_id','id'])\n",
    "df2 = df1.sort_index()\n",
    "df2 = df2.reset_index()"
   ]
  },
  {
   "cell_type": "code",
   "execution_count": 35,
   "metadata": {},
   "outputs": [],
   "source": [
    "def count_prev_SA(df):\n",
    "    count_prev_SA = []\n",
    "    id_number = 0\n",
    "    count = 0\n",
    "    user_id = list(df2['user_id'])\n",
    "    for i in user_id:\n",
    "        if id_number == i:\n",
    "            count += 1\n",
    "            count_prev_SA.append(count)\n",
    "            id_number = i\n",
    "        else:\n",
    "            count = 0\n",
    "            count_prev_SA.append(count)\n",
    "            id_number = i\n",
    "    return count_prev_SA\n",
    "\n",
    "        \n",
    "df2['count_prev_SA'] = count_prev_SA(df2)"
   ]
  },
  {
   "cell_type": "code",
   "execution_count": 36,
   "metadata": {},
   "outputs": [],
   "source": [
    "def count_prev_CW(df):\n",
    "    count_prev_CW = []\n",
    "    id_number = 0\n",
    "    count = 0\n",
    "    user_id = list(df2['user_id'])\n",
    "    urgent_CW = list(df2['target'])\n",
    "    for i,v in enumerate(user_id):\n",
    "        if id_number == v:\n",
    "            count_prev_CW.append(count)\n",
    "            if urgent_CW[i] == 1:\n",
    "                count += 1\n",
    "            id_number = v\n",
    "        else:\n",
    "            count = 0\n",
    "            count_prev_CW.append(count)\n",
    "            if urgent_CW[i] == 1:\n",
    "                count += 1\n",
    "            id_number = v\n",
    "    return count_prev_CW\n",
    "\n",
    "        \n",
    "df2['count_prev_CW'] = count_prev_CW(df2)"
   ]
  },
  {
   "cell_type": "code",
   "execution_count": 37,
   "metadata": {},
   "outputs": [],
   "source": [
    "df2['prev_CW/SA_rate'] = df2['count_prev_CW']/df2['count_prev_SA']\n",
    "df2['prev_CW/SA_rate'].fillna(0,inplace=True)"
   ]
  },
  {
   "cell_type": "code",
   "execution_count": 38,
   "metadata": {},
   "outputs": [
    {
     "data": {
      "text/html": [
       "<div>\n",
       "<style scoped>\n",
       "    .dataframe tbody tr th:only-of-type {\n",
       "        vertical-align: middle;\n",
       "    }\n",
       "\n",
       "    .dataframe tbody tr th {\n",
       "        vertical-align: top;\n",
       "    }\n",
       "\n",
       "    .dataframe thead th {\n",
       "        text-align: right;\n",
       "    }\n",
       "</style>\n",
       "<table border=\"1\" class=\"dataframe\">\n",
       "  <thead>\n",
       "    <tr style=\"text-align: right;\">\n",
       "      <th></th>\n",
       "      <th>user_id</th>\n",
       "      <th>id</th>\n",
       "      <th>Unnamed: 0</th>\n",
       "      <th>shift_id</th>\n",
       "      <th>status</th>\n",
       "      <th>createdAt</th>\n",
       "      <th>hasNurseCheckEvent</th>\n",
       "      <th>hasBreakTime</th>\n",
       "      <th>prevStatus</th>\n",
       "      <th>distance</th>\n",
       "      <th>...</th>\n",
       "      <th>U_create2now</th>\n",
       "      <th>U_approve2now</th>\n",
       "      <th>U_create2U_approve</th>\n",
       "      <th>withdrawnInfo_key</th>\n",
       "      <th>withdrawnInfo_value</th>\n",
       "      <th>tar</th>\n",
       "      <th>target</th>\n",
       "      <th>count_prev_SA</th>\n",
       "      <th>count_prev_CW</th>\n",
       "      <th>prev_CW/SA_rate</th>\n",
       "    </tr>\n",
       "  </thead>\n",
       "  <tbody>\n",
       "    <tr>\n",
       "      <th>0</th>\n",
       "      <td>18</td>\n",
       "      <td>29072</td>\n",
       "      <td>650</td>\n",
       "      <td>12460</td>\n",
       "      <td>applied</td>\n",
       "      <td>2019-09-11 17:58:36.854268</td>\n",
       "      <td>f</td>\n",
       "      <td>f</td>\n",
       "      <td>withdrawn</td>\n",
       "      <td>NaN</td>\n",
       "      <td>...</td>\n",
       "      <td>31.27281</td>\n",
       "      <td>24.076044</td>\n",
       "      <td>219.04706</td>\n",
       "      <td>NaN</td>\n",
       "      <td>NaN</td>\n",
       "      <td>0</td>\n",
       "      <td>0</td>\n",
       "      <td>0</td>\n",
       "      <td>0</td>\n",
       "      <td>0.0</td>\n",
       "    </tr>\n",
       "    <tr>\n",
       "      <th>1</th>\n",
       "      <td>18</td>\n",
       "      <td>29706</td>\n",
       "      <td>1473</td>\n",
       "      <td>12685</td>\n",
       "      <td>applied</td>\n",
       "      <td>2019-09-16 16:19:11.890038</td>\n",
       "      <td>f</td>\n",
       "      <td>f</td>\n",
       "      <td>NaN</td>\n",
       "      <td>NaN</td>\n",
       "      <td>...</td>\n",
       "      <td>31.27281</td>\n",
       "      <td>24.076044</td>\n",
       "      <td>219.04706</td>\n",
       "      <td>NaN</td>\n",
       "      <td>NaN</td>\n",
       "      <td>0</td>\n",
       "      <td>0</td>\n",
       "      <td>1</td>\n",
       "      <td>0</td>\n",
       "      <td>0.0</td>\n",
       "    </tr>\n",
       "    <tr>\n",
       "      <th>2</th>\n",
       "      <td>18</td>\n",
       "      <td>36042</td>\n",
       "      <td>9226</td>\n",
       "      <td>15920</td>\n",
       "      <td>confirmed</td>\n",
       "      <td>2019-10-29 01:59:31.169775</td>\n",
       "      <td>t</td>\n",
       "      <td>f</td>\n",
       "      <td>selected</td>\n",
       "      <td>NaN</td>\n",
       "      <td>...</td>\n",
       "      <td>31.27281</td>\n",
       "      <td>24.076044</td>\n",
       "      <td>219.04706</td>\n",
       "      <td>NaN</td>\n",
       "      <td>NaN</td>\n",
       "      <td>0</td>\n",
       "      <td>0</td>\n",
       "      <td>2</td>\n",
       "      <td>0</td>\n",
       "      <td>0.0</td>\n",
       "    </tr>\n",
       "    <tr>\n",
       "      <th>3</th>\n",
       "      <td>18</td>\n",
       "      <td>40273</td>\n",
       "      <td>14136</td>\n",
       "      <td>17541</td>\n",
       "      <td>confirmed</td>\n",
       "      <td>2019-11-18 20:14:34.591996</td>\n",
       "      <td>t</td>\n",
       "      <td>t</td>\n",
       "      <td>selected</td>\n",
       "      <td>NaN</td>\n",
       "      <td>...</td>\n",
       "      <td>31.27281</td>\n",
       "      <td>24.076044</td>\n",
       "      <td>219.04706</td>\n",
       "      <td>NaN</td>\n",
       "      <td>NaN</td>\n",
       "      <td>0</td>\n",
       "      <td>0</td>\n",
       "      <td>3</td>\n",
       "      <td>0</td>\n",
       "      <td>0.0</td>\n",
       "    </tr>\n",
       "    <tr>\n",
       "      <th>4</th>\n",
       "      <td>18</td>\n",
       "      <td>40656</td>\n",
       "      <td>14639</td>\n",
       "      <td>17809</td>\n",
       "      <td>interested</td>\n",
       "      <td>2019-11-20 03:53:30.618811</td>\n",
       "      <td>f</td>\n",
       "      <td>f</td>\n",
       "      <td>applied</td>\n",
       "      <td>NaN</td>\n",
       "      <td>...</td>\n",
       "      <td>31.27281</td>\n",
       "      <td>24.076044</td>\n",
       "      <td>219.04706</td>\n",
       "      <td>NaN</td>\n",
       "      <td>NaN</td>\n",
       "      <td>0</td>\n",
       "      <td>0</td>\n",
       "      <td>4</td>\n",
       "      <td>0</td>\n",
       "      <td>0.0</td>\n",
       "    </tr>\n",
       "  </tbody>\n",
       "</table>\n",
       "<p>5 rows × 52 columns</p>\n",
       "</div>"
      ],
      "text/plain": [
       "   user_id     id  Unnamed: 0  shift_id      status  \\\n",
       "0       18  29072         650     12460     applied   \n",
       "1       18  29706        1473     12685     applied   \n",
       "2       18  36042        9226     15920   confirmed   \n",
       "3       18  40273       14136     17541   confirmed   \n",
       "4       18  40656       14639     17809  interested   \n",
       "\n",
       "                    createdAt hasNurseCheckEvent hasBreakTime prevStatus  \\\n",
       "0  2019-09-11 17:58:36.854268                  f            f  withdrawn   \n",
       "1  2019-09-16 16:19:11.890038                  f            f        NaN   \n",
       "2  2019-10-29 01:59:31.169775                  t            f   selected   \n",
       "3  2019-11-18 20:14:34.591996                  t            t   selected   \n",
       "4  2019-11-20 03:53:30.618811                  f            f    applied   \n",
       "\n",
       "   distance  ...  U_create2now  U_approve2now U_create2U_approve  \\\n",
       "0       NaN  ...      31.27281      24.076044          219.04706   \n",
       "1       NaN  ...      31.27281      24.076044          219.04706   \n",
       "2       NaN  ...      31.27281      24.076044          219.04706   \n",
       "3       NaN  ...      31.27281      24.076044          219.04706   \n",
       "4       NaN  ...      31.27281      24.076044          219.04706   \n",
       "\n",
       "  withdrawnInfo_key  withdrawnInfo_value  tar  target  count_prev_SA  \\\n",
       "0               NaN                  NaN    0       0              0   \n",
       "1               NaN                  NaN    0       0              1   \n",
       "2               NaN                  NaN    0       0              2   \n",
       "3               NaN                  NaN    0       0              3   \n",
       "4               NaN                  NaN    0       0              4   \n",
       "\n",
       "  count_prev_CW prev_CW/SA_rate  \n",
       "0             0             0.0  \n",
       "1             0             0.0  \n",
       "2             0             0.0  \n",
       "3             0             0.0  \n",
       "4             0             0.0  \n",
       "\n",
       "[5 rows x 52 columns]"
      ]
     },
     "execution_count": 38,
     "metadata": {},
     "output_type": "execute_result"
    }
   ],
   "source": [
    "df2.head(5)"
   ]
  },
  {
   "cell_type": "code",
   "execution_count": 39,
   "metadata": {},
   "outputs": [
    {
     "data": {
      "text/plain": [
       "0         0.000000\n",
       "1         0.000000\n",
       "2         0.000000\n",
       "3         0.000000\n",
       "4         0.000000\n",
       "            ...   \n",
       "167718    0.666667\n",
       "167719    0.500000\n",
       "167720    0.000000\n",
       "167721    0.000000\n",
       "167722    0.000000\n",
       "Name: prev_CW/SA_rate, Length: 167723, dtype: float64"
      ]
     },
     "execution_count": 39,
     "metadata": {},
     "output_type": "execute_result"
    }
   ],
   "source": [
    "df2['prev_CW/SA_rate']"
   ]
  },
  {
   "cell_type": "code",
   "execution_count": 40,
   "metadata": {},
   "outputs": [],
   "source": [
    "# create type dummy: RN = 1, LVN + LPN = 2, rest = 0\n",
    "def create_type_dummy(row):\n",
    "    if row['type']=='RN':\n",
    "        return 2\n",
    "    elif row['type'] == 'LVN' or row['type'] == 'LPN':\n",
    "        return 1\n",
    "    else:\n",
    "        return 0\n",
    "    \n",
    "df2['type_d'] = df2.apply(lambda row: create_type_dummy(row), axis=1)"
   ]
  },
  {
   "cell_type": "code",
   "execution_count": 42,
   "metadata": {},
   "outputs": [],
   "source": [
    "# create type dummy: Senior Living, Healthcare\n",
    "def create_segmentName_dummy(row):\n",
    "    if row['segmentName']=='Senior Living':\n",
    "        return 1\n",
    "    else:\n",
    "        return 0\n",
    "    \n",
    "df2['segmentName_d'] = df2.apply(lambda row: create_segmentName_dummy(row), axis=1)"
   ]
  },
  {
   "cell_type": "code",
   "execution_count": 43,
   "metadata": {},
   "outputs": [],
   "source": [
    "from sklearn import preprocessing\n",
    " \n",
    "# standardization of dependent variables\n",
    "df2['prev_CW/SA_rate'] = preprocessing.scale(df2['prev_CW/SA_rate'])\n",
    "df2['S_create2SA_Create'] = preprocessing.scale(df2['S_create2SA_Create'])\n",
    "df2['S_Create2Start_Time'] = preprocessing.scale(df2['S_Create2Start_Time'])\n",
    "df2['SA_Create2Start_Time'] = preprocessing.scale(df2['SA_Create2Start_Time'])\n",
    "df2['U_create2now'] = preprocessing.scale(df2['U_create2now'])\n",
    "df2['U_approve2now'] = preprocessing.scale(df2['U_approve2now'])\n"
   ]
  },
  {
   "cell_type": "code",
   "execution_count": 47,
   "metadata": {},
   "outputs": [],
   "source": [
    "df2['net_pay'] = preprocessing.scale(df2['net_pay'])"
   ]
  },
  {
   "cell_type": "code",
   "execution_count": 57,
   "metadata": {},
   "outputs": [],
   "source": [
    "df3 = df2[['prev_CW/SA_rate','S_create2SA_Create','S_Create2Start_Time','SA_Create2Start_Time','U_create2now',\n",
    "          'U_approve2now', 'type_d','segmentName_d','net_pay','target']]"
   ]
  },
  {
   "cell_type": "code",
   "execution_count": 69,
   "metadata": {},
   "outputs": [],
   "source": [
    "import random\n",
    "df3_tar = df3[df3['target']==1]\n",
    "df3_nontar = df3[df3['target']==0]\n",
    "\n",
    "number_of_tar = df3_tar.shape[0]\n",
    "random_indices = random.sample(range(len(df3_nontar)), int(number_of_tar))\n",
    "df3_nontar = df3_nontar[df3_nontar.index.isin(random_indices)]"
   ]
  },
  {
   "cell_type": "code",
   "execution_count": 72,
   "metadata": {},
   "outputs": [
    {
     "data": {
      "text/html": [
       "<div>\n",
       "<style scoped>\n",
       "    .dataframe tbody tr th:only-of-type {\n",
       "        vertical-align: middle;\n",
       "    }\n",
       "\n",
       "    .dataframe tbody tr th {\n",
       "        vertical-align: top;\n",
       "    }\n",
       "\n",
       "    .dataframe thead th {\n",
       "        text-align: right;\n",
       "    }\n",
       "</style>\n",
       "<table border=\"1\" class=\"dataframe\">\n",
       "  <thead>\n",
       "    <tr style=\"text-align: right;\">\n",
       "      <th></th>\n",
       "      <th>prev_CW/SA_rate</th>\n",
       "      <th>S_create2SA_Create</th>\n",
       "      <th>S_Create2Start_Time</th>\n",
       "      <th>SA_Create2Start_Time</th>\n",
       "      <th>U_create2now</th>\n",
       "      <th>U_approve2now</th>\n",
       "      <th>type_d</th>\n",
       "      <th>segmentName_d</th>\n",
       "      <th>net_pay</th>\n",
       "      <th>target</th>\n",
       "    </tr>\n",
       "  </thead>\n",
       "  <tbody>\n",
       "    <tr>\n",
       "      <th>25</th>\n",
       "      <td>-0.509372</td>\n",
       "      <td>-0.601104</td>\n",
       "      <td>-1.019572</td>\n",
       "      <td>-0.845731</td>\n",
       "      <td>2.476429</td>\n",
       "      <td>1.843621</td>\n",
       "      <td>0</td>\n",
       "      <td>1</td>\n",
       "      <td>-0.492448</td>\n",
       "      <td>0</td>\n",
       "    </tr>\n",
       "    <tr>\n",
       "      <th>57</th>\n",
       "      <td>-0.509372</td>\n",
       "      <td>-0.600347</td>\n",
       "      <td>-1.024161</td>\n",
       "      <td>-0.852933</td>\n",
       "      <td>2.476451</td>\n",
       "      <td>1.833457</td>\n",
       "      <td>2</td>\n",
       "      <td>1</td>\n",
       "      <td>2.232591</td>\n",
       "      <td>0</td>\n",
       "    </tr>\n",
       "    <tr>\n",
       "      <th>104</th>\n",
       "      <td>-0.509372</td>\n",
       "      <td>-0.601422</td>\n",
       "      <td>-1.086280</td>\n",
       "      <td>-0.939331</td>\n",
       "      <td>2.476443</td>\n",
       "      <td>1.833448</td>\n",
       "      <td>2</td>\n",
       "      <td>0</td>\n",
       "      <td>2.777599</td>\n",
       "      <td>0</td>\n",
       "    </tr>\n",
       "    <tr>\n",
       "      <th>132</th>\n",
       "      <td>-0.509372</td>\n",
       "      <td>-0.416732</td>\n",
       "      <td>-0.563582</td>\n",
       "      <td>-0.384905</td>\n",
       "      <td>2.476437</td>\n",
       "      <td>1.833442</td>\n",
       "      <td>2</td>\n",
       "      <td>1</td>\n",
       "      <td>3.322607</td>\n",
       "      <td>0</td>\n",
       "    </tr>\n",
       "    <tr>\n",
       "      <th>160</th>\n",
       "      <td>-0.131170</td>\n",
       "      <td>-0.382171</td>\n",
       "      <td>-0.847528</td>\n",
       "      <td>-0.818606</td>\n",
       "      <td>2.476437</td>\n",
       "      <td>1.833442</td>\n",
       "      <td>2</td>\n",
       "      <td>0</td>\n",
       "      <td>2.450594</td>\n",
       "      <td>0</td>\n",
       "    </tr>\n",
       "  </tbody>\n",
       "</table>\n",
       "</div>"
      ],
      "text/plain": [
       "     prev_CW/SA_rate  S_create2SA_Create  S_Create2Start_Time  \\\n",
       "25         -0.509372           -0.601104            -1.019572   \n",
       "57         -0.509372           -0.600347            -1.024161   \n",
       "104        -0.509372           -0.601422            -1.086280   \n",
       "132        -0.509372           -0.416732            -0.563582   \n",
       "160        -0.131170           -0.382171            -0.847528   \n",
       "\n",
       "     SA_Create2Start_Time  U_create2now  U_approve2now  type_d  segmentName_d  \\\n",
       "25              -0.845731      2.476429       1.843621       0              1   \n",
       "57              -0.852933      2.476451       1.833457       2              1   \n",
       "104             -0.939331      2.476443       1.833448       2              0   \n",
       "132             -0.384905      2.476437       1.833442       2              1   \n",
       "160             -0.818606      2.476437       1.833442       2              0   \n",
       "\n",
       "      net_pay  target  \n",
       "25  -0.492448       0  \n",
       "57   2.232591       0  \n",
       "104  2.777599       0  \n",
       "132  3.322607       0  \n",
       "160  2.450594       0  "
      ]
     },
     "execution_count": 72,
     "metadata": {},
     "output_type": "execute_result"
    }
   ],
   "source": [
    "df3_nontar.head(5)"
   ]
  },
  {
   "cell_type": "code",
   "execution_count": 81,
   "metadata": {},
   "outputs": [],
   "source": [
    "df4 = pd.concat([df3_tar, df3_nontar])\n",
    "\n",
    "def shuffle(df):     \n",
    "    df = df.reindex(np.random.permutation(df.index)).copy()\n",
    "    return df.reset_index(drop=True)\n",
    "\n",
    "df4 = shuffle(df4)"
   ]
  },
  {
   "cell_type": "code",
   "execution_count": 110,
   "metadata": {},
   "outputs": [
    {
     "data": {
      "text/plain": [
       "prev_CW/SA_rate         0\n",
       "S_create2SA_Create      0\n",
       "S_Create2Start_Time     0\n",
       "SA_Create2Start_Time    0\n",
       "U_create2now            0\n",
       "U_approve2now           2\n",
       "type_d                  0\n",
       "segmentName_d           0\n",
       "net_pay                 0\n",
       "target                  0\n",
       "dtype: int64"
      ]
     },
     "execution_count": 110,
     "metadata": {},
     "output_type": "execute_result"
    }
   ],
   "source": [
    "df4.isna().sum()"
   ]
  },
  {
   "cell_type": "code",
   "execution_count": 111,
   "metadata": {},
   "outputs": [],
   "source": [
    "df4.dropna(inplace=True)"
   ]
  },
  {
   "cell_type": "code",
   "execution_count": 112,
   "metadata": {},
   "outputs": [],
   "source": [
    "def summary_coef(model_object):\n",
    "    n_predictors = X.shape[1]\n",
    "    model_coef = pd.DataFrame(model_object.coef_.reshape(1,n_predictors),columns = X.columns.values)\n",
    "    model_coef['Intercept'] = model_object.intercept_\n",
    "    return (model_coef.transpose())"
   ]
  },
  {
   "cell_type": "code",
   "execution_count": 178,
   "metadata": {},
   "outputs": [],
   "source": [
    "from sklearn.model_selection import train_test_split\n",
    "\n",
    "#Splitting the data into our partitions will return two dataframes, so we must prep like so:\n",
    "testpart_size = .2\n",
    "df_partition = df\n",
    "\n",
    "df_nontestdata, df_testdata = train_test_split(df4, test_size = testpart_size, random_state = 1)"
   ]
  },
  {
   "cell_type": "code",
   "execution_count": 179,
   "metadata": {},
   "outputs": [
    {
     "name": "stdout",
     "output_type": "stream",
     "text": [
      "[19.99839981]\n"
     ]
    }
   ],
   "source": [
    "from sklearn.linear_model import LogisticRegression, LogisticRegressionCV\n",
    "\n",
    "X = df_nontestdata.drop(columns = ['target'])\n",
    "y = df_nontestdata['target']\n",
    "\n",
    "\n",
    "\n",
    "kfolds=5\n",
    "\n",
    "min_alpha = .01\n",
    "max_alpha = 100\n",
    "\n",
    "max_C = 1/min_alpha\n",
    "min_C = 1/max_alpha\n",
    "\n",
    "n_candidates = 5000\n",
    "c_list= list(np.linspace(min_C, max_C, num = n_candidates))\n",
    "\n",
    "#Plug in clf_optimal to our previous Logistic model to find the optimal predictors\n",
    "clf_optimal = LogisticRegressionCV(Cs = c_list,cv=kfolds, penalty = 'l1', scoring='roc_auc',solver='saga',max_iter=200, random_state=1, n_jobs = -1).fit(X,y)\n",
    "\n",
    "#Find the optimal selected alpha\n",
    "print(1/clf_optimal.C_)"
   ]
  },
  {
   "cell_type": "code",
   "execution_count": 180,
   "metadata": {},
   "outputs": [
    {
     "data": {
      "text/plain": [
       "LogisticRegressionCV(scoring='roc_auc')"
      ]
     },
     "execution_count": 180,
     "metadata": {},
     "output_type": "execute_result"
    }
   ],
   "source": [
    "logit = LogisticRegressionCV(scoring='roc_auc')\n",
    "logit.fit(X,y)"
   ]
  },
  {
   "cell_type": "code",
   "execution_count": 181,
   "metadata": {},
   "outputs": [],
   "source": [
    "X_test = df_testdata.drop(columns = ['target'])\n",
    "y_test = df_testdata['target']"
   ]
  },
  {
   "cell_type": "code",
   "execution_count": 182,
   "metadata": {},
   "outputs": [
    {
     "data": {
      "text/html": [
       "<div>\n",
       "<style scoped>\n",
       "    .dataframe tbody tr th:only-of-type {\n",
       "        vertical-align: middle;\n",
       "    }\n",
       "\n",
       "    .dataframe tbody tr th {\n",
       "        vertical-align: top;\n",
       "    }\n",
       "\n",
       "    .dataframe thead th {\n",
       "        text-align: right;\n",
       "    }\n",
       "</style>\n",
       "<table border=\"1\" class=\"dataframe\">\n",
       "  <thead>\n",
       "    <tr style=\"text-align: right;\">\n",
       "      <th></th>\n",
       "      <th>prev_CW/SA_rate</th>\n",
       "      <th>S_create2SA_Create</th>\n",
       "      <th>S_Create2Start_Time</th>\n",
       "      <th>SA_Create2Start_Time</th>\n",
       "      <th>U_create2now</th>\n",
       "      <th>U_approve2now</th>\n",
       "      <th>type_d</th>\n",
       "      <th>segmentName_d</th>\n",
       "      <th>net_pay</th>\n",
       "      <th>target</th>\n",
       "    </tr>\n",
       "  </thead>\n",
       "  <tbody>\n",
       "    <tr>\n",
       "      <th>2864</th>\n",
       "      <td>0.052774</td>\n",
       "      <td>-0.600296</td>\n",
       "      <td>0.151432</td>\n",
       "      <td>0.802048</td>\n",
       "      <td>-0.938854</td>\n",
       "      <td>-0.866202</td>\n",
       "      <td>1</td>\n",
       "      <td>1</td>\n",
       "      <td>1.578582</td>\n",
       "      <td>0</td>\n",
       "    </tr>\n",
       "    <tr>\n",
       "      <th>103</th>\n",
       "      <td>-0.509372</td>\n",
       "      <td>-0.560697</td>\n",
       "      <td>-0.233590</td>\n",
       "      <td>0.221100</td>\n",
       "      <td>-0.673818</td>\n",
       "      <td>-0.956654</td>\n",
       "      <td>0</td>\n",
       "      <td>1</td>\n",
       "      <td>-0.546949</td>\n",
       "      <td>0</td>\n",
       "    </tr>\n",
       "    <tr>\n",
       "      <th>642</th>\n",
       "      <td>0.604791</td>\n",
       "      <td>-0.601332</td>\n",
       "      <td>-0.223714</td>\n",
       "      <td>0.274924</td>\n",
       "      <td>1.036535</td>\n",
       "      <td>0.361507</td>\n",
       "      <td>2</td>\n",
       "      <td>1</td>\n",
       "      <td>2.014588</td>\n",
       "      <td>0</td>\n",
       "    </tr>\n",
       "    <tr>\n",
       "      <th>1956</th>\n",
       "      <td>-0.201730</td>\n",
       "      <td>0.109528</td>\n",
       "      <td>-0.132190</td>\n",
       "      <td>-0.294581</td>\n",
       "      <td>0.872800</td>\n",
       "      <td>0.692374</td>\n",
       "      <td>0</td>\n",
       "      <td>1</td>\n",
       "      <td>0.107060</td>\n",
       "      <td>1</td>\n",
       "    </tr>\n",
       "    <tr>\n",
       "      <th>6994</th>\n",
       "      <td>-0.097132</td>\n",
       "      <td>1.261404</td>\n",
       "      <td>0.490160</td>\n",
       "      <td>-0.550036</td>\n",
       "      <td>0.578857</td>\n",
       "      <td>0.783705</td>\n",
       "      <td>0</td>\n",
       "      <td>1</td>\n",
       "      <td>-0.601450</td>\n",
       "      <td>0</td>\n",
       "    </tr>\n",
       "    <tr>\n",
       "      <th>...</th>\n",
       "      <td>...</td>\n",
       "      <td>...</td>\n",
       "      <td>...</td>\n",
       "      <td>...</td>\n",
       "      <td>...</td>\n",
       "      <td>...</td>\n",
       "      <td>...</td>\n",
       "      <td>...</td>\n",
       "      <td>...</td>\n",
       "      <td>...</td>\n",
       "    </tr>\n",
       "    <tr>\n",
       "      <th>2423</th>\n",
       "      <td>-0.263991</td>\n",
       "      <td>-0.557376</td>\n",
       "      <td>-0.185849</td>\n",
       "      <td>0.285051</td>\n",
       "      <td>0.326545</td>\n",
       "      <td>0.510354</td>\n",
       "      <td>0</td>\n",
       "      <td>1</td>\n",
       "      <td>-0.465198</td>\n",
       "      <td>1</td>\n",
       "    </tr>\n",
       "    <tr>\n",
       "      <th>4211</th>\n",
       "      <td>-0.509372</td>\n",
       "      <td>-0.599126</td>\n",
       "      <td>-0.943298</td>\n",
       "      <td>-0.740293</td>\n",
       "      <td>0.721474</td>\n",
       "      <td>0.917475</td>\n",
       "      <td>0</td>\n",
       "      <td>1</td>\n",
       "      <td>-0.792203</td>\n",
       "      <td>0</td>\n",
       "    </tr>\n",
       "    <tr>\n",
       "      <th>871</th>\n",
       "      <td>-0.131170</td>\n",
       "      <td>4.175517</td>\n",
       "      <td>2.219387</td>\n",
       "      <td>-0.978441</td>\n",
       "      <td>0.578857</td>\n",
       "      <td>0.783705</td>\n",
       "      <td>0</td>\n",
       "      <td>1</td>\n",
       "      <td>-0.247195</td>\n",
       "      <td>0</td>\n",
       "    </tr>\n",
       "    <tr>\n",
       "      <th>6917</th>\n",
       "      <td>-0.509372</td>\n",
       "      <td>0.006471</td>\n",
       "      <td>-0.133692</td>\n",
       "      <td>-0.195455</td>\n",
       "      <td>-1.249747</td>\n",
       "      <td>-1.245924</td>\n",
       "      <td>1</td>\n",
       "      <td>1</td>\n",
       "      <td>0.815570</td>\n",
       "      <td>1</td>\n",
       "    </tr>\n",
       "    <tr>\n",
       "      <th>8464</th>\n",
       "      <td>0.575471</td>\n",
       "      <td>1.748917</td>\n",
       "      <td>1.424472</td>\n",
       "      <td>0.286376</td>\n",
       "      <td>1.107324</td>\n",
       "      <td>1.408569</td>\n",
       "      <td>0</td>\n",
       "      <td>1</td>\n",
       "      <td>-0.601450</td>\n",
       "      <td>1</td>\n",
       "    </tr>\n",
       "  </tbody>\n",
       "</table>\n",
       "<p>1725 rows × 10 columns</p>\n",
       "</div>"
      ],
      "text/plain": [
       "      prev_CW/SA_rate  S_create2SA_Create  S_Create2Start_Time  \\\n",
       "2864         0.052774           -0.600296             0.151432   \n",
       "103         -0.509372           -0.560697            -0.233590   \n",
       "642          0.604791           -0.601332            -0.223714   \n",
       "1956        -0.201730            0.109528            -0.132190   \n",
       "6994        -0.097132            1.261404             0.490160   \n",
       "...               ...                 ...                  ...   \n",
       "2423        -0.263991           -0.557376            -0.185849   \n",
       "4211        -0.509372           -0.599126            -0.943298   \n",
       "871         -0.131170            4.175517             2.219387   \n",
       "6917        -0.509372            0.006471            -0.133692   \n",
       "8464         0.575471            1.748917             1.424472   \n",
       "\n",
       "      SA_Create2Start_Time  U_create2now  U_approve2now  type_d  \\\n",
       "2864              0.802048     -0.938854      -0.866202       1   \n",
       "103               0.221100     -0.673818      -0.956654       0   \n",
       "642               0.274924      1.036535       0.361507       2   \n",
       "1956             -0.294581      0.872800       0.692374       0   \n",
       "6994             -0.550036      0.578857       0.783705       0   \n",
       "...                    ...           ...            ...     ...   \n",
       "2423              0.285051      0.326545       0.510354       0   \n",
       "4211             -0.740293      0.721474       0.917475       0   \n",
       "871              -0.978441      0.578857       0.783705       0   \n",
       "6917             -0.195455     -1.249747      -1.245924       1   \n",
       "8464              0.286376      1.107324       1.408569       0   \n",
       "\n",
       "      segmentName_d   net_pay  target  \n",
       "2864              1  1.578582       0  \n",
       "103               1 -0.546949       0  \n",
       "642               1  2.014588       0  \n",
       "1956              1  0.107060       1  \n",
       "6994              1 -0.601450       0  \n",
       "...             ...       ...     ...  \n",
       "2423              1 -0.465198       1  \n",
       "4211              1 -0.792203       0  \n",
       "871               1 -0.247195       0  \n",
       "6917              1  0.815570       1  \n",
       "8464              1 -0.601450       1  \n",
       "\n",
       "[1725 rows x 10 columns]"
      ]
     },
     "execution_count": 182,
     "metadata": {},
     "output_type": "execute_result"
    }
   ],
   "source": [
    "df_testdata"
   ]
  },
  {
   "cell_type": "code",
   "execution_count": 183,
   "metadata": {},
   "outputs": [],
   "source": [
    "y_prob = logit.predict_proba(X_test)\n",
    "y_pred= logit.predict(X_test)"
   ]
  },
  {
   "cell_type": "code",
   "execution_count": 184,
   "metadata": {},
   "outputs": [
    {
     "data": {
      "text/plain": [
       "0.6597101449275362"
      ]
     },
     "execution_count": 184,
     "metadata": {},
     "output_type": "execute_result"
    }
   ],
   "source": [
    "from sklearn.metrics import (auc, classification_report, roc_auc_score, accuracy_score,roc_curve)\n",
    "accuracy_score(y_test,y_pred)"
   ]
  },
  {
   "cell_type": "code",
   "execution_count": 185,
   "metadata": {},
   "outputs": [
    {
     "name": "stdout",
     "output_type": "stream",
     "text": [
      "0.6602649291674961\n"
     ]
    }
   ],
   "source": [
    "print(roc_auc_score(y_test, y_pred))"
   ]
  },
  {
   "cell_type": "code",
   "execution_count": 186,
   "metadata": {},
   "outputs": [
    {
     "name": "stdout",
     "output_type": "stream",
     "text": [
      "[[564 320]\n",
      " [267 574]]\n"
     ]
    }
   ],
   "source": [
    "from sklearn import metrics\n",
    "print(metrics.confusion_matrix(y_test, y_pred))"
   ]
  },
  {
   "cell_type": "code",
   "execution_count": 187,
   "metadata": {},
   "outputs": [],
   "source": [
    "# summary_coef(logit)"
   ]
  },
  {
   "cell_type": "code",
   "execution_count": 188,
   "metadata": {},
   "outputs": [],
   "source": [
    "import matplotlib.pyplot as plt\n",
    "def plot_roc(fpr, tpr, roc_auc):\n",
    "    \"\"\"Plots the ROC curve for the win probability model along with\n",
    "    the AUC.\n",
    "    \"\"\"\n",
    "    fig, ax = plt.subplots()\n",
    "    ax.set(title='Receiver Operating Characteristic',\n",
    "           xlim=[0, 1], ylim=[0, 1], xlabel='False Positive Rate',\n",
    "           ylabel='True Positive Rate')\n",
    "    ax.plot(fpr, tpr, 'b', label='AUC = %0.2f' % roc_auc)\n",
    "    ax.plot([0, 1], [0, 1], 'k--')\n",
    "    ax.legend(loc='lower right')"
   ]
  },
  {
   "cell_type": "code",
   "execution_count": 189,
   "metadata": {},
   "outputs": [
    {
     "data": {
      "image/png": "[encoded data removed]",
      "text/plain": [
       "<Figure size 432x288 with 1 Axes>"
      ]
     },
     "metadata": {
      "needs_background": "light"
     },
     "output_type": "display_data"
    }
   ],
   "source": [
    "fpr, tpr, thresholds = roc_curve(y_test.values, y_prob[:,1])\n",
    "roc_auc = auc(fpr, tpr)\n",
    "plot_roc(fpr, tpr, roc_auc)"
   ]
  },
  {
   "cell_type": "code",
   "execution_count": 190,
   "metadata": {},
   "outputs": [
    {
     "name": "stdout",
     "output_type": "stream",
     "text": [
      "Optimization terminated successfully.\n",
      "         Current function value: 0.655577\n",
      "         Iterations 5\n"
     ]
    },
    {
     "data": {
      "text/html": [
       "<table class=\"simpletable\">\n",
       "<caption>Logit Regression Results</caption>\n",
       "<tr>\n",
       "  <th>Dep. Variable:</th>        <td>target</td>      <th>  No. Observations:  </th>   <td>  6900</td>  \n",
       "</tr>\n",
       "<tr>\n",
       "  <th>Model:</th>                 <td>Logit</td>      <th>  Df Residuals:      </th>   <td>  6891</td>  \n",
       "</tr>\n",
       "<tr>\n",
       "  <th>Method:</th>                 <td>MLE</td>       <th>  Df Model:          </th>   <td>     8</td>  \n",
       "</tr>\n",
       "<tr>\n",
       "  <th>Date:</th>            <td>Tue, 16 Mar 2021</td> <th>  Pseudo R-squ.:     </th>   <td>0.05384</td> \n",
       "</tr>\n",
       "<tr>\n",
       "  <th>Time:</th>                <td>00:11:46</td>     <th>  Log-Likelihood:    </th>  <td> -4523.5</td> \n",
       "</tr>\n",
       "<tr>\n",
       "  <th>converged:</th>             <td>True</td>       <th>  LL-Null:           </th>  <td> -4780.9</td> \n",
       "</tr>\n",
       "<tr>\n",
       "  <th>Covariance Type:</th>     <td>nonrobust</td>    <th>  LLR p-value:       </th> <td>4.570e-106</td>\n",
       "</tr>\n",
       "</table>\n",
       "<table class=\"simpletable\">\n",
       "<tr>\n",
       "            <td></td>              <th>coef</th>     <th>std err</th>      <th>z</th>      <th>P>|z|</th>  <th>[0.025</th>    <th>0.975]</th>  \n",
       "</tr>\n",
       "<tr>\n",
       "  <th>prev_CW/SA_rate</th>      <td>    0.2976</td> <td>    0.031</td> <td>    9.582</td> <td> 0.000</td> <td>    0.237</td> <td>    0.358</td>\n",
       "</tr>\n",
       "<tr>\n",
       "  <th>S_create2SA_Create</th>   <td>    0.6726</td> <td>    1.225</td> <td>    0.549</td> <td> 0.583</td> <td>   -1.729</td> <td>    3.074</td>\n",
       "</tr>\n",
       "<tr>\n",
       "  <th>S_Create2Start_Time</th>  <td>   -0.9304</td> <td>    1.761</td> <td>   -0.528</td> <td> 0.597</td> <td>   -4.382</td> <td>    2.521</td>\n",
       "</tr>\n",
       "<tr>\n",
       "  <th>SA_Create2Start_Time</th> <td>    0.4970</td> <td>    1.247</td> <td>    0.398</td> <td> 0.690</td> <td>   -1.948</td> <td>    2.942</td>\n",
       "</tr>\n",
       "<tr>\n",
       "  <th>U_create2now</th>         <td>    0.1219</td> <td>    0.072</td> <td>    1.695</td> <td> 0.090</td> <td>   -0.019</td> <td>    0.263</td>\n",
       "</tr>\n",
       "<tr>\n",
       "  <th>U_approve2now</th>        <td>   -0.1611</td> <td>    0.072</td> <td>   -2.239</td> <td> 0.025</td> <td>   -0.302</td> <td>   -0.020</td>\n",
       "</tr>\n",
       "<tr>\n",
       "  <th>type_d</th>               <td>   -1.5463</td> <td>    0.103</td> <td>  -14.968</td> <td> 0.000</td> <td>   -1.749</td> <td>   -1.344</td>\n",
       "</tr>\n",
       "<tr>\n",
       "  <th>segmentName_d</th>        <td>    0.4212</td> <td>    0.036</td> <td>   11.727</td> <td> 0.000</td> <td>    0.351</td> <td>    0.492</td>\n",
       "</tr>\n",
       "<tr>\n",
       "  <th>net_pay</th>              <td>    0.9426</td> <td>    0.064</td> <td>   14.640</td> <td> 0.000</td> <td>    0.816</td> <td>    1.069</td>\n",
       "</tr>\n",
       "</table>"
      ],
      "text/plain": [
       "<class 'statsmodels.iolib.summary.Summary'>\n",
       "\"\"\"\n",
       "                           Logit Regression Results                           \n",
       "==============================================================================\n",
       "Dep. Variable:                 target   No. Observations:                 6900\n",
       "Model:                          Logit   Df Residuals:                     6891\n",
       "Method:                           MLE   Df Model:                            8\n",
       "Date:                Tue, 16 Mar 2021   Pseudo R-squ.:                 0.05384\n",
       "Time:                        00:11:46   Log-Likelihood:                -4523.5\n",
       "converged:                       True   LL-Null:                       -4780.9\n",
       "Covariance Type:            nonrobust   LLR p-value:                4.570e-106\n",
       "========================================================================================\n",
       "                           coef    std err          z      P>|z|      [0.025      0.975]\n",
       "----------------------------------------------------------------------------------------\n",
       "prev_CW/SA_rate          0.2976      0.031      9.582      0.000       0.237       0.358\n",
       "S_create2SA_Create       0.6726      1.225      0.549      0.583      -1.729       3.074\n",
       "S_Create2Start_Time     -0.9304      1.761     -0.528      0.597      -4.382       2.521\n",
       "SA_Create2Start_Time     0.4970      1.247      0.398      0.690      -1.948       2.942\n",
       "U_create2now             0.1219      0.072      1.695      0.090      -0.019       0.263\n",
       "U_approve2now           -0.1611      0.072     -2.239      0.025      -0.302      -0.020\n",
       "type_d                  -1.5463      0.103    -14.968      0.000      -1.749      -1.344\n",
       "segmentName_d            0.4212      0.036     11.727      0.000       0.351       0.492\n",
       "net_pay                  0.9426      0.064     14.640      0.000       0.816       1.069\n",
       "========================================================================================\n",
       "\"\"\""
      ]
     },
     "execution_count": 190,
     "metadata": {},
     "output_type": "execute_result"
    }
   ],
   "source": [
    "import statsmodels.api as sm\n",
    "smlogit = sm.Logit(y,X).fit()\n",
    "smlogit.summary()"
   ]
  },
  {
   "cell_type": "code",
   "execution_count": null,
   "metadata": {},
   "outputs": [],
   "source": []
  }
 ],
 "metadata": {
  "kernelspec": {
   "display_name": "Python 3",
   "language": "python",
   "name": "python3"
  },
  "language_info": {
   "codemirror_mode": {
    "name": "ipython",
    "version": 3
   },
   "file_extension": ".py",
   "mimetype": "text/x-python",
   "name": "python",
   "nbconvert_exporter": "python",
   "pygments_lexer": "ipython3",
   "version": "3.8.5"
  }
 },
 "nbformat": 4,
 "nbformat_minor": 4
}
