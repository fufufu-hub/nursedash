{
 "cells": [
  {
   "cell_type": "markdown",
   "metadata": {},
   "source": [
    "# Time Line\n",
    "### 3.16\n",
    "* ricardo: train model on whole dataset, add distance\n",
    "* yiqi: add distance, use randomforest, format current notebook"
   ]
  },
  {
   "cell_type": "markdown",
   "metadata": {},
   "source": [
    "## Target- urgent withdrawn by nurse(within 24hr)\n",
    "* shift_applications status == 'cancelled' + shift_application prevStatus == 'confirmed'\n",
    "\n",
    "\n",
    "### IDs -> only look at shifts application, leave each shifts after\n",
    "* shift_applications id\n",
    "* shift_applications user_id\n",
    "* shift_applications shift_id\n",
    "\n",
    "\n",
    "### Numeric Field\n",
    "* shifts rate\n",
    "* shifts net_pay: rate - nursedash profit\n",
    "* shift_applications distance\n",
    "* shift break time\n",
    "* user withdrawn times: \n",
    "    Problem: \n",
    "        1. We don't know in reality that you will withdraw your previous one.\n",
    "        2. cannot be used to predict new user\n",
    "* user applied times:\n",
    "* <b>prev SA/CW rate<b/>\n",
    "\n",
    "\n",
    "## Time\n",
    "### shift, shift app time\n",
    "* S_Create (shift created) => SA_Create (application created) => CWTime (comfim withdrawn) => Start_Time (shift start)\n",
    "* S_Create: shift create time\n",
    "* SA_Create: shift application create time\n",
    "* CWTime: shift withdrawn time, whole confirmed withdrawn population (include within 24hr and > 24hr)\n",
    "* Start_Time: shift start time\n",
    "##### calculated field, graph in hours\n",
    "* <b>S_Create2SA_Create<b/>: shift application create time - shift create time\n",
    "* <b>S_Create2Start_Time<b/>: shift start time - shift create time\n",
    "        1. has negative values. delete maybe?\n",
    "* <b>SA_Create2Start_Time<b/>: shift start time - shift application create time\n",
    "        1. has negative values. delete maybe?\n",
    "\n",
    "### User\n",
    "* user approvedAt:\n",
    "* user createdAt:\n",
    "#### Calculated field\n",
    "* U_Create2U_approved: User approve time - User create time\n",
    "* <b>U_Create2now<b/>: now - User create time, in months(seconds/2629746)\n",
    "* <b>U_Approve2now<b/>: now - User approve time\n",
    "\n",
    "\n",
    "### Categorical\n",
    "* shifts role: position name + type\n",
    "* facilities name = facilities short_name\n",
    "* facilities areaId = facilities areaName\n",
    "* withdrawnInfo_key, withdrawnInfo_value\n",
    "* facilities segmentName: Senior Living = 1, Healthcare = 0\n",
    "* Users enableNotifications:\n",
    "* Users emailNotifications:\n",
    "* Users appNotifications:\n",
    "* Users allowedNotifications:\n",
    "\n",
    "\n",
    "### ?\n",
    "* facilities allowedQualification\n",
    "* facilities createdAt\n",
    "* facilities rates\n",
    "* nurse shift withdrawn by admin, when policy start, how many withdrawn by admin\n",
    "* shifts = unit\n",
    "* role\n",
    "* users updateAt ?\n",
    "* users relationToFacility"
   ]
  },
  {
   "cell_type": "markdown",
   "metadata": {},
   "source": [
    "# Data Cleaning"
   ]
  },
  {
   "cell_type": "code",
   "execution_count": 281,
   "metadata": {},
   "outputs": [
    {
     "data": {
      "text/plain": [
       "Index(['id', 'user_id', 'shift_id', 'status', 'createdAt',\n",
       "       'hasNurseCheckEvent', 'hasBreakTime', 'prevStatus', 'distance', 'id.1',\n",
       "       'facility_id', 'description', 'start_time', 'assigned_nurse_id', 'rate',\n",
       "       'net_pay', 'unit', 'type', 'createdAt.1', 'qualifications', 'breakTime',\n",
       "       'prevStatus.1', 'id.2', 'name', 'short_name', 'createdAt.2', 'rates',\n",
       "       'S_Create', 'SA_Create', 'S_create2SA_Create', 'Start_Time',\n",
       "       'SA_Create2Start_Time', 'S_Create2Start_Time', 'CW_Time',\n",
       "       'CW_Time2Start_Time', 'SA_Create2CW_Time', 'S_Create2CW_Time',\n",
       "       'allowedQualifications', 'areaId', 'areaName', 'segmentName',\n",
       "       'U_create2now', 'U_approve2now', 'U_create2U_approve',\n",
       "       'withdrawnInfo_key', 'withdrawnInfo_value', 'tar'],\n",
       "      dtype='object')"
      ]
     },
     "execution_count": 281,
     "metadata": {},
     "output_type": "execute_result"
    }
   ],
   "source": [
    "import pandas as pd\n",
    "import numpy as np\n",
    "df = pd.read_csv('main.csv').drop(columns = ['Unnamed: 0'])\n",
    "df.columns"
   ]
  },
  {
   "cell_type": "code",
   "execution_count": 282,
   "metadata": {},
   "outputs": [
    {
     "data": {
      "text/plain": [
       "(169654, 47)"
      ]
     },
     "execution_count": 282,
     "metadata": {},
     "output_type": "execute_result"
    }
   ],
   "source": [
    "df.shape"
   ]
  },
  {
   "cell_type": "code",
   "execution_count": 283,
   "metadata": {},
   "outputs": [],
   "source": [
    "#df['tar'] = df.apply(lambda x: 1 if x['status'] == 'withdrawn' and x['prevStatus'] == 'confirmed' and x['withdrawnInfo_value'] == 'nurse' and df['CW_Time2Start_Time'] > -24 else 0, axis =1)"
   ]
  },
  {
   "cell_type": "code",
   "execution_count": 284,
   "metadata": {},
   "outputs": [],
   "source": [
    "def CW_by_nurse(row):\n",
    "    if row['status']=='withdrawn' and row['prevStatus'] == 'confirmed':\n",
    "        if row['withdrawnInfo_value'] == 'nurse':\n",
    "            if row['CW_Time2Start_Time'] < 0 and row['CW_Time2Start_Time'] >= -24:\n",
    "                return 1\n",
    "            else:\n",
    "                return 0\n",
    "        else:\n",
    "            return 0\n",
    "    else:\n",
    "        return 0\n",
    "    \n",
    "df['target'] = df.apply (lambda row: CW_by_nurse(row), axis=1)"
   ]
  },
  {
   "cell_type": "code",
   "execution_count": 285,
   "metadata": {},
   "outputs": [
    {
     "data": {
      "text/plain": [
       "0    165284\n",
       "1      4370\n",
       "Name: target, dtype: int64"
      ]
     },
     "execution_count": 285,
     "metadata": {},
     "output_type": "execute_result"
    }
   ],
   "source": [
    "df['target'].value_counts()"
   ]
  },
  {
   "cell_type": "code",
   "execution_count": 286,
   "metadata": {},
   "outputs": [],
   "source": [
    "# There are some negative numbers in this column. Not very much. \n",
    "# I think we need to delete these data entries since it make it impossible to nurse to apply on time.\n",
    "\n",
    "df = df[(df[\"S_Create2Start_Time\"]>0) & (df[\"SA_Create2Start_Time\"]>0)]"
   ]
  },
  {
   "cell_type": "code",
   "execution_count": 287,
   "metadata": {},
   "outputs": [],
   "source": [
    "# df2 is a sorted version of df1, data is exactly the same\n",
    "df1 = df.set_index(['user_id','id'])\n",
    "df2 = df1.sort_index()\n",
    "df2 = df2.reset_index()"
   ]
  },
  {
   "cell_type": "code",
   "execution_count": 288,
   "metadata": {},
   "outputs": [],
   "source": [
    "def count_prev_SA(df):\n",
    "    count_prev_SA = []\n",
    "    id_number = 0\n",
    "    count = 0\n",
    "    user_id = list(df2['user_id'])\n",
    "    for i in user_id:\n",
    "        if id_number == i:\n",
    "            count += 1\n",
    "            count_prev_SA.append(count)\n",
    "            id_number = i\n",
    "        else:\n",
    "            count = 0\n",
    "            count_prev_SA.append(count)\n",
    "            id_number = i\n",
    "    return count_prev_SA\n",
    "\n",
    "        \n",
    "df2['count_prev_SA'] = count_prev_SA(df2)"
   ]
  },
  {
   "cell_type": "code",
   "execution_count": 289,
   "metadata": {},
   "outputs": [],
   "source": [
    "def count_prev_CW(df):\n",
    "    count_prev_CW = []\n",
    "    id_number = 0\n",
    "    count = 0\n",
    "    user_id = list(df2['user_id'])\n",
    "    urgent_CW = list(df2['target'])\n",
    "    for i,v in enumerate(user_id):\n",
    "        if id_number == v:\n",
    "            count_prev_CW.append(count)\n",
    "            if urgent_CW[i] == 1:\n",
    "                count += 1\n",
    "            id_number = v\n",
    "        else:\n",
    "            count = 0\n",
    "            count_prev_CW.append(count)\n",
    "            if urgent_CW[i] == 1:\n",
    "                count += 1\n",
    "            id_number = v\n",
    "    return count_prev_CW\n",
    "\n",
    "        \n",
    "df2['count_prev_CW'] = count_prev_CW(df2)"
   ]
  },
  {
   "cell_type": "code",
   "execution_count": 290,
   "metadata": {},
   "outputs": [],
   "source": [
    "df2['prev_CW/SA_rate'] = df2['count_prev_CW']/df2['count_prev_SA']\n",
    "df2['prev_CW/SA_rate'].fillna(0,inplace=True)"
   ]
  },
  {
   "cell_type": "code",
   "execution_count": 291,
   "metadata": {},
   "outputs": [
    {
     "data": {
      "text/html": [
       "<div>\n",
       "<style scoped>\n",
       "    .dataframe tbody tr th:only-of-type {\n",
       "        vertical-align: middle;\n",
       "    }\n",
       "\n",
       "    .dataframe tbody tr th {\n",
       "        vertical-align: top;\n",
       "    }\n",
       "\n",
       "    .dataframe thead th {\n",
       "        text-align: right;\n",
       "    }\n",
       "</style>\n",
       "<table border=\"1\" class=\"dataframe\">\n",
       "  <thead>\n",
       "    <tr style=\"text-align: right;\">\n",
       "      <th></th>\n",
       "      <th>user_id</th>\n",
       "      <th>id</th>\n",
       "      <th>shift_id</th>\n",
       "      <th>status</th>\n",
       "      <th>createdAt</th>\n",
       "      <th>hasNurseCheckEvent</th>\n",
       "      <th>hasBreakTime</th>\n",
       "      <th>prevStatus</th>\n",
       "      <th>distance</th>\n",
       "      <th>id.1</th>\n",
       "      <th>...</th>\n",
       "      <th>U_create2now</th>\n",
       "      <th>U_approve2now</th>\n",
       "      <th>U_create2U_approve</th>\n",
       "      <th>withdrawnInfo_key</th>\n",
       "      <th>withdrawnInfo_value</th>\n",
       "      <th>tar</th>\n",
       "      <th>target</th>\n",
       "      <th>count_prev_SA</th>\n",
       "      <th>count_prev_CW</th>\n",
       "      <th>prev_CW/SA_rate</th>\n",
       "    </tr>\n",
       "  </thead>\n",
       "  <tbody>\n",
       "    <tr>\n",
       "      <th>0</th>\n",
       "      <td>18</td>\n",
       "      <td>29072</td>\n",
       "      <td>12460</td>\n",
       "      <td>applied</td>\n",
       "      <td>2019-09-11 17:58:36.854268</td>\n",
       "      <td>f</td>\n",
       "      <td>f</td>\n",
       "      <td>withdrawn</td>\n",
       "      <td>NaN</td>\n",
       "      <td>12460</td>\n",
       "      <td>...</td>\n",
       "      <td>31.27281</td>\n",
       "      <td>24.076044</td>\n",
       "      <td>219.04706</td>\n",
       "      <td>NaN</td>\n",
       "      <td>NaN</td>\n",
       "      <td>0</td>\n",
       "      <td>0</td>\n",
       "      <td>0</td>\n",
       "      <td>0</td>\n",
       "      <td>0.0</td>\n",
       "    </tr>\n",
       "    <tr>\n",
       "      <th>1</th>\n",
       "      <td>18</td>\n",
       "      <td>29706</td>\n",
       "      <td>12685</td>\n",
       "      <td>applied</td>\n",
       "      <td>2019-09-16 16:19:11.890038</td>\n",
       "      <td>f</td>\n",
       "      <td>f</td>\n",
       "      <td>NaN</td>\n",
       "      <td>NaN</td>\n",
       "      <td>12685</td>\n",
       "      <td>...</td>\n",
       "      <td>31.27281</td>\n",
       "      <td>24.076044</td>\n",
       "      <td>219.04706</td>\n",
       "      <td>NaN</td>\n",
       "      <td>NaN</td>\n",
       "      <td>0</td>\n",
       "      <td>0</td>\n",
       "      <td>1</td>\n",
       "      <td>0</td>\n",
       "      <td>0.0</td>\n",
       "    </tr>\n",
       "    <tr>\n",
       "      <th>2</th>\n",
       "      <td>18</td>\n",
       "      <td>36042</td>\n",
       "      <td>15920</td>\n",
       "      <td>confirmed</td>\n",
       "      <td>2019-10-29 01:59:31.169775</td>\n",
       "      <td>t</td>\n",
       "      <td>f</td>\n",
       "      <td>selected</td>\n",
       "      <td>NaN</td>\n",
       "      <td>15920</td>\n",
       "      <td>...</td>\n",
       "      <td>31.27281</td>\n",
       "      <td>24.076044</td>\n",
       "      <td>219.04706</td>\n",
       "      <td>NaN</td>\n",
       "      <td>NaN</td>\n",
       "      <td>0</td>\n",
       "      <td>0</td>\n",
       "      <td>2</td>\n",
       "      <td>0</td>\n",
       "      <td>0.0</td>\n",
       "    </tr>\n",
       "    <tr>\n",
       "      <th>3</th>\n",
       "      <td>18</td>\n",
       "      <td>40273</td>\n",
       "      <td>17541</td>\n",
       "      <td>confirmed</td>\n",
       "      <td>2019-11-18 20:14:34.591996</td>\n",
       "      <td>t</td>\n",
       "      <td>t</td>\n",
       "      <td>selected</td>\n",
       "      <td>NaN</td>\n",
       "      <td>17541</td>\n",
       "      <td>...</td>\n",
       "      <td>31.27281</td>\n",
       "      <td>24.076044</td>\n",
       "      <td>219.04706</td>\n",
       "      <td>NaN</td>\n",
       "      <td>NaN</td>\n",
       "      <td>0</td>\n",
       "      <td>0</td>\n",
       "      <td>3</td>\n",
       "      <td>0</td>\n",
       "      <td>0.0</td>\n",
       "    </tr>\n",
       "    <tr>\n",
       "      <th>4</th>\n",
       "      <td>18</td>\n",
       "      <td>40656</td>\n",
       "      <td>17809</td>\n",
       "      <td>interested</td>\n",
       "      <td>2019-11-20 03:53:30.618811</td>\n",
       "      <td>f</td>\n",
       "      <td>f</td>\n",
       "      <td>applied</td>\n",
       "      <td>NaN</td>\n",
       "      <td>17809</td>\n",
       "      <td>...</td>\n",
       "      <td>31.27281</td>\n",
       "      <td>24.076044</td>\n",
       "      <td>219.04706</td>\n",
       "      <td>NaN</td>\n",
       "      <td>NaN</td>\n",
       "      <td>0</td>\n",
       "      <td>0</td>\n",
       "      <td>4</td>\n",
       "      <td>0</td>\n",
       "      <td>0.0</td>\n",
       "    </tr>\n",
       "  </tbody>\n",
       "</table>\n",
       "<p>5 rows × 51 columns</p>\n",
       "</div>"
      ],
      "text/plain": [
       "   user_id     id  shift_id      status                   createdAt  \\\n",
       "0       18  29072     12460     applied  2019-09-11 17:58:36.854268   \n",
       "1       18  29706     12685     applied  2019-09-16 16:19:11.890038   \n",
       "2       18  36042     15920   confirmed  2019-10-29 01:59:31.169775   \n",
       "3       18  40273     17541   confirmed  2019-11-18 20:14:34.591996   \n",
       "4       18  40656     17809  interested  2019-11-20 03:53:30.618811   \n",
       "\n",
       "  hasNurseCheckEvent hasBreakTime prevStatus  distance   id.1  ...  \\\n",
       "0                  f            f  withdrawn       NaN  12460  ...   \n",
       "1                  f            f        NaN       NaN  12685  ...   \n",
       "2                  t            f   selected       NaN  15920  ...   \n",
       "3                  t            t   selected       NaN  17541  ...   \n",
       "4                  f            f    applied       NaN  17809  ...   \n",
       "\n",
       "   U_create2now U_approve2now U_create2U_approve  withdrawnInfo_key  \\\n",
       "0      31.27281     24.076044          219.04706                NaN   \n",
       "1      31.27281     24.076044          219.04706                NaN   \n",
       "2      31.27281     24.076044          219.04706                NaN   \n",
       "3      31.27281     24.076044          219.04706                NaN   \n",
       "4      31.27281     24.076044          219.04706                NaN   \n",
       "\n",
       "   withdrawnInfo_value  tar  target count_prev_SA count_prev_CW  \\\n",
       "0                  NaN    0       0             0             0   \n",
       "1                  NaN    0       0             1             0   \n",
       "2                  NaN    0       0             2             0   \n",
       "3                  NaN    0       0             3             0   \n",
       "4                  NaN    0       0             4             0   \n",
       "\n",
       "  prev_CW/SA_rate  \n",
       "0             0.0  \n",
       "1             0.0  \n",
       "2             0.0  \n",
       "3             0.0  \n",
       "4             0.0  \n",
       "\n",
       "[5 rows x 51 columns]"
      ]
     },
     "execution_count": 291,
     "metadata": {},
     "output_type": "execute_result"
    }
   ],
   "source": [
    "df2.head(5)"
   ]
  },
  {
   "cell_type": "code",
   "execution_count": 292,
   "metadata": {
    "scrolled": true
   },
   "outputs": [
    {
     "data": {
      "text/plain": [
       "0         0.000000\n",
       "1         0.000000\n",
       "2         0.000000\n",
       "3         0.000000\n",
       "4         0.000000\n",
       "            ...   \n",
       "167718    0.666667\n",
       "167719    0.500000\n",
       "167720    0.000000\n",
       "167721    0.000000\n",
       "167722    0.000000\n",
       "Name: prev_CW/SA_rate, Length: 167723, dtype: float64"
      ]
     },
     "execution_count": 292,
     "metadata": {},
     "output_type": "execute_result"
    }
   ],
   "source": [
    "df2['prev_CW/SA_rate']"
   ]
  },
  {
   "cell_type": "code",
   "execution_count": 293,
   "metadata": {},
   "outputs": [],
   "source": [
    "# create type dummy: RN = 1, LVN + LPN = 2, rest = 0\n",
    "def create_type_dummy(row):\n",
    "    if row['type']=='RN':\n",
    "        return 2\n",
    "    elif row['type'] == 'LVN' or row['type'] == 'LPN':\n",
    "        return 1\n",
    "    else:\n",
    "        return 0\n",
    "    \n",
    "df2['type_d'] = df2.apply(lambda row: create_type_dummy(row), axis=1)"
   ]
  },
  {
   "cell_type": "code",
   "execution_count": 294,
   "metadata": {},
   "outputs": [],
   "source": [
    "# create type dummy: Senior Living, Healthcare\n",
    "def create_segmentName_dummy(row):\n",
    "    if row['segmentName']=='Senior Living':\n",
    "        return 1\n",
    "    else:\n",
    "        return 0\n",
    "    \n",
    "df2['segmentName_d'] = df2.apply(lambda row: create_segmentName_dummy(row), axis=1)"
   ]
  },
  {
   "cell_type": "code",
   "execution_count": 295,
   "metadata": {},
   "outputs": [],
   "source": [
    "df2 = df2[['prev_CW/SA_rate','S_create2SA_Create','S_Create2Start_Time','SA_Create2Start_Time','U_create2now',\n",
    "          'U_approve2now', 'type_d','segmentName_d','net_pay','target']]\n",
    "df2.to_csv('model_data.csv')"
   ]
  },
  {
   "cell_type": "markdown",
   "metadata": {},
   "source": [
    "# Logistic Regression 1  "
   ]
  },
  {
   "cell_type": "markdown",
   "metadata": {},
   "source": [
    "# import 'model_data.csv' as df2"
   ]
  },
  {
   "cell_type": "code",
   "execution_count": 261,
   "metadata": {},
   "outputs": [],
   "source": [
    "from sklearn import preprocessing\n",
    " \n",
    "# standardization of dependent variables\n",
    "df2['prev_CW/SA_rate'] = preprocessing.scale(df2['prev_CW/SA_rate'])\n",
    "df2['S_create2SA_Create'] = preprocessing.scale(df2['S_create2SA_Create'])\n",
    "df2['S_Create2Start_Time'] = preprocessing.scale(df2['S_Create2Start_Time'])\n",
    "df2['SA_Create2Start_Time'] = preprocessing.scale(df2['SA_Create2Start_Time'])\n",
    "df2['U_create2now'] = preprocessing.scale(df2['U_create2now'])\n",
    "df2['U_approve2now'] = preprocessing.scale(df2['U_approve2now'])"
   ]
  },
  {
   "cell_type": "code",
   "execution_count": 262,
   "metadata": {},
   "outputs": [],
   "source": [
    "df2['net_pay'] = preprocessing.scale(df2['net_pay'])"
   ]
  },
  {
   "cell_type": "code",
   "execution_count": 263,
   "metadata": {},
   "outputs": [],
   "source": [
    "df3 = df2[['prev_CW/SA_rate','S_create2SA_Create','S_Create2Start_Time','SA_Create2Start_Time','U_create2now',\n",
    "          'U_approve2now', 'type_d','segmentName_d','net_pay','target']]"
   ]
  },
  {
   "cell_type": "code",
   "execution_count": 192,
   "metadata": {},
   "outputs": [],
   "source": [
    "# make nontar dataset length = target dataset\n",
    "import random\n",
    "df3_tar = df3[df3['target']==1]\n",
    "df3_nontar = df3[df3['target']==0]\n",
    "\n",
    "number_of_tar = df3_tar.shape[0]\n",
    "random_indices = random.sample(range(len(df3_nontar)), int(number_of_tar))\n",
    "df3_nontar = df3_nontar[df3_nontar.index.isin(random_indices)]"
   ]
  },
  {
   "cell_type": "code",
   "execution_count": 193,
   "metadata": {
    "scrolled": true
   },
   "outputs": [
    {
     "data": {
      "text/html": [
       "<div>\n",
       "<style scoped>\n",
       "    .dataframe tbody tr th:only-of-type {\n",
       "        vertical-align: middle;\n",
       "    }\n",
       "\n",
       "    .dataframe tbody tr th {\n",
       "        vertical-align: top;\n",
       "    }\n",
       "\n",
       "    .dataframe thead th {\n",
       "        text-align: right;\n",
       "    }\n",
       "</style>\n",
       "<table border=\"1\" class=\"dataframe\">\n",
       "  <thead>\n",
       "    <tr style=\"text-align: right;\">\n",
       "      <th></th>\n",
       "      <th>prev_CW/SA_rate</th>\n",
       "      <th>S_create2SA_Create</th>\n",
       "      <th>S_Create2Start_Time</th>\n",
       "      <th>SA_Create2Start_Time</th>\n",
       "      <th>U_create2now</th>\n",
       "      <th>U_approve2now</th>\n",
       "      <th>type_d</th>\n",
       "      <th>segmentName_d</th>\n",
       "      <th>net_pay</th>\n",
       "      <th>target</th>\n",
       "    </tr>\n",
       "  </thead>\n",
       "  <tbody>\n",
       "    <tr>\n",
       "      <th>15</th>\n",
       "      <td>-0.509372</td>\n",
       "      <td>-0.601328</td>\n",
       "      <td>-1.126353</td>\n",
       "      <td>-0.995839</td>\n",
       "      <td>2.476451</td>\n",
       "      <td>1.843646</td>\n",
       "      <td>2</td>\n",
       "      <td>0</td>\n",
       "      <td>2.232591</td>\n",
       "      <td>0</td>\n",
       "    </tr>\n",
       "    <tr>\n",
       "      <th>85</th>\n",
       "      <td>-0.509372</td>\n",
       "      <td>1.127278</td>\n",
       "      <td>0.927211</td>\n",
       "      <td>0.197023</td>\n",
       "      <td>2.476451</td>\n",
       "      <td>1.833457</td>\n",
       "      <td>2</td>\n",
       "      <td>1</td>\n",
       "      <td>2.232591</td>\n",
       "      <td>0</td>\n",
       "    </tr>\n",
       "    <tr>\n",
       "      <th>134</th>\n",
       "      <td>-0.509372</td>\n",
       "      <td>-0.416745</td>\n",
       "      <td>-0.448786</td>\n",
       "      <td>-0.223278</td>\n",
       "      <td>2.476437</td>\n",
       "      <td>1.833442</td>\n",
       "      <td>2</td>\n",
       "      <td>1</td>\n",
       "      <td>3.322607</td>\n",
       "      <td>0</td>\n",
       "    </tr>\n",
       "    <tr>\n",
       "      <th>148</th>\n",
       "      <td>-0.296877</td>\n",
       "      <td>-0.440588</td>\n",
       "      <td>-0.832250</td>\n",
       "      <td>-0.739709</td>\n",
       "      <td>2.476437</td>\n",
       "      <td>1.833442</td>\n",
       "      <td>2</td>\n",
       "      <td>0</td>\n",
       "      <td>4.739627</td>\n",
       "      <td>0</td>\n",
       "    </tr>\n",
       "    <tr>\n",
       "      <th>154</th>\n",
       "      <td>-0.109139</td>\n",
       "      <td>-0.387943</td>\n",
       "      <td>-0.053007</td>\n",
       "      <td>0.305613</td>\n",
       "      <td>2.476437</td>\n",
       "      <td>1.833442</td>\n",
       "      <td>2</td>\n",
       "      <td>0</td>\n",
       "      <td>2.450594</td>\n",
       "      <td>0</td>\n",
       "    </tr>\n",
       "  </tbody>\n",
       "</table>\n",
       "</div>"
      ],
      "text/plain": [
       "     prev_CW/SA_rate  S_create2SA_Create  S_Create2Start_Time  \\\n",
       "15         -0.509372           -0.601328            -1.126353   \n",
       "85         -0.509372            1.127278             0.927211   \n",
       "134        -0.509372           -0.416745            -0.448786   \n",
       "148        -0.296877           -0.440588            -0.832250   \n",
       "154        -0.109139           -0.387943            -0.053007   \n",
       "\n",
       "     SA_Create2Start_Time  U_create2now  U_approve2now  type_d  segmentName_d  \\\n",
       "15              -0.995839      2.476451       1.843646       2              0   \n",
       "85               0.197023      2.476451       1.833457       2              1   \n",
       "134             -0.223278      2.476437       1.833442       2              1   \n",
       "148             -0.739709      2.476437       1.833442       2              0   \n",
       "154              0.305613      2.476437       1.833442       2              0   \n",
       "\n",
       "      net_pay  target  \n",
       "15   2.232591       0  \n",
       "85   2.232591       0  \n",
       "134  3.322607       0  \n",
       "148  4.739627       0  \n",
       "154  2.450594       0  "
      ]
     },
     "execution_count": 193,
     "metadata": {},
     "output_type": "execute_result"
    }
   ],
   "source": [
    "df3_nontar.head(5)"
   ]
  },
  {
   "cell_type": "code",
   "execution_count": 194,
   "metadata": {},
   "outputs": [],
   "source": [
    "df4 = pd.concat([df3_tar, df3_nontar])\n",
    "\n",
    "def shuffle(df):     \n",
    "    df = df.reindex(np.random.permutation(df.index)).copy()\n",
    "    return df.reset_index(drop=True)\n",
    "\n",
    "df4 = shuffle(df4)"
   ]
  },
  {
   "cell_type": "code",
   "execution_count": 195,
   "metadata": {},
   "outputs": [
    {
     "data": {
      "text/plain": [
       "prev_CW/SA_rate         0\n",
       "S_create2SA_Create      0\n",
       "S_Create2Start_Time     0\n",
       "SA_Create2Start_Time    0\n",
       "U_create2now            0\n",
       "U_approve2now           2\n",
       "type_d                  0\n",
       "segmentName_d           0\n",
       "net_pay                 0\n",
       "target                  0\n",
       "dtype: int64"
      ]
     },
     "execution_count": 195,
     "metadata": {},
     "output_type": "execute_result"
    }
   ],
   "source": [
    "df4.isna().sum()"
   ]
  },
  {
   "cell_type": "code",
   "execution_count": 196,
   "metadata": {},
   "outputs": [],
   "source": [
    "df4.dropna(inplace=True)"
   ]
  },
  {
   "cell_type": "code",
   "execution_count": 197,
   "metadata": {},
   "outputs": [],
   "source": [
    "def summary_coef(model_object):\n",
    "    n_predictors = X.shape[1]\n",
    "    model_coef = pd.DataFrame(model_object.coef_.reshape(1,n_predictors),columns = X.columns.values)\n",
    "    model_coef['Intercept'] = model_object.intercept_\n",
    "    return (model_coef.transpose())"
   ]
  },
  {
   "cell_type": "code",
   "execution_count": 198,
   "metadata": {},
   "outputs": [],
   "source": [
    "from sklearn.model_selection import train_test_split\n",
    "\n",
    "#Splitting the data into our partitions will return two dataframes, so we must prep like so:\n",
    "testpart_size = .2\n",
    "df_partition = df\n",
    "\n",
    "df_nontestdata, df_testdata = train_test_split(df4, test_size = testpart_size, random_state = 1)"
   ]
  },
  {
   "cell_type": "code",
   "execution_count": 199,
   "metadata": {},
   "outputs": [
    {
     "name": "stdout",
     "output_type": "stream",
     "text": [
      "[1.05252741]\n"
     ]
    }
   ],
   "source": [
    "from sklearn.linear_model import LogisticRegression, LogisticRegressionCV\n",
    "\n",
    "X = df_nontestdata.drop(columns = ['target'])\n",
    "y = df_nontestdata['target']\n",
    "\n",
    "\n",
    "kfolds=5\n",
    "\n",
    "min_alpha = .01\n",
    "max_alpha = 100\n",
    "\n",
    "max_C = 1/min_alpha\n",
    "min_C = 1/max_alpha\n",
    "\n",
    "n_candidates = 5000\n",
    "c_list= list(np.linspace(min_C, max_C, num = n_candidates))\n",
    "\n",
    "#Plug in clf_optimal to our previous Logistic model to find the optimal predictors\n",
    "clf_optimal = LogisticRegressionCV(Cs = c_list,cv=kfolds, penalty = 'l1', scoring='roc_auc',solver='saga',max_iter=200, random_state=1, n_jobs = -1).fit(X,y)\n",
    "\n",
    "#Find the optimal selected alpha\n",
    "print(1/clf_optimal.C_)"
   ]
  },
  {
   "cell_type": "code",
   "execution_count": 200,
   "metadata": {},
   "outputs": [
    {
     "data": {
      "text/plain": [
       "LogisticRegressionCV(scoring='roc_auc')"
      ]
     },
     "execution_count": 200,
     "metadata": {},
     "output_type": "execute_result"
    }
   ],
   "source": [
    "logit = LogisticRegressionCV(scoring='roc_auc')\n",
    "logit.fit(X,y)"
   ]
  },
  {
   "cell_type": "code",
   "execution_count": 201,
   "metadata": {},
   "outputs": [],
   "source": [
    "X_test = df_testdata.drop(columns = ['target'])\n",
    "y_test = df_testdata['target']"
   ]
  },
  {
   "cell_type": "code",
   "execution_count": 202,
   "metadata": {},
   "outputs": [
    {
     "data": {
      "text/html": [
       "<div>\n",
       "<style scoped>\n",
       "    .dataframe tbody tr th:only-of-type {\n",
       "        vertical-align: middle;\n",
       "    }\n",
       "\n",
       "    .dataframe tbody tr th {\n",
       "        vertical-align: top;\n",
       "    }\n",
       "\n",
       "    .dataframe thead th {\n",
       "        text-align: right;\n",
       "    }\n",
       "</style>\n",
       "<table border=\"1\" class=\"dataframe\">\n",
       "  <thead>\n",
       "    <tr style=\"text-align: right;\">\n",
       "      <th></th>\n",
       "      <th>prev_CW/SA_rate</th>\n",
       "      <th>S_create2SA_Create</th>\n",
       "      <th>S_Create2Start_Time</th>\n",
       "      <th>SA_Create2Start_Time</th>\n",
       "      <th>U_create2now</th>\n",
       "      <th>U_approve2now</th>\n",
       "      <th>type_d</th>\n",
       "      <th>segmentName_d</th>\n",
       "      <th>net_pay</th>\n",
       "      <th>target</th>\n",
       "    </tr>\n",
       "  </thead>\n",
       "  <tbody>\n",
       "    <tr>\n",
       "      <th>4670</th>\n",
       "      <td>0.575471</td>\n",
       "      <td>-0.248676</td>\n",
       "      <td>-0.343532</td>\n",
       "      <td>-0.240212</td>\n",
       "      <td>-0.324889</td>\n",
       "      <td>-0.198137</td>\n",
       "      <td>0</td>\n",
       "      <td>1</td>\n",
       "      <td>0.052559</td>\n",
       "      <td>1</td>\n",
       "    </tr>\n",
       "    <tr>\n",
       "      <th>5836</th>\n",
       "      <td>-0.509372</td>\n",
       "      <td>-0.601098</td>\n",
       "      <td>1.050882</td>\n",
       "      <td>2.069105</td>\n",
       "      <td>0.751083</td>\n",
       "      <td>0.988567</td>\n",
       "      <td>0</td>\n",
       "      <td>1</td>\n",
       "      <td>-0.928455</td>\n",
       "      <td>0</td>\n",
       "    </tr>\n",
       "    <tr>\n",
       "      <th>6421</th>\n",
       "      <td>3.238266</td>\n",
       "      <td>-0.597116</td>\n",
       "      <td>-0.599816</td>\n",
       "      <td>-0.258704</td>\n",
       "      <td>-1.454636</td>\n",
       "      <td>-1.469723</td>\n",
       "      <td>0</td>\n",
       "      <td>1</td>\n",
       "      <td>0.161561</td>\n",
       "      <td>1</td>\n",
       "    </tr>\n",
       "    <tr>\n",
       "      <th>4515</th>\n",
       "      <td>0.472152</td>\n",
       "      <td>-0.580091</td>\n",
       "      <td>-0.791072</td>\n",
       "      <td>-0.544686</td>\n",
       "      <td>-1.387096</td>\n",
       "      <td>-1.369684</td>\n",
       "      <td>0</td>\n",
       "      <td>1</td>\n",
       "      <td>-0.165444</td>\n",
       "      <td>1</td>\n",
       "    </tr>\n",
       "    <tr>\n",
       "      <th>4701</th>\n",
       "      <td>0.778878</td>\n",
       "      <td>-0.585033</td>\n",
       "      <td>-0.669172</td>\n",
       "      <td>-0.368215</td>\n",
       "      <td>1.206712</td>\n",
       "      <td>-1.247053</td>\n",
       "      <td>1</td>\n",
       "      <td>1</td>\n",
       "      <td>0.761070</td>\n",
       "      <td>0</td>\n",
       "    </tr>\n",
       "    <tr>\n",
       "      <th>...</th>\n",
       "      <td>...</td>\n",
       "      <td>...</td>\n",
       "      <td>...</td>\n",
       "      <td>...</td>\n",
       "      <td>...</td>\n",
       "      <td>...</td>\n",
       "      <td>...</td>\n",
       "      <td>...</td>\n",
       "      <td>...</td>\n",
       "      <td>...</td>\n",
       "    </tr>\n",
       "    <tr>\n",
       "      <th>6266</th>\n",
       "      <td>0.420493</td>\n",
       "      <td>-0.439346</td>\n",
       "      <td>-0.520563</td>\n",
       "      <td>-0.302125</td>\n",
       "      <td>0.043467</td>\n",
       "      <td>0.222426</td>\n",
       "      <td>0</td>\n",
       "      <td>1</td>\n",
       "      <td>-0.328946</td>\n",
       "      <td>1</td>\n",
       "    </tr>\n",
       "    <tr>\n",
       "      <th>7718</th>\n",
       "      <td>0.604791</td>\n",
       "      <td>0.464729</td>\n",
       "      <td>0.042590</td>\n",
       "      <td>-0.397477</td>\n",
       "      <td>1.177032</td>\n",
       "      <td>0.993472</td>\n",
       "      <td>0</td>\n",
       "      <td>1</td>\n",
       "      <td>-0.465198</td>\n",
       "      <td>0</td>\n",
       "    </tr>\n",
       "    <tr>\n",
       "      <th>5193</th>\n",
       "      <td>-0.171470</td>\n",
       "      <td>-0.371987</td>\n",
       "      <td>-0.308514</td>\n",
       "      <td>-0.069769</td>\n",
       "      <td>-0.823279</td>\n",
       "      <td>-1.095880</td>\n",
       "      <td>0</td>\n",
       "      <td>0</td>\n",
       "      <td>-0.628700</td>\n",
       "      <td>0</td>\n",
       "    </tr>\n",
       "    <tr>\n",
       "      <th>975</th>\n",
       "      <td>0.912146</td>\n",
       "      <td>-0.576973</td>\n",
       "      <td>-0.684341</td>\n",
       "      <td>-0.397491</td>\n",
       "      <td>-1.430181</td>\n",
       "      <td>-1.464477</td>\n",
       "      <td>0</td>\n",
       "      <td>1</td>\n",
       "      <td>-0.383447</td>\n",
       "      <td>0</td>\n",
       "    </tr>\n",
       "    <tr>\n",
       "      <th>4802</th>\n",
       "      <td>2.238896</td>\n",
       "      <td>-0.429655</td>\n",
       "      <td>-0.852758</td>\n",
       "      <td>-0.779319</td>\n",
       "      <td>-1.062677</td>\n",
       "      <td>-1.191180</td>\n",
       "      <td>0</td>\n",
       "      <td>1</td>\n",
       "      <td>-0.764952</td>\n",
       "      <td>0</td>\n",
       "    </tr>\n",
       "  </tbody>\n",
       "</table>\n",
       "<p>1727 rows × 10 columns</p>\n",
       "</div>"
      ],
      "text/plain": [
       "      prev_CW/SA_rate  S_create2SA_Create  S_Create2Start_Time  \\\n",
       "4670         0.575471           -0.248676            -0.343532   \n",
       "5836        -0.509372           -0.601098             1.050882   \n",
       "6421         3.238266           -0.597116            -0.599816   \n",
       "4515         0.472152           -0.580091            -0.791072   \n",
       "4701         0.778878           -0.585033            -0.669172   \n",
       "...               ...                 ...                  ...   \n",
       "6266         0.420493           -0.439346            -0.520563   \n",
       "7718         0.604791            0.464729             0.042590   \n",
       "5193        -0.171470           -0.371987            -0.308514   \n",
       "975          0.912146           -0.576973            -0.684341   \n",
       "4802         2.238896           -0.429655            -0.852758   \n",
       "\n",
       "      SA_Create2Start_Time  U_create2now  U_approve2now  type_d  \\\n",
       "4670             -0.240212     -0.324889      -0.198137       0   \n",
       "5836              2.069105      0.751083       0.988567       0   \n",
       "6421             -0.258704     -1.454636      -1.469723       0   \n",
       "4515             -0.544686     -1.387096      -1.369684       0   \n",
       "4701             -0.368215      1.206712      -1.247053       1   \n",
       "...                    ...           ...            ...     ...   \n",
       "6266             -0.302125      0.043467       0.222426       0   \n",
       "7718             -0.397477      1.177032       0.993472       0   \n",
       "5193             -0.069769     -0.823279      -1.095880       0   \n",
       "975              -0.397491     -1.430181      -1.464477       0   \n",
       "4802             -0.779319     -1.062677      -1.191180       0   \n",
       "\n",
       "      segmentName_d   net_pay  target  \n",
       "4670              1  0.052559       1  \n",
       "5836              1 -0.928455       0  \n",
       "6421              1  0.161561       1  \n",
       "4515              1 -0.165444       1  \n",
       "4701              1  0.761070       0  \n",
       "...             ...       ...     ...  \n",
       "6266              1 -0.328946       1  \n",
       "7718              1 -0.465198       0  \n",
       "5193              0 -0.628700       0  \n",
       "975               1 -0.383447       0  \n",
       "4802              1 -0.764952       0  \n",
       "\n",
       "[1727 rows x 10 columns]"
      ]
     },
     "execution_count": 202,
     "metadata": {},
     "output_type": "execute_result"
    }
   ],
   "source": [
    "df_testdata"
   ]
  },
  {
   "cell_type": "code",
   "execution_count": 203,
   "metadata": {},
   "outputs": [],
   "source": [
    "y_prob = logit.predict_proba(X_test)\n",
    "y_pred= logit.predict(X_test)"
   ]
  },
  {
   "cell_type": "code",
   "execution_count": 204,
   "metadata": {},
   "outputs": [],
   "source": [
    "from sklearn.metrics import (auc, classification_report, roc_auc_score, accuracy_score,roc_curve)\n",
    "from sklearn.metrics import confusion_matrix\n",
    "# accuracy_score(y_test,y_pred)"
   ]
  },
  {
   "cell_type": "code",
   "execution_count": 205,
   "metadata": {},
   "outputs": [
    {
     "name": "stdout",
     "output_type": "stream",
     "text": [
      "0.634582037508246\n"
     ]
    }
   ],
   "source": [
    "print(roc_auc_score(y_test, y_pred))"
   ]
  },
  {
   "cell_type": "code",
   "execution_count": 206,
   "metadata": {},
   "outputs": [],
   "source": [
    "# from sklearn.metrics import classification_report,confusion_matrix\n",
    "\n",
    "# print(confusion_matrix(y_test, y_pred))\n",
    "# print('\\n')\n",
    "# print(classification_report(y_test, y_pred))"
   ]
  },
  {
   "cell_type": "markdown",
   "metadata": {},
   "source": [
    "# !!! call cf_matrix.py in the confusion_matrix folder to run"
   ]
  },
  {
   "cell_type": "code",
   "execution_count": 207,
   "metadata": {},
   "outputs": [
    {
     "data": {
      "image/png": "[encoded data removed]",
      "text/plain": [
       "<Figure size 432x288 with 2 Axes>"
      ]
     },
     "metadata": {
      "needs_background": "light"
     },
     "output_type": "display_data"
    }
   ],
   "source": [
    "from cf_matrix import make_confusion_matrix\n",
    "labels = ['True Neg','False Pos','False Neg','True Pos']\n",
    "categories = ['Zero', 'One']\n",
    "make_confusion_matrix(confusion_matrix(y_test, y_pred), \n",
    "                      group_names=labels,\n",
    "                      categories=categories, \n",
    "                      cmap='Blues')"
   ]
  },
  {
   "cell_type": "code",
   "execution_count": 208,
   "metadata": {},
   "outputs": [],
   "source": [
    "# summary_coef(logit)"
   ]
  },
  {
   "cell_type": "code",
   "execution_count": 209,
   "metadata": {},
   "outputs": [],
   "source": [
    "import matplotlib.pyplot as plt\n",
    "def plot_roc(fpr, tpr, roc_auc):\n",
    "    \"\"\"Plots the ROC curve for the win probability model along with\n",
    "    the AUC.\n",
    "    \"\"\"\n",
    "    fig, ax = plt.subplots()\n",
    "    ax.set(title='Receiver Operating Characteristic',\n",
    "           xlim=[0, 1], ylim=[0, 1], xlabel='False Positive Rate',\n",
    "           ylabel='True Positive Rate')\n",
    "    ax.plot(fpr, tpr, 'b', label='AUC = %0.2f' % roc_auc)\n",
    "    ax.plot([0, 1], [0, 1], 'k--')\n",
    "    ax.legend(loc='lower right')"
   ]
  },
  {
   "cell_type": "code",
   "execution_count": 118,
   "metadata": {},
   "outputs": [
    {
     "data": {
      "image/png": "[encoded data removed]",
      "text/plain": [
       "<Figure size 432x288 with 1 Axes>"
      ]
     },
     "metadata": {
      "needs_background": "light"
     },
     "output_type": "display_data"
    }
   ],
   "source": [
    "fpr, tpr, thresholds = roc_curve(y_test.values, y_prob[:,1])\n",
    "roc_auc = auc(fpr, tpr)\n",
    "plot_roc(fpr, tpr, roc_auc)"
   ]
  },
  {
   "cell_type": "code",
   "execution_count": 119,
   "metadata": {
    "scrolled": true
   },
   "outputs": [
    {
     "name": "stdout",
     "output_type": "stream",
     "text": [
      "Optimization terminated successfully.\n",
      "         Current function value: 0.657521\n",
      "         Iterations 5\n"
     ]
    },
    {
     "data": {
      "text/html": [
       "<table class=\"simpletable\">\n",
       "<caption>Logit Regression Results</caption>\n",
       "<tr>\n",
       "  <th>Dep. Variable:</th>        <td>target</td>      <th>  No. Observations:  </th>   <td>  6894</td>  \n",
       "</tr>\n",
       "<tr>\n",
       "  <th>Model:</th>                 <td>Logit</td>      <th>  Df Residuals:      </th>   <td>  6885</td>  \n",
       "</tr>\n",
       "<tr>\n",
       "  <th>Method:</th>                 <td>MLE</td>       <th>  Df Model:          </th>   <td>     8</td>  \n",
       "</tr>\n",
       "<tr>\n",
       "  <th>Date:</th>            <td>Tue, 16 Mar 2021</td> <th>  Pseudo R-squ.:     </th>   <td>0.05130</td> \n",
       "</tr>\n",
       "<tr>\n",
       "  <th>Time:</th>                <td>13:01:29</td>     <th>  Log-Likelihood:    </th>  <td> -4532.9</td> \n",
       "</tr>\n",
       "<tr>\n",
       "  <th>converged:</th>             <td>True</td>       <th>  LL-Null:           </th>  <td> -4778.0</td> \n",
       "</tr>\n",
       "<tr>\n",
       "  <th>Covariance Type:</th>     <td>nonrobust</td>    <th>  LLR p-value:       </th> <td>8.921e-101</td>\n",
       "</tr>\n",
       "</table>\n",
       "<table class=\"simpletable\">\n",
       "<tr>\n",
       "            <td></td>              <th>coef</th>     <th>std err</th>      <th>z</th>      <th>P>|z|</th>  <th>[0.025</th>    <th>0.975]</th>  \n",
       "</tr>\n",
       "<tr>\n",
       "  <th>prev_CW/SA_rate</th>      <td>    0.1907</td> <td>    0.028</td> <td>    6.810</td> <td> 0.000</td> <td>    0.136</td> <td>    0.246</td>\n",
       "</tr>\n",
       "<tr>\n",
       "  <th>S_create2SA_Create</th>   <td>    0.7361</td> <td>    1.096</td> <td>    0.672</td> <td> 0.502</td> <td>   -1.411</td> <td>    2.884</td>\n",
       "</tr>\n",
       "<tr>\n",
       "  <th>S_Create2Start_Time</th>  <td>   -1.0227</td> <td>    1.575</td> <td>   -0.649</td> <td> 0.516</td> <td>   -4.110</td> <td>    2.064</td>\n",
       "</tr>\n",
       "<tr>\n",
       "  <th>SA_Create2Start_Time</th> <td>    0.5452</td> <td>    1.117</td> <td>    0.488</td> <td> 0.625</td> <td>   -1.643</td> <td>    2.734</td>\n",
       "</tr>\n",
       "<tr>\n",
       "  <th>U_create2now</th>         <td>    0.0673</td> <td>    0.070</td> <td>    0.960</td> <td> 0.337</td> <td>   -0.070</td> <td>    0.205</td>\n",
       "</tr>\n",
       "<tr>\n",
       "  <th>U_approve2now</th>        <td>   -0.0646</td> <td>    0.070</td> <td>   -0.927</td> <td> 0.354</td> <td>   -0.201</td> <td>    0.072</td>\n",
       "</tr>\n",
       "<tr>\n",
       "  <th>type_d</th>               <td>   -1.6878</td> <td>    0.104</td> <td>  -16.303</td> <td> 0.000</td> <td>   -1.891</td> <td>   -1.485</td>\n",
       "</tr>\n",
       "<tr>\n",
       "  <th>segmentName_d</th>        <td>    0.4389</td> <td>    0.036</td> <td>   12.177</td> <td> 0.000</td> <td>    0.368</td> <td>    0.510</td>\n",
       "</tr>\n",
       "<tr>\n",
       "  <th>net_pay</th>              <td>    1.0215</td> <td>    0.064</td> <td>   15.856</td> <td> 0.000</td> <td>    0.895</td> <td>    1.148</td>\n",
       "</tr>\n",
       "</table>"
      ],
      "text/plain": [
       "<class 'statsmodels.iolib.summary.Summary'>\n",
       "\"\"\"\n",
       "                           Logit Regression Results                           \n",
       "==============================================================================\n",
       "Dep. Variable:                 target   No. Observations:                 6894\n",
       "Model:                          Logit   Df Residuals:                     6885\n",
       "Method:                           MLE   Df Model:                            8\n",
       "Date:                Tue, 16 Mar 2021   Pseudo R-squ.:                 0.05130\n",
       "Time:                        13:01:29   Log-Likelihood:                -4532.9\n",
       "converged:                       True   LL-Null:                       -4778.0\n",
       "Covariance Type:            nonrobust   LLR p-value:                8.921e-101\n",
       "========================================================================================\n",
       "                           coef    std err          z      P>|z|      [0.025      0.975]\n",
       "----------------------------------------------------------------------------------------\n",
       "prev_CW/SA_rate          0.1907      0.028      6.810      0.000       0.136       0.246\n",
       "S_create2SA_Create       0.7361      1.096      0.672      0.502      -1.411       2.884\n",
       "S_Create2Start_Time     -1.0227      1.575     -0.649      0.516      -4.110       2.064\n",
       "SA_Create2Start_Time     0.5452      1.117      0.488      0.625      -1.643       2.734\n",
       "U_create2now             0.0673      0.070      0.960      0.337      -0.070       0.205\n",
       "U_approve2now           -0.0646      0.070     -0.927      0.354      -0.201       0.072\n",
       "type_d                  -1.6878      0.104    -16.303      0.000      -1.891      -1.485\n",
       "segmentName_d            0.4389      0.036     12.177      0.000       0.368       0.510\n",
       "net_pay                  1.0215      0.064     15.856      0.000       0.895       1.148\n",
       "========================================================================================\n",
       "\"\"\""
      ]
     },
     "execution_count": 119,
     "metadata": {},
     "output_type": "execute_result"
    }
   ],
   "source": [
    "import statsmodels.api as sm\n",
    "smlogit = sm.Logit(y,X).fit()\n",
    "smlogit.summary()"
   ]
  },
  {
   "cell_type": "markdown",
   "metadata": {},
   "source": [
    "# Logistic Regression2, pick only significant vars"
   ]
  },
  {
   "cell_type": "code",
   "execution_count": 159,
   "metadata": {},
   "outputs": [],
   "source": [
    "# sample non target = target"
   ]
  },
  {
   "cell_type": "code",
   "execution_count": 216,
   "metadata": {},
   "outputs": [],
   "source": [
    "X = df4[['prev_CW/SA_rate', 'type_d', 'segmentName_d', 'net_pay', 'U_approve2now']]\n",
    "Y = df4['target']\n",
    "X_train, X_test, y_train, y_test = train_test_split(X, Y, test_size=0.30)"
   ]
  },
  {
   "cell_type": "code",
   "execution_count": 217,
   "metadata": {},
   "outputs": [],
   "source": [
    "logit = LogisticRegressionCV(scoring='roc_auc')\n",
    "logit.fit(X_train,y_train)\n",
    "y_pred= logit.predict(X_test)"
   ]
  },
  {
   "cell_type": "code",
   "execution_count": 218,
   "metadata": {},
   "outputs": [
    {
     "name": "stdout",
     "output_type": "stream",
     "text": [
      "Optimization terminated successfully.\n",
      "         Current function value: 0.654028\n",
      "         Iterations 5\n"
     ]
    },
    {
     "data": {
      "text/html": [
       "<table class=\"simpletable\">\n",
       "<caption>Logit Regression Results</caption>\n",
       "<tr>\n",
       "  <th>Dep. Variable:</th>        <td>target</td>      <th>  No. Observations:  </th>   <td>  6042</td>  \n",
       "</tr>\n",
       "<tr>\n",
       "  <th>Model:</th>                 <td>Logit</td>      <th>  Df Residuals:      </th>   <td>  6037</td>  \n",
       "</tr>\n",
       "<tr>\n",
       "  <th>Method:</th>                 <td>MLE</td>       <th>  Df Model:          </th>   <td>     4</td>  \n",
       "</tr>\n",
       "<tr>\n",
       "  <th>Date:</th>            <td>Tue, 16 Mar 2021</td> <th>  Pseudo R-squ.:     </th>   <td>0.05602</td> \n",
       "</tr>\n",
       "<tr>\n",
       "  <th>Time:</th>                <td>14:00:03</td>     <th>  Log-Likelihood:    </th>  <td> -3951.6</td> \n",
       "</tr>\n",
       "<tr>\n",
       "  <th>converged:</th>             <td>True</td>       <th>  LL-Null:           </th>  <td> -4186.1</td> \n",
       "</tr>\n",
       "<tr>\n",
       "  <th>Covariance Type:</th>     <td>nonrobust</td>    <th>  LLR p-value:       </th> <td>3.406e-100</td>\n",
       "</tr>\n",
       "</table>\n",
       "<table class=\"simpletable\">\n",
       "<tr>\n",
       "         <td></td>            <th>coef</th>     <th>std err</th>      <th>z</th>      <th>P>|z|</th>  <th>[0.025</th>    <th>0.975]</th>  \n",
       "</tr>\n",
       "<tr>\n",
       "  <th>prev_CW/SA_rate</th> <td>    0.2772</td> <td>    0.032</td> <td>    8.623</td> <td> 0.000</td> <td>    0.214</td> <td>    0.340</td>\n",
       "</tr>\n",
       "<tr>\n",
       "  <th>type_d</th>          <td>   -1.6630</td> <td>    0.108</td> <td>  -15.420</td> <td> 0.000</td> <td>   -1.874</td> <td>   -1.452</td>\n",
       "</tr>\n",
       "<tr>\n",
       "  <th>segmentName_d</th>   <td>    0.4674</td> <td>    0.038</td> <td>   12.256</td> <td> 0.000</td> <td>    0.393</td> <td>    0.542</td>\n",
       "</tr>\n",
       "<tr>\n",
       "  <th>net_pay</th>         <td>    1.0059</td> <td>    0.068</td> <td>   14.692</td> <td> 0.000</td> <td>    0.872</td> <td>    1.140</td>\n",
       "</tr>\n",
       "<tr>\n",
       "  <th>U_approve2now</th>   <td>   -0.0683</td> <td>    0.029</td> <td>   -2.382</td> <td> 0.017</td> <td>   -0.124</td> <td>   -0.012</td>\n",
       "</tr>\n",
       "</table>"
      ],
      "text/plain": [
       "<class 'statsmodels.iolib.summary.Summary'>\n",
       "\"\"\"\n",
       "                           Logit Regression Results                           \n",
       "==============================================================================\n",
       "Dep. Variable:                 target   No. Observations:                 6042\n",
       "Model:                          Logit   Df Residuals:                     6037\n",
       "Method:                           MLE   Df Model:                            4\n",
       "Date:                Tue, 16 Mar 2021   Pseudo R-squ.:                 0.05602\n",
       "Time:                        14:00:03   Log-Likelihood:                -3951.6\n",
       "converged:                       True   LL-Null:                       -4186.1\n",
       "Covariance Type:            nonrobust   LLR p-value:                3.406e-100\n",
       "===================================================================================\n",
       "                      coef    std err          z      P>|z|      [0.025      0.975]\n",
       "-----------------------------------------------------------------------------------\n",
       "prev_CW/SA_rate     0.2772      0.032      8.623      0.000       0.214       0.340\n",
       "type_d             -1.6630      0.108    -15.420      0.000      -1.874      -1.452\n",
       "segmentName_d       0.4674      0.038     12.256      0.000       0.393       0.542\n",
       "net_pay             1.0059      0.068     14.692      0.000       0.872       1.140\n",
       "U_approve2now      -0.0683      0.029     -2.382      0.017      -0.124      -0.012\n",
       "===================================================================================\n",
       "\"\"\""
      ]
     },
     "execution_count": 218,
     "metadata": {},
     "output_type": "execute_result"
    }
   ],
   "source": [
    "smlogit = sm.Logit(y_train,X_train).fit()\n",
    "smlogit.summary()"
   ]
  },
  {
   "cell_type": "code",
   "execution_count": 219,
   "metadata": {},
   "outputs": [
    {
     "data": {
      "image/png": "[encoded data removed]",
      "text/plain": [
       "<Figure size 432x288 with 2 Axes>"
      ]
     },
     "metadata": {
      "needs_background": "light"
     },
     "output_type": "display_data"
    }
   ],
   "source": [
    "labels = ['True Neg','False Pos','False Neg','True Pos']\n",
    "categories = ['Zero', 'One']\n",
    "make_confusion_matrix(confusion_matrix(y_test, y_pred), \n",
    "                      group_names=labels,\n",
    "                      categories=categories, \n",
    "                      cmap='Blues')"
   ]
  },
  {
   "cell_type": "code",
   "execution_count": 215,
   "metadata": {},
   "outputs": [
    {
     "name": "stdout",
     "output_type": "stream",
     "text": [
      "[[772 521]\n",
      " [444 853]]\n",
      "\n",
      "\n",
      "              precision    recall  f1-score   support\n",
      "\n",
      "           0       0.63      0.60      0.62      1293\n",
      "           1       0.62      0.66      0.64      1297\n",
      "\n",
      "    accuracy                           0.63      2590\n",
      "   macro avg       0.63      0.63      0.63      2590\n",
      "weighted avg       0.63      0.63      0.63      2590\n",
      "\n"
     ]
    }
   ],
   "source": [
    "from sklearn.metrics import classification_report,confusion_matrix\n",
    "\n",
    "print(confusion_matrix(y_test, y_pred))\n",
    "print('\\n')\n",
    "print(classification_report(y_test, y_pred))"
   ]
  }
 ],
 "metadata": {
  "kernelspec": {
   "display_name": "Python 3",
   "language": "python",
   "name": "python3"
  },
  "language_info": {
   "codemirror_mode": {
    "name": "ipython",
    "version": 3
   },
   "file_extension": ".py",
   "mimetype": "text/x-python",
   "name": "python",
   "nbconvert_exporter": "python",
   "pygments_lexer": "ipython3",
   "version": "3.8.3"
  }
 },
 "nbformat": 4,
 "nbformat_minor": 4
}
