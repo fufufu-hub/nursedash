{
 "cells": [
  {
   "cell_type": "markdown",
   "metadata": {},
   "source": [
    "## Target- urgent withdrawn by nurse(within 24hr)\n",
    "* shift_applications status == 'cancelled' + shift_application prevStatus == 'confirmed'\n",
    "\n",
    "\n",
    "### IDs -> only look at shifts application, leave each shifts after\n",
    "* shift_applications id\n",
    "* shift_applications user_id\n",
    "* shift_applications shift_id\n",
    "\n",
    "\n",
    "### Numeric Field\n",
    "* shifts rate\n",
    "* shifts net_pay: rate - nursedash profit\n",
    "* shift_applications distance\n",
    "* shift break time\n",
    "* user withdrawn times: \n",
    "    Problem: \n",
    "        1. We don't know in reality that you will withdraw your previous one.\n",
    "        2. cannot be used to predict new user\n",
    "* user applied times:\n",
    "* prev SA/CW rate\n",
    "\n",
    "\n",
    "## Time\n",
    "### shift, shift app time\n",
    "* S_Create (shift created) => SA_Create (application created) => CWTime (comfim withdrawn) => Start_Time (shift start)\n",
    "* S_Create: shift create time\n",
    "* SA_Create: shift application create time\n",
    "* CWTime: shift withdrawn time, whole confirmed withdrawn population (include within 24hr and > 24hr)\n",
    "* Start_Time: shift start time\n",
    "##### calculated field, graph in hours\n",
    "* S_Create2SA_Create: shift application create time - shift create time\n",
    "* S_Create2Start_Time: shift start time - shift create time\n",
    "        1. has negative values. delete maybe?\n",
    "* SA_Create2Start_Time: shift start time - shift application create time\n",
    "        1. has negative values. delete maybe?\n",
    "\n",
    "### User\n",
    "* user approvedAt:\n",
    "* user createdAt:\n",
    "#### Calculated field\n",
    "* U_Create2U_approved: User approve time - User create time\n",
    "* U_Create2now: now - User create time, in months(seconds/2629746)\n",
    "* U_Approve2now: now - User approve time\n",
    "\n",
    "\n",
    "### Categorical\n",
    "* shifts role: position name + type\n",
    "* facilities name = facilities short_name\n",
    "* facilities areaId = facilities areaName\n",
    "* withdrawnInfo_key, withdrawnInfo_value\n",
    "* facilities segmentName: Senior Living = 1, Healthcare = 0\n",
    "* Users enableNotifications:\n",
    "* Users emailNotifications:\n",
    "* Users appNotifications:\n",
    "* Users allowedNotifications:\n",
    "\n",
    "\n",
    "### ?\n",
    "* facilities allowedQualification\n",
    "* facilities createdAt\n",
    "* facilities rates\n",
    "* nurse shift withdrawn by admin, when policy start, how many withdrawn by admin\n",
    "* shifts = unit\n",
    "* role\n",
    "* users updateAt ?\n",
    "* users relationToFacility"
   ]
  },
  {
   "cell_type": "markdown",
   "metadata": {},
   "source": [
    "# Connect to DB, Fetch data"
   ]
  },
  {
   "cell_type": "code",
   "execution_count": 81,
   "metadata": {},
   "outputs": [],
   "source": [
    "import pandas as pd\n",
    "# specify connection to database\n",
    "import psycopg2\n",
    "connection = psycopg2.connect(\n",
    "    host=\"nursedash-prod.cuzi2kducsnv.us-east-1.rds.amazonaws.com\",\n",
    "    database=\"nursedash\",\n",
    "    user=\"external_analyst\",\n",
    "    password=\"uDps8APganhSLc3K2xe7NtMPq\")"
   ]
  },
  {
   "cell_type": "markdown",
   "metadata": {},
   "source": [
    "### <font color = green> all time to chicago time, No withdrawn info"
   ]
  },
  {
   "cell_type": "code",
   "execution_count": 82,
   "metadata": {},
   "outputs": [],
   "source": [
    "df = pd.read_sql_query(\"\"\"\n",
    "\n",
    "SELECT  sa.id, sa.user_id, sa.shift_id, f.id AS facility_id, sa.\"withdrawnInfo\" -> 'initiator' as withdrawnInfo_value,\n",
    "sa.\"status\", sa.\"prevStatus\", sa.\"distance\", s.\"facility_id\", \"s\".\"description\" AS \"shift_description\",\n",
    "\"s\".\"assigned_nurse_id\", s.\"net_pay\", \"s\".\"unit\" AS \"s_unit\",s.\"type\",\n",
    "\"s\".\"qualifications\" AS \"s_qualifications\", \"s\".\"breakTime\" AS \"s_breakTime\", sa.\"withdrawnInfo\",\n",
    "\"f\".\"name\" AS \"f_name\",\"f\".\"short_name\" AS \"f_short_name\", f.\"segmentName\", f.\"areaName\",\n",
    "timezone('America/Chicago', s.\"createdAt\") as s_create,\n",
    "timezone('America/Chicago', sa.\"createdAt\") as sa_create,\n",
    "timezone('America/Chicago', u.\"approvedAt\") as u_approve,\n",
    "timezone('America/Chicago', u.\"createdAt\") as u_create,\n",
    "timezone('America/Chicago', sa.\"statusUpdatedAt\") as sa_statusUpdate,\n",
    "timezone('America/Chicago', timezone('UTC', s.start_time)) AS \"Start_Time\" \n",
    "FROM shifts s\n",
    "INNER JOIN shift_applications sa ON s.id = sa.shift_id\n",
    "INNER JOIN facilities f ON s.facility_id = f.id\n",
    "INNER JOIN users u ON sa.user_id = u.id\n",
    "\n",
    "\"\"\", con = connection)"
   ]
  },
  {
   "cell_type": "code",
   "execution_count": 83,
   "metadata": {
    "scrolled": true
   },
   "outputs": [
    {
     "data": {
      "text/plain": [
       "Index(['id', 'user_id', 'shift_id', 'facility_id', 'withdrawninfo_value',\n",
       "       'status', 'prevStatus', 'distance', 'facility_id', 'shift_description',\n",
       "       'assigned_nurse_id', 'net_pay', 's_unit', 'type', 's_qualifications',\n",
       "       's_breakTime', 'withdrawnInfo', 'f_name', 'f_short_name', 'segmentName',\n",
       "       'areaName', 's_create', 'sa_create', 'u_approve', 'u_create',\n",
       "       'sa_statusupdate', 'Start_Time'],\n",
       "      dtype='object')"
      ]
     },
     "execution_count": 83,
     "metadata": {},
     "output_type": "execute_result"
    }
   ],
   "source": [
    "df.columns"
   ]
  },
  {
   "cell_type": "markdown",
   "metadata": {},
   "source": [
    "### <font color = green> these features was done in sql before"
   ]
  },
  {
   "cell_type": "markdown",
   "metadata": {},
   "source": [
    "### U_create2U_approve, in hours"
   ]
  },
  {
   "cell_type": "code",
   "execution_count": 84,
   "metadata": {},
   "outputs": [],
   "source": [
    "from datetime import datetime\n",
    "df['U_create2U_approve'] = df.apply(lambda row: (row['u_approve'] - row['u_create']).total_seconds()/3600, \n",
    "                                    axis = 1)"
   ]
  },
  {
   "cell_type": "markdown",
   "metadata": {},
   "source": [
    "### U_create2now, in month"
   ]
  },
  {
   "cell_type": "code",
   "execution_count": 85,
   "metadata": {},
   "outputs": [],
   "source": [
    "df['U_create2now'] = df.apply(lambda row: (datetime.now() - row['u_create']).total_seconds()/2629746, \n",
    "                              axis = 1)"
   ]
  },
  {
   "cell_type": "markdown",
   "metadata": {},
   "source": [
    "### U_approve2now, in month"
   ]
  },
  {
   "cell_type": "code",
   "execution_count": 86,
   "metadata": {},
   "outputs": [],
   "source": [
    "df['U_approve2now'] = df.apply(lambda row: (datetime.now() - row['u_approve']).total_seconds()/2629746, \n",
    "                               axis = 1)"
   ]
  },
  {
   "cell_type": "markdown",
   "metadata": {},
   "source": [
    "### S_create2SA_Create, in hours"
   ]
  },
  {
   "cell_type": "code",
   "execution_count": 87,
   "metadata": {},
   "outputs": [],
   "source": [
    "df['S_create2SA_Create'] = df.apply(lambda row: (row['sa_create'] - row['s_create']).total_seconds()/3600, \n",
    "                                    axis = 1)"
   ]
  },
  {
   "cell_type": "markdown",
   "metadata": {},
   "source": [
    "### SA_Create2Start_Time"
   ]
  },
  {
   "cell_type": "code",
   "execution_count": 88,
   "metadata": {},
   "outputs": [],
   "source": [
    "# some start time is at year 0019 \n",
    "df['SA_Create2Start_Time'] = df.apply(lambda row: (row['Start_Time'] - row['sa_create']).total_seconds()/3600 if str(row['Start_Time'])[:2] != '00' else 9999, \n",
    "                                         axis = 1)"
   ]
  },
  {
   "cell_type": "markdown",
   "metadata": {},
   "source": [
    "### S_Create2Start_Time"
   ]
  },
  {
   "cell_type": "code",
   "execution_count": 89,
   "metadata": {},
   "outputs": [],
   "source": [
    "df['S_Create2Start_Time'] = df.apply(lambda row: (row['Start_Time'] - row['s_create']).total_seconds()/3600 if str(row['Start_Time'])[:2] != '00' else 9999, \n",
    "                                         axis = 1)"
   ]
  },
  {
   "cell_type": "markdown",
   "metadata": {},
   "source": [
    "### CW_Time2Start_Time"
   ]
  },
  {
   "cell_type": "code",
   "execution_count": 90,
   "metadata": {},
   "outputs": [],
   "source": [
    "# CW_Time2Start_Time\n",
    "df['CW_Time2Start_Time'] = df.apply(lambda row: (row['Start_Time'] - row['sa_statusupdate']).total_seconds()/3600 if str(row['Start_Time'])[:2] != '00' else 9999, \n",
    "                                         axis = 1)"
   ]
  },
  {
   "cell_type": "markdown",
   "metadata": {},
   "source": [
    "# Data Cleaning"
   ]
  },
  {
   "cell_type": "code",
   "execution_count": 91,
   "metadata": {},
   "outputs": [
    {
     "data": {
      "text/plain": [
       "Index(['id', 'user_id', 'shift_id', 'facility_id', 'withdrawninfo_value',\n",
       "       'status', 'prevStatus', 'distance', 'facility_id', 'shift_description',\n",
       "       'assigned_nurse_id', 'net_pay', 's_unit', 'type', 's_qualifications',\n",
       "       's_breakTime', 'withdrawnInfo', 'f_name', 'f_short_name', 'segmentName',\n",
       "       'areaName', 's_create', 'sa_create', 'u_approve', 'u_create',\n",
       "       'sa_statusupdate', 'Start_Time', 'U_create2U_approve', 'U_create2now',\n",
       "       'U_approve2now', 'S_create2SA_Create', 'SA_Create2Start_Time',\n",
       "       'S_Create2Start_Time', 'CW_Time2Start_Time'],\n",
       "      dtype='object')"
      ]
     },
     "execution_count": 91,
     "metadata": {},
     "output_type": "execute_result"
    }
   ],
   "source": [
    "df.columns"
   ]
  },
  {
   "cell_type": "code",
   "execution_count": 92,
   "metadata": {},
   "outputs": [],
   "source": [
    "# There are some negative numbers in these column. Target all = 0, drop for now\n",
    "df = df[(df[\"S_Create2Start_Time\"]>0) & (df[\"SA_Create2Start_Time\"]>0)]\n",
    "\n",
    "# sort by time that shift was created\n",
    "df = df.sort_values(by = 'sa_create').reset_index(drop = True)"
   ]
  },
  {
   "cell_type": "code",
   "execution_count": 93,
   "metadata": {
    "scrolled": true
   },
   "outputs": [
    {
     "data": {
      "text/plain": [
       "selected       47897\n",
       "unavailable       17\n",
       "applied            4\n",
       "cancelled          2\n",
       "Name: prevStatus, dtype: int64"
      ]
     },
     "execution_count": 93,
     "metadata": {},
     "output_type": "execute_result"
    }
   ],
   "source": [
    "# what are prevstatus column like when status = confirmed\n",
    "df[df['status'] == 'confirmed']['prevStatus'].value_counts()"
   ]
  },
  {
   "cell_type": "code",
   "execution_count": 94,
   "metadata": {
    "scrolled": true
   },
   "outputs": [
    {
     "data": {
      "text/plain": [
       "withdrawn    16664\n",
       "cancelled     8232\n",
       "applied          2\n",
       "Name: status, dtype: int64"
      ]
     },
     "execution_count": 94,
     "metadata": {},
     "output_type": "execute_result"
    }
   ],
   "source": [
    "# what are status column like when prevstatus = confirmed\n",
    "df[df['prevStatus'] == 'confirmed']['status'].value_counts()"
   ]
  },
  {
   "cell_type": "markdown",
   "metadata": {},
   "source": [
    "# Feature Engineering"
   ]
  },
  {
   "cell_type": "markdown",
   "metadata": {},
   "source": [
    "### Target: urgent withdrawn as 1"
   ]
  },
  {
   "cell_type": "code",
   "execution_count": 95,
   "metadata": {},
   "outputs": [],
   "source": [
    "def CW_by_nurse(row):\n",
    "    if row['status']=='withdrawn' and row['prevStatus'] == 'confirmed':\n",
    "        if row['withdrawninfo_value'] == 'nurse':\n",
    "            if row['CW_Time2Start_Time'] <= 24:\n",
    "                return 1\n",
    "            else:\n",
    "                return 0\n",
    "        else:\n",
    "            return 0\n",
    "    else:\n",
    "        return 0\n",
    "    \n",
    "df['target'] = df.apply (lambda row: CW_by_nurse(row), axis=1)"
   ]
  },
  {
   "cell_type": "code",
   "execution_count": 96,
   "metadata": {
    "scrolled": false
   },
   "outputs": [
    {
     "data": {
      "text/plain": [
       "0    186246\n",
       "1      5808\n",
       "Name: target, dtype: int64"
      ]
     },
     "execution_count": 96,
     "metadata": {},
     "output_type": "execute_result"
    }
   ],
   "source": [
    "df['target'].value_counts()"
   ]
  },
  {
   "cell_type": "markdown",
   "metadata": {},
   "source": [
    "### find extreme UCW rate facility from Top 30"
   ]
  },
  {
   "cell_type": "markdown",
   "metadata": {},
   "source": [
    "In the TOP 30 facilities, Ohio Living Breckenridge Village,The Weils and Park Manor of South Belt has the highest UCW rate.\n",
    "\n",
    "Whileas, The Hallmark and Village of Meyerland has the lowest UCW rate"
   ]
  },
  {
   "cell_type": "code",
   "execution_count": 97,
   "metadata": {},
   "outputs": [],
   "source": [
    "df['f_highrate'] = df.apply(lambda row:1 if row['f_name'] in ['Ohio Living Breckenridge Village',\n",
    "                                                              'The Weils', \n",
    "                                                              'Park Manor of South Belt'] else 0, axis = 1)\n",
    "df['f_lowrate'] = df.apply(lambda row:1 if row['f_name'] in ['The Hallmark', \n",
    "                                                              'Village of Meyerland'] else 0, axis = 1)"
   ]
  },
  {
   "cell_type": "markdown",
   "metadata": {},
   "source": [
    "###  Count previsous shift application"
   ]
  },
  {
   "cell_type": "code",
   "execution_count": 98,
   "metadata": {},
   "outputs": [],
   "source": [
    "# track by using dictionary\n",
    "count_prev_SA = []\n",
    "test = df[['user_id', 'sa_create']]\n",
    "\n",
    "# create SA dictionary, set all value = 0 -> dramatically reduce computational cost\n",
    "uid_library = list(pd.unique(test['user_id']))\n",
    "sa_dict = {} \n",
    "for uid in uid_library:\n",
    "    sa_dict.update({uid: 0}) \n",
    "    \n",
    "for i, v in enumerate(test['user_id']):\n",
    "    sa_dict[v] += 1\n",
    "    count_prev_SA.append(sa_dict[v]-1)\n",
    " \n",
    "df['count_prev_SA'] = count_prev_SA"
   ]
  },
  {
   "cell_type": "markdown",
   "metadata": {},
   "source": [
    "###  Count previsous urgent withdrawns"
   ]
  },
  {
   "cell_type": "code",
   "execution_count": 99,
   "metadata": {},
   "outputs": [],
   "source": [
    "# track by using dictionary\n",
    "count_prev_CW = []\n",
    "test = df[['user_id', 'count_prev_SA', 'sa_create', 'target']]\n",
    "\n",
    "# create cw dictionary, set all value = 0 -> dramatically reduce computational cost\n",
    "uid_library = list(pd.unique(test['user_id']))\n",
    "cw_dict = {} \n",
    "for uid in uid_library:\n",
    "    cw_dict.update({uid: 0}) \n",
    "    \n",
    "# fill dictionary and fill cw count\n",
    "for i, v in enumerate(test['user_id']):\n",
    "    if test['target'][i] == 1:\n",
    "        cw_dict[v] += 1\n",
    "        count_prev_CW.append(cw_dict[v]-1)\n",
    "    else:\n",
    "        count_prev_CW.append(cw_dict[v])\n",
    "        \n",
    "df['count_prev_CW'] = count_prev_CW"
   ]
  },
  {
   "cell_type": "markdown",
   "metadata": {},
   "source": [
    "### Count previsous urgent withdrawns/Count previsous shift applications"
   ]
  },
  {
   "cell_type": "code",
   "execution_count": 100,
   "metadata": {},
   "outputs": [],
   "source": [
    "df['prev_CW/SA_rate'] = df['count_prev_CW']/df['count_prev_SA']\n",
    "\n",
    "# fill nan with 0, happend bc 0/0, meaning rate = 0\n",
    "df['prev_CW/SA_rate'] = df['prev_CW/SA_rate'].fillna(0)"
   ]
  },
  {
   "cell_type": "markdown",
   "metadata": {},
   "source": [
    "### Previous withdrawn times previous apply"
   ]
  },
  {
   "cell_type": "code",
   "execution_count": 101,
   "metadata": {},
   "outputs": [],
   "source": [
    "df['prev_CW x SA_rate'] = df['count_prev_CW']*df['count_prev_SA']"
   ]
  },
  {
   "cell_type": "markdown",
   "metadata": {},
   "source": [
    "### 2 Type dummy: RN, LVN + LPN , Rest\n"
   ]
  },
  {
   "cell_type": "code",
   "execution_count": 102,
   "metadata": {},
   "outputs": [
    {
     "data": {
      "text/plain": [
       "CNA             102377\n",
       "STNA             39421\n",
       "LVN              18510\n",
       "RN               14539\n",
       "CMA/Med-Tech      7955\n",
       "LPN               6440\n",
       "Tech              2811\n",
       "rn                   1\n",
       "Name: type, dtype: int64"
      ]
     },
     "execution_count": 102,
     "metadata": {},
     "output_type": "execute_result"
    }
   ],
   "source": [
    "df['type'].value_counts()"
   ]
  },
  {
   "cell_type": "code",
   "execution_count": 103,
   "metadata": {},
   "outputs": [],
   "source": [
    "df['type_RN'] = df.apply(lambda row:1 if row['type'] == 'RN' else 0, axis = 1)\n",
    "df['type_LVN+LPN'] = df.apply(lambda row: 1 if row['type'] == 'LVN' or row['type'] == 'LPN' else 0, axis = 1)\n"
   ]
  },
  {
   "cell_type": "code",
   "execution_count": 104,
   "metadata": {},
   "outputs": [],
   "source": [
    "df['type_STNA'] = df.apply(lambda row:1 if row['type'] == 'STNA' else 0, axis = 1)"
   ]
  },
  {
   "cell_type": "code",
   "execution_count": 105,
   "metadata": {},
   "outputs": [],
   "source": [
    "df['type_CNA'] = df.apply(lambda row:1 if row['type'] == 'CNA' else 0, axis = 1)"
   ]
  },
  {
   "cell_type": "markdown",
   "metadata": {},
   "source": [
    "### 1 SegementName dummy: Senior Living, Healthcare"
   ]
  },
  {
   "cell_type": "code",
   "execution_count": 106,
   "metadata": {},
   "outputs": [
    {
     "data": {
      "text/plain": [
       "Senior Living    167445\n",
       "Healthcare        24609\n",
       "Name: segmentName, dtype: int64"
      ]
     },
     "execution_count": 106,
     "metadata": {},
     "output_type": "execute_result"
    }
   ],
   "source": [
    "df['segmentName'].value_counts()"
   ]
  },
  {
   "cell_type": "code",
   "execution_count": 107,
   "metadata": {},
   "outputs": [],
   "source": [
    "def create_segmentName_dummy(row):\n",
    "    if row['segmentName']=='Senior Living':\n",
    "        return 1\n",
    "    else:\n",
    "        return 0\n",
    "    \n",
    "df['segmentName_d'] = df.apply(lambda row: create_segmentName_dummy(row), axis=1)"
   ]
  },
  {
   "cell_type": "markdown",
   "metadata": {},
   "source": [
    "### 5 Facility Area Name Dummy"
   ]
  },
  {
   "cell_type": "code",
   "execution_count": 108,
   "metadata": {
    "scrolled": false
   },
   "outputs": [
    {
     "data": {
      "text/plain": [
       "Houston           108273\n",
       "Northeast Ohio     45986\n",
       "DFW                26350\n",
       "Austin              6334\n",
       "San Antonio         4603\n",
       "Cincinnati           508\n",
       "Name: areaName, dtype: int64"
      ]
     },
     "execution_count": 108,
     "metadata": {},
     "output_type": "execute_result"
    }
   ],
   "source": [
    "df['areaName'].value_counts()"
   ]
  },
  {
   "cell_type": "code",
   "execution_count": 109,
   "metadata": {},
   "outputs": [],
   "source": [
    "# Houston\n",
    "df['areaName_houston'] = df.apply(lambda row: 1 if row['areaName'] == 'Houston' else 0, axis = 1)\n",
    "\n",
    "# Northeast Ohio\n",
    "df['areaName_no'] = df.apply(lambda row: 1 if row['areaName'] == 'Northeast Ohio' else 0, axis = 1)\n",
    "\n",
    "# DFW\n",
    "df['areaName_dfw'] = df.apply(lambda row: 1 if row['areaName'] == 'DFW' else 0, axis = 1)\n",
    "\n",
    "# Austin\n",
    "df['areaName_austin'] = df.apply(lambda row: 1 if row['areaName'] == 'Austin' else 0, axis = 1)\n",
    "\n",
    "# San Antonio\n",
    "df['areaName_san'] = df.apply(lambda row: 1 if row['areaName'] == 'San Antonio' else 0, axis = 1)"
   ]
  },
  {
   "cell_type": "markdown",
   "metadata": {},
   "source": [
    "### keep only prevstatus or status = confirmed"
   ]
  },
  {
   "cell_type": "code",
   "execution_count": 110,
   "metadata": {},
   "outputs": [],
   "source": [
    "df = df[df.apply(lambda row: (row['prevStatus'] == 'confirmed') or (row['status'] == 'confirmed'), axis = 1)].reset_index(drop = True)"
   ]
  },
  {
   "cell_type": "code",
   "execution_count": 111,
   "metadata": {},
   "outputs": [
    {
     "data": {
      "text/plain": [
       "(77063, 51)"
      ]
     },
     "execution_count": 111,
     "metadata": {},
     "output_type": "execute_result"
    }
   ],
   "source": [
    "# how many left\n",
    "df.shape"
   ]
  },
  {
   "cell_type": "markdown",
   "metadata": {},
   "source": [
    "### How many previsous urgent withdrawns in a month"
   ]
  },
  {
   "cell_type": "code",
   "execution_count": 112,
   "metadata": {},
   "outputs": [],
   "source": [
    "import datetime\n",
    "from datetime import datetime\n",
    "from dateutil import relativedelta\n",
    "\n",
    "# new column, convert start time to string\n",
    "df['Str_Start_Time'] = df['Start_Time'].apply(lambda row: str(row))\n",
    "# get only year, month, day in starttime\n",
    "df['start_date'] = [w.split()[0] for w in list(df['Str_Start_Time'])]\n",
    "\n",
    "# track by using dictionary, sort temp dataframe by userid then startdate\n",
    "CW_in_a_month = []\n",
    "df = df.sort_values(by=['user_id','start_date'], ascending=True).reset_index(drop = True)\n",
    "test = df[['user_id', 'start_date', 'sa_create', 'target']].reset_index(drop = True)\n",
    "\n",
    "\n",
    "for i, v in enumerate(test['user_id']):\n",
    "    a = 0\n",
    "    CW = 0\n",
    "    delta = relativedelta.relativedelta(pd.to_datetime(test['start_date'][i-a]),\n",
    "                                        pd.to_datetime(test['start_date'][i]))\n",
    "    \n",
    "    while delta.months > -1 and test['user_id'][i-a] == v: \n",
    "        if test['target'][i-a] == 1 and test['user_id'][i-a] == v and a >= 1:\n",
    "            CW = 1\n",
    "            break\n",
    "    \n",
    "        elif i-a <= 1:\n",
    "            break\n",
    "\n",
    "        elif test['user_id'][i-a] != v:\n",
    "            break\n",
    "            \n",
    "        else:\n",
    "            a += 1\n",
    "            delta = relativedelta.relativedelta(pd.to_datetime(test['start_date'][i-a]),\n",
    "                                                pd.to_datetime(test['start_date'][i]))\n",
    "    CW_in_a_month.append(CW)\n",
    "\n",
    "df['CW_in_a_month'] = CW_in_a_month"
   ]
  },
  {
   "cell_type": "code",
   "execution_count": 113,
   "metadata": {},
   "outputs": [],
   "source": [
    "test1 = df[['user_id', 'start_date', 'CW_Time2Start_Time', 'target','status','prevStatus','withdrawninfo_value']]"
   ]
  },
  {
   "cell_type": "code",
   "execution_count": 114,
   "metadata": {},
   "outputs": [],
   "source": [
    "reliability_score = []\n",
    "\n",
    "\n",
    "for i, v in enumerate(test1['user_id']):\n",
    "    CW = 40\n",
    "    \n",
    "    if i==0:\n",
    "        reliability_score.append(50)\n",
    "    else:\n",
    "        if test1['user_id'][i] != test1['user_id'][i-1]:\n",
    "            reliability_score.append(50)\n",
    "        else:\n",
    "            if test1['status'][i]=='withdrawn' and test1['prevStatus'][i] == 'confirmed' and test1['withdrawninfo_value'][i] == 'nurse':\n",
    "                time = test1['CW_Time2Start_Time'][i]\n",
    "                if time < 5:\n",
    "                    score = reliability_score[-1] - 30\n",
    "                    reliability_score.append(score)\n",
    "                elif time >= 5 and time < 24:\n",
    "                    score = reliability_score[-1] - 15\n",
    "                    reliability_score.append(score)\n",
    "                elif time >= 24 and time < 48:\n",
    "                    score = reliability_score[-1] - 10\n",
    "                    reliability_score.append(score)\n",
    "                elif time >= 48 and time < 120:\n",
    "                    score = reliability_score[-1] - 7\n",
    "                    reliability_score.append(score)\n",
    "                else:\n",
    "                    score = reliability_score[-1] - 5\n",
    "                    reliability_score.append(score)\n",
    "            else:\n",
    "                score = reliability_score[-1] + 2\n",
    "                reliability_score.append(score)"
   ]
  },
  {
   "cell_type": "code",
   "execution_count": 115,
   "metadata": {},
   "outputs": [],
   "source": [
    "# set a cap to the list 0 - 100\n",
    "reliability_score = [max(min(x, 100), 0) for x in reliability_score]\n",
    "df['reliability_score'] = reliability_score"
   ]
  },
  {
   "cell_type": "markdown",
   "metadata": {},
   "source": [
    "### <font color = green>output feature dataframe"
   ]
  },
  {
   "cell_type": "code",
   "execution_count": 116,
   "metadata": {
    "scrolled": true
   },
   "outputs": [
    {
     "data": {
      "text/plain": [
       "Index(['id', 'user_id', 'shift_id', 'facility_id', 'withdrawninfo_value',\n",
       "       'status', 'prevStatus', 'distance', 'facility_id', 'shift_description',\n",
       "       'assigned_nurse_id', 'net_pay', 's_unit', 'type', 's_qualifications',\n",
       "       's_breakTime', 'withdrawnInfo', 'f_name', 'f_short_name', 'segmentName',\n",
       "       'areaName', 's_create', 'sa_create', 'u_approve', 'u_create',\n",
       "       'sa_statusupdate', 'Start_Time', 'U_create2U_approve', 'U_create2now',\n",
       "       'U_approve2now', 'S_create2SA_Create', 'SA_Create2Start_Time',\n",
       "       'S_Create2Start_Time', 'CW_Time2Start_Time', 'target', 'f_highrate',\n",
       "       'f_lowrate', 'count_prev_SA', 'count_prev_CW', 'prev_CW/SA_rate',\n",
       "       'prev_CW x SA_rate', 'type_RN', 'type_LVN+LPN', 'type_STNA', 'type_CNA',\n",
       "       'segmentName_d', 'areaName_houston', 'areaName_no', 'areaName_dfw',\n",
       "       'areaName_austin', 'areaName_san', 'Str_Start_Time', 'start_date',\n",
       "       'CW_in_a_month', 'reliability_score'],\n",
       "      dtype='object')"
      ]
     },
     "execution_count": 116,
     "metadata": {},
     "output_type": "execute_result"
    }
   ],
   "source": [
    "df.columns"
   ]
  },
  {
   "cell_type": "code",
   "execution_count": 117,
   "metadata": {},
   "outputs": [],
   "source": [
    "feature_df = df[['id', 'user_id', 'shift_id', 'prev_CW/SA_rate', 'status', 'S_create2SA_Create',\n",
    "                 'S_Create2Start_Time','SA_Create2Start_Time','U_create2now', 'U_approve2now','prev_CW x SA_rate',\n",
    "                 'type_RN', 'type_LVN+LPN', 'type_STNA','segmentName_d', 'areaName_houston', 'areaName_no', 'areaName_dfw', \n",
    "                 'areaName_austin', 'areaName_san', 'net_pay', 'target', 'sa_create', 'Start_Time',\n",
    "                 'CW_in_a_month', 'count_prev_SA', 'count_prev_CW','f_highrate','f_lowrate','type_CNA','reliability_score']]\n",
    "feature_df.to_csv('model_data_new.csv')"
   ]
  },
  {
   "cell_type": "code",
   "execution_count": 118,
   "metadata": {},
   "outputs": [
    {
     "data": {
      "text/plain": [
       "count    77063.000000\n",
       "mean        56.763778\n",
       "std         34.826829\n",
       "min          0.000000\n",
       "25%         31.000000\n",
       "50%         58.000000\n",
       "75%         94.000000\n",
       "max        100.000000\n",
       "Name: reliability_score, dtype: float64"
      ]
     },
     "execution_count": 118,
     "metadata": {},
     "output_type": "execute_result"
    }
   ],
   "source": [
    "# An summery of reliability score feature\n",
    "df['reliability_score'].describe()"
   ]
  },
  {
   "cell_type": "code",
   "execution_count": 119,
   "metadata": {},
   "outputs": [
    {
     "data": {
      "text/plain": [
       "(77063, 31)"
      ]
     },
     "execution_count": 119,
     "metadata": {},
     "output_type": "execute_result"
    }
   ],
   "source": [
    "feature_df.shape"
   ]
  },
  {
   "cell_type": "code",
   "execution_count": null,
   "metadata": {},
   "outputs": [],
   "source": []
  }
 ],
 "metadata": {
  "kernelspec": {
   "display_name": "Python 3",
   "language": "python",
   "name": "python3"
  },
  "language_info": {
   "codemirror_mode": {
    "name": "ipython",
    "version": 3
   },
   "file_extension": ".py",
   "mimetype": "text/x-python",
   "name": "python",
   "nbconvert_exporter": "python",
   "pygments_lexer": "ipython3",
   "version": "3.8.5"
  }
 },
 "nbformat": 4,
 "nbformat_minor": 4
}
