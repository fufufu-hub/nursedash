{
 "cells": [
  {
   "cell_type": "markdown",
   "metadata": {},
   "source": [
    "## Target- urgent withdrawn by nurse(within 24hr)\n",
    "* shift_applications status == 'cancelled' + shift_application prevStatus == 'confirmed'\n",
    "\n",
    "\n",
    "### IDs -> only look at shifts application, leave each shifts after\n",
    "* shift_applications id\n",
    "* shift_applications user_id\n",
    "* shift_applications shift_id\n",
    "\n",
    "\n",
    "### Numeric Field\n",
    "* shifts rate\n",
    "* shifts net_pay: rate - nursedash profit\n",
    "* shift_applications distance\n",
    "* shift break time\n",
    "* user withdrawn times: \n",
    "    Problem: \n",
    "        1. We don't know in reality that you will withdraw your previous one.\n",
    "        2. cannot be used to predict new user\n",
    "* user applied times:\n",
    "* prev SA/CW rate\n",
    "\n",
    "\n",
    "## Time\n",
    "### shift, shift app time\n",
    "* S_Create (shift created) => SA_Create (application created) => CWTime (comfim withdrawn) => Start_Time (shift start)\n",
    "* S_Create: shift create time\n",
    "* SA_Create: shift application create time\n",
    "* CWTime: shift withdrawn time, whole confirmed withdrawn population (include within 24hr and > 24hr)\n",
    "* Start_Time: shift start time\n",
    "##### calculated field, graph in hours\n",
    "* S_Create2SA_Create: shift application create time - shift create time\n",
    "* S_Create2Start_Time: shift start time - shift create time\n",
    "        1. has negative values. delete maybe?\n",
    "* SA_Create2Start_Time: shift start time - shift application create time\n",
    "        1. has negative values. delete maybe?\n",
    "\n",
    "### User\n",
    "* user approvedAt:\n",
    "* user createdAt:\n",
    "#### Calculated field\n",
    "* U_Create2U_approved: User approve time - User create time\n",
    "* U_Create2now: now - User create time, in months(seconds/2629746)\n",
    "* U_Approve2now: now - User approve time\n",
    "\n",
    "\n",
    "### Categorical\n",
    "* shifts role: position name + type\n",
    "* facilities name = facilities short_name\n",
    "* facilities areaId = facilities areaName\n",
    "* withdrawnInfo_key, withdrawnInfo_value\n",
    "* facilities segmentName: Senior Living = 1, Healthcare = 0\n",
    "* Users enableNotifications:\n",
    "* Users emailNotifications:\n",
    "* Users appNotifications:\n",
    "* Users allowedNotifications:\n",
    "\n",
    "\n",
    "### ?\n",
    "* facilities allowedQualification\n",
    "* facilities createdAt\n",
    "* facilities rates\n",
    "* nurse shift withdrawn by admin, when policy start, how many withdrawn by admin\n",
    "* shifts = unit\n",
    "* role\n",
    "* users updateAt ?\n",
    "* users relationToFacility"
   ]
  },
  {
   "cell_type": "markdown",
   "metadata": {},
   "source": [
    "# Connect to DB, Fetch data"
   ]
  },
  {
   "cell_type": "code",
   "execution_count": 3,
   "metadata": {},
   "outputs": [],
   "source": [
    "import pandas as pd\n",
    "import numpy as np\n",
    "# specify connection to database\n",
    "import psycopg2\n",
    "connection = psycopg2.connect(\n",
    "    host=\"nursedash-prod.cuzi2kducsnv.us-east-1.rds.amazonaws.com\",\n",
    "    database=\"nursedash\",\n",
    "    user=\"external_analyst\",\n",
    "    password=\"vWHYpF9CNtC9KWBG7sZ5JvX9\")"
   ]
  },
  {
   "cell_type": "markdown",
   "metadata": {},
   "source": [
    "### <font color = green> all time to chicago time, No withdrawn info"
   ]
  },
  {
   "cell_type": "code",
   "execution_count": 4,
   "metadata": {},
   "outputs": [],
   "source": [
    "df = pd.read_sql_query(\"\"\"\n",
    "\n",
    "SELECT  sa.id, sa.user_id, sa.shift_id, f.id AS facility_id, sa.\"withdrawnInfo\" -> 'initiator' as withdrawnInfo_value,\n",
    "sa.\"status\", sa.\"prevStatus\", \"s\".\"status\" AS \"s_status\", s.\"facility_id\", \"s\".\"description\" AS \"shift_description\",\n",
    "\"s\".\"assigned_nurse_id\", s.\"net_pay\", \"s\".\"unit\" AS \"s_unit\",s.\"type\", sa.\"hasNurseCheckEvent\",\n",
    "\"s\".\"qualifications\" AS \"s_qualifications\", \"s\".\"breakTime\" AS \"s_breakTime\", sa.\"withdrawnInfo\",\n",
    "\"f\".\"name\" AS \"f_name\",\"f\".\"short_name\" AS \"f_short_name\", f.\"segmentName\", f.\"areaName\", \n",
    "timezone('America/Chicago', t.\"currentCheckInTime\") as t_checkin,\n",
    "timezone('America/Chicago', s.\"createdAt\") as s_create,\n",
    "timezone('America/Chicago', sa.\"createdAt\") as sa_create,\n",
    "timezone('America/Chicago', u.\"approvedAt\") as u_approve,\n",
    "timezone('America/Chicago', u.\"createdAt\") as u_create,\n",
    "timezone('America/Chicago', sa.\"statusUpdatedAt\") as sa_statusUpdate,\n",
    "timezone('America/Chicago', timezone('UTC', s.start_time)) AS \"Start_Time\" \n",
    "FROM shifts s\n",
    "Left JOIN \"TimeChangeRequests\" t ON t.\"shiftId\" = s.id\n",
    "INNER JOIN shift_applications sa ON s.id = sa.shift_id\n",
    "INNER JOIN facilities f ON s.facility_id = f.id\n",
    "INNER JOIN users u ON sa.user_id = u.id\n",
    "\n",
    "\"\"\", con = connection)"
   ]
  },
  {
   "cell_type": "code",
   "execution_count": 5,
   "metadata": {
    "scrolled": true
   },
   "outputs": [
    {
     "data": {
      "text/plain": [
       "Index(['id', 'user_id', 'shift_id', 'facility_id', 'withdrawninfo_value',\n",
       "       'status', 'prevStatus', 's_status', 'facility_id', 'shift_description',\n",
       "       'assigned_nurse_id', 'net_pay', 's_unit', 'type', 'hasNurseCheckEvent',\n",
       "       's_qualifications', 's_breakTime', 'withdrawnInfo', 'f_name',\n",
       "       'f_short_name', 'segmentName', 'areaName', 't_checkin', 's_create',\n",
       "       'sa_create', 'u_approve', 'u_create', 'sa_statusupdate', 'Start_Time'],\n",
       "      dtype='object')"
      ]
     },
     "execution_count": 5,
     "metadata": {},
     "output_type": "execute_result"
    }
   ],
   "source": [
    "df.columns"
   ]
  },
  {
   "cell_type": "markdown",
   "metadata": {},
   "source": [
    "### <font color = green> these features was done in sql before"
   ]
  },
  {
   "cell_type": "markdown",
   "metadata": {},
   "source": [
    "### U_create2U_approve, in hours"
   ]
  },
  {
   "cell_type": "code",
   "execution_count": 6,
   "metadata": {},
   "outputs": [],
   "source": [
    "from datetime import datetime\n",
    "df['U_create2U_approve'] = df.apply(lambda row: (row['u_approve'] - row['u_create']).total_seconds()/3600, \n",
    "                                    axis = 1)"
   ]
  },
  {
   "cell_type": "markdown",
   "metadata": {},
   "source": [
    "### U_create2now, in month"
   ]
  },
  {
   "cell_type": "code",
   "execution_count": 7,
   "metadata": {},
   "outputs": [],
   "source": [
    "df['U_create2now'] = df.apply(lambda row: (datetime.now() - row['u_create']).total_seconds()/2629746, \n",
    "                              axis = 1)"
   ]
  },
  {
   "cell_type": "markdown",
   "metadata": {},
   "source": [
    "### U_approve2now, in month"
   ]
  },
  {
   "cell_type": "code",
   "execution_count": 8,
   "metadata": {},
   "outputs": [],
   "source": [
    "df['U_approve2now'] = df.apply(lambda row: (datetime.now() - row['u_approve']).total_seconds()/2629746, \n",
    "                               axis = 1)"
   ]
  },
  {
   "cell_type": "markdown",
   "metadata": {},
   "source": [
    "### S_create2SA_Create, in hours"
   ]
  },
  {
   "cell_type": "code",
   "execution_count": 9,
   "metadata": {},
   "outputs": [],
   "source": [
    "df['S_create2SA_Create'] = df.apply(lambda row: (row['sa_create'] - row['s_create']).total_seconds()/3600, \n",
    "                                    axis = 1)"
   ]
  },
  {
   "cell_type": "markdown",
   "metadata": {},
   "source": [
    "### SA_Create2Start_Time"
   ]
  },
  {
   "cell_type": "code",
   "execution_count": 10,
   "metadata": {},
   "outputs": [],
   "source": [
    "# some start time is at year 0019 \n",
    "df['SA_Create2Start_Time'] = df.apply(lambda row: (row['Start_Time'] - row['sa_create']).total_seconds()/3600 if str(row['Start_Time'])[:2] != '00' else 9999, \n",
    "                                         axis = 1)"
   ]
  },
  {
   "cell_type": "markdown",
   "metadata": {},
   "source": [
    "### S_Create2Start_Time"
   ]
  },
  {
   "cell_type": "code",
   "execution_count": 11,
   "metadata": {},
   "outputs": [],
   "source": [
    "df['S_Create2Start_Time'] = df.apply(lambda row: (row['Start_Time'] - row['s_create']).total_seconds()/3600 if str(row['Start_Time'])[:2] != '00' else 9999, \n",
    "                                         axis = 1)"
   ]
  },
  {
   "cell_type": "markdown",
   "metadata": {},
   "source": [
    "### CW_Time2Start_Time"
   ]
  },
  {
   "cell_type": "code",
   "execution_count": 12,
   "metadata": {},
   "outputs": [],
   "source": [
    "# CW_Time2Start_Time\n",
    "df['CW_Time2Start_Time'] = df.apply(lambda row: (row['Start_Time'] - row['sa_statusupdate']).total_seconds()/3600 if str(row['Start_Time'])[:2] != '00' else 9999, \n",
    "                                         axis = 1)"
   ]
  },
  {
   "cell_type": "markdown",
   "metadata": {},
   "source": [
    "### Checkin time 2Start_Time, In minutes"
   ]
  },
  {
   "cell_type": "code",
   "execution_count": 36,
   "metadata": {},
   "outputs": [],
   "source": [
    "df['checkin_Time2Start_Time'] = df.apply(lambda row: (row['Start_Time'] - row['t_checkin']).total_seconds()/60 if str(row['Start_Time'])[:2] != '00' else 99, \n",
    "                                         axis = 1)\n",
    "# # fill na as 0\n",
    "# df['checkin_Time2Start_Time'] = df['checkin_Time2Start_Time'].fillna(0)"
   ]
  },
  {
   "cell_type": "markdown",
   "metadata": {},
   "source": [
    "# Data Cleaning"
   ]
  },
  {
   "cell_type": "code",
   "execution_count": 37,
   "metadata": {},
   "outputs": [],
   "source": [
    "# There are some negative numbers in these column. Target all = 0, drop for now\n",
    "df = df[(df[\"S_Create2Start_Time\"]>0) & (df[\"SA_Create2Start_Time\"]>0)]\n",
    "\n",
    "# sort by time that shift was created\n",
    "df = df.sort_values(by = 'sa_create').reset_index(drop = True)"
   ]
  },
  {
   "cell_type": "code",
   "execution_count": 38,
   "metadata": {},
   "outputs": [
    {
     "data": {
      "text/plain": [
       "(195502, 38)"
      ]
     },
     "execution_count": 38,
     "metadata": {},
     "output_type": "execute_result"
    }
   ],
   "source": [
    "df.shape"
   ]
  },
  {
   "cell_type": "code",
   "execution_count": 39,
   "metadata": {},
   "outputs": [
    {
     "data": {
      "text/plain": [
       "pending review      27337\n",
       "completed           23026\n",
       "pending clock        1900\n",
       "confirmed            1299\n",
       "opened                  6\n",
       "pending check-in        4\n",
       "Name: s_status, dtype: int64"
      ]
     },
     "execution_count": 39,
     "metadata": {},
     "output_type": "execute_result"
    }
   ],
   "source": [
    "df[df['status'] == 'confirmed']['s_status'].value_counts()"
   ]
  },
  {
   "cell_type": "code",
   "execution_count": 40,
   "metadata": {
    "scrolled": true
   },
   "outputs": [
    {
     "data": {
      "text/plain": [
       "selected       49302\n",
       "unavailable       18\n",
       "applied            5\n",
       "cancelled          2\n",
       "Name: prevStatus, dtype: int64"
      ]
     },
     "execution_count": 40,
     "metadata": {},
     "output_type": "execute_result"
    }
   ],
   "source": [
    "# what are prevstatus column like when status = confirmed\n",
    "df[df['status'] == 'confirmed']['prevStatus'].value_counts()"
   ]
  },
  {
   "cell_type": "code",
   "execution_count": 41,
   "metadata": {
    "scrolled": true
   },
   "outputs": [
    {
     "data": {
      "text/plain": [
       "withdrawn    17031\n",
       "cancelled     8384\n",
       "applied          2\n",
       "Name: status, dtype: int64"
      ]
     },
     "execution_count": 41,
     "metadata": {},
     "output_type": "execute_result"
    }
   ],
   "source": [
    "# what are status column like when prevstatus = confirmed\n",
    "df[df['prevStatus'] == 'confirmed']['status'].value_counts()"
   ]
  },
  {
   "cell_type": "markdown",
   "metadata": {},
   "source": [
    "# Feature Engineering"
   ]
  },
  {
   "cell_type": "markdown",
   "metadata": {},
   "source": [
    "### Target: urgent withdrawn as 1"
   ]
  },
  {
   "cell_type": "code",
   "execution_count": 42,
   "metadata": {},
   "outputs": [],
   "source": [
    "def CW_by_nurse(row):\n",
    "    if row['status']=='withdrawn' and row['prevStatus'] == 'confirmed':\n",
    "        if row['withdrawninfo_value'] == 'nurse':\n",
    "            if row['CW_Time2Start_Time'] <= 24:\n",
    "                return 1\n",
    "            else:\n",
    "                return 0\n",
    "        else:\n",
    "            return 0\n",
    "    else:\n",
    "        return 0\n",
    "    \n",
    "df['target'] = df.apply (lambda row: CW_by_nurse(row), axis=1)"
   ]
  },
  {
   "cell_type": "code",
   "execution_count": 43,
   "metadata": {
    "scrolled": true
   },
   "outputs": [
    {
     "data": {
      "text/plain": [
       "0    189512\n",
       "1      5990\n",
       "Name: target, dtype: int64"
      ]
     },
     "execution_count": 43,
     "metadata": {},
     "output_type": "execute_result"
    }
   ],
   "source": [
    "df['target'].value_counts()"
   ]
  },
  {
   "cell_type": "markdown",
   "metadata": {},
   "source": [
    "### Reliability Score"
   ]
  },
  {
   "cell_type": "code",
   "execution_count": 44,
   "metadata": {},
   "outputs": [
    {
     "name": "stderr",
     "output_type": "stream",
     "text": [
      "<ipython-input-44-c631e4250a8f>:4: SettingWithCopyWarning: \n",
      "A value is trying to be set on a copy of a slice from a DataFrame.\n",
      "Try using .loc[row_indexer,col_indexer] = value instead\n",
      "\n",
      "See the caveats in the documentation: https://pandas.pydata.org/pandas-docs/stable/user_guide/indexing.html#returning-a-view-versus-a-copy\n",
      "  test['count'] = np.ones(len(test))\n"
     ]
    }
   ],
   "source": [
    "test = df[['id', 'user_id', 'CW_Time2Start_Time', 'target',\n",
    "           'status','prevStatus', 'withdrawninfo_value', \n",
    "           'checkin_Time2Start_Time', 's_status', 'Start_Time']]\n",
    "test['count'] = np.ones(len(test))\n",
    "# sort by start time and user id\n",
    "test = test.sort_values(by = ['user_id', 'Start_Time'], ascending = True).reset_index(drop = True)\n",
    "\n",
    "# test[['status', 'prevStatus', 's_status', 'count']].groupby(by = ['status', 's_status']).sum()"
   ]
  },
  {
   "cell_type": "code",
   "execution_count": 52,
   "metadata": {
    "scrolled": true
   },
   "outputs": [],
   "source": [
    "# create realibilty score dictionary\n",
    "uid_library = list(pd.unique(test['user_id']))\n",
    "Rscore_dict = {}\n",
    "for uid in uid_library:\n",
    "    Rscore_dict.update({uid:40})\n",
    "    \n",
    "# create Rs list to join with dataframe\n",
    "RS_list = []\n",
    "# fill Rs list\n",
    "for i, v in enumerate(test['user_id']):\n",
    "    ## record RS before event happen\n",
    "    RS_list.append(Rscore_dict[v])\n",
    "    \n",
    "    ## calculate next application's RS\n",
    "    \n",
    "    # if UCW\n",
    "    if test['status'][i] == 'withdrawn' and test['prevStatus'][i] == 'confirmed':\n",
    "        # ucw < 5\n",
    "        if test['CW_Time2Start_Time'][i] < 5: \n",
    "            Rscore_dict[v] -= 40\n",
    "        # 5 < ucw < 12\n",
    "        elif test['CW_Time2Start_Time'][i] < 12:\n",
    "            Rscore_dict[v] -= 20\n",
    "        # 12 < ucw < 24\n",
    "        elif test['CW_Time2Start_Time'][i] < 24:\n",
    "            Rscore_dict[v] -= 10\n",
    "        # 24 < ucw < 48\n",
    "        elif test['CW_Time2Start_Time'][i] < 48:\n",
    "            Rscore_dict[v] -= 7\n",
    "        # ucw > 48\n",
    "        else:\n",
    "            Rscore_dict[v] -= 3\n",
    "    # if not ucw -> check if check in on time/early/late    \n",
    "    else:\n",
    "        if test['checkin_Time2Start_Time'][i] > 2:\n",
    "            Rscore_dict[v] += 10\n",
    "        else:\n",
    "            Rscore_dict[v] += 5\n",
    "            \n",
    "test['reliability_score'] = RS_list"
   ]
  },
  {
   "cell_type": "code",
   "execution_count": 58,
   "metadata": {},
   "outputs": [],
   "source": [
    "test = test[['id', 'reliability_score']]"
   ]
  },
  {
   "cell_type": "code",
   "execution_count": 60,
   "metadata": {
    "scrolled": true
   },
   "outputs": [
    {
     "data": {
      "text/html": [
       "<div>\n",
       "<style scoped>\n",
       "    .dataframe tbody tr th:only-of-type {\n",
       "        vertical-align: middle;\n",
       "    }\n",
       "\n",
       "    .dataframe tbody tr th {\n",
       "        vertical-align: top;\n",
       "    }\n",
       "\n",
       "    .dataframe thead th {\n",
       "        text-align: right;\n",
       "    }\n",
       "</style>\n",
       "<table border=\"1\" class=\"dataframe\">\n",
       "  <thead>\n",
       "    <tr style=\"text-align: right;\">\n",
       "      <th></th>\n",
       "      <th>id</th>\n",
       "      <th>user_id</th>\n",
       "      <th>shift_id</th>\n",
       "      <th>facility_id</th>\n",
       "      <th>withdrawninfo_value</th>\n",
       "      <th>status</th>\n",
       "      <th>prevStatus</th>\n",
       "      <th>s_status</th>\n",
       "      <th>facility_id</th>\n",
       "      <th>shift_description</th>\n",
       "      <th>...</th>\n",
       "      <th>U_create2U_approve</th>\n",
       "      <th>U_create2now</th>\n",
       "      <th>U_approve2now</th>\n",
       "      <th>S_create2SA_Create</th>\n",
       "      <th>SA_Create2Start_Time</th>\n",
       "      <th>S_Create2Start_Time</th>\n",
       "      <th>CW_Time2Start_Time</th>\n",
       "      <th>checkin_Time2Start_Time</th>\n",
       "      <th>target</th>\n",
       "      <th>reliability_score</th>\n",
       "    </tr>\n",
       "  </thead>\n",
       "  <tbody>\n",
       "    <tr>\n",
       "      <th>0</th>\n",
       "      <td>595</td>\n",
       "      <td>249</td>\n",
       "      <td>381</td>\n",
       "      <td>7</td>\n",
       "      <td>None</td>\n",
       "      <td>applied</td>\n",
       "      <td>None</td>\n",
       "      <td>opened</td>\n",
       "      <td>7</td>\n",
       "      <td>RN shift available at outpatient surgical cent...</td>\n",
       "      <td>...</td>\n",
       "      <td>5355.156274</td>\n",
       "      <td>34.153333</td>\n",
       "      <td>26.822377</td>\n",
       "      <td>0.000054</td>\n",
       "      <td>260.567604</td>\n",
       "      <td>260.567659</td>\n",
       "      <td>NaN</td>\n",
       "      <td>NaN</td>\n",
       "      <td>0</td>\n",
       "      <td>45</td>\n",
       "    </tr>\n",
       "    <tr>\n",
       "      <th>1</th>\n",
       "      <td>610</td>\n",
       "      <td>224</td>\n",
       "      <td>377</td>\n",
       "      <td>7</td>\n",
       "      <td>None</td>\n",
       "      <td>confirmed</td>\n",
       "      <td>None</td>\n",
       "      <td>completed</td>\n",
       "      <td>7</td>\n",
       "      <td>RN shift available at outpatient surgical cent...</td>\n",
       "      <td>...</td>\n",
       "      <td>8717.185249</td>\n",
       "      <td>34.153334</td>\n",
       "      <td>22.219917</td>\n",
       "      <td>0.000054</td>\n",
       "      <td>91.567604</td>\n",
       "      <td>91.567659</td>\n",
       "      <td>NaN</td>\n",
       "      <td>NaN</td>\n",
       "      <td>0</td>\n",
       "      <td>45</td>\n",
       "    </tr>\n",
       "    <tr>\n",
       "      <th>2</th>\n",
       "      <td>598</td>\n",
       "      <td>240</td>\n",
       "      <td>386</td>\n",
       "      <td>15</td>\n",
       "      <td>None</td>\n",
       "      <td>confirmed</td>\n",
       "      <td>None</td>\n",
       "      <td>completed</td>\n",
       "      <td>15</td>\n",
       "      <td>Pain cases</td>\n",
       "      <td>...</td>\n",
       "      <td>7820.348547</td>\n",
       "      <td>34.153333</td>\n",
       "      <td>23.447643</td>\n",
       "      <td>0.000054</td>\n",
       "      <td>22.567604</td>\n",
       "      <td>22.567659</td>\n",
       "      <td>NaN</td>\n",
       "      <td>NaN</td>\n",
       "      <td>0</td>\n",
       "      <td>40</td>\n",
       "    </tr>\n",
       "    <tr>\n",
       "      <th>3</th>\n",
       "      <td>600</td>\n",
       "      <td>230</td>\n",
       "      <td>386</td>\n",
       "      <td>15</td>\n",
       "      <td>None</td>\n",
       "      <td>applied</td>\n",
       "      <td>None</td>\n",
       "      <td>completed</td>\n",
       "      <td>15</td>\n",
       "      <td>Pain cases</td>\n",
       "      <td>...</td>\n",
       "      <td>8840.949854</td>\n",
       "      <td>34.153333</td>\n",
       "      <td>22.050488</td>\n",
       "      <td>0.000054</td>\n",
       "      <td>22.567604</td>\n",
       "      <td>22.567659</td>\n",
       "      <td>NaN</td>\n",
       "      <td>NaN</td>\n",
       "      <td>0</td>\n",
       "      <td>45</td>\n",
       "    </tr>\n",
       "    <tr>\n",
       "      <th>4</th>\n",
       "      <td>580</td>\n",
       "      <td>226</td>\n",
       "      <td>380</td>\n",
       "      <td>7</td>\n",
       "      <td>None</td>\n",
       "      <td>confirmed</td>\n",
       "      <td>None</td>\n",
       "      <td>completed</td>\n",
       "      <td>7</td>\n",
       "      <td>RN shift available at outpatient surgical cent...</td>\n",
       "      <td>...</td>\n",
       "      <td>6193.915377</td>\n",
       "      <td>34.153334</td>\n",
       "      <td>25.674156</td>\n",
       "      <td>0.000054</td>\n",
       "      <td>188.567604</td>\n",
       "      <td>188.567659</td>\n",
       "      <td>NaN</td>\n",
       "      <td>NaN</td>\n",
       "      <td>0</td>\n",
       "      <td>40</td>\n",
       "    </tr>\n",
       "    <tr>\n",
       "      <th>...</th>\n",
       "      <td>...</td>\n",
       "      <td>...</td>\n",
       "      <td>...</td>\n",
       "      <td>...</td>\n",
       "      <td>...</td>\n",
       "      <td>...</td>\n",
       "      <td>...</td>\n",
       "      <td>...</td>\n",
       "      <td>...</td>\n",
       "      <td>...</td>\n",
       "      <td>...</td>\n",
       "      <td>...</td>\n",
       "      <td>...</td>\n",
       "      <td>...</td>\n",
       "      <td>...</td>\n",
       "      <td>...</td>\n",
       "      <td>...</td>\n",
       "      <td>...</td>\n",
       "      <td>...</td>\n",
       "      <td>...</td>\n",
       "      <td>...</td>\n",
       "    </tr>\n",
       "    <tr>\n",
       "      <th>196317</th>\n",
       "      <td>198941</td>\n",
       "      <td>4331</td>\n",
       "      <td>160228</td>\n",
       "      <td>21</td>\n",
       "      <td>None</td>\n",
       "      <td>applied</td>\n",
       "      <td>None</td>\n",
       "      <td>opened</td>\n",
       "      <td>21</td>\n",
       "      <td>Assisted living or Memory care whichever needs...</td>\n",
       "      <td>...</td>\n",
       "      <td>1244.807055</td>\n",
       "      <td>23.068529</td>\n",
       "      <td>21.364451</td>\n",
       "      <td>5.788388</td>\n",
       "      <td>81.347731</td>\n",
       "      <td>87.136119</td>\n",
       "      <td>81.347731</td>\n",
       "      <td>NaN</td>\n",
       "      <td>0</td>\n",
       "      <td>1112</td>\n",
       "    </tr>\n",
       "    <tr>\n",
       "      <th>196318</th>\n",
       "      <td>198942</td>\n",
       "      <td>4331</td>\n",
       "      <td>151178</td>\n",
       "      <td>112</td>\n",
       "      <td>None</td>\n",
       "      <td>applied</td>\n",
       "      <td>None</td>\n",
       "      <td>opened</td>\n",
       "      <td>112</td>\n",
       "      <td>AL</td>\n",
       "      <td>...</td>\n",
       "      <td>1244.807055</td>\n",
       "      <td>23.068529</td>\n",
       "      <td>21.364450</td>\n",
       "      <td>433.712022</td>\n",
       "      <td>81.333036</td>\n",
       "      <td>515.045058</td>\n",
       "      <td>81.333036</td>\n",
       "      <td>NaN</td>\n",
       "      <td>0</td>\n",
       "      <td>1117</td>\n",
       "    </tr>\n",
       "    <tr>\n",
       "      <th>196319</th>\n",
       "      <td>198943</td>\n",
       "      <td>4331</td>\n",
       "      <td>159551</td>\n",
       "      <td>75</td>\n",
       "      <td>None</td>\n",
       "      <td>applied</td>\n",
       "      <td>None</td>\n",
       "      <td>opened</td>\n",
       "      <td>75</td>\n",
       "      <td>None</td>\n",
       "      <td>...</td>\n",
       "      <td>1244.807055</td>\n",
       "      <td>23.068530</td>\n",
       "      <td>21.364451</td>\n",
       "      <td>55.570796</td>\n",
       "      <td>49.315619</td>\n",
       "      <td>104.886416</td>\n",
       "      <td>49.315619</td>\n",
       "      <td>NaN</td>\n",
       "      <td>0</td>\n",
       "      <td>1082</td>\n",
       "    </tr>\n",
       "    <tr>\n",
       "      <th>196320</th>\n",
       "      <td>198944</td>\n",
       "      <td>4331</td>\n",
       "      <td>159541</td>\n",
       "      <td>75</td>\n",
       "      <td>None</td>\n",
       "      <td>applied</td>\n",
       "      <td>None</td>\n",
       "      <td>opened</td>\n",
       "      <td>75</td>\n",
       "      <td>None</td>\n",
       "      <td>...</td>\n",
       "      <td>1244.807055</td>\n",
       "      <td>23.068528</td>\n",
       "      <td>21.364449</td>\n",
       "      <td>56.786195</td>\n",
       "      <td>49.313560</td>\n",
       "      <td>106.099755</td>\n",
       "      <td>49.313560</td>\n",
       "      <td>NaN</td>\n",
       "      <td>0</td>\n",
       "      <td>1087</td>\n",
       "    </tr>\n",
       "    <tr>\n",
       "      <th>196321</th>\n",
       "      <td>198945</td>\n",
       "      <td>11381</td>\n",
       "      <td>155563</td>\n",
       "      <td>318</td>\n",
       "      <td>None</td>\n",
       "      <td>applied</td>\n",
       "      <td>None</td>\n",
       "      <td>opened</td>\n",
       "      <td>318</td>\n",
       "      <td>Dress Code Policy: ND caregivers/nurses are ex...</td>\n",
       "      <td>...</td>\n",
       "      <td>6707.881838</td>\n",
       "      <td>9.498954</td>\n",
       "      <td>0.316180</td>\n",
       "      <td>228.307470</td>\n",
       "      <td>17.125325</td>\n",
       "      <td>245.432795</td>\n",
       "      <td>17.125325</td>\n",
       "      <td>NaN</td>\n",
       "      <td>0</td>\n",
       "      <td>105</td>\n",
       "    </tr>\n",
       "  </tbody>\n",
       "</table>\n",
       "<p>196322 rows × 39 columns</p>\n",
       "</div>"
      ],
      "text/plain": [
       "            id  user_id  shift_id  facility_id withdrawninfo_value     status  \\\n",
       "0          595      249       381            7                None    applied   \n",
       "1          610      224       377            7                None  confirmed   \n",
       "2          598      240       386           15                None  confirmed   \n",
       "3          600      230       386           15                None    applied   \n",
       "4          580      226       380            7                None  confirmed   \n",
       "...        ...      ...       ...          ...                 ...        ...   \n",
       "196317  198941     4331    160228           21                None    applied   \n",
       "196318  198942     4331    151178          112                None    applied   \n",
       "196319  198943     4331    159551           75                None    applied   \n",
       "196320  198944     4331    159541           75                None    applied   \n",
       "196321  198945    11381    155563          318                None    applied   \n",
       "\n",
       "       prevStatus   s_status  facility_id  \\\n",
       "0            None     opened            7   \n",
       "1            None  completed            7   \n",
       "2            None  completed           15   \n",
       "3            None  completed           15   \n",
       "4            None  completed            7   \n",
       "...           ...        ...          ...   \n",
       "196317       None     opened           21   \n",
       "196318       None     opened          112   \n",
       "196319       None     opened           75   \n",
       "196320       None     opened           75   \n",
       "196321       None     opened          318   \n",
       "\n",
       "                                        shift_description  ...  \\\n",
       "0       RN shift available at outpatient surgical cent...  ...   \n",
       "1       RN shift available at outpatient surgical cent...  ...   \n",
       "2                                              Pain cases  ...   \n",
       "3                                              Pain cases  ...   \n",
       "4       RN shift available at outpatient surgical cent...  ...   \n",
       "...                                                   ...  ...   \n",
       "196317  Assisted living or Memory care whichever needs...  ...   \n",
       "196318                                                 AL  ...   \n",
       "196319                                               None  ...   \n",
       "196320                                               None  ...   \n",
       "196321  Dress Code Policy: ND caregivers/nurses are ex...  ...   \n",
       "\n",
       "        U_create2U_approve  U_create2now  U_approve2now S_create2SA_Create  \\\n",
       "0              5355.156274     34.153333      26.822377           0.000054   \n",
       "1              8717.185249     34.153334      22.219917           0.000054   \n",
       "2              7820.348547     34.153333      23.447643           0.000054   \n",
       "3              8840.949854     34.153333      22.050488           0.000054   \n",
       "4              6193.915377     34.153334      25.674156           0.000054   \n",
       "...                    ...           ...            ...                ...   \n",
       "196317         1244.807055     23.068529      21.364451           5.788388   \n",
       "196318         1244.807055     23.068529      21.364450         433.712022   \n",
       "196319         1244.807055     23.068530      21.364451          55.570796   \n",
       "196320         1244.807055     23.068528      21.364449          56.786195   \n",
       "196321         6707.881838      9.498954       0.316180         228.307470   \n",
       "\n",
       "        SA_Create2Start_Time S_Create2Start_Time  CW_Time2Start_Time  \\\n",
       "0                 260.567604          260.567659                 NaN   \n",
       "1                  91.567604           91.567659                 NaN   \n",
       "2                  22.567604           22.567659                 NaN   \n",
       "3                  22.567604           22.567659                 NaN   \n",
       "4                 188.567604          188.567659                 NaN   \n",
       "...                      ...                 ...                 ...   \n",
       "196317             81.347731           87.136119           81.347731   \n",
       "196318             81.333036          515.045058           81.333036   \n",
       "196319             49.315619          104.886416           49.315619   \n",
       "196320             49.313560          106.099755           49.313560   \n",
       "196321             17.125325          245.432795           17.125325   \n",
       "\n",
       "       checkin_Time2Start_Time target reliability_score  \n",
       "0                          NaN      0                45  \n",
       "1                          NaN      0                45  \n",
       "2                          NaN      0                40  \n",
       "3                          NaN      0                45  \n",
       "4                          NaN      0                40  \n",
       "...                        ...    ...               ...  \n",
       "196317                     NaN      0              1112  \n",
       "196318                     NaN      0              1117  \n",
       "196319                     NaN      0              1082  \n",
       "196320                     NaN      0              1087  \n",
       "196321                     NaN      0               105  \n",
       "\n",
       "[196322 rows x 39 columns]"
      ]
     },
     "execution_count": 60,
     "metadata": {},
     "output_type": "execute_result"
    }
   ],
   "source": [
    "df.merge(test, left_on='id', right_on = 'id')"
   ]
  },
  {
   "cell_type": "code",
   "execution_count": 55,
   "metadata": {
    "scrolled": false
   },
   "outputs": [],
   "source": [
    "# test['checkin_Time2Start_Time'].describe()"
   ]
  },
  {
   "cell_type": "code",
   "execution_count": 54,
   "metadata": {},
   "outputs": [],
   "source": [
    "# test['CW_Time2Start_Time'].describe()"
   ]
  },
  {
   "cell_type": "code",
   "execution_count": null,
   "metadata": {},
   "outputs": [],
   "source": []
  },
  {
   "cell_type": "code",
   "execution_count": null,
   "metadata": {},
   "outputs": [],
   "source": []
  },
  {
   "cell_type": "code",
   "execution_count": null,
   "metadata": {},
   "outputs": [],
   "source": []
  },
  {
   "cell_type": "markdown",
   "metadata": {},
   "source": [
    "### find extreme UCW rate facility from Top 30"
   ]
  },
  {
   "cell_type": "markdown",
   "metadata": {},
   "source": [
    "In the TOP 30 facilities, Ohio Living Breckenridge Village,The Weils and Park Manor of South Belt has the highest UCW rate.\n",
    "\n",
    "Whileas, The Hallmark and Village of Meyerland has the lowest UCW rate"
   ]
  },
  {
   "cell_type": "code",
   "execution_count": 61,
   "metadata": {},
   "outputs": [],
   "source": [
    "df['f_highrate'] = df.apply(lambda row:1 if row['f_name'] in ['Ohio Living Breckenridge Village',\n",
    "                                                              'The Weils', \n",
    "                                                              'Park Manor of South Belt'] else 0, axis = 1)\n",
    "df['f_lowrate'] = df.apply(lambda row:1 if row['f_name'] in ['The Hallmark', \n",
    "                                                              'Village of Meyerland'] else 0, axis = 1)"
   ]
  },
  {
   "cell_type": "markdown",
   "metadata": {},
   "source": [
    "###  Count previsous shift application"
   ]
  },
  {
   "cell_type": "code",
   "execution_count": 62,
   "metadata": {},
   "outputs": [],
   "source": [
    "# track by using dictionary\n",
    "count_prev_SA = []\n",
    "test = df[['user_id', 'sa_create']]\n",
    "\n",
    "# create SA dictionary, set all value = 0 -> dramatically reduce computational cost\n",
    "uid_library = list(pd.unique(test['user_id']))\n",
    "sa_dict = {} \n",
    "for uid in uid_library:\n",
    "    sa_dict.update({uid: 0}) \n",
    "    \n",
    "for i, v in enumerate(test['user_id']):\n",
    "    sa_dict[v] += 1\n",
    "    count_prev_SA.append(sa_dict[v]-1)\n",
    " \n",
    "df['count_prev_SA'] = count_prev_SA"
   ]
  },
  {
   "cell_type": "markdown",
   "metadata": {},
   "source": [
    "###  Count previsous urgent withdrawns"
   ]
  },
  {
   "cell_type": "code",
   "execution_count": 63,
   "metadata": {},
   "outputs": [],
   "source": [
    "# track by using dictionary\n",
    "count_prev_CW = []\n",
    "test = df[['user_id', 'count_prev_SA', 'sa_create', 'target']]\n",
    "\n",
    "# create cw dictionary, set all value = 0 -> dramatically reduce computational cost\n",
    "uid_library = list(pd.unique(test['user_id']))\n",
    "cw_dict = {} \n",
    "for uid in uid_library:\n",
    "    cw_dict.update({uid: 0}) \n",
    "    \n",
    "# fill dictionary and fill cw count\n",
    "for i, v in enumerate(test['user_id']):\n",
    "    if test['target'][i] == 1:\n",
    "        cw_dict[v] += 1\n",
    "        count_prev_CW.append(cw_dict[v]-1)\n",
    "    else:\n",
    "        count_prev_CW.append(cw_dict[v])\n",
    "        \n",
    "df['count_prev_CW'] = count_prev_CW"
   ]
  },
  {
   "cell_type": "markdown",
   "metadata": {},
   "source": [
    "### Count previsous urgent withdrawns/Count previsous shift applications"
   ]
  },
  {
   "cell_type": "code",
   "execution_count": 64,
   "metadata": {},
   "outputs": [],
   "source": [
    "df['prev_CW/SA_rate'] = df['count_prev_CW']/df['count_prev_SA']\n",
    "\n",
    "# fill nan with 0, happend bc 0/0, meaning rate = 0\n",
    "df['prev_CW/SA_rate'] = df['prev_CW/SA_rate'].fillna(0)"
   ]
  },
  {
   "cell_type": "markdown",
   "metadata": {},
   "source": [
    "### Previous withdrawn times previous apply"
   ]
  },
  {
   "cell_type": "code",
   "execution_count": 65,
   "metadata": {},
   "outputs": [],
   "source": [
    "df['prev_CW x SA_rate'] = df['count_prev_CW']*df['count_prev_SA']"
   ]
  },
  {
   "cell_type": "markdown",
   "metadata": {},
   "source": [
    "### 2 Type dummy: RN, LVN + LPN , Rest\n"
   ]
  },
  {
   "cell_type": "code",
   "execution_count": 66,
   "metadata": {},
   "outputs": [
    {
     "data": {
      "text/plain": [
       "CNA             103857\n",
       "STNA             40036\n",
       "LVN              19198\n",
       "RN               14750\n",
       "CMA/Med-Tech      8136\n",
       "LPN               6693\n",
       "Tech              2831\n",
       "rn                   1\n",
       "Name: type, dtype: int64"
      ]
     },
     "execution_count": 66,
     "metadata": {},
     "output_type": "execute_result"
    }
   ],
   "source": [
    "df['type'].value_counts()"
   ]
  },
  {
   "cell_type": "code",
   "execution_count": 67,
   "metadata": {},
   "outputs": [],
   "source": [
    "df['type_RN'] = df.apply(lambda row:1 if row['type'] == 'RN' else 0, axis = 1)\n",
    "df['type_LVN+LPN'] = df.apply(lambda row: 1 if row['type'] == 'LVN' or row['type'] == 'LPN' else 0, axis = 1)\n"
   ]
  },
  {
   "cell_type": "code",
   "execution_count": 68,
   "metadata": {},
   "outputs": [],
   "source": [
    "df['type_STNA'] = df.apply(lambda row:1 if row['type'] == 'STNA' else 0, axis = 1)"
   ]
  },
  {
   "cell_type": "code",
   "execution_count": 69,
   "metadata": {},
   "outputs": [],
   "source": [
    "df['type_CNA'] = df.apply(lambda row:1 if row['type'] == 'CNA' else 0, axis = 1)"
   ]
  },
  {
   "cell_type": "markdown",
   "metadata": {},
   "source": [
    "### 1 SegementName dummy: Senior Living, Healthcare"
   ]
  },
  {
   "cell_type": "code",
   "execution_count": 70,
   "metadata": {},
   "outputs": [
    {
     "data": {
      "text/plain": [
       "Senior Living    170459\n",
       "Healthcare        24857\n",
       "Internal            186\n",
       "Name: segmentName, dtype: int64"
      ]
     },
     "execution_count": 70,
     "metadata": {},
     "output_type": "execute_result"
    }
   ],
   "source": [
    "df['segmentName'].value_counts()"
   ]
  },
  {
   "cell_type": "code",
   "execution_count": 71,
   "metadata": {},
   "outputs": [],
   "source": [
    "def create_segmentName_dummy(row):\n",
    "    if row['segmentName']=='Senior Living':\n",
    "        return 1\n",
    "    else:\n",
    "        return 0\n",
    "    \n",
    "df['segmentName_d'] = df.apply(lambda row: create_segmentName_dummy(row), axis=1)"
   ]
  },
  {
   "cell_type": "markdown",
   "metadata": {},
   "source": [
    "### 5 Facility Area Name Dummy"
   ]
  },
  {
   "cell_type": "code",
   "execution_count": 72,
   "metadata": {
    "scrolled": false
   },
   "outputs": [
    {
     "data": {
      "text/plain": [
       "Houston           109868\n",
       "Northeast Ohio     46799\n",
       "DFW                26816\n",
       "Austin              6548\n",
       "San Antonio         4904\n",
       "Cincinnati           566\n",
       "Name: areaName, dtype: int64"
      ]
     },
     "execution_count": 72,
     "metadata": {},
     "output_type": "execute_result"
    }
   ],
   "source": [
    "df['areaName'].value_counts()"
   ]
  },
  {
   "cell_type": "code",
   "execution_count": 73,
   "metadata": {},
   "outputs": [],
   "source": [
    "# Houston\n",
    "df['areaName_houston'] = df.apply(lambda row: 1 if row['areaName'] == 'Houston' else 0, axis = 1)\n",
    "\n",
    "# Northeast Ohio\n",
    "df['areaName_no'] = df.apply(lambda row: 1 if row['areaName'] == 'Northeast Ohio' else 0, axis = 1)\n",
    "\n",
    "# DFW\n",
    "df['areaName_dfw'] = df.apply(lambda row: 1 if row['areaName'] == 'DFW' else 0, axis = 1)\n",
    "\n",
    "# Austin\n",
    "df['areaName_austin'] = df.apply(lambda row: 1 if row['areaName'] == 'Austin' else 0, axis = 1)\n",
    "\n",
    "# San Antonio\n",
    "df['areaName_san'] = df.apply(lambda row: 1 if row['areaName'] == 'San Antonio' else 0, axis = 1)"
   ]
  },
  {
   "cell_type": "markdown",
   "metadata": {},
   "source": [
    "### keep only prevstatus or status = confirmed"
   ]
  },
  {
   "cell_type": "code",
   "execution_count": 74,
   "metadata": {},
   "outputs": [],
   "source": [
    "df = df[df.apply(lambda row: (row['prevStatus'] == 'confirmed') or (row['status'] == 'confirmed'), axis = 1)].reset_index(drop = True)"
   ]
  },
  {
   "cell_type": "code",
   "execution_count": 75,
   "metadata": {},
   "outputs": [
    {
     "data": {
      "text/plain": [
       "(78989, 54)"
      ]
     },
     "execution_count": 75,
     "metadata": {},
     "output_type": "execute_result"
    }
   ],
   "source": [
    "# how many left\n",
    "df.shape"
   ]
  },
  {
   "cell_type": "markdown",
   "metadata": {},
   "source": [
    "### How many previsous urgent withdrawns in a month"
   ]
  },
  {
   "cell_type": "code",
   "execution_count": 76,
   "metadata": {},
   "outputs": [],
   "source": [
    "# import datetime\n",
    "# from datetime import datetime\n",
    "# from dateutil import relativedelta\n",
    "\n",
    "# # new column, convert start time to string\n",
    "# df['Str_Start_Time'] = df['Start_Time'].apply(lambda row: str(row))\n",
    "# # get only year, month, day in starttime\n",
    "# df['start_date'] = [w.split()[0] for w in list(df['Str_Start_Time'])]\n",
    "\n",
    "# # track by using dictionary, sort temp dataframe by userid then startdate\n",
    "# CW_in_a_month = []\n",
    "# df = df.sort_values(by=['user_id','start_date'], ascending=True).reset_index(drop = True)\n",
    "# test = df[['user_id', 'start_date', 'sa_create', 'target']].reset_index(drop = True)\n",
    "\n",
    "\n",
    "# for i, v in enumerate(test['user_id']):\n",
    "#     a = 0\n",
    "#     CW = 0\n",
    "#     delta = relativedelta.relativedelta(pd.to_datetime(test['start_date'][i-a]),\n",
    "#                                         pd.to_datetime(test['start_date'][i]))\n",
    "    \n",
    "#     while delta.months > -1 and test['user_id'][i-a] == v: \n",
    "#         if test['target'][i-a] == 1 and test['user_id'][i-a] == v and a >= 1:\n",
    "#             CW = 1\n",
    "#             break\n",
    "    \n",
    "#         elif i-a <= 1:\n",
    "#             break\n",
    "\n",
    "#         elif test['user_id'][i-a] != v:\n",
    "#             break\n",
    "            \n",
    "#         else:\n",
    "#             a += 1\n",
    "#             delta = relativedelta.relativedelta(pd.to_datetime(test['start_date'][i-a]),\n",
    "#                                                 pd.to_datetime(test['start_date'][i]))\n",
    "#     CW_in_a_month.append(CW)\n",
    "\n",
    "# df['CW_in_a_month'] = CW_in_a_month"
   ]
  },
  {
   "cell_type": "markdown",
   "metadata": {},
   "source": [
    "### <font color = green>output feature dataframe"
   ]
  },
  {
   "cell_type": "code",
   "execution_count": 77,
   "metadata": {
    "scrolled": true
   },
   "outputs": [
    {
     "data": {
      "text/plain": [
       "Index(['id', 'user_id', 'shift_id', 'facility_id', 'withdrawninfo_value',\n",
       "       'status', 'prevStatus', 's_status', 'facility_id', 'shift_description',\n",
       "       'assigned_nurse_id', 'net_pay', 's_unit', 'type', 'hasNurseCheckEvent',\n",
       "       's_qualifications', 's_breakTime', 'withdrawnInfo', 'f_name',\n",
       "       'f_short_name', 'segmentName', 'areaName', 't_checkin', 's_create',\n",
       "       'sa_create', 'u_approve', 'u_create', 'sa_statusupdate', 'Start_Time',\n",
       "       'U_create2U_approve', 'U_create2now', 'U_approve2now',\n",
       "       'S_create2SA_Create', 'SA_Create2Start_Time', 'S_Create2Start_Time',\n",
       "       'CW_Time2Start_Time', 'checkin_Time2Start_Time', 'target', 'f_highrate',\n",
       "       'f_lowrate', 'count_prev_SA', 'count_prev_CW', 'prev_CW/SA_rate',\n",
       "       'prev_CW x SA_rate', 'type_RN', 'type_LVN+LPN', 'type_STNA', 'type_CNA',\n",
       "       'segmentName_d', 'areaName_houston', 'areaName_no', 'areaName_dfw',\n",
       "       'areaName_austin', 'areaName_san'],\n",
       "      dtype='object')"
      ]
     },
     "execution_count": 77,
     "metadata": {},
     "output_type": "execute_result"
    }
   ],
   "source": [
    "df.columns"
   ]
  },
  {
   "cell_type": "code",
   "execution_count": 78,
   "metadata": {},
   "outputs": [
    {
     "ename": "KeyError",
     "evalue": "\"['reliability_score'] not in index\"",
     "output_type": "error",
     "traceback": [
      "\u001b[0;31m---------------------------------------------------------------------------\u001b[0m",
      "\u001b[0;31mKeyError\u001b[0m                                  Traceback (most recent call last)",
      "\u001b[0;32m<ipython-input-78-dfec5d2a2648>\u001b[0m in \u001b[0;36m<module>\u001b[0;34m\u001b[0m\n\u001b[0;32m----> 1\u001b[0;31m feature_df = df[['id', 'user_id', 'shift_id', 'prev_CW/SA_rate', 'status', 'S_create2SA_Create',\n\u001b[0m\u001b[1;32m      2\u001b[0m                  \u001b[0;34m'S_Create2Start_Time'\u001b[0m\u001b[0;34m,\u001b[0m\u001b[0;34m'SA_Create2Start_Time'\u001b[0m\u001b[0;34m,\u001b[0m\u001b[0;34m'U_create2now'\u001b[0m\u001b[0;34m,\u001b[0m \u001b[0;34m'U_approve2now'\u001b[0m\u001b[0;34m,\u001b[0m\u001b[0;34m'prev_CW x SA_rate'\u001b[0m\u001b[0;34m,\u001b[0m\u001b[0;34m\u001b[0m\u001b[0;34m\u001b[0m\u001b[0m\n\u001b[1;32m      3\u001b[0m                  \u001b[0;34m'type_RN'\u001b[0m\u001b[0;34m,\u001b[0m \u001b[0;34m'type_LVN+LPN'\u001b[0m\u001b[0;34m,\u001b[0m \u001b[0;34m'type_STNA'\u001b[0m\u001b[0;34m,\u001b[0m\u001b[0;34m'segmentName_d'\u001b[0m\u001b[0;34m,\u001b[0m \u001b[0;34m'areaName_houston'\u001b[0m\u001b[0;34m,\u001b[0m \u001b[0;34m'areaName_no'\u001b[0m\u001b[0;34m,\u001b[0m \u001b[0;34m'areaName_dfw'\u001b[0m\u001b[0;34m,\u001b[0m\u001b[0;34m\u001b[0m\u001b[0;34m\u001b[0m\u001b[0m\n\u001b[1;32m      4\u001b[0m                  \u001b[0;34m'areaName_austin'\u001b[0m\u001b[0;34m,\u001b[0m \u001b[0;34m'areaName_san'\u001b[0m\u001b[0;34m,\u001b[0m \u001b[0;34m'net_pay'\u001b[0m\u001b[0;34m,\u001b[0m \u001b[0;34m'target'\u001b[0m\u001b[0;34m,\u001b[0m \u001b[0;34m'sa_create'\u001b[0m\u001b[0;34m,\u001b[0m \u001b[0;34m'Start_Time'\u001b[0m\u001b[0;34m,\u001b[0m\u001b[0;34m\u001b[0m\u001b[0;34m\u001b[0m\u001b[0m\n\u001b[1;32m      5\u001b[0m                   'count_prev_SA', 'count_prev_CW','f_highrate','f_lowrate','type_CNA','reliability_score']]\n",
      "\u001b[0;32m~/anaconda3/lib/python3.8/site-packages/pandas/core/frame.py\u001b[0m in \u001b[0;36m__getitem__\u001b[0;34m(self, key)\u001b[0m\n\u001b[1;32m   2804\u001b[0m             \u001b[0;32mif\u001b[0m \u001b[0mis_iterator\u001b[0m\u001b[0;34m(\u001b[0m\u001b[0mkey\u001b[0m\u001b[0;34m)\u001b[0m\u001b[0;34m:\u001b[0m\u001b[0;34m\u001b[0m\u001b[0;34m\u001b[0m\u001b[0m\n\u001b[1;32m   2805\u001b[0m                 \u001b[0mkey\u001b[0m \u001b[0;34m=\u001b[0m \u001b[0mlist\u001b[0m\u001b[0;34m(\u001b[0m\u001b[0mkey\u001b[0m\u001b[0;34m)\u001b[0m\u001b[0;34m\u001b[0m\u001b[0;34m\u001b[0m\u001b[0m\n\u001b[0;32m-> 2806\u001b[0;31m             \u001b[0mindexer\u001b[0m \u001b[0;34m=\u001b[0m \u001b[0mself\u001b[0m\u001b[0;34m.\u001b[0m\u001b[0mloc\u001b[0m\u001b[0;34m.\u001b[0m\u001b[0m_get_listlike_indexer\u001b[0m\u001b[0;34m(\u001b[0m\u001b[0mkey\u001b[0m\u001b[0;34m,\u001b[0m \u001b[0maxis\u001b[0m\u001b[0;34m=\u001b[0m\u001b[0;36m1\u001b[0m\u001b[0;34m,\u001b[0m \u001b[0mraise_missing\u001b[0m\u001b[0;34m=\u001b[0m\u001b[0;32mTrue\u001b[0m\u001b[0;34m)\u001b[0m\u001b[0;34m[\u001b[0m\u001b[0;36m1\u001b[0m\u001b[0;34m]\u001b[0m\u001b[0;34m\u001b[0m\u001b[0;34m\u001b[0m\u001b[0m\n\u001b[0m\u001b[1;32m   2807\u001b[0m \u001b[0;34m\u001b[0m\u001b[0m\n\u001b[1;32m   2808\u001b[0m         \u001b[0;31m# take() does not accept boolean indexers\u001b[0m\u001b[0;34m\u001b[0m\u001b[0;34m\u001b[0m\u001b[0;34m\u001b[0m\u001b[0m\n",
      "\u001b[0;32m~/anaconda3/lib/python3.8/site-packages/pandas/core/indexing.py\u001b[0m in \u001b[0;36m_get_listlike_indexer\u001b[0;34m(self, key, axis, raise_missing)\u001b[0m\n\u001b[1;32m   1550\u001b[0m             \u001b[0mkeyarr\u001b[0m\u001b[0;34m,\u001b[0m \u001b[0mindexer\u001b[0m\u001b[0;34m,\u001b[0m \u001b[0mnew_indexer\u001b[0m \u001b[0;34m=\u001b[0m \u001b[0max\u001b[0m\u001b[0;34m.\u001b[0m\u001b[0m_reindex_non_unique\u001b[0m\u001b[0;34m(\u001b[0m\u001b[0mkeyarr\u001b[0m\u001b[0;34m)\u001b[0m\u001b[0;34m\u001b[0m\u001b[0;34m\u001b[0m\u001b[0m\n\u001b[1;32m   1551\u001b[0m \u001b[0;34m\u001b[0m\u001b[0m\n\u001b[0;32m-> 1552\u001b[0;31m         self._validate_read_indexer(\n\u001b[0m\u001b[1;32m   1553\u001b[0m             \u001b[0mkeyarr\u001b[0m\u001b[0;34m,\u001b[0m \u001b[0mindexer\u001b[0m\u001b[0;34m,\u001b[0m \u001b[0mo\u001b[0m\u001b[0;34m.\u001b[0m\u001b[0m_get_axis_number\u001b[0m\u001b[0;34m(\u001b[0m\u001b[0maxis\u001b[0m\u001b[0;34m)\u001b[0m\u001b[0;34m,\u001b[0m \u001b[0mraise_missing\u001b[0m\u001b[0;34m=\u001b[0m\u001b[0mraise_missing\u001b[0m\u001b[0;34m\u001b[0m\u001b[0;34m\u001b[0m\u001b[0m\n\u001b[1;32m   1554\u001b[0m         )\n",
      "\u001b[0;32m~/anaconda3/lib/python3.8/site-packages/pandas/core/indexing.py\u001b[0m in \u001b[0;36m_validate_read_indexer\u001b[0;34m(self, key, indexer, axis, raise_missing)\u001b[0m\n\u001b[1;32m   1644\u001b[0m             \u001b[0;32mif\u001b[0m \u001b[0;32mnot\u001b[0m \u001b[0;34m(\u001b[0m\u001b[0mself\u001b[0m\u001b[0;34m.\u001b[0m\u001b[0mname\u001b[0m \u001b[0;34m==\u001b[0m \u001b[0;34m\"loc\"\u001b[0m \u001b[0;32mand\u001b[0m \u001b[0;32mnot\u001b[0m \u001b[0mraise_missing\u001b[0m\u001b[0;34m)\u001b[0m\u001b[0;34m:\u001b[0m\u001b[0;34m\u001b[0m\u001b[0;34m\u001b[0m\u001b[0m\n\u001b[1;32m   1645\u001b[0m                 \u001b[0mnot_found\u001b[0m \u001b[0;34m=\u001b[0m \u001b[0mlist\u001b[0m\u001b[0;34m(\u001b[0m\u001b[0mset\u001b[0m\u001b[0;34m(\u001b[0m\u001b[0mkey\u001b[0m\u001b[0;34m)\u001b[0m \u001b[0;34m-\u001b[0m \u001b[0mset\u001b[0m\u001b[0;34m(\u001b[0m\u001b[0max\u001b[0m\u001b[0;34m)\u001b[0m\u001b[0;34m)\u001b[0m\u001b[0;34m\u001b[0m\u001b[0;34m\u001b[0m\u001b[0m\n\u001b[0;32m-> 1646\u001b[0;31m                 \u001b[0;32mraise\u001b[0m \u001b[0mKeyError\u001b[0m\u001b[0;34m(\u001b[0m\u001b[0;34mf\"{not_found} not in index\"\u001b[0m\u001b[0;34m)\u001b[0m\u001b[0;34m\u001b[0m\u001b[0;34m\u001b[0m\u001b[0m\n\u001b[0m\u001b[1;32m   1647\u001b[0m \u001b[0;34m\u001b[0m\u001b[0m\n\u001b[1;32m   1648\u001b[0m             \u001b[0;31m# we skip the warning on Categorical/Interval\u001b[0m\u001b[0;34m\u001b[0m\u001b[0;34m\u001b[0m\u001b[0;34m\u001b[0m\u001b[0m\n",
      "\u001b[0;31mKeyError\u001b[0m: \"['reliability_score'] not in index\""
     ]
    }
   ],
   "source": [
    "feature_df = df[['id', 'user_id', 'shift_id', 'prev_CW/SA_rate', 'status', 'S_create2SA_Create',\n",
    "                 'S_Create2Start_Time','SA_Create2Start_Time','U_create2now', 'U_approve2now','prev_CW x SA_rate',\n",
    "                 'type_RN', 'type_LVN+LPN', 'type_STNA','segmentName_d', 'areaName_houston', 'areaName_no', 'areaName_dfw', \n",
    "                 'areaName_austin', 'areaName_san', 'net_pay', 'target', 'sa_create', 'Start_Time',\n",
    "                  'count_prev_SA', 'count_prev_CW','f_highrate','f_lowrate','type_CNA','reliability_score']]\n",
    "feature_df.to_csv('model_data.csv')"
   ]
  },
  {
   "cell_type": "code",
   "execution_count": null,
   "metadata": {},
   "outputs": [],
   "source": [
    "feature_df.shape"
   ]
  },
  {
   "cell_type": "code",
   "execution_count": null,
   "metadata": {},
   "outputs": [],
   "source": []
  }
 ],
 "metadata": {
  "kernelspec": {
   "display_name": "Python 3",
   "language": "python",
   "name": "python3"
  },
  "language_info": {
   "codemirror_mode": {
    "name": "ipython",
    "version": 3
   },
   "file_extension": ".py",
   "mimetype": "text/x-python",
   "name": "python",
   "nbconvert_exporter": "python",
   "pygments_lexer": "ipython3",
   "version": "3.8.3"
  }
 },
 "nbformat": 4,
 "nbformat_minor": 4
}
