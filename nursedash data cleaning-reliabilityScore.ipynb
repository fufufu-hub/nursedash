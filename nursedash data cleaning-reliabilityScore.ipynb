{
 "cells": [
  {
   "cell_type": "markdown",
   "metadata": {},
   "source": [
    "## Target- urgent withdrawn by nurse(within 24hr)\n",
    "* shift_applications status == 'cancelled' + shift_application prevStatus == 'confirmed'\n",
    "\n",
    "\n",
    "### IDs -> only look at shifts application, leave each shifts after\n",
    "* shift_applications id\n",
    "* shift_applications user_id\n",
    "* shift_applications shift_id\n",
    "\n",
    "\n",
    "### Numeric Field\n",
    "* shifts rate\n",
    "* shifts net_pay: rate - nursedash profit\n",
    "* shift_applications distance\n",
    "* shift break time\n",
    "* user withdrawn times: \n",
    "    Problem: \n",
    "        1. We don't know in reality that you will withdraw your previous one.\n",
    "        2. cannot be used to predict new user\n",
    "* user applied times:\n",
    "* prev SA/CW rate\n",
    "\n",
    "\n",
    "## Time\n",
    "### shift, shift app time\n",
    "* S_Create (shift created) => SA_Create (application created) => CWTime (comfim withdrawn) => Start_Time (shift start)\n",
    "* S_Create: shift create time\n",
    "* SA_Create: shift application create time\n",
    "* CWTime: shift withdrawn time, whole confirmed withdrawn population (include within 24hr and > 24hr)\n",
    "* Start_Time: shift start time\n",
    "##### calculated field, graph in hours\n",
    "* S_Create2SA_Create: shift application create time - shift create time\n",
    "* S_Create2Start_Time: shift start time - shift create time\n",
    "        1. has negative values. delete maybe?\n",
    "* SA_Create2Start_Time: shift start time - shift application create time\n",
    "        1. has negative values. delete maybe?\n",
    "\n",
    "### User\n",
    "* user approvedAt:\n",
    "* user createdAt:\n",
    "#### Calculated field\n",
    "* U_Create2U_approved: User approve time - User create time\n",
    "* U_Create2now: now - User create time, in months(seconds/2629746)\n",
    "* U_Approve2now: now - User approve time\n",
    "\n",
    "\n",
    "### Categorical\n",
    "* shifts role: position name + type\n",
    "* facilities name = facilities short_name\n",
    "* facilities areaId = facilities areaName\n",
    "* withdrawnInfo_key, withdrawnInfo_value\n",
    "* facilities segmentName: Senior Living = 1, Healthcare = 0\n",
    "* Users enableNotifications:\n",
    "* Users emailNotifications:\n",
    "* Users appNotifications:\n",
    "* Users allowedNotifications:\n",
    "\n",
    "\n",
    "### ?\n",
    "* facilities allowedQualification\n",
    "* facilities createdAt\n",
    "* facilities rates\n",
    "* nurse shift withdrawn by admin, when policy start, how many withdrawn by admin\n",
    "* shifts = unit\n",
    "* role\n",
    "* users updateAt ?\n",
    "* users relationToFacility"
   ]
  },
  {
   "cell_type": "markdown",
   "metadata": {},
   "source": [
    "# Connect to DB, Fetch data"
   ]
  },
  {
   "cell_type": "code",
   "execution_count": 37,
   "metadata": {},
   "outputs": [],
   "source": [
    "import pandas as pd\n",
    "import numpy as np\n",
    "# specify connection to database\n",
    "import psycopg2\n",
    "connection = psycopg2.connect(\n",
    "    host=\"nursedash-prod.cuzi2kducsnv.us-east-1.rds.amazonaws.com\",\n",
    "    database=\"nursedash\",\n",
    "    user=\"external_analyst\",\n",
    "    password=\"vWHYpF9CNtC9KWBG7sZ5JvX9\")"
   ]
  },
  {
   "cell_type": "markdown",
   "metadata": {},
   "source": [
    "### <font color = green> all time to chicago time, No withdrawn info"
   ]
  },
  {
   "cell_type": "code",
   "execution_count": 38,
   "metadata": {},
   "outputs": [],
   "source": [
    "df = pd.read_sql_query(\"\"\"\n",
    "\n",
    "SELECT  sa.id, sa.user_id, sa.shift_id, f.id AS facility_id, sa.\"withdrawnInfo\" -> 'initiator' as withdrawnInfo_value,\n",
    "sa.\"status\", sa.\"prevStatus\", \"s\".\"status\" AS \"s_status\", s.\"facility_id\", \"s\".\"description\" AS \"shift_description\",\n",
    "\"s\".\"assigned_nurse_id\", s.\"net_pay\", \"s\".\"unit\" AS \"s_unit\",s.\"type\", sa.\"hasNurseCheckEvent\",\n",
    "\"s\".\"qualifications\" AS \"s_qualifications\", \"s\".\"breakTime\" AS \"s_breakTime\", sa.\"withdrawnInfo\",\n",
    "\"f\".\"name\" AS \"f_name\",\"f\".\"short_name\" AS \"f_short_name\", f.\"segmentName\", f.\"areaName\", \n",
    "timezone('America/Chicago', t.\"currentCheckInTime\") as t_checkin,\n",
    "timezone('America/Chicago', s.\"createdAt\") as s_create,\n",
    "timezone('America/Chicago', sa.\"createdAt\") as sa_create,\n",
    "timezone('America/Chicago', u.\"approvedAt\") as u_approve,\n",
    "timezone('America/Chicago', u.\"createdAt\") as u_create,\n",
    "timezone('America/Chicago', sa.\"statusUpdatedAt\") as sa_statusUpdate,\n",
    "timezone('America/Chicago', timezone('UTC', s.start_time)) AS \"Start_Time\" \n",
    "FROM shifts s\n",
    "Left JOIN \"TimeChangeRequests\" t ON t.\"shiftId\" = s.id\n",
    "INNER JOIN shift_applications sa ON s.id = sa.shift_id\n",
    "INNER JOIN facilities f ON s.facility_id = f.id\n",
    "INNER JOIN users u ON sa.user_id = u.id\n",
    "\n",
    "\"\"\", con = connection)"
   ]
  },
  {
   "cell_type": "code",
   "execution_count": 39,
   "metadata": {
    "scrolled": true
   },
   "outputs": [
    {
     "data": {
      "text/plain": [
       "Index(['id', 'user_id', 'shift_id', 'facility_id', 'withdrawninfo_value',\n",
       "       'status', 'prevStatus', 's_status', 'facility_id', 'shift_description',\n",
       "       'assigned_nurse_id', 'net_pay', 's_unit', 'type', 'hasNurseCheckEvent',\n",
       "       's_qualifications', 's_breakTime', 'withdrawnInfo', 'f_name',\n",
       "       'f_short_name', 'segmentName', 'areaName', 't_checkin', 's_create',\n",
       "       'sa_create', 'u_approve', 'u_create', 'sa_statusupdate', 'Start_Time'],\n",
       "      dtype='object')"
      ]
     },
     "execution_count": 39,
     "metadata": {},
     "output_type": "execute_result"
    }
   ],
   "source": [
    "df.columns"
   ]
  },
  {
   "cell_type": "markdown",
   "metadata": {},
   "source": [
    "### <font color = green> these features was done in sql before"
   ]
  },
  {
   "cell_type": "markdown",
   "metadata": {},
   "source": [
    "### U_create2U_approve, in hours"
   ]
  },
  {
   "cell_type": "code",
   "execution_count": 40,
   "metadata": {},
   "outputs": [],
   "source": [
    "from datetime import datetime\n",
    "df['U_create2U_approve'] = df.apply(lambda row: (row['u_approve'] - row['u_create']).total_seconds()/3600, \n",
    "                                    axis = 1)"
   ]
  },
  {
   "cell_type": "markdown",
   "metadata": {},
   "source": [
    "### U_approve2now, in month"
   ]
  },
  {
   "cell_type": "code",
   "execution_count": 41,
   "metadata": {},
   "outputs": [],
   "source": [
    "df['U_approve2now'] = df.apply(lambda row: (datetime.now() - row['u_approve']).total_seconds()/2629746, \n",
    "                               axis = 1)"
   ]
  },
  {
   "cell_type": "markdown",
   "metadata": {},
   "source": [
    "### CW_Time2Start_Time"
   ]
  },
  {
   "cell_type": "code",
   "execution_count": 42,
   "metadata": {},
   "outputs": [],
   "source": [
    "# CW_Time2Start_Time\n",
    "df['CW_Time2Start_Time'] = df.apply(lambda row: (row['Start_Time'] - row['sa_statusupdate']).total_seconds()/3600 if str(row['Start_Time'])[:2] != '00' else 9999, \n",
    "                                         axis = 1)"
   ]
  },
  {
   "cell_type": "markdown",
   "metadata": {},
   "source": [
    "### Checkin time 2Start_Time, In minutes"
   ]
  },
  {
   "cell_type": "code",
   "execution_count": 43,
   "metadata": {},
   "outputs": [],
   "source": [
    "df['checkin_Time2Start_Time'] = df.apply(lambda row: (row['Start_Time'] - row['t_checkin']).total_seconds()/60 if str(row['Start_Time'])[:2] != '00' else 99, \n",
    "                                         axis = 1)\n",
    "# # fill na as 0\n",
    "# df['checkin_Time2Start_Time'] = df['checkin_Time2Start_Time'].fillna(0)"
   ]
  },
  {
   "cell_type": "markdown",
   "metadata": {},
   "source": [
    "# Data Cleaning"
   ]
  },
  {
   "cell_type": "code",
   "execution_count": 44,
   "metadata": {},
   "outputs": [],
   "source": [
    "# sort by time that shift was created\n",
    "df = df.sort_values(by = 'sa_create').reset_index(drop = True)"
   ]
  },
  {
   "cell_type": "code",
   "execution_count": 45,
   "metadata": {},
   "outputs": [
    {
     "data": {
      "text/plain": [
       "pending review      27747\n",
       "completed           23552\n",
       "pending clock        1935\n",
       "confirmed            1399\n",
       "opened                  7\n",
       "pending check-in        2\n",
       "Name: s_status, dtype: int64"
      ]
     },
     "execution_count": 45,
     "metadata": {},
     "output_type": "execute_result"
    }
   ],
   "source": [
    "df[df['status'] == 'confirmed']['s_status'].value_counts()"
   ]
  },
  {
   "cell_type": "code",
   "execution_count": 46,
   "metadata": {
    "scrolled": true
   },
   "outputs": [
    {
     "data": {
      "text/plain": [
       "selected       50184\n",
       "unavailable       18\n",
       "applied            6\n",
       "cancelled          2\n",
       "Name: prevStatus, dtype: int64"
      ]
     },
     "execution_count": 46,
     "metadata": {},
     "output_type": "execute_result"
    }
   ],
   "source": [
    "# what are prevstatus column like when status = confirmed\n",
    "df[df['status'] == 'confirmed']['prevStatus'].value_counts()"
   ]
  },
  {
   "cell_type": "code",
   "execution_count": 47,
   "metadata": {
    "scrolled": true
   },
   "outputs": [
    {
     "data": {
      "text/plain": [
       "withdrawn    17080\n",
       "cancelled     8436\n",
       "applied          2\n",
       "Name: status, dtype: int64"
      ]
     },
     "execution_count": 47,
     "metadata": {},
     "output_type": "execute_result"
    }
   ],
   "source": [
    "# what are status column like when prevstatus = confirmed\n",
    "df[df['prevStatus'] == 'confirmed']['status'].value_counts()"
   ]
  },
  {
   "cell_type": "markdown",
   "metadata": {},
   "source": [
    "# Feature Engineering"
   ]
  },
  {
   "cell_type": "markdown",
   "metadata": {},
   "source": [
    "### Target: urgent withdrawn as 1"
   ]
  },
  {
   "cell_type": "code",
   "execution_count": 48,
   "metadata": {},
   "outputs": [],
   "source": [
    "def CW_by_nurse(row):\n",
    "    if row['status']=='withdrawn' and row['prevStatus'] == 'confirmed':\n",
    "        if row['withdrawninfo_value'] == 'nurse':\n",
    "            if row['CW_Time2Start_Time'] <= 24:\n",
    "                return 1\n",
    "            else:\n",
    "                return 0\n",
    "        else:\n",
    "            return 0\n",
    "    else:\n",
    "        return 0\n",
    "    \n",
    "df['target'] = df.apply (lambda row: CW_by_nurse(row), axis=1)"
   ]
  },
  {
   "cell_type": "code",
   "execution_count": 49,
   "metadata": {
    "scrolled": true
   },
   "outputs": [
    {
     "data": {
      "text/plain": [
       "0    192832\n",
       "1      6027\n",
       "Name: target, dtype: int64"
      ]
     },
     "execution_count": 49,
     "metadata": {},
     "output_type": "execute_result"
    }
   ],
   "source": [
    "df['target'].value_counts()"
   ]
  },
  {
   "cell_type": "markdown",
   "metadata": {},
   "source": [
    "### Reliability Score"
   ]
  },
  {
   "cell_type": "code",
   "execution_count": 50,
   "metadata": {},
   "outputs": [
    {
     "name": "stderr",
     "output_type": "stream",
     "text": [
      "<ipython-input-50-c631e4250a8f>:4: SettingWithCopyWarning: \n",
      "A value is trying to be set on a copy of a slice from a DataFrame.\n",
      "Try using .loc[row_indexer,col_indexer] = value instead\n",
      "\n",
      "See the caveats in the documentation: https://pandas.pydata.org/pandas-docs/stable/user_guide/indexing.html#returning-a-view-versus-a-copy\n",
      "  test['count'] = np.ones(len(test))\n"
     ]
    }
   ],
   "source": [
    "test = df[['id', 'user_id', 'CW_Time2Start_Time', 'target',\n",
    "           'status','prevStatus', 'withdrawninfo_value', \n",
    "           'checkin_Time2Start_Time', 's_status', 'Start_Time']]\n",
    "test['count'] = np.ones(len(test))\n",
    "# sort by start time and user id\n",
    "test = test.sort_values(by = ['user_id', 'Start_Time'], ascending = True).reset_index(drop = True)\n",
    "\n",
    "# test[['status', 'prevStatus', 's_status', 'count']].groupby(by = ['status', 's_status']).sum()"
   ]
  },
  {
   "cell_type": "code",
   "execution_count": 51,
   "metadata": {
    "scrolled": true
   },
   "outputs": [],
   "source": [
    "# create realibilty score dictionary\n",
    "uid_library = list(pd.unique(test['user_id']))\n",
    "Rscore_dict = {}\n",
    "for uid in uid_library:\n",
    "    Rscore_dict.update({uid:40})\n",
    "    \n",
    "# create Rs list to join with dataframe\n",
    "RS_list = []\n",
    "# fill Rs list\n",
    "for i, v in enumerate(test['user_id']):\n",
    "    ## record RS before event happen\n",
    "    RS_list.append(Rscore_dict[v])\n",
    "    \n",
    "    ## calculate next application's RS\n",
    "    \n",
    "    # if UCW\n",
    "    if test['status'][i] == 'withdrawn' and test['prevStatus'][i] == 'confirmed':\n",
    "        # ucw < 5\n",
    "        if test['CW_Time2Start_Time'][i] < 5: \n",
    "            Rscore_dict[v] -= 40\n",
    "        # 5 < ucw < 12\n",
    "        elif test['CW_Time2Start_Time'][i] < 12:\n",
    "            Rscore_dict[v] -= 20\n",
    "        # 12 < ucw < 24\n",
    "        elif test['CW_Time2Start_Time'][i] < 24:\n",
    "            Rscore_dict[v] -= 10\n",
    "        # 24 < ucw < 48\n",
    "        elif test['CW_Time2Start_Time'][i] < 48:\n",
    "            Rscore_dict[v] -= 7\n",
    "        # ucw > 48\n",
    "        else:\n",
    "            Rscore_dict[v] -= 3\n",
    "    # if not ucw -> check if check in on time/early/late    \n",
    "    else:\n",
    "        if test['checkin_Time2Start_Time'][i] > 2:\n",
    "            Rscore_dict[v] += 10\n",
    "        else:\n",
    "            Rscore_dict[v] += 3\n",
    "            \n",
    "test['reliability_score'] = RS_list"
   ]
  },
  {
   "cell_type": "code",
   "execution_count": 52,
   "metadata": {},
   "outputs": [],
   "source": [
    "test = test[['id', 'reliability_score']]"
   ]
  },
  {
   "cell_type": "code",
   "execution_count": 53,
   "metadata": {
    "scrolled": true
   },
   "outputs": [],
   "source": [
    "df = df.merge(test, left_on='id', right_on = 'id')"
   ]
  },
  {
   "cell_type": "markdown",
   "metadata": {},
   "source": [
    "### find extreme UCW rate facility from Top 30"
   ]
  },
  {
   "cell_type": "markdown",
   "metadata": {},
   "source": [
    "In the TOP 30 facilities, Ohio Living Breckenridge Village,The Weils and Park Manor of South Belt has the highest UCW rate.\n",
    "\n",
    "Whileas, The Hallmark and Village of Meyerland has the lowest UCW rate"
   ]
  },
  {
   "cell_type": "code",
   "execution_count": 54,
   "metadata": {},
   "outputs": [],
   "source": [
    "df['f_highrate'] = df.apply(lambda row:1 if row['f_name'] in ['Ohio Living Breckenridge Village',\n",
    "                                                              'The Weils', \n",
    "                                                              'Park Manor of South Belt'] else 0, axis = 1)\n",
    "df['f_lowrate'] = df.apply(lambda row:1 if row['f_name'] in ['The Hallmark', \n",
    "                                                              'Village of Meyerland'] else 0, axis = 1)"
   ]
  },
  {
   "cell_type": "markdown",
   "metadata": {},
   "source": [
    "###  Count previsous shift application"
   ]
  },
  {
   "cell_type": "code",
   "execution_count": 55,
   "metadata": {},
   "outputs": [],
   "source": [
    "# track by using dictionary\n",
    "count_prev_SA = []\n",
    "test = df[['user_id', 'sa_create']]\n",
    "\n",
    "# create SA dictionary, set all value = 0 -> dramatically reduce computational cost\n",
    "uid_library = list(pd.unique(test['user_id']))\n",
    "sa_dict = {} \n",
    "for uid in uid_library:\n",
    "    sa_dict.update({uid: 0}) \n",
    "    \n",
    "for i, v in enumerate(test['user_id']):\n",
    "    sa_dict[v] += 1\n",
    "    count_prev_SA.append(sa_dict[v]-1)\n",
    " \n",
    "df['count_prev_SA'] = count_prev_SA"
   ]
  },
  {
   "cell_type": "markdown",
   "metadata": {},
   "source": [
    "###  Count previsous urgent withdrawns"
   ]
  },
  {
   "cell_type": "code",
   "execution_count": 56,
   "metadata": {},
   "outputs": [],
   "source": [
    "# track by using dictionary\n",
    "count_prev_CW = []\n",
    "test = df[['user_id', 'count_prev_SA', 'sa_create', 'target']]\n",
    "\n",
    "# create cw dictionary, set all value = 0 -> dramatically reduce computational cost\n",
    "uid_library = list(pd.unique(test['user_id']))\n",
    "cw_dict = {} \n",
    "for uid in uid_library:\n",
    "    cw_dict.update({uid: 0}) \n",
    "    \n",
    "# fill dictionary and fill cw count\n",
    "for i, v in enumerate(test['user_id']):\n",
    "    if test['target'][i] == 1:\n",
    "        cw_dict[v] += 1\n",
    "        count_prev_CW.append(cw_dict[v]-1)\n",
    "    else:\n",
    "        count_prev_CW.append(cw_dict[v])\n",
    "        \n",
    "df['count_prev_CW'] = count_prev_CW"
   ]
  },
  {
   "cell_type": "markdown",
   "metadata": {},
   "source": [
    "### Count previsous urgent withdrawns/Count previsous shift applications"
   ]
  },
  {
   "cell_type": "code",
   "execution_count": 57,
   "metadata": {},
   "outputs": [],
   "source": [
    "df['prev_CW/SA_rate'] = df['count_prev_CW']/df['count_prev_SA']\n",
    "\n",
    "# fill nan with 0, happend bc 0/0, meaning rate = 0\n",
    "df['prev_CW/SA_rate'] = df['prev_CW/SA_rate'].fillna(0)"
   ]
  },
  {
   "cell_type": "markdown",
   "metadata": {},
   "source": [
    "### Previous withdrawn times previous apply"
   ]
  },
  {
   "cell_type": "code",
   "execution_count": 58,
   "metadata": {},
   "outputs": [],
   "source": [
    "df['prev_CW x SA_rate'] = df['count_prev_CW']*df['count_prev_SA']"
   ]
  },
  {
   "cell_type": "markdown",
   "metadata": {},
   "source": [
    "### 2 Type dummy: RN, LVN + LPN , Rest\n"
   ]
  },
  {
   "cell_type": "code",
   "execution_count": 59,
   "metadata": {},
   "outputs": [],
   "source": [
    "df['type_RN'] = df.apply(lambda row:1 if row['type'] == 'RN' else 0, axis = 1)\n",
    "df['type_LVN+LPN'] = df.apply(lambda row: 1 if row['type'] == 'LVN' or row['type'] == 'LPN' else 0, axis = 1)"
   ]
  },
  {
   "cell_type": "code",
   "execution_count": 60,
   "metadata": {},
   "outputs": [],
   "source": [
    "df['type_STNA'] = df.apply(lambda row:1 if row['type'] == 'STNA' else 0, axis = 1)"
   ]
  },
  {
   "cell_type": "code",
   "execution_count": 61,
   "metadata": {},
   "outputs": [],
   "source": [
    "df['type_CNA'] = df.apply(lambda row:1 if row['type'] == 'CNA' else 0, axis = 1)"
   ]
  },
  {
   "cell_type": "markdown",
   "metadata": {},
   "source": [
    "### 1 SegementName dummy: Senior Living, Healthcare"
   ]
  },
  {
   "cell_type": "code",
   "execution_count": 62,
   "metadata": {},
   "outputs": [
    {
     "data": {
      "text/plain": [
       "Senior Living    173822\n",
       "Healthcare        25585\n",
       "Internal            312\n",
       "Name: segmentName, dtype: int64"
      ]
     },
     "execution_count": 62,
     "metadata": {},
     "output_type": "execute_result"
    }
   ],
   "source": [
    "df['segmentName'].value_counts()"
   ]
  },
  {
   "cell_type": "code",
   "execution_count": 63,
   "metadata": {},
   "outputs": [],
   "source": [
    "def create_segmentName_dummy(row):\n",
    "    if row['segmentName']=='Senior Living':\n",
    "        return 1\n",
    "    else:\n",
    "        return 0\n",
    "    \n",
    "df['segmentName_d'] = df.apply(lambda row: create_segmentName_dummy(row), axis=1)"
   ]
  },
  {
   "cell_type": "markdown",
   "metadata": {},
   "source": [
    "### 5 Facility Area Name Dummy"
   ]
  },
  {
   "cell_type": "code",
   "execution_count": 64,
   "metadata": {},
   "outputs": [],
   "source": [
    "# # Houston\n",
    "# df['areaName_houston'] = df.apply(lambda row: 1 if row['areaName'] == 'Houston' else 0, axis = 1)\n",
    "\n",
    "# # Northeast Ohio\n",
    "# df['areaName_no'] = df.apply(lambda row: 1 if row['areaName'] == 'Northeast Ohio' else 0, axis = 1)\n",
    "\n",
    "# # DFW\n",
    "# df['areaName_dfw'] = df.apply(lambda row: 1 if row['areaName'] == 'DFW' else 0, axis = 1)\n",
    "\n",
    "# # Austin\n",
    "# df['areaName_austin'] = df.apply(lambda row: 1 if row['areaName'] == 'Austin' else 0, axis = 1)\n",
    "\n",
    "# # San Antonio\n",
    "# df['areaName_san'] = df.apply(lambda row: 1 if row['areaName'] == 'San Antonio' else 0, axis = 1)"
   ]
  },
  {
   "cell_type": "code",
   "execution_count": 65,
   "metadata": {},
   "outputs": [],
   "source": [
    "df = pd.concat([df, pd.get_dummies(df[['areaName']])], axis=1)\n",
    "df = df.drop(\"areaName_San Antonio\",axis=1)"
   ]
  },
  {
   "cell_type": "markdown",
   "metadata": {},
   "source": [
    "### keep only prevstatus or status = confirmed"
   ]
  },
  {
   "cell_type": "code",
   "execution_count": 66,
   "metadata": {},
   "outputs": [],
   "source": [
    "df = df[df.apply(lambda row: (row['prevStatus'] == 'confirmed') or (row['status'] == 'confirmed'), axis = 1)].reset_index(drop = True)"
   ]
  },
  {
   "cell_type": "code",
   "execution_count": 67,
   "metadata": {},
   "outputs": [
    {
     "data": {
      "text/plain": [
       "(80834, 51)"
      ]
     },
     "execution_count": 67,
     "metadata": {},
     "output_type": "execute_result"
    }
   ],
   "source": [
    "# how many left\n",
    "df.shape"
   ]
  },
  {
   "cell_type": "markdown",
   "metadata": {},
   "source": [
    "### How many previsous urgent withdrawns in a month"
   ]
  },
  {
   "cell_type": "markdown",
   "metadata": {},
   "source": [
    "### <font color = green>output feature dataframe"
   ]
  },
  {
   "cell_type": "code",
   "execution_count": 68,
   "metadata": {
    "scrolled": true
   },
   "outputs": [
    {
     "data": {
      "text/plain": [
       "Index(['id', 'user_id', 'shift_id', 'facility_id', 'withdrawninfo_value',\n",
       "       'status', 'prevStatus', 's_status', 'facility_id', 'shift_description',\n",
       "       'assigned_nurse_id', 'net_pay', 's_unit', 'type', 'hasNurseCheckEvent',\n",
       "       's_qualifications', 's_breakTime', 'withdrawnInfo', 'f_name',\n",
       "       'f_short_name', 'segmentName', 'areaName', 't_checkin', 's_create',\n",
       "       'sa_create', 'u_approve', 'u_create', 'sa_statusupdate', 'Start_Time',\n",
       "       'U_create2U_approve', 'U_approve2now', 'CW_Time2Start_Time',\n",
       "       'checkin_Time2Start_Time', 'target', 'reliability_score', 'f_highrate',\n",
       "       'f_lowrate', 'count_prev_SA', 'count_prev_CW', 'prev_CW/SA_rate',\n",
       "       'prev_CW x SA_rate', 'type_RN', 'type_LVN+LPN', 'type_STNA', 'type_CNA',\n",
       "       'segmentName_d', 'areaName_Austin', 'areaName_Cincinnati',\n",
       "       'areaName_DFW', 'areaName_Houston', 'areaName_Northeast Ohio'],\n",
       "      dtype='object')"
      ]
     },
     "execution_count": 68,
     "metadata": {},
     "output_type": "execute_result"
    }
   ],
   "source": [
    "df.columns"
   ]
  },
  {
   "cell_type": "code",
   "execution_count": 69,
   "metadata": {},
   "outputs": [],
   "source": [
    "feature_df = df[['id', 'user_id', 'shift_id', 'prev_CW/SA_rate', 'status', 'U_approve2now','prev_CW x SA_rate',\n",
    "                 'type_RN', 'type_LVN+LPN', 'type_STNA','segmentName_d', \n",
    "                  'net_pay', 'target', 'sa_create', 'Start_Time', 'areaName_Austin', 'areaName_Cincinnati',\n",
    "                 'areaName_DFW', 'areaName_Houston', 'areaName_Northeast Ohio',\n",
    "                  'count_prev_SA', 'count_prev_CW','f_highrate','f_lowrate','type_CNA','reliability_score']]\n",
    "feature_df.to_csv('model_data.csv')"
   ]
  },
  {
   "cell_type": "code",
   "execution_count": 70,
   "metadata": {},
   "outputs": [
    {
     "data": {
      "text/plain": [
       "(80834, 26)"
      ]
     },
     "execution_count": 70,
     "metadata": {},
     "output_type": "execute_result"
    }
   ],
   "source": [
    "feature_df.shape"
   ]
  },
  {
   "cell_type": "code",
   "execution_count": 71,
   "metadata": {},
   "outputs": [
    {
     "data": {
      "text/html": [
       "<div>\n",
       "<style scoped>\n",
       "    .dataframe tbody tr th:only-of-type {\n",
       "        vertical-align: middle;\n",
       "    }\n",
       "\n",
       "    .dataframe tbody tr th {\n",
       "        vertical-align: top;\n",
       "    }\n",
       "\n",
       "    .dataframe thead th {\n",
       "        text-align: right;\n",
       "    }\n",
       "</style>\n",
       "<table border=\"1\" class=\"dataframe\">\n",
       "  <thead>\n",
       "    <tr style=\"text-align: right;\">\n",
       "      <th></th>\n",
       "      <th>reliability_score</th>\n",
       "    </tr>\n",
       "  </thead>\n",
       "  <tbody>\n",
       "    <tr>\n",
       "      <th>0</th>\n",
       "      <td>43</td>\n",
       "    </tr>\n",
       "    <tr>\n",
       "      <th>1</th>\n",
       "      <td>58</td>\n",
       "    </tr>\n",
       "    <tr>\n",
       "      <th>2</th>\n",
       "      <td>40</td>\n",
       "    </tr>\n",
       "    <tr>\n",
       "      <th>3</th>\n",
       "      <td>43</td>\n",
       "    </tr>\n",
       "    <tr>\n",
       "      <th>4</th>\n",
       "      <td>61</td>\n",
       "    </tr>\n",
       "    <tr>\n",
       "      <th>...</th>\n",
       "      <td>...</td>\n",
       "    </tr>\n",
       "    <tr>\n",
       "      <th>80829</th>\n",
       "      <td>316</td>\n",
       "    </tr>\n",
       "    <tr>\n",
       "      <th>80830</th>\n",
       "      <td>-43</td>\n",
       "    </tr>\n",
       "    <tr>\n",
       "      <th>80831</th>\n",
       "      <td>-40</td>\n",
       "    </tr>\n",
       "    <tr>\n",
       "      <th>80832</th>\n",
       "      <td>146</td>\n",
       "    </tr>\n",
       "    <tr>\n",
       "      <th>80833</th>\n",
       "      <td>82</td>\n",
       "    </tr>\n",
       "  </tbody>\n",
       "</table>\n",
       "<p>80834 rows × 1 columns</p>\n",
       "</div>"
      ],
      "text/plain": [
       "       reliability_score\n",
       "0                     43\n",
       "1                     58\n",
       "2                     40\n",
       "3                     43\n",
       "4                     61\n",
       "...                  ...\n",
       "80829                316\n",
       "80830                -43\n",
       "80831                -40\n",
       "80832                146\n",
       "80833                 82\n",
       "\n",
       "[80834 rows x 1 columns]"
      ]
     },
     "execution_count": 71,
     "metadata": {},
     "output_type": "execute_result"
    }
   ],
   "source": [
    "df[['reliability_score']]"
   ]
  },
  {
   "cell_type": "code",
   "execution_count": null,
   "metadata": {},
   "outputs": [],
   "source": []
  }
 ],
 "metadata": {
  "kernelspec": {
   "display_name": "Python 3",
   "language": "python",
   "name": "python3"
  },
  "language_info": {
   "codemirror_mode": {
    "name": "ipython",
    "version": 3
   },
   "file_extension": ".py",
   "mimetype": "text/x-python",
   "name": "python",
   "nbconvert_exporter": "python",
   "pygments_lexer": "ipython3",
   "version": "3.8.5"
  }
 },
 "nbformat": 4,
 "nbformat_minor": 4
}
