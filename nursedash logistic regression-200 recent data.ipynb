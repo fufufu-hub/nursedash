{
 "cells": [
  {
   "cell_type": "markdown",
   "metadata": {},
   "source": [
    "# Time Line\n",
    "### 3.16\n",
    "* ricardo: train model on whole dataset, add distance\n",
    "* yiqi: add distance, use randomforest, format current notebook"
   ]
  },
  {
   "cell_type": "markdown",
   "metadata": {},
   "source": [
    "## Target- urgent withdrawn by nurse(within 24hr)\n",
    "* shift_applications status == 'cancelled' + shift_application prevStatus == 'confirmed'\n",
    "\n",
    "\n",
    "### IDs -> only look at shifts application, leave each shifts after\n",
    "* shift_applications id\n",
    "* shift_applications user_id\n",
    "* shift_applications shift_id\n",
    "\n",
    "\n",
    "### Numeric Field\n",
    "* shifts rate\n",
    "* shifts net_pay: rate - nursedash profit\n",
    "* shift_applications distance\n",
    "* shift break time\n",
    "* user withdrawn times: \n",
    "    Problem: \n",
    "        1. We don't know in reality that you will withdraw your previous one.\n",
    "        2. cannot be used to predict new user\n",
    "* user applied times:\n",
    "* <b>prev SA/CW rate<b/>\n",
    "\n",
    "\n",
    "## Time\n",
    "### shift, shift app time\n",
    "* S_Create (shift created) => SA_Create (application created) => CWTime (comfim withdrawn) => Start_Time (shift start)\n",
    "* S_Create: shift create time\n",
    "* SA_Create: shift application create time\n",
    "* CWTime: shift withdrawn time, whole confirmed withdrawn population (include within 24hr and > 24hr)\n",
    "* Start_Time: shift start time\n",
    "##### calculated field, graph in hours\n",
    "* <b>S_Create2SA_Create<b/>: shift application create time - shift create time\n",
    "* <b>S_Create2Start_Time<b/>: shift start time - shift create time\n",
    "        1. has negative values. delete maybe?\n",
    "* <b>SA_Create2Start_Time<b/>: shift start time - shift application create time\n",
    "        1. has negative values. delete maybe?\n",
    "\n",
    "### User\n",
    "* user approvedAt:\n",
    "* user createdAt:\n",
    "#### Calculated field\n",
    "* U_Create2U_approved: User approve time - User create time\n",
    "* <b>U_Create2now<b/>: now - User create time, in months(seconds/2629746)\n",
    "* <b>U_Approve2now<b/>: now - User approve time\n",
    "\n",
    "\n",
    "### Categorical\n",
    "* shifts role: position name + type\n",
    "* facilities name = facilities short_name\n",
    "* facilities areaId = facilities areaName\n",
    "* withdrawnInfo_key, withdrawnInfo_value\n",
    "* facilities segmentName: Senior Living = 1, Healthcare = 0\n",
    "* Users enableNotifications:\n",
    "* Users emailNotifications:\n",
    "* Users appNotifications:\n",
    "* Users allowedNotifications:\n",
    "\n",
    "\n",
    "### ?\n",
    "* facilities allowedQualification\n",
    "* facilities createdAt\n",
    "* facilities rates\n",
    "* nurse shift withdrawn by admin, when policy start, how many withdrawn by admin\n",
    "* shifts = unit\n",
    "* role\n",
    "* users updateAt ?\n",
    "* users relationToFacility"
   ]
  },
  {
   "cell_type": "markdown",
   "metadata": {},
   "source": [
    "# Data Cleaning"
   ]
  },
  {
   "cell_type": "code",
   "execution_count": 22,
   "metadata": {},
   "outputs": [
    {
     "data": {
      "text/plain": [
       "Index(['id', 'user_id', 'shift_id', 'status', 'createdAt',\n",
       "       'hasNurseCheckEvent', 'hasBreakTime', 'prevStatus', 'distance', 'id.1',\n",
       "       'facility_id', 'description', 'start_time', 'assigned_nurse_id', 'rate',\n",
       "       'net_pay', 'unit', 'type', 'createdAt.1', 'qualifications', 'breakTime',\n",
       "       'prevStatus.1', 'id.2', 'name', 'short_name', 'createdAt.2', 'rates',\n",
       "       'S_Create', 'SA_Create', 'S_create2SA_Create', 'Start_Time',\n",
       "       'SA_Create2Start_Time', 'S_Create2Start_Time', 'CW_Time',\n",
       "       'CW_Time2Start_Time', 'SA_Create2CW_Time', 'S_Create2CW_Time',\n",
       "       'allowedQualifications', 'areaId', 'areaName', 'segmentName',\n",
       "       'U_create2now', 'U_approve2now', 'U_create2U_approve',\n",
       "       'withdrawnInfo_key', 'withdrawnInfo_value', 'tar'],\n",
       "      dtype='object')"
      ]
     },
     "execution_count": 22,
     "metadata": {},
     "output_type": "execute_result"
    }
   ],
   "source": [
    "import pandas as pd\n",
    "import numpy as np\n",
    "df = pd.read_csv('main.csv').drop(columns = ['Unnamed: 0'])\n",
    "df.columns"
   ]
  },
  {
   "cell_type": "code",
   "execution_count": 23,
   "metadata": {},
   "outputs": [
    {
     "data": {
      "text/plain": [
       "(169654, 47)"
      ]
     },
     "execution_count": 23,
     "metadata": {},
     "output_type": "execute_result"
    }
   ],
   "source": [
    "df.shape"
   ]
  },
  {
   "cell_type": "code",
   "execution_count": 24,
   "metadata": {},
   "outputs": [],
   "source": [
    "#df['tar'] = df.apply(lambda x: 1 if x['status'] == 'withdrawn' and x['prevStatus'] == 'confirmed' and x['withdrawnInfo_value'] == 'nurse' and df['CW_Time2Start_Time'] > -24 else 0, axis =1)"
   ]
  },
  {
   "cell_type": "code",
   "execution_count": 25,
   "metadata": {},
   "outputs": [],
   "source": [
    "def CW_by_nurse(row):\n",
    "    if row['status']=='withdrawn' and row['prevStatus'] == 'confirmed':\n",
    "        if row['withdrawnInfo_value'] == 'nurse':\n",
    "            if row['CW_Time2Start_Time'] < 0 and row['CW_Time2Start_Time'] >= -24:\n",
    "                return 1\n",
    "            else:\n",
    "                return 0\n",
    "        else:\n",
    "            return 0\n",
    "    else:\n",
    "        return 0\n",
    "    \n",
    "df['target'] = df.apply (lambda row: CW_by_nurse(row), axis=1)"
   ]
  },
  {
   "cell_type": "code",
   "execution_count": 26,
   "metadata": {},
   "outputs": [
    {
     "data": {
      "text/plain": [
       "0    165284\n",
       "1      4370\n",
       "Name: target, dtype: int64"
      ]
     },
     "execution_count": 26,
     "metadata": {},
     "output_type": "execute_result"
    }
   ],
   "source": [
    "df['target'].value_counts()"
   ]
  },
  {
   "cell_type": "code",
   "execution_count": 27,
   "metadata": {},
   "outputs": [],
   "source": [
    "# There are some negative numbers in this column. Not very much. \n",
    "# I think we need to delete these data entries since it make it impossible to nurse to apply on time.\n",
    "\n",
    "df = df[(df[\"S_Create2Start_Time\"]>0) & (df[\"SA_Create2Start_Time\"]>0)]"
   ]
  },
  {
   "cell_type": "code",
   "execution_count": 28,
   "metadata": {},
   "outputs": [],
   "source": [
    "# df2 is a sorted version of df1, data is exactly the same\n",
    "df1 = df.set_index(['user_id','id'])\n",
    "df2 = df1.sort_index()\n",
    "df2 = df2.reset_index()"
   ]
  },
  {
   "cell_type": "code",
   "execution_count": 29,
   "metadata": {},
   "outputs": [],
   "source": [
    "def count_prev_SA(df):\n",
    "    count_prev_SA = []\n",
    "    id_number = 0\n",
    "    count = 0\n",
    "    user_id = list(df2['user_id'])\n",
    "    for i in user_id:\n",
    "        if id_number == i:\n",
    "            count += 1\n",
    "            count_prev_SA.append(count)\n",
    "            id_number = i\n",
    "        else:\n",
    "            count = 0\n",
    "            count_prev_SA.append(count)\n",
    "            id_number = i\n",
    "    return count_prev_SA\n",
    "\n",
    "        \n",
    "df2['count_prev_SA'] = count_prev_SA(df2)"
   ]
  },
  {
   "cell_type": "code",
   "execution_count": 30,
   "metadata": {},
   "outputs": [],
   "source": [
    "def count_prev_CW(df):\n",
    "    count_prev_CW = []\n",
    "    id_number = 0\n",
    "    count = 0\n",
    "    user_id = list(df2['user_id'])\n",
    "    urgent_CW = list(df2['target'])\n",
    "    for i,v in enumerate(user_id):\n",
    "        if id_number == v:\n",
    "            count_prev_CW.append(count)\n",
    "            if urgent_CW[i] == 1:\n",
    "                count += 1\n",
    "            id_number = v\n",
    "        else:\n",
    "            count = 0\n",
    "            count_prev_CW.append(count)\n",
    "            if urgent_CW[i] == 1:\n",
    "                count += 1\n",
    "            id_number = v\n",
    "    return count_prev_CW\n",
    "\n",
    "        \n",
    "df2['count_prev_CW'] = count_prev_CW(df2)"
   ]
  },
  {
   "cell_type": "code",
   "execution_count": 31,
   "metadata": {},
   "outputs": [],
   "source": [
    "df2['prev_CW/SA_rate'] = df2['count_prev_CW']/df2['count_prev_SA']\n",
    "df2['prev_CW/SA_rate'].fillna(0,inplace=True)"
   ]
  },
  {
   "cell_type": "code",
   "execution_count": 32,
   "metadata": {},
   "outputs": [],
   "source": [
    "#df2.head(5)"
   ]
  },
  {
   "cell_type": "code",
   "execution_count": 33,
   "metadata": {
    "scrolled": true
   },
   "outputs": [],
   "source": [
    "#df2['prev_CW/SA_rate']"
   ]
  },
  {
   "cell_type": "code",
   "execution_count": 34,
   "metadata": {},
   "outputs": [],
   "source": [
    "# create type dummy: RN = 1, LVN + LPN = 2, rest = 0\n",
    "def create_type_dummy(row):\n",
    "    if row['type']=='RN':\n",
    "        return 2\n",
    "    elif row['type'] == 'LVN' or row['type'] == 'LPN':\n",
    "        return 1\n",
    "    else:\n",
    "        return 0\n",
    "    \n",
    "df2['type_d'] = df2.apply(lambda row: create_type_dummy(row), axis=1)"
   ]
  },
  {
   "cell_type": "code",
   "execution_count": 35,
   "metadata": {},
   "outputs": [],
   "source": [
    "# create type dummy: Senior Living, Healthcare\n",
    "def create_segmentName_dummy(row):\n",
    "    if row['segmentName']=='Senior Living':\n",
    "        return 1\n",
    "    else:\n",
    "        return 0\n",
    "    \n",
    "df2['segmentName_d'] = df2.apply(lambda row: create_segmentName_dummy(row), axis=1)"
   ]
  },
  {
   "cell_type": "code",
   "execution_count": 36,
   "metadata": {},
   "outputs": [],
   "source": [
    "df2 = df2[['prev_CW/SA_rate','S_create2SA_Create','S_Create2Start_Time','SA_Create2Start_Time','U_create2now',\n",
    "          'U_approve2now', 'type_d','segmentName_d','net_pay','distance','target','id']]\n",
    "#df2.to_csv('model_data.csv')"
   ]
  },
  {
   "cell_type": "markdown",
   "metadata": {},
   "source": [
    "# Logistic Regression 1  "
   ]
  },
  {
   "cell_type": "markdown",
   "metadata": {},
   "source": [
    "# import 'model_data.csv' as df2"
   ]
  },
  {
   "cell_type": "code",
   "execution_count": 284,
   "metadata": {},
   "outputs": [],
   "source": [
    "from sklearn.preprocessing import StandardScaler\n",
    "scaler = StandardScaler()\n",
    "mm_train_scaled = scaler.fit_transform(df2[['prev_CW/SA_rate','S_create2SA_Create','S_Create2Start_Time',\n",
    "                                            'SA_Create2Start_Time','U_create2now','U_approve2now','net_pay']])"
   ]
  },
  {
   "cell_type": "code",
   "execution_count": 285,
   "metadata": {},
   "outputs": [],
   "source": [
    "df3 = df2[['prev_CW/SA_rate','S_create2SA_Create','S_Create2Start_Time','SA_Create2Start_Time','U_create2now',\n",
    "          'U_approve2now', 'type_d','segmentName_d','net_pay','target','id']]"
   ]
  },
  {
   "cell_type": "code",
   "execution_count": 286,
   "metadata": {},
   "outputs": [
    {
     "name": "stderr",
     "output_type": "stream",
     "text": [
      "<ipython-input-286-1593b38e11f7>:7: UserWarning: Boolean Series key will be reindexed to match DataFrame index.\n",
      "  df3_nontar = df3[df3['target']==0][df3['id']>limit_id].reset_index(drop=True)\n"
     ]
    }
   ],
   "source": [
    "# make nontar dataset length = target dataset\n",
    "import random\n",
    "number_of_tar = 200\n",
    "df3 = df3.dropna()\n",
    "df3_tar = df3[df3['target'] == 1].sort_values(by='id',ascending = False).reset_index(drop=True).loc[:(number_of_tar-1),:]\n",
    "limit_id = df3[df3['target'] == 1].sort_values(by='id',ascending = False).reset_index(drop=True).loc[(number_of_tar-1),'id']\n",
    "df3_nontar = df3[df3['target']==0][df3['id']>limit_id].reset_index(drop=True)\n",
    "random_indices = random.sample(range(len(df3_nontar)), int(number_of_tar))\n",
    "df3_nontar = df3_nontar[df3_nontar.index.isin(random_indices)]\n",
    "df4 = pd.concat([df3_tar, df3_nontar]).drop(columns=['id'])"
   ]
  },
  {
   "cell_type": "code",
   "execution_count": 287,
   "metadata": {},
   "outputs": [
    {
     "data": {
      "text/plain": [
       "160362"
      ]
     },
     "execution_count": 287,
     "metadata": {},
     "output_type": "execute_result"
    }
   ],
   "source": [
    "limit_id"
   ]
  },
  {
   "cell_type": "code",
   "execution_count": 288,
   "metadata": {},
   "outputs": [],
   "source": [
    "from sklearn.model_selection import train_test_split\n",
    "\n",
    "#Splitting the data into our partitions will return two dataframes, so we must prep like so:\n",
    "testpart_size = .2\n",
    "df_partition = df\n",
    "\n",
    "df_nontestdata, df_testdata = train_test_split(df4, test_size = testpart_size, random_state = 1)"
   ]
  },
  {
   "cell_type": "code",
   "execution_count": 289,
   "metadata": {},
   "outputs": [],
   "source": [
    "#df4"
   ]
  },
  {
   "cell_type": "code",
   "execution_count": 290,
   "metadata": {},
   "outputs": [],
   "source": [
    "from sklearn.linear_model import LogisticRegression, LogisticRegressionCV\n",
    "\n",
    "X_train = df_nontestdata.drop(columns = ['target'])\n",
    "y_train = df_nontestdata['target']\n",
    "X_test = df_testdata.drop(columns = ['target'])\n",
    "y_test = df_testdata['target']"
   ]
  },
  {
   "cell_type": "code",
   "execution_count": 291,
   "metadata": {},
   "outputs": [
    {
     "data": {
      "text/plain": [
       "LogisticRegressionCV(max_iter=1000, scoring='roc_auc')"
      ]
     },
     "execution_count": 291,
     "metadata": {},
     "output_type": "execute_result"
    }
   ],
   "source": [
    "logit = LogisticRegressionCV(scoring='roc_auc',max_iter=1000)\n",
    "logit.fit(X_train,y_train)"
   ]
  },
  {
   "cell_type": "code",
   "execution_count": 292,
   "metadata": {},
   "outputs": [],
   "source": [
    "y_prob = logit.predict_proba(X_test)\n",
    "y_pred= logit.predict(X_test)"
   ]
  },
  {
   "cell_type": "code",
   "execution_count": 293,
   "metadata": {},
   "outputs": [],
   "source": [
    "from sklearn.metrics import (auc, classification_report, roc_auc_score, accuracy_score,roc_curve)\n",
    "from sklearn.metrics import confusion_matrix\n",
    "# accuracy_score(y_test,y_pred)"
   ]
  },
  {
   "cell_type": "code",
   "execution_count": 294,
   "metadata": {},
   "outputs": [
    {
     "name": "stdout",
     "output_type": "stream",
     "text": [
      "0.6569954867827208\n"
     ]
    }
   ],
   "source": [
    "print(roc_auc_score(y_test, y_pred))"
   ]
  },
  {
   "cell_type": "code",
   "execution_count": 295,
   "metadata": {},
   "outputs": [
    {
     "name": "stdout",
     "output_type": "stream",
     "text": [
      "[[29 18]\n",
      " [10 23]]\n",
      "\n",
      "\n",
      "              precision    recall  f1-score   support\n",
      "\n",
      "           0       0.74      0.62      0.67        47\n",
      "           1       0.56      0.70      0.62        33\n",
      "\n",
      "    accuracy                           0.65        80\n",
      "   macro avg       0.65      0.66      0.65        80\n",
      "weighted avg       0.67      0.65      0.65        80\n",
      "\n"
     ]
    }
   ],
   "source": [
    "from sklearn.metrics import classification_report,confusion_matrix\n",
    "\n",
    "print(confusion_matrix(y_test, y_pred))\n",
    "print('\\n')\n",
    "print(classification_report(y_test, y_pred))"
   ]
  },
  {
   "cell_type": "markdown",
   "metadata": {},
   "source": [
    "# put cf_matrix.py in the same folder as this file and run the next chunk"
   ]
  },
  {
   "cell_type": "code",
   "execution_count": 296,
   "metadata": {},
   "outputs": [
    {
     "data": {
      "image/png": "[encoded data removed]",
      "text/plain": [
       "<Figure size 432x288 with 2 Axes>"
      ]
     },
     "metadata": {
      "needs_background": "light"
     },
     "output_type": "display_data"
    }
   ],
   "source": [
    "from cf_matrix import make_confusion_matrix\n",
    "labels = ['True Neg','False Pos','False Neg','True Pos']\n",
    "categories = ['Zero', 'One']\n",
    "make_confusion_matrix(confusion_matrix(y_test, y_pred), \n",
    "                      group_names=labels,\n",
    "                      categories=categories, \n",
    "                      cmap='Blues')"
   ]
  },
  {
   "cell_type": "code",
   "execution_count": 297,
   "metadata": {},
   "outputs": [],
   "source": [
    "import matplotlib.pyplot as plt\n",
    "def plot_roc(fpr, tpr, roc_auc):\n",
    "    \"\"\"Plots the ROC curve for the win probability model along with\n",
    "    the AUC.\n",
    "    \"\"\"\n",
    "    fig, ax = plt.subplots()\n",
    "    ax.set(title='Receiver Operating Characteristic',\n",
    "           xlim=[0, 1], ylim=[0, 1], xlabel='False Positive Rate',\n",
    "           ylabel='True Positive Rate')\n",
    "    ax.plot(fpr, tpr, 'b', label='AUC = %0.2f' % roc_auc)\n",
    "    ax.plot([0, 1], [0, 1], 'k--')\n",
    "    ax.legend(loc='lower right')"
   ]
  },
  {
   "cell_type": "code",
   "execution_count": 298,
   "metadata": {},
   "outputs": [
    {
     "data": {
      "image/png": "[encoded data removed]",
      "text/plain": [
       "<Figure size 432x288 with 1 Axes>"
      ]
     },
     "metadata": {
      "needs_background": "light"
     },
     "output_type": "display_data"
    }
   ],
   "source": [
    "fpr, tpr, thresholds = roc_curve(y_test.values, y_prob[:,1])\n",
    "roc_auc = auc(fpr, tpr)\n",
    "plot_roc(fpr, tpr, roc_auc)"
   ]
  },
  {
   "cell_type": "code",
   "execution_count": 299,
   "metadata": {
    "scrolled": true
   },
   "outputs": [
    {
     "name": "stdout",
     "output_type": "stream",
     "text": [
      "Optimization terminated successfully.\n",
      "         Current function value: 0.623672\n",
      "         Iterations 6\n"
     ]
    },
    {
     "data": {
      "text/html": [
       "<table class=\"simpletable\">\n",
       "<caption>Logit Regression Results</caption>\n",
       "<tr>\n",
       "  <th>Dep. Variable:</th>        <td>target</td>      <th>  No. Observations:  </th>  <td>   320</td>  \n",
       "</tr>\n",
       "<tr>\n",
       "  <th>Model:</th>                 <td>Logit</td>      <th>  Df Residuals:      </th>  <td>   311</td>  \n",
       "</tr>\n",
       "<tr>\n",
       "  <th>Method:</th>                 <td>MLE</td>       <th>  Df Model:          </th>  <td>     8</td>  \n",
       "</tr>\n",
       "<tr>\n",
       "  <th>Date:</th>            <td>Thu, 18 Mar 2021</td> <th>  Pseudo R-squ.:     </th>  <td>0.09899</td> \n",
       "</tr>\n",
       "<tr>\n",
       "  <th>Time:</th>                <td>14:46:24</td>     <th>  Log-Likelihood:    </th> <td> -199.58</td> \n",
       "</tr>\n",
       "<tr>\n",
       "  <th>converged:</th>             <td>True</td>       <th>  LL-Null:           </th> <td> -221.50</td> \n",
       "</tr>\n",
       "<tr>\n",
       "  <th>Covariance Type:</th>     <td>nonrobust</td>    <th>  LLR p-value:       </th> <td>6.069e-07</td>\n",
       "</tr>\n",
       "</table>\n",
       "<table class=\"simpletable\">\n",
       "<tr>\n",
       "            <td></td>              <th>coef</th>     <th>std err</th>      <th>z</th>      <th>P>|z|</th>  <th>[0.025</th>    <th>0.975]</th>  \n",
       "</tr>\n",
       "<tr>\n",
       "  <th>prev_CW/SA_rate</th>      <td>    2.9615</td> <td>    2.407</td> <td>    1.231</td> <td> 0.218</td> <td>   -1.755</td> <td>    7.678</td>\n",
       "</tr>\n",
       "<tr>\n",
       "  <th>S_create2SA_Create</th>   <td>   -0.0027</td> <td>    0.014</td> <td>   -0.190</td> <td> 0.849</td> <td>   -0.031</td> <td>    0.026</td>\n",
       "</tr>\n",
       "<tr>\n",
       "  <th>S_Create2Start_Time</th>  <td>    0.0018</td> <td>    0.014</td> <td>    0.127</td> <td> 0.899</td> <td>   -0.026</td> <td>    0.029</td>\n",
       "</tr>\n",
       "<tr>\n",
       "  <th>SA_Create2Start_Time</th> <td>   -0.0079</td> <td>    0.015</td> <td>   -0.544</td> <td> 0.586</td> <td>   -0.036</td> <td>    0.021</td>\n",
       "</tr>\n",
       "<tr>\n",
       "  <th>U_create2now</th>         <td>    0.0669</td> <td>    0.053</td> <td>    1.264</td> <td> 0.206</td> <td>   -0.037</td> <td>    0.171</td>\n",
       "</tr>\n",
       "<tr>\n",
       "  <th>U_approve2now</th>        <td>   -0.1115</td> <td>    0.060</td> <td>   -1.869</td> <td> 0.062</td> <td>   -0.228</td> <td>    0.005</td>\n",
       "</tr>\n",
       "<tr>\n",
       "  <th>type_d</th>               <td>   -2.3221</td> <td>    0.524</td> <td>   -4.430</td> <td> 0.000</td> <td>   -3.350</td> <td>   -1.295</td>\n",
       "</tr>\n",
       "<tr>\n",
       "  <th>segmentName_d</th>        <td>   -1.2402</td> <td>    0.470</td> <td>   -2.639</td> <td> 0.008</td> <td>   -2.161</td> <td>   -0.319</td>\n",
       "</tr>\n",
       "<tr>\n",
       "  <th>net_pay</th>              <td>    0.1302</td> <td>    0.029</td> <td>    4.443</td> <td> 0.000</td> <td>    0.073</td> <td>    0.188</td>\n",
       "</tr>\n",
       "</table>"
      ],
      "text/plain": [
       "<class 'statsmodels.iolib.summary.Summary'>\n",
       "\"\"\"\n",
       "                           Logit Regression Results                           \n",
       "==============================================================================\n",
       "Dep. Variable:                 target   No. Observations:                  320\n",
       "Model:                          Logit   Df Residuals:                      311\n",
       "Method:                           MLE   Df Model:                            8\n",
       "Date:                Thu, 18 Mar 2021   Pseudo R-squ.:                 0.09899\n",
       "Time:                        14:46:24   Log-Likelihood:                -199.58\n",
       "converged:                       True   LL-Null:                       -221.50\n",
       "Covariance Type:            nonrobust   LLR p-value:                 6.069e-07\n",
       "========================================================================================\n",
       "                           coef    std err          z      P>|z|      [0.025      0.975]\n",
       "----------------------------------------------------------------------------------------\n",
       "prev_CW/SA_rate          2.9615      2.407      1.231      0.218      -1.755       7.678\n",
       "S_create2SA_Create      -0.0027      0.014     -0.190      0.849      -0.031       0.026\n",
       "S_Create2Start_Time      0.0018      0.014      0.127      0.899      -0.026       0.029\n",
       "SA_Create2Start_Time    -0.0079      0.015     -0.544      0.586      -0.036       0.021\n",
       "U_create2now             0.0669      0.053      1.264      0.206      -0.037       0.171\n",
       "U_approve2now           -0.1115      0.060     -1.869      0.062      -0.228       0.005\n",
       "type_d                  -2.3221      0.524     -4.430      0.000      -3.350      -1.295\n",
       "segmentName_d           -1.2402      0.470     -2.639      0.008      -2.161      -0.319\n",
       "net_pay                  0.1302      0.029      4.443      0.000       0.073       0.188\n",
       "========================================================================================\n",
       "\"\"\""
      ]
     },
     "execution_count": 299,
     "metadata": {},
     "output_type": "execute_result"
    }
   ],
   "source": [
    "import statsmodels.api as sm\n",
    "smlogit = sm.Logit(y_train,X_train).fit()\n",
    "smlogit.summary()"
   ]
  },
  {
   "cell_type": "markdown",
   "metadata": {},
   "source": [
    "## Logistic Regression2, pick only significant vars\n",
    "## This is the one that we use in the next session"
   ]
  },
  {
   "cell_type": "code",
   "execution_count": 300,
   "metadata": {},
   "outputs": [],
   "source": [
    "# sample non target = target"
   ]
  },
  {
   "cell_type": "code",
   "execution_count": 301,
   "metadata": {},
   "outputs": [],
   "source": [
    "X = df4[['prev_CW/SA_rate', 'type_d', 'segmentName_d', 'net_pay', 'U_approve2now']]\n",
    "Y = df4['target']\n",
    "X_train, X_test, y_train, y_test = train_test_split(X, Y, test_size=0.30)"
   ]
  },
  {
   "cell_type": "code",
   "execution_count": 302,
   "metadata": {},
   "outputs": [],
   "source": [
    "logit = LogisticRegressionCV(scoring='roc_auc')\n",
    "logit.fit(X_train,y_train)\n",
    "y_pred= logit.predict(X_test)"
   ]
  },
  {
   "cell_type": "code",
   "execution_count": 303,
   "metadata": {},
   "outputs": [
    {
     "name": "stdout",
     "output_type": "stream",
     "text": [
      "Optimization terminated successfully.\n",
      "         Current function value: 0.655266\n",
      "         Iterations 5\n"
     ]
    },
    {
     "data": {
      "text/html": [
       "<table class=\"simpletable\">\n",
       "<caption>Logit Regression Results</caption>\n",
       "<tr>\n",
       "  <th>Dep. Variable:</th>        <td>target</td>      <th>  No. Observations:  </th>  <td>   280</td>  \n",
       "</tr>\n",
       "<tr>\n",
       "  <th>Model:</th>                 <td>Logit</td>      <th>  Df Residuals:      </th>  <td>   275</td>  \n",
       "</tr>\n",
       "<tr>\n",
       "  <th>Method:</th>                 <td>MLE</td>       <th>  Df Model:          </th>  <td>     4</td>  \n",
       "</tr>\n",
       "<tr>\n",
       "  <th>Date:</th>            <td>Thu, 18 Mar 2021</td> <th>  Pseudo R-squ.:     </th>  <td>0.05340</td> \n",
       "</tr>\n",
       "<tr>\n",
       "  <th>Time:</th>                <td>14:46:25</td>     <th>  Log-Likelihood:    </th> <td> -183.47</td> \n",
       "</tr>\n",
       "<tr>\n",
       "  <th>converged:</th>             <td>True</td>       <th>  LL-Null:           </th> <td> -193.82</td> \n",
       "</tr>\n",
       "<tr>\n",
       "  <th>Covariance Type:</th>     <td>nonrobust</td>    <th>  LLR p-value:       </th> <td>0.0003633</td>\n",
       "</tr>\n",
       "</table>\n",
       "<table class=\"simpletable\">\n",
       "<tr>\n",
       "         <td></td>            <th>coef</th>     <th>std err</th>      <th>z</th>      <th>P>|z|</th>  <th>[0.025</th>    <th>0.975]</th>  \n",
       "</tr>\n",
       "<tr>\n",
       "  <th>prev_CW/SA_rate</th> <td>    5.2641</td> <td>    3.039</td> <td>    1.732</td> <td> 0.083</td> <td>   -0.692</td> <td>   11.220</td>\n",
       "</tr>\n",
       "<tr>\n",
       "  <th>type_d</th>          <td>   -1.4682</td> <td>    0.496</td> <td>   -2.961</td> <td> 0.003</td> <td>   -2.440</td> <td>   -0.496</td>\n",
       "</tr>\n",
       "<tr>\n",
       "  <th>segmentName_d</th>   <td>   -0.7515</td> <td>    0.443</td> <td>   -1.695</td> <td> 0.090</td> <td>   -1.621</td> <td>    0.118</td>\n",
       "</tr>\n",
       "<tr>\n",
       "  <th>net_pay</th>         <td>    0.0645</td> <td>    0.025</td> <td>    2.607</td> <td> 0.009</td> <td>    0.016</td> <td>    0.113</td>\n",
       "</tr>\n",
       "<tr>\n",
       "  <th>U_approve2now</th>   <td>   -0.0396</td> <td>    0.019</td> <td>   -2.110</td> <td> 0.035</td> <td>   -0.076</td> <td>   -0.003</td>\n",
       "</tr>\n",
       "</table>"
      ],
      "text/plain": [
       "<class 'statsmodels.iolib.summary.Summary'>\n",
       "\"\"\"\n",
       "                           Logit Regression Results                           \n",
       "==============================================================================\n",
       "Dep. Variable:                 target   No. Observations:                  280\n",
       "Model:                          Logit   Df Residuals:                      275\n",
       "Method:                           MLE   Df Model:                            4\n",
       "Date:                Thu, 18 Mar 2021   Pseudo R-squ.:                 0.05340\n",
       "Time:                        14:46:25   Log-Likelihood:                -183.47\n",
       "converged:                       True   LL-Null:                       -193.82\n",
       "Covariance Type:            nonrobust   LLR p-value:                 0.0003633\n",
       "===================================================================================\n",
       "                      coef    std err          z      P>|z|      [0.025      0.975]\n",
       "-----------------------------------------------------------------------------------\n",
       "prev_CW/SA_rate     5.2641      3.039      1.732      0.083      -0.692      11.220\n",
       "type_d             -1.4682      0.496     -2.961      0.003      -2.440      -0.496\n",
       "segmentName_d      -0.7515      0.443     -1.695      0.090      -1.621       0.118\n",
       "net_pay             0.0645      0.025      2.607      0.009       0.016       0.113\n",
       "U_approve2now      -0.0396      0.019     -2.110      0.035      -0.076      -0.003\n",
       "===================================================================================\n",
       "\"\"\""
      ]
     },
     "execution_count": 303,
     "metadata": {},
     "output_type": "execute_result"
    }
   ],
   "source": [
    "smlogit = sm.Logit(y_train,X_train).fit()\n",
    "smlogit.summary()"
   ]
  },
  {
   "cell_type": "code",
   "execution_count": 304,
   "metadata": {},
   "outputs": [
    {
     "data": {
      "image/png": "[encoded data removed]",
      "text/plain": [
       "<Figure size 432x288 with 2 Axes>"
      ]
     },
     "metadata": {
      "needs_background": "light"
     },
     "output_type": "display_data"
    }
   ],
   "source": [
    "labels = ['True Neg','False Pos','False Neg','True Pos']\n",
    "categories = ['Zero', 'One']\n",
    "make_confusion_matrix(confusion_matrix(y_test, y_pred), \n",
    "                      group_names=labels,\n",
    "                      categories=categories, \n",
    "                      cmap='Blues')"
   ]
  },
  {
   "cell_type": "code",
   "execution_count": 305,
   "metadata": {},
   "outputs": [
    {
     "name": "stdout",
     "output_type": "stream",
     "text": [
      "\n",
      "\n",
      "              precision    recall  f1-score   support\n",
      "\n",
      "           0       0.76      0.59      0.67        66\n",
      "           1       0.61      0.78      0.68        54\n",
      "\n",
      "    accuracy                           0.68       120\n",
      "   macro avg       0.69      0.68      0.67       120\n",
      "weighted avg       0.69      0.68      0.67       120\n",
      "\n"
     ]
    }
   ],
   "source": [
    "from sklearn.metrics import classification_report,confusion_matrix\n",
    "\n",
    "#print(confusion_matrix(y_test, y_pred))\n",
    "print('\\n')\n",
    "print(classification_report(y_test, y_pred))"
   ]
  },
  {
   "cell_type": "markdown",
   "metadata": {},
   "source": [
    "## Let's make the model face the reality: most people are not CW"
   ]
  },
  {
   "cell_type": "code",
   "execution_count": 306,
   "metadata": {},
   "outputs": [],
   "source": [
    "df3 = df3[['prev_CW/SA_rate', 'type_d', 'segmentName_d', 'net_pay', 'U_approve2now','target']].dropna()\n",
    "X_valid = df3[['prev_CW/SA_rate', 'type_d', 'segmentName_d', 'net_pay', 'U_approve2now']]\n",
    "Y_valid = df3['target']\n",
    "X_train, X_test, y_train, y_test = train_test_split(X_valid,Y_valid,test_size=0.3, random_state=42)"
   ]
  },
  {
   "cell_type": "code",
   "execution_count": 312,
   "metadata": {},
   "outputs": [
    {
     "data": {
      "text/plain": [
       "1268"
      ]
     },
     "execution_count": 312,
     "metadata": {},
     "output_type": "execute_result"
    }
   ],
   "source": [
    "limiter = .85\n",
    "\n",
    "y_prob = list(logit.predict_proba(X_test)[:,1])\n",
    "y_pred = []\n",
    "count =0\n",
    "for prob in y_prob:\n",
    "    if prob >= limiter:\n",
    "        y_pred.append(1)\n",
    "        count+=1\n",
    "    else:\n",
    "        y_pred.append(0)\n",
    "# count the ones who are marked as 1\n",
    "count"
   ]
  },
  {
   "cell_type": "code",
   "execution_count": 313,
   "metadata": {},
   "outputs": [
    {
     "data": {
      "image/png": "[encoded data removed]",
      "text/plain": [
       "<Figure size 432x288 with 2 Axes>"
      ]
     },
     "metadata": {
      "needs_background": "light"
     },
     "output_type": "display_data"
    }
   ],
   "source": [
    "labels = ['True Neg','False Pos','False Neg','True Pos']\n",
    "categories = ['Zero', 'One']\n",
    "make_confusion_matrix(confusion_matrix(y_test, y_pred), \n",
    "                      group_names=labels,\n",
    "                      categories=categories, \n",
    "                      cmap='Blues')"
   ]
  },
  {
   "cell_type": "code",
   "execution_count": 314,
   "metadata": {},
   "outputs": [
    {
     "name": "stdout",
     "output_type": "stream",
     "text": [
      "              precision    recall  f1-score   support\n",
      "\n",
      "           0       0.98      0.76      0.86     49020\n",
      "           1       0.05      0.47      0.09      1287\n",
      "\n",
      "    accuracy                           0.75     50307\n",
      "   macro avg       0.52      0.62      0.47     50307\n",
      "weighted avg       0.96      0.75      0.84     50307\n",
      "\n"
     ]
    }
   ],
   "source": [
    "#logit = LogisticRegressionCV(scoring=\"roc_auc\")\n",
    "#logit.fit(X_train,y_train)\n",
    "y_pred= logit.predict(X_test)\n",
    "print(classification_report(y_test, y_pred))\n",
    "\n",
    "#We need to improve f1 score in 1, the prediction\n",
    "#scoring=\"f1\""
   ]
  },
  {
   "cell_type": "code",
   "execution_count": 315,
   "metadata": {},
   "outputs": [],
   "source": [
    "# I havent develop this part of code fully\n",
    "# This is a way to train our model,giving a score for each decision\n",
    "\n",
    "# def profit_calculation(model, x_value, y_value):\n",
    "#     d_cutoff = 1/2\n",
    "\n",
    "#     decision = list(model.predict_proba(x_value)[:,1] < d_cutoff)   \n",
    "#     decision = list(model.predict(x_value))\n",
    "#     y = list(y_value)\n",
    "#     n_obs = len(y)\n",
    "\n",
    "#     cum_profit = 0\n",
    "\n",
    "#     for i in range(n_obs):\n",
    "#         if decision[i] == True and y[i] == 1: \n",
    "#             profit = 0 \n",
    "#         elif decision[i] == True and y[i] == 0: \n",
    "#             profit = 8 \n",
    "#         elif decision[i] == False and y[i] == 1: \n",
    "#             profit = -2\n",
    "#         else:\n",
    "#             profit = 10 \n",
    "#         cum_profit = cum_profit + profit \n",
    "\n",
    "#     average_net_profit = cum_profit / n_obs \n",
    "#     return average_net_profit"
   ]
  },
  {
   "cell_type": "code",
   "execution_count": 316,
   "metadata": {},
   "outputs": [
    {
     "data": {
      "text/plain": [
       "0.7547259824676487"
      ]
     },
     "execution_count": 316,
     "metadata": {},
     "output_type": "execute_result"
    }
   ],
   "source": [
    "from sklearn.metrics import (auc, classification_report, roc_auc_score, accuracy_score,\n",
    "                             f1_score, log_loss, roc_curve, confusion_matrix, precision_score, \n",
    "                             recall_score,precision_recall_curve)\n",
    "accuracy_score(y_test, y_pred)"
   ]
  },
  {
   "cell_type": "code",
   "execution_count": null,
   "metadata": {},
   "outputs": [],
   "source": []
  },
  {
   "cell_type": "code",
   "execution_count": null,
   "metadata": {},
   "outputs": [],
   "source": []
  }
 ],
 "metadata": {
  "kernelspec": {
   "display_name": "Python 3",
   "language": "python",
   "name": "python3"
  },
  "language_info": {
   "codemirror_mode": {
    "name": "ipython",
    "version": 3
   },
   "file_extension": ".py",
   "mimetype": "text/x-python",
   "name": "python",
   "nbconvert_exporter": "python",
   "pygments_lexer": "ipython3",
   "version": "3.8.5"
  }
 },
 "nbformat": 4,
 "nbformat_minor": 4
}
