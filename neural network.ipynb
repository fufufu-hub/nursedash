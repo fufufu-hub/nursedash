{
 "cells": [
  {
   "cell_type": "code",
   "execution_count": 1,
   "metadata": {},
   "outputs": [],
   "source": [
    "import pandas as pd\n",
    "import numpy as np\n",
    "df = pd.read_csv('model_data.csv').drop(columns = ['Unnamed: 0'])"
   ]
  },
  {
   "cell_type": "code",
   "execution_count": 2,
   "metadata": {},
   "outputs": [
    {
     "data": {
      "text/plain": [
       "Index(['id', 'user_id', 'shift_id', 'prev_CW/SA_rate', 'status',\n",
       "       'S_create2SA_Create', 'S_Create2Start_Time', 'SA_Create2Start_Time',\n",
       "       'U_create2now', 'U_approve2now', 'prev_CW x SA_rate', 'type_RN',\n",
       "       'type_LVN+LPN', 'segmentName_d', 'areaName_houston', 'areaName_no',\n",
       "       'areaName_dfw', 'areaName_austin', 'areaName_san', 'net_pay',\n",
       "       'distance', 'target', 'createdAt', 'Start_Time'],\n",
       "      dtype='object')"
      ]
     },
     "execution_count": 2,
     "metadata": {},
     "output_type": "execute_result"
    }
   ],
   "source": [
    "df.columns"
   ]
  },
  {
   "cell_type": "markdown",
   "metadata": {},
   "source": [
    "# Data Prepration"
   ]
  },
  {
   "cell_type": "code",
   "execution_count": 3,
   "metadata": {},
   "outputs": [],
   "source": [
    "# standardlize, dont standardlize dummy! \n",
    "from sklearn.preprocessing import StandardScaler\n",
    "scaler = StandardScaler()\n",
    "scaler.fit(df.drop(['id', 'user_id', 'shift_id', 'target', 'createdAt', 'Start_Time', 'type_RN', \n",
    "                    'type_LVN+LPN', 'segmentName_d', 'areaName_houston', 'areaName_no', 'areaName_dfw', \n",
    "                    'areaName_austin', 'areaName_san','status','distance'], axis=1))\n",
    "scaled_features = scaler.transform(df.drop(['id', 'user_id', 'shift_id', 'target', 'createdAt',\n",
    "                                            'Start_Time', 'type_RN', 'type_LVN+LPN', 'segmentName_d', \n",
    "                                            'areaName_houston', 'areaName_no', 'areaName_dfw', \n",
    "                                            'areaName_austin', 'areaName_san','status','distance'], axis=1))\n",
    "\n",
    "# scaled features\n",
    "X = pd.DataFrame(scaled_features, columns = ['prev_CW/SA_rate', 'prev_CW x SA_rate', 'S_create2SA_Create', \n",
    "                                             'S_Create2Start_Time', 'SA_Create2Start_Time', 'U_create2now', \n",
    "                                             'U_approve2now', 'net_pay'])\n",
    "# concat with dummy\n",
    "df = pd.concat([df[['id', 'user_id', 'shift_id', 'target', 'createdAt',\n",
    "                    'Start_Time', 'type_RN', 'type_LVN+LPN', 'segmentName_d', \n",
    "                    'areaName_houston', 'areaName_no', 'areaName_dfw', \n",
    "                    'areaName_austin', 'areaName_san','status']], X], axis = 1)\n",
    "\n",
    "# drop nas\n",
    "df.dropna(inplace = True)"
   ]
  },
  {
   "cell_type": "markdown",
   "metadata": {},
   "source": [
    "### set future data point as realdata"
   ]
  },
  {
   "cell_type": "markdown",
   "metadata": {},
   "source": [
    "### note !!!: real data might overlap with train test validation data"
   ]
  },
  {
   "cell_type": "code",
   "execution_count": 4,
   "metadata": {},
   "outputs": [],
   "source": [
    "df['Start_Time'] = pd.to_datetime(df['Start_Time'])\n",
    "realdata = df[df['Start_Time'].apply(lambda x: x >= pd.to_datetime('2021-3-22') and x < pd.to_datetime('2021-3-28'))]\n",
    "realdata = df[df['status']=='Confirm']"
   ]
  },
  {
   "cell_type": "code",
   "execution_count": 5,
   "metadata": {},
   "outputs": [
    {
     "data": {
      "text/plain": [
       "Index(['id', 'user_id', 'shift_id', 'target', 'createdAt', 'Start_Time',\n",
       "       'type_RN', 'type_LVN+LPN', 'segmentName_d', 'areaName_houston',\n",
       "       'areaName_no', 'areaName_dfw', 'areaName_austin', 'areaName_san',\n",
       "       'status', 'prev_CW/SA_rate', 'prev_CW x SA_rate', 'S_create2SA_Create',\n",
       "       'S_Create2Start_Time', 'SA_Create2Start_Time', 'U_create2now',\n",
       "       'U_approve2now', 'net_pay'],\n",
       "      dtype='object')"
      ]
     },
     "execution_count": 5,
     "metadata": {},
     "output_type": "execute_result"
    }
   ],
   "source": [
    "df.columns"
   ]
  },
  {
   "cell_type": "markdown",
   "metadata": {},
   "source": [
    "###  <font color = green> Validation set: 1000 recently records"
   ]
  },
  {
   "cell_type": "code",
   "execution_count": 6,
   "metadata": {
    "scrolled": true
   },
   "outputs": [
    {
     "data": {
      "text/plain": [
       "0    958\n",
       "1     42\n",
       "Name: target, dtype: int64"
      ]
     },
     "execution_count": 6,
     "metadata": {},
     "output_type": "execute_result"
    }
   ],
   "source": [
    "# slice\n",
    "validation = df[-1000:]\n",
    "\n",
    "y_valid = validation['target']\n",
    "x_valid = validation.drop(['id','user_id', 'shift_id', 'createdAt', 'Start_Time', 'target','status'], axis = 1)\n",
    "\n",
    "y_valid.value_counts()"
   ]
  },
  {
   "cell_type": "code",
   "execution_count": 7,
   "metadata": {},
   "outputs": [
    {
     "data": {
      "text/html": [
       "<div>\n",
       "<style scoped>\n",
       "    .dataframe tbody tr th:only-of-type {\n",
       "        vertical-align: middle;\n",
       "    }\n",
       "\n",
       "    .dataframe tbody tr th {\n",
       "        vertical-align: top;\n",
       "    }\n",
       "\n",
       "    .dataframe thead th {\n",
       "        text-align: right;\n",
       "    }\n",
       "</style>\n",
       "<table border=\"1\" class=\"dataframe\">\n",
       "  <thead>\n",
       "    <tr style=\"text-align: right;\">\n",
       "      <th></th>\n",
       "      <th>type_RN</th>\n",
       "      <th>type_LVN+LPN</th>\n",
       "      <th>segmentName_d</th>\n",
       "      <th>areaName_houston</th>\n",
       "      <th>areaName_no</th>\n",
       "      <th>areaName_dfw</th>\n",
       "      <th>areaName_austin</th>\n",
       "      <th>areaName_san</th>\n",
       "      <th>prev_CW/SA_rate</th>\n",
       "      <th>prev_CW x SA_rate</th>\n",
       "      <th>S_create2SA_Create</th>\n",
       "      <th>S_Create2Start_Time</th>\n",
       "      <th>SA_Create2Start_Time</th>\n",
       "      <th>U_create2now</th>\n",
       "      <th>U_approve2now</th>\n",
       "      <th>net_pay</th>\n",
       "    </tr>\n",
       "  </thead>\n",
       "  <tbody>\n",
       "    <tr>\n",
       "      <th>66874</th>\n",
       "      <td>0</td>\n",
       "      <td>0</td>\n",
       "      <td>1</td>\n",
       "      <td>0</td>\n",
       "      <td>0</td>\n",
       "      <td>0</td>\n",
       "      <td>1</td>\n",
       "      <td>0</td>\n",
       "      <td>0.965178</td>\n",
       "      <td>-0.163726</td>\n",
       "      <td>-0.549180</td>\n",
       "      <td>-0.593025</td>\n",
       "      <td>-1.516786</td>\n",
       "      <td>-1.511942</td>\n",
       "      <td>-0.280175</td>\n",
       "      <td>-0.398798</td>\n",
       "    </tr>\n",
       "    <tr>\n",
       "      <th>66875</th>\n",
       "      <td>0</td>\n",
       "      <td>0</td>\n",
       "      <td>1</td>\n",
       "      <td>0</td>\n",
       "      <td>0</td>\n",
       "      <td>0</td>\n",
       "      <td>1</td>\n",
       "      <td>0</td>\n",
       "      <td>0.926233</td>\n",
       "      <td>-0.163726</td>\n",
       "      <td>-0.443731</td>\n",
       "      <td>-0.451757</td>\n",
       "      <td>-1.516786</td>\n",
       "      <td>-1.511942</td>\n",
       "      <td>-0.278019</td>\n",
       "      <td>-0.398798</td>\n",
       "    </tr>\n",
       "    <tr>\n",
       "      <th>66876</th>\n",
       "      <td>0</td>\n",
       "      <td>0</td>\n",
       "      <td>1</td>\n",
       "      <td>0</td>\n",
       "      <td>0</td>\n",
       "      <td>0</td>\n",
       "      <td>1</td>\n",
       "      <td>0</td>\n",
       "      <td>0.889235</td>\n",
       "      <td>-0.163738</td>\n",
       "      <td>-0.338286</td>\n",
       "      <td>-0.310485</td>\n",
       "      <td>-1.516786</td>\n",
       "      <td>-1.511942</td>\n",
       "      <td>-0.275863</td>\n",
       "      <td>-0.398798</td>\n",
       "    </tr>\n",
       "    <tr>\n",
       "      <th>66877</th>\n",
       "      <td>0</td>\n",
       "      <td>0</td>\n",
       "      <td>1</td>\n",
       "      <td>0</td>\n",
       "      <td>0</td>\n",
       "      <td>0</td>\n",
       "      <td>0</td>\n",
       "      <td>1</td>\n",
       "      <td>-0.300547</td>\n",
       "      <td>-0.323837</td>\n",
       "      <td>-0.693878</td>\n",
       "      <td>-0.646564</td>\n",
       "      <td>-1.499899</td>\n",
       "      <td>-1.483471</td>\n",
       "      <td>-0.307488</td>\n",
       "      <td>-0.560612</td>\n",
       "    </tr>\n",
       "    <tr>\n",
       "      <th>66878</th>\n",
       "      <td>0</td>\n",
       "      <td>0</td>\n",
       "      <td>1</td>\n",
       "      <td>0</td>\n",
       "      <td>0</td>\n",
       "      <td>0</td>\n",
       "      <td>0</td>\n",
       "      <td>1</td>\n",
       "      <td>-0.303834</td>\n",
       "      <td>-0.323837</td>\n",
       "      <td>-0.693878</td>\n",
       "      <td>-0.646564</td>\n",
       "      <td>-1.499899</td>\n",
       "      <td>-1.483471</td>\n",
       "      <td>-0.306769</td>\n",
       "      <td>-0.560612</td>\n",
       "    </tr>\n",
       "    <tr>\n",
       "      <th>...</th>\n",
       "      <td>...</td>\n",
       "      <td>...</td>\n",
       "      <td>...</td>\n",
       "      <td>...</td>\n",
       "      <td>...</td>\n",
       "      <td>...</td>\n",
       "      <td>...</td>\n",
       "      <td>...</td>\n",
       "      <td>...</td>\n",
       "      <td>...</td>\n",
       "      <td>...</td>\n",
       "      <td>...</td>\n",
       "      <td>...</td>\n",
       "      <td>...</td>\n",
       "      <td>...</td>\n",
       "      <td>...</td>\n",
       "    </tr>\n",
       "    <tr>\n",
       "      <th>67869</th>\n",
       "      <td>0</td>\n",
       "      <td>0</td>\n",
       "      <td>1</td>\n",
       "      <td>0</td>\n",
       "      <td>0</td>\n",
       "      <td>1</td>\n",
       "      <td>0</td>\n",
       "      <td>0</td>\n",
       "      <td>0.871421</td>\n",
       "      <td>-0.268060</td>\n",
       "      <td>-0.747231</td>\n",
       "      <td>-0.766922</td>\n",
       "      <td>-1.477153</td>\n",
       "      <td>-1.774852</td>\n",
       "      <td>-0.323300</td>\n",
       "      <td>-0.398798</td>\n",
       "    </tr>\n",
       "    <tr>\n",
       "      <th>67870</th>\n",
       "      <td>0</td>\n",
       "      <td>1</td>\n",
       "      <td>1</td>\n",
       "      <td>1</td>\n",
       "      <td>0</td>\n",
       "      <td>0</td>\n",
       "      <td>0</td>\n",
       "      <td>0</td>\n",
       "      <td>-0.386396</td>\n",
       "      <td>-0.550007</td>\n",
       "      <td>0.701160</td>\n",
       "      <td>1.420540</td>\n",
       "      <td>-1.298714</td>\n",
       "      <td>-1.261063</td>\n",
       "      <td>-0.279456</td>\n",
       "      <td>0.949649</td>\n",
       "    </tr>\n",
       "    <tr>\n",
       "      <th>67871</th>\n",
       "      <td>0</td>\n",
       "      <td>1</td>\n",
       "      <td>1</td>\n",
       "      <td>1</td>\n",
       "      <td>0</td>\n",
       "      <td>0</td>\n",
       "      <td>0</td>\n",
       "      <td>0</td>\n",
       "      <td>-0.389256</td>\n",
       "      <td>-0.549824</td>\n",
       "      <td>0.595708</td>\n",
       "      <td>1.279107</td>\n",
       "      <td>-1.298714</td>\n",
       "      <td>-1.261063</td>\n",
       "      <td>-0.278019</td>\n",
       "      <td>0.949649</td>\n",
       "    </tr>\n",
       "    <tr>\n",
       "      <th>67872</th>\n",
       "      <td>0</td>\n",
       "      <td>1</td>\n",
       "      <td>1</td>\n",
       "      <td>1</td>\n",
       "      <td>0</td>\n",
       "      <td>0</td>\n",
       "      <td>0</td>\n",
       "      <td>0</td>\n",
       "      <td>-0.390649</td>\n",
       "      <td>-0.549673</td>\n",
       "      <td>0.490258</td>\n",
       "      <td>1.137706</td>\n",
       "      <td>-1.298714</td>\n",
       "      <td>-1.261063</td>\n",
       "      <td>-0.277300</td>\n",
       "      <td>0.949649</td>\n",
       "    </tr>\n",
       "    <tr>\n",
       "      <th>67873</th>\n",
       "      <td>0</td>\n",
       "      <td>1</td>\n",
       "      <td>1</td>\n",
       "      <td>1</td>\n",
       "      <td>0</td>\n",
       "      <td>0</td>\n",
       "      <td>0</td>\n",
       "      <td>0</td>\n",
       "      <td>-0.392019</td>\n",
       "      <td>-0.549266</td>\n",
       "      <td>0.173911</td>\n",
       "      <td>0.713545</td>\n",
       "      <td>-1.298714</td>\n",
       "      <td>-1.261063</td>\n",
       "      <td>-0.276581</td>\n",
       "      <td>0.949649</td>\n",
       "    </tr>\n",
       "  </tbody>\n",
       "</table>\n",
       "<p>1000 rows × 16 columns</p>\n",
       "</div>"
      ],
      "text/plain": [
       "       type_RN  type_LVN+LPN  segmentName_d  areaName_houston  areaName_no  \\\n",
       "66874        0             0              1                 0            0   \n",
       "66875        0             0              1                 0            0   \n",
       "66876        0             0              1                 0            0   \n",
       "66877        0             0              1                 0            0   \n",
       "66878        0             0              1                 0            0   \n",
       "...        ...           ...            ...               ...          ...   \n",
       "67869        0             0              1                 0            0   \n",
       "67870        0             1              1                 1            0   \n",
       "67871        0             1              1                 1            0   \n",
       "67872        0             1              1                 1            0   \n",
       "67873        0             1              1                 1            0   \n",
       "\n",
       "       areaName_dfw  areaName_austin  areaName_san  prev_CW/SA_rate  \\\n",
       "66874             0                1             0         0.965178   \n",
       "66875             0                1             0         0.926233   \n",
       "66876             0                1             0         0.889235   \n",
       "66877             0                0             1        -0.300547   \n",
       "66878             0                0             1        -0.303834   \n",
       "...             ...              ...           ...              ...   \n",
       "67869             1                0             0         0.871421   \n",
       "67870             0                0             0        -0.386396   \n",
       "67871             0                0             0        -0.389256   \n",
       "67872             0                0             0        -0.390649   \n",
       "67873             0                0             0        -0.392019   \n",
       "\n",
       "       prev_CW x SA_rate  S_create2SA_Create  S_Create2Start_Time  \\\n",
       "66874          -0.163726           -0.549180            -0.593025   \n",
       "66875          -0.163726           -0.443731            -0.451757   \n",
       "66876          -0.163738           -0.338286            -0.310485   \n",
       "66877          -0.323837           -0.693878            -0.646564   \n",
       "66878          -0.323837           -0.693878            -0.646564   \n",
       "...                  ...                 ...                  ...   \n",
       "67869          -0.268060           -0.747231            -0.766922   \n",
       "67870          -0.550007            0.701160             1.420540   \n",
       "67871          -0.549824            0.595708             1.279107   \n",
       "67872          -0.549673            0.490258             1.137706   \n",
       "67873          -0.549266            0.173911             0.713545   \n",
       "\n",
       "       SA_Create2Start_Time  U_create2now  U_approve2now   net_pay  \n",
       "66874             -1.516786     -1.511942      -0.280175 -0.398798  \n",
       "66875             -1.516786     -1.511942      -0.278019 -0.398798  \n",
       "66876             -1.516786     -1.511942      -0.275863 -0.398798  \n",
       "66877             -1.499899     -1.483471      -0.307488 -0.560612  \n",
       "66878             -1.499899     -1.483471      -0.306769 -0.560612  \n",
       "...                     ...           ...            ...       ...  \n",
       "67869             -1.477153     -1.774852      -0.323300 -0.398798  \n",
       "67870             -1.298714     -1.261063      -0.279456  0.949649  \n",
       "67871             -1.298714     -1.261063      -0.278019  0.949649  \n",
       "67872             -1.298714     -1.261063      -0.277300  0.949649  \n",
       "67873             -1.298714     -1.261063      -0.276581  0.949649  \n",
       "\n",
       "[1000 rows x 16 columns]"
      ]
     },
     "execution_count": 7,
     "metadata": {},
     "output_type": "execute_result"
    }
   ],
   "source": [
    "x_valid"
   ]
  },
  {
   "cell_type": "markdown",
   "metadata": {},
   "source": [
    "### Train test: main dataset - validation set"
   ]
  },
  {
   "cell_type": "code",
   "execution_count": 8,
   "metadata": {},
   "outputs": [],
   "source": [
    "df = df[:-1000] # slice "
   ]
  },
  {
   "cell_type": "code",
   "execution_count": 9,
   "metadata": {},
   "outputs": [],
   "source": [
    "# make a dataset that num of tar = num of non tar, use it for train test\n",
    "import random\n",
    "df_tar = df[df['target']==1].reset_index(drop = True)\n",
    "df_nontar = df[df['target']==0].reset_index(drop = True)\n",
    "\n",
    "number_of_tar = df_tar.shape[0]\n",
    "random_indices = random.sample(range(len(df_nontar)), int(number_of_tar))\n",
    "df_nontar = df_nontar[df_nontar.index.isin(random_indices)]\n",
    "\n",
    "# concat\n",
    "df = pd.concat([df_tar, df_nontar]).reset_index(drop = True)"
   ]
  },
  {
   "cell_type": "code",
   "execution_count": 17,
   "metadata": {},
   "outputs": [],
   "source": [
    "X = np.array(df.drop(['id','user_id', 'shift_id', 'target', 'createdAt', 'Start_Time','status'], axis = 1))\n",
    "y = np.array(df['target'])\n",
    "\n",
    "# set test, train\n",
    "from sklearn.model_selection import train_test_split\n",
    "x_train, x_test, y_train, y_test = train_test_split(X, y, test_size=0.30)"
   ]
  },
  {
   "cell_type": "markdown",
   "metadata": {},
   "source": [
    "## neural network"
   ]
  },
  {
   "cell_type": "code",
   "execution_count": 19,
   "metadata": {},
   "outputs": [],
   "source": [
    "import torch\n",
    "import torch.nn as nn\n",
    "import numpy as np\n",
    "import torch.nn.functional as F\n",
    "from torch.autograd import Variable\n",
    "import matplotlib.pyplot as plt"
   ]
  },
  {
   "cell_type": "code",
   "execution_count": 20,
   "metadata": {},
   "outputs": [
    {
     "name": "stdout",
     "output_type": "stream",
     "text": [
      "Epoch: 1000, Loss: 0.4685974419116974, Accuracy: 76.87232208251953%\n",
      "Epoch: 2000, Loss: 0.45176202058792114, Accuracy: 77.43318939208984%\n",
      "Epoch: 3000, Loss: 0.431262344121933, Accuracy: 79.26426696777344%\n",
      "Epoch: 4000, Loss: 0.4096651077270508, Accuracy: 80.3365249633789%\n",
      "Epoch: 5000, Loss: 0.4039430618286133, Accuracy: 80.6004638671875%\n",
      "Epoch: 6000, Loss: 0.38139307498931885, Accuracy: 82.18409729003906%\n",
      "Epoch: 7000, Loss: 0.3972679376602173, Accuracy: 80.91388702392578%\n",
      "Epoch: 8000, Loss: 0.3682937026023865, Accuracy: 83.1078872680664%\n",
      "Epoch: 9000, Loss: 0.3830803334712982, Accuracy: 81.24381256103516%\n",
      "Epoch: 10000, Loss: 0.3888908922672272, Accuracy: 81.39228057861328%\n"
     ]
    },
    {
     "data": {
      "image/png": "[encoded data removed]",
      "text/plain": [
       "<Figure size 432x288 with 1 Axes>"
      ]
     },
     "metadata": {
      "needs_background": "light"
     },
     "output_type": "display_data"
    }
   ],
   "source": [
    "class LogisticRegression(nn.Module):\n",
    "    def __init__(self, init_in_features):\n",
    "        super(LogisticRegression, self).__init__()\n",
    "        self.linear1 = nn.Linear(init_in_features, 100)\n",
    "        self.linear2 = nn.Linear(100, 10)\n",
    "        self.linear3 = nn.Linear(10, 2)\n",
    "        \n",
    "    def forward(self, x):\n",
    "        x = F.relu(self.linear1(x))\n",
    "        x = F.relu(self.linear2(x))\n",
    "        x = self.linear3(x)\n",
    "        return x\n",
    "    \n",
    "model = LogisticRegression(init_in_features = x_train.shape[1])\n",
    "\n",
    "criterion = nn.CrossEntropyLoss()\n",
    "optimizer = torch.optim.Adam(params=model.parameters() , lr=0.01)\n",
    "\n",
    "#.detach().numpy() \n",
    "#if you need to run this again\n",
    "x_train = Variable(torch.from_numpy(x_train)).float()\n",
    "y_train = Variable(torch.from_numpy(y_train)).long()\n",
    "\n",
    "epochs = 10000\n",
    "model.train()\n",
    "loss_values = []\n",
    "for epoch in range(epochs):\n",
    "    optimizer.zero_grad()\n",
    "    y_pred = model(x_train)\n",
    "    loss = criterion(y_pred, y_train)\n",
    "    loss_values.append(loss.item())\n",
    "    pred = torch.max(y_pred, 1)[1].eq(y_train).sum()\n",
    "    acc = pred * 100.0 / len(x_train)\n",
    "    if (epoch+1)%1000 ==0:\n",
    "        print('Epoch: {}, Loss: {}, Accuracy: {}%'.format(epoch+1, loss.item(), acc.numpy()))\n",
    "    loss.backward()\n",
    "    optimizer.step()\n",
    "\n",
    "plt.plot(loss_values)\n",
    "plt.title('Loss Value vs Epochs')\n",
    "plt.xlabel('Epochs')\n",
    "plt.ylabel('Loss')\n",
    "plt.legend(['Loss'])\n",
    "plt.show()\n",
    "\n",
    "x_test = Variable(torch.from_numpy(x_test)).float()\n",
    "y_test = Variable(torch.from_numpy(y_test)).long()\n",
    "\n",
    "model.eval()\n",
    "with torch.no_grad():\n",
    "    y_pred = model(x_test)\n",
    "    loss = criterion(y_pred, y_test)\n",
    "    pred = torch.max(y_pred, 1)[1].eq(y_test).sum()\n",
    "    accuracy_nn = float(pred/len(x_test))\n",
    "    "
   ]
  },
  {
   "cell_type": "markdown",
   "metadata": {},
   "source": [
    "## Validation"
   ]
  },
  {
   "cell_type": "code",
   "execution_count": 16,
   "metadata": {},
   "outputs": [
    {
     "name": "stdout",
     "output_type": "stream",
     "text": [
      "[[640 318]\n",
      " [ 17  25]]\n",
      "\n",
      "\n",
      "              precision    recall  f1-score   support\n",
      "\n",
      "           0       0.97      0.67      0.79       958\n",
      "           1       0.07      0.60      0.13        42\n",
      "\n",
      "    accuracy                           0.67      1000\n",
      "   macro avg       0.52      0.63      0.46      1000\n",
      "weighted avg       0.94      0.67      0.76      1000\n",
      "\n"
     ]
    }
   ],
   "source": [
    "from sklearn.metrics import (auc, classification_report, roc_auc_score, accuracy_score,roc_curve)\n",
    "from sklearn.metrics import confusion_matrix\n",
    "x_valid = np.array(x_valid)\n",
    "x_valid = Variable(torch.from_numpy(x_valid)).float()\n",
    "predictions = model(x_valid)\n",
    "pred = torch.max(predictions, 1)[1]\n",
    "\n",
    "print(confusion_matrix(y_valid,pred))\n",
    "print('\\n')\n",
    "print(classification_report(y_valid,pred))"
   ]
  },
  {
   "cell_type": "code",
   "execution_count": null,
   "metadata": {},
   "outputs": [],
   "source": []
  }
 ],
 "metadata": {
  "kernelspec": {
   "display_name": "Python 3",
   "language": "python",
   "name": "python3"
  },
  "language_info": {
   "codemirror_mode": {
    "name": "ipython",
    "version": 3
   },
   "file_extension": ".py",
   "mimetype": "text/x-python",
   "name": "python",
   "nbconvert_exporter": "python",
   "pygments_lexer": "ipython3",
   "version": "3.8.5"
  }
 },
 "nbformat": 4,
 "nbformat_minor": 4
}
