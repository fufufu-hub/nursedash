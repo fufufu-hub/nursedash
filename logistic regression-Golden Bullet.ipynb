{
 "cells": [
  {
   "cell_type": "code",
   "execution_count": 64,
   "metadata": {},
   "outputs": [],
   "source": [
    "# feature column\n",
    "features_colname = ['prev_CW/SA_rate', 'U_create2now', 'U_approve2now','prev_CW x SA_rate', 'type_RN', \n",
    "'type_LVN+LPN', 'segmentName_d', 'areaName_houston', 'areaName_no', 'areaName_dfw', \n",
    "'areaName_austin', 'areaName_san', 'net_pay', 'count_prev_SA', \n",
    "'count_prev_CW']\n",
    "# 'reliability_score',\n",
    "# , 'high_ucw_facilitites', 'low_ucw_facilitites', 'days_of_week', 'sunday_or_not', 'Start_time_of_the_day'\n",
    "\n",
    "end_of_week = '2021-5-27'"
   ]
  },
  {
   "cell_type": "markdown",
   "metadata": {},
   "source": [
    "### Logistic Regression Body(preprocessing - classification report)"
   ]
  },
  {
   "cell_type": "code",
   "execution_count": 65,
   "metadata": {},
   "outputs": [
    {
     "name": "stdout",
     "output_type": "stream",
     "text": [
      "Optimization terminated successfully.\n",
      "         Current function value: 0.252233\n",
      "         Iterations 8\n"
     ]
    }
   ],
   "source": [
    "###################\n",
    "### import data ###\n",
    "###################\n",
    "import pandas as pd\n",
    "import numpy as np\n",
    "df = pd.read_csv('model_data.csv').drop(columns = ['Unnamed: 0'])\n",
    "# some values are nan, mark it as -1\n",
    "df['U_approve2now'] = df['U_approve2now'].fillna(-1)\n",
    "\n",
    "\n",
    "######################\n",
    "### data prepration###\n",
    "######################\n",
    "\n",
    "## output: applications after today\n",
    "# # Slice df by the end of this week, for predcition output\n",
    "# end_of_week = '2021-4-14'\n",
    "# convert to datetime for conditonal selection\n",
    "df['Start_Time'] = pd.to_datetime(df['Start_Time'])\n",
    "# sort by start time -> for slicing\n",
    "df = df.sort_values(by = 'Start_Time') \n",
    "# record as realdata\n",
    "realdata = df[df['Start_Time'].apply(lambda x: x > pd.to_datetime(end_of_week))]\n",
    "# record predction output rows, don't include it in tran test validation\n",
    "realdata_len = realdata.shape[0]\n",
    "# only keep status = confirmed\n",
    "realdata = realdata[realdata['status'] == 'confirmed']\n",
    "\n",
    "## Validation set: 1000 recently records\n",
    "# slice, dont include realdata\n",
    "validation = df[-1000-realdata_len : -realdata_len] # slice\n",
    "y_valid = validation['target'] # prep y\n",
    "x_valid = validation[features_colname] # prep x\n",
    "\n",
    "## Train test: main dataset - validation set - output(realdata) set\n",
    "traintest = df[:-1000-realdata_len] # slice \n",
    "X = traintest[features_colname] # prep x\n",
    "y = traintest['target'] # prep y\n",
    "# set test, train\n",
    "from sklearn.model_selection import train_test_split\n",
    "X_train, X_test, y_train, y_test = train_test_split(X, y, test_size=0.30)\n",
    "\n",
    "\n",
    "###################\n",
    "### train logit ###\n",
    "###################\n",
    "from sklearn.linear_model import LogisticRegression, LogisticRegressionCV\n",
    "# assign less punlishment for classifying 0 as 1 -> find more 1's\n",
    "weights = {0:1, 1:10}\n",
    "# class_weight = 'balanced': automatically adjust weights inversely proportional to class frequencies in the input data\n",
    "logit = LogisticRegression(solver = 'lbfgs', max_iter=100000, class_weight = weights)\n",
    "logit.fit(X_train, y_train)\n",
    "\n",
    "\n",
    "#############\n",
    "# Threshold #\n",
    "#############\n",
    "from sklearn.metrics import roc_curve\n",
    "from numpy import sqrt\n",
    "from numpy import argmax\n",
    "# predict probabilities\n",
    "yhat = logit.predict_proba(X_test)\n",
    "# keep probabilities for the positive outcome only\n",
    "yhat = yhat[:, 1]\n",
    "# calculate roc curves\n",
    "fpr, tpr, thresholds = roc_curve(y_test,yhat)\n",
    "# calculate the g-mean for each threshold\n",
    "gmeans = sqrt(tpr * (1-fpr))\n",
    "# locate the index of the largest g-mean\n",
    "ix = argmax(gmeans)\n",
    "lower_limiter = thresholds[ix]\n",
    "\n",
    "# search thresholds for imbalanced classification\n",
    "from numpy import arange\n",
    "from sklearn.datasets import make_classification\n",
    "from sklearn.metrics import f1_score\n",
    "# apply threshold to positive probabilities to create labels\n",
    "def to_labels(pos_probs, threshold):\n",
    "    return (pos_probs >= threshold).astype('int')\n",
    "# predict probabilities\n",
    "yhat = logit.predict_proba(X_test)\n",
    "# keep probabilities for the positive outcome only\n",
    "probs = yhat[:, 1]\n",
    "# define thresholds\n",
    "thresholds = arange(0, 1, 0.001)\n",
    "# evaluate each threshold\n",
    "scores = [f1_score(y_test, to_labels(probs, t)) for t in thresholds]\n",
    "# get best threshold\n",
    "ix = argmax(scores)\n",
    "higher_limiter = thresholds[ix]\n",
    "\n",
    "\n",
    "#########################\n",
    "### train test result ###\n",
    "#########################\n",
    "from sklearn.metrics import classification_report, confusion_matrix\n",
    "y_pred = logit.predict(X_test)\n",
    "Traintest_CM = confusion_matrix(y_test, y_pred)\n",
    "Traintest_CR = classification_report(y_test, y_pred)\n",
    "\n",
    "# overfit\n",
    "y_pred = logit.predict(X_train)\n",
    "overfit_CM = confusion_matrix(y_train, y_pred)\n",
    "overfit_CR = classification_report(y_train, y_pred)\n",
    "\n",
    "# logit summary\n",
    "import statsmodels.api as sm\n",
    "smlogit = sm.Logit(y_train, X_train).fit()\n",
    "logit_summary = smlogit.summary()\n",
    "\n",
    "\n",
    "#########################\n",
    "### validation result ###\n",
    "#########################\n",
    "# lower threshold\n",
    "limiter = lower_limiter\n",
    "y_prob = list(logit.predict_proba(x_valid)[:,1])\n",
    "y_pred = []\n",
    "count =0\n",
    "for prob in y_prob:\n",
    "    if prob >= limiter:\n",
    "        y_pred.append(1)\n",
    "        count+=1\n",
    "    else:\n",
    "        y_pred.append(0)\n",
    "low_vad_CM = confusion_matrix(y_valid, y_pred)\n",
    "low_vad_CR = classification_report(y_valid, y_pred)\n",
    "Dict_low_vad_CR = classification_report(y_valid, y_pred, output_dict=True)\n",
    "\n",
    "# high threshold\n",
    "limiter = higher_limiter\n",
    "y_prob = list(logit.predict_proba(x_valid)[:,1])\n",
    "y_pred = []\n",
    "count =0\n",
    "for prob in y_prob:\n",
    "    if prob >= limiter:\n",
    "        y_pred.append(1)\n",
    "        count+=1\n",
    "    else:\n",
    "        y_pred.append(0)\n",
    "high_vad_CM = confusion_matrix(y_valid, y_pred)\n",
    "high_vad_CR = classification_report(y_valid, y_pred)\n",
    "Dict_high_vad_CR = classification_report(y_valid, y_pred, output_dict=True)\n",
    "\n",
    "########################\n",
    "### excutive summary ###\n",
    "########################\n",
    "from sklearn.metrics import recall_score\n",
    "label_coverage = y_pred.count(1)/len(y_pred)\n",
    "UCW_coverage = recall_score(y_valid, y_pred)\n",
    "Excutive_Summary = 'The limiter we adopt is %.2f' % (limiter) + '. ' + 'By covering %.3f labeled as high probability of UCW, we have prepared for %.3f of real UCW' % (label_coverage,UCW_coverage)\n",
    "\n",
    "\n",
    "########################\n",
    "### output prediction ##\n",
    "########################\n",
    "# return lower_limiter, higher_limiter, Traintest_CM, Traintest_CR, overfit_CM, overfit_CR, \n",
    "# low_vad_CM, low_vad_CR, low_vad_CR, low_vad_CR, logit_summary, logit, Excutive_Summary\n",
    "\n"
   ]
  },
  {
   "cell_type": "markdown",
   "metadata": {},
   "source": [
    "### Logistic Regression Summary"
   ]
  },
  {
   "cell_type": "code",
   "execution_count": 66,
   "metadata": {
    "scrolled": true
   },
   "outputs": [
    {
     "name": "stdout",
     "output_type": "stream",
     "text": [
      "                           Logit Regression Results                           \n",
      "==============================================================================\n",
      "Dep. Variable:                 target   No. Observations:                51531\n",
      "Model:                          Logit   Df Residuals:                    51516\n",
      "Method:                           MLE   Df Model:                           14\n",
      "Date:                Sun, 06 Jun 2021   Pseudo R-squ.:                 0.06492\n",
      "Time:                        22:32:48   Log-Likelihood:                -12998.\n",
      "converged:                       True   LL-Null:                       -13900.\n",
      "Covariance Type:            nonrobust   LLR p-value:                     0.000\n",
      "=====================================================================================\n",
      "                        coef    std err          z      P>|z|      [0.025      0.975]\n",
      "-------------------------------------------------------------------------------------\n",
      "prev_CW/SA_rate       2.3090      0.213     10.864      0.000       1.892       2.726\n",
      "U_create2now         -0.0035      0.006     -0.604      0.546      -0.015       0.008\n",
      "U_approve2now        -0.0240      0.007     -3.611      0.000      -0.037      -0.011\n",
      "prev_CW x SA_rate  8.563e-05   2.49e-05      3.434      0.001    3.68e-05       0.000\n",
      "type_RN              -3.4530      0.157    -21.930      0.000      -3.762      -3.144\n",
      "type_LVN+LPN         -1.4104      0.070    -20.089      0.000      -1.548      -1.273\n",
      "segmentName_d         0.3980      0.086      4.614      0.000       0.229       0.567\n",
      "areaName_houston     -4.2039      0.126    -33.329      0.000      -4.451      -3.957\n",
      "areaName_no          -4.2669      0.138    -30.842      0.000      -4.538      -3.996\n",
      "areaName_dfw         -4.2092      0.135    -31.105      0.000      -4.474      -3.944\n",
      "areaName_austin      -4.1809      0.149    -28.103      0.000      -4.472      -3.889\n",
      "areaName_san         -4.0697      0.148    -27.492      0.000      -4.360      -3.780\n",
      "net_pay               0.0992      0.004     25.744      0.000       0.092       0.107\n",
      "count_prev_SA        -0.0017      0.000     -6.872      0.000      -0.002      -0.001\n",
      "count_prev_CW         0.0546      0.008      7.122      0.000       0.040       0.070\n",
      "=====================================================================================\n"
     ]
    }
   ],
   "source": [
    "print(logit_summary)"
   ]
  },
  {
   "cell_type": "markdown",
   "metadata": {},
   "source": [
    "## Classification Report"
   ]
  },
  {
   "cell_type": "markdown",
   "metadata": {},
   "source": [
    "### Train Test"
   ]
  },
  {
   "cell_type": "code",
   "execution_count": 67,
   "metadata": {
    "scrolled": true
   },
   "outputs": [
    {
     "name": "stdout",
     "output_type": "stream",
     "text": [
      "[[15442  4974]\n",
      " [  715   954]]\n",
      "\n",
      "\n",
      "              precision    recall  f1-score   support\n",
      "\n",
      "           0       0.96      0.76      0.84     20416\n",
      "           1       0.16      0.57      0.25      1669\n",
      "\n",
      "    accuracy                           0.74     22085\n",
      "   macro avg       0.56      0.66      0.55     22085\n",
      "weighted avg       0.90      0.74      0.80     22085\n",
      "\n"
     ]
    }
   ],
   "source": [
    "print(Traintest_CM)\n",
    "print('\\n')\n",
    "print(Traintest_CR)"
   ]
  },
  {
   "cell_type": "markdown",
   "metadata": {},
   "source": [
    "### Overfit"
   ]
  },
  {
   "cell_type": "code",
   "execution_count": 68,
   "metadata": {
    "scrolled": true
   },
   "outputs": [
    {
     "name": "stdout",
     "output_type": "stream",
     "text": [
      "[[35936 11661]\n",
      " [ 1705  2229]]\n",
      "\n",
      "\n",
      "              precision    recall  f1-score   support\n",
      "\n",
      "           0       0.95      0.76      0.84     47597\n",
      "           1       0.16      0.57      0.25      3934\n",
      "\n",
      "    accuracy                           0.74     51531\n",
      "   macro avg       0.56      0.66      0.55     51531\n",
      "weighted avg       0.89      0.74      0.80     51531\n",
      "\n"
     ]
    }
   ],
   "source": [
    "print(overfit_CM)\n",
    "print('\\n')\n",
    "print(overfit_CR)"
   ]
  },
  {
   "cell_type": "markdown",
   "metadata": {},
   "source": [
    "### Validation\n",
    "#### <font color = Blue> Lower"
   ]
  },
  {
   "cell_type": "code",
   "execution_count": 69,
   "metadata": {},
   "outputs": [
    {
     "name": "stdout",
     "output_type": "stream",
     "text": [
      "Applying lower(for Recall) threshhold of 0.4641463915997568\n",
      "\n",
      "\n",
      "[[389 520]\n",
      " [ 10  81]]\n",
      "\n",
      "\n",
      "              precision    recall  f1-score   support\n",
      "\n",
      "           0       0.97      0.43      0.59       909\n",
      "           1       0.13      0.89      0.23        91\n",
      "\n",
      "    accuracy                           0.47      1000\n",
      "   macro avg       0.55      0.66      0.41      1000\n",
      "weighted avg       0.90      0.47      0.56      1000\n",
      "\n"
     ]
    }
   ],
   "source": [
    "print('Applying lower(for Recall) threshhold of {}'.format(lower_limiter))\n",
    "print('\\n')\n",
    "print(low_vad_CM)\n",
    "print('\\n')\n",
    "print(low_vad_CR)"
   ]
  },
  {
   "cell_type": "markdown",
   "metadata": {},
   "source": [
    "#### <font color = Blue> Higher"
   ]
  },
  {
   "cell_type": "code",
   "execution_count": 70,
   "metadata": {},
   "outputs": [
    {
     "name": "stdout",
     "output_type": "stream",
     "text": [
      "Applying higher(for precision) threshhold of 0.539\n",
      "\n",
      "\n",
      "[[563 346]\n",
      " [ 21  70]]\n",
      "\n",
      "\n",
      "              precision    recall  f1-score   support\n",
      "\n",
      "           0       0.96      0.62      0.75       909\n",
      "           1       0.17      0.77      0.28        91\n",
      "\n",
      "    accuracy                           0.63      1000\n",
      "   macro avg       0.57      0.69      0.52      1000\n",
      "weighted avg       0.89      0.63      0.71      1000\n",
      "\n"
     ]
    }
   ],
   "source": [
    "print('Applying higher(for precision) threshhold of {}'.format(higher_limiter))\n",
    "print('\\n')\n",
    "print(high_vad_CM)\n",
    "print('\\n')\n",
    "print(high_vad_CR)"
   ]
  },
  {
   "cell_type": "markdown",
   "metadata": {},
   "source": [
    "### Excutive Summary"
   ]
  },
  {
   "cell_type": "code",
   "execution_count": 63,
   "metadata": {
    "scrolled": true
   },
   "outputs": [
    {
     "name": "stdout",
     "output_type": "stream",
     "text": [
      "By setting limiter to 0.415. We Can prepare for 91.21% of real UCW, by marking 54.10% labeled as high probability of UCW。\n",
      "\n",
      "\n",
      "By setting limiter to 0.562. We Can prepare for 62.64% of real UCW, by marking 19.00% labeled as high probability of UCW。\n"
     ]
    }
   ],
   "source": [
    "high_label_coverage = (high_vad_CM[0][1]+high_vad_CM[1][1])/1000\n",
    "high_UCW_coverage = Dict_high_vad_CR['1']['recall']\n",
    "low_label_coverage = (low_vad_CM[0][1]+high_vad_CM[1][1])/1000\n",
    "low_UCW_coverage = Dict_low_vad_CR['1']['recall']\n",
    "\n",
    "print('By setting limiter to %.3f' % (lower_limiter) + '. ' \n",
    "      +'We Can prepare for {:.2%} of real UCW, by marking {:.2%} labeled as high probability of UCW。'.format(low_UCW_coverage, low_label_coverage))\n",
    "print('\\n')\n",
    "print('By setting limiter to %.3f' % (higher_limiter) + '. ' \n",
    "      +'We Can prepare for {:.2%} of real UCW, by marking {:.2%} labeled as high probability of UCW。'.format(high_UCW_coverage, high_label_coverage))\n"
   ]
  },
  {
   "cell_type": "code",
   "execution_count": 71,
   "metadata": {},
   "outputs": [
    {
     "name": "stdout",
     "output_type": "stream",
     "text": [
      "By setting limiter to 0.464. We Can prepare for 89.01% of real UCW, by marking 59.00% labeled as high probability of UCW。\n",
      "\n",
      "\n",
      "By setting limiter to 0.539. We Can prepare for 76.92% of real UCW, by marking 41.60% labeled as high probability of UCW。\n"
     ]
    }
   ],
   "source": [
    "high_label_coverage = (high_vad_CM[0][1]+high_vad_CM[1][1])/1000\n",
    "high_UCW_coverage = Dict_high_vad_CR['1']['recall']\n",
    "low_label_coverage = (low_vad_CM[0][1]+high_vad_CM[1][1])/1000\n",
    "low_UCW_coverage = Dict_low_vad_CR['1']['recall']\n",
    "\n",
    "print('By setting limiter to %.3f' % (lower_limiter) + '. ' \n",
    "      +'We Can prepare for {:.2%} of real UCW, by marking {:.2%} labeled as high probability of UCW。'.format(low_UCW_coverage, low_label_coverage))\n",
    "print('\\n')\n",
    "print('By setting limiter to %.3f' % (higher_limiter) + '. ' \n",
    "      +'We Can prepare for {:.2%} of real UCW, by marking {:.2%} labeled as high probability of UCW。'.format(high_UCW_coverage, high_label_coverage))\n"
   ]
  },
  {
   "cell_type": "markdown",
   "metadata": {},
   "source": [
    "### CM"
   ]
  },
  {
   "cell_type": "code",
   "execution_count": 23,
   "metadata": {},
   "outputs": [
    {
     "data": {
      "image/png": "[encoded data removed]",
      "text/plain": [
       "<Figure size 432x288 with 2 Axes>"
      ]
     },
     "metadata": {
      "needs_background": "light"
     },
     "output_type": "display_data"
    }
   ],
   "source": [
    "import cf_matrix\n",
    "labels = ['True Neg','False Pos','False Neg','True Pos']\n",
    "categories = ['Zero', 'One']\n",
    "cf_matrix.make_confusion_matrix(confusion_matrix(y_valid, y_pred), group_names=labels,categories=categories)"
   ]
  },
  {
   "cell_type": "code",
   "execution_count": null,
   "metadata": {},
   "outputs": [],
   "source": []
  },
  {
   "cell_type": "code",
   "execution_count": null,
   "metadata": {},
   "outputs": [],
   "source": []
  },
  {
   "cell_type": "code",
   "execution_count": null,
   "metadata": {},
   "outputs": [],
   "source": []
  },
  {
   "cell_type": "markdown",
   "metadata": {},
   "source": [
    "# Fit real data in this model"
   ]
  },
  {
   "cell_type": "code",
   "execution_count": 24,
   "metadata": {},
   "outputs": [],
   "source": [
    "# set input\n",
    "real_X = realdata[features_colname]"
   ]
  },
  {
   "cell_type": "code",
   "execution_count": 25,
   "metadata": {},
   "outputs": [
    {
     "data": {
      "text/plain": [
       "Index(['prev_CW/SA_rate', 'U_create2now', 'U_approve2now', 'prev_CW x SA_rate',\n",
       "       'type_RN', 'type_LVN+LPN', 'segmentName_d', 'areaName_houston',\n",
       "       'areaName_no', 'areaName_dfw', 'areaName_austin', 'areaName_san',\n",
       "       'net_pay', 'CW_in_a_month', 'count_prev_SA', 'count_prev_CW'],\n",
       "      dtype='object')"
      ]
     },
     "execution_count": 25,
     "metadata": {},
     "output_type": "execute_result"
    }
   ],
   "source": [
    "X.columns"
   ]
  },
  {
   "cell_type": "code",
   "execution_count": 26,
   "metadata": {},
   "outputs": [
    {
     "data": {
      "text/plain": [
       "Index(['prev_CW/SA_rate', 'U_create2now', 'U_approve2now', 'prev_CW x SA_rate',\n",
       "       'type_RN', 'type_LVN+LPN', 'segmentName_d', 'areaName_houston',\n",
       "       'areaName_no', 'areaName_dfw', 'areaName_austin', 'areaName_san',\n",
       "       'net_pay', 'CW_in_a_month', 'count_prev_SA', 'count_prev_CW'],\n",
       "      dtype='object')"
      ]
     },
     "execution_count": 26,
     "metadata": {},
     "output_type": "execute_result"
    }
   ],
   "source": [
    "real_X.columns"
   ]
  },
  {
   "cell_type": "code",
   "execution_count": 27,
   "metadata": {
    "scrolled": true
   },
   "outputs": [],
   "source": [
    "# concat predicted prob with data\n",
    "realdata['prob'] = list(logit.predict_proba(real_X)[:,1])"
   ]
  },
  {
   "cell_type": "code",
   "execution_count": 28,
   "metadata": {},
   "outputs": [],
   "source": [
    "# record when this prediction is ran\n",
    "from datetime import date\n",
    "time = str(date.today().year) + '-' + str(date.today().month) + '-' + str(date.today().day)\n",
    "\n",
    "realdata[['id', 'Start_Time', 'prob']].to_csv('pred_{}_Golden_Bullet.csv'.format(time), index = False)"
   ]
  },
  {
   "cell_type": "code",
   "execution_count": null,
   "metadata": {},
   "outputs": [],
   "source": [
    "# to make the prediction doesn't include today\n",
    "realdata['Start_Time']"
   ]
  },
  {
   "cell_type": "code",
   "execution_count": null,
   "metadata": {},
   "outputs": [],
   "source": []
  }
 ],
 "metadata": {
  "kernelspec": {
   "display_name": "Python 3",
   "language": "python",
   "name": "python3"
  },
  "language_info": {
   "codemirror_mode": {
    "name": "ipython",
    "version": 3
   },
   "file_extension": ".py",
   "mimetype": "text/x-python",
   "name": "python",
   "nbconvert_exporter": "python",
   "pygments_lexer": "ipython3",
   "version": "3.8.3"
  }
 },
 "nbformat": 4,
 "nbformat_minor": 4
}
