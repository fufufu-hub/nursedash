{
 "cells": [
  {
   "cell_type": "markdown",
   "metadata": {},
   "source": [
    "### Parameters"
   ]
  },
  {
   "cell_type": "code",
   "execution_count": 39,
   "metadata": {},
   "outputs": [],
   "source": [
    "# feature column\n",
    "features_colname = ['prev_CW/SA_rate', 'U_create2now', 'U_approve2now','prev_CW x SA_rate', 'type_RN', \n",
    "'type_LVN+LPN', 'segmentName_d', 'areaName_houston', 'areaName_no', 'areaName_dfw', \n",
    "'areaName_austin', 'areaName_san', 'net_pay', 'CW_in_a_month', 'count_prev_SA', \n",
    "'count_prev_CW']\n",
    "# , 'high_ucw_facilitites', 'low_ucw_facilitites', 'days_of_week', 'sunday_or_not', 'Start_time_of_the_day'\n",
    "\n",
    "end_of_week = '2021-4-14'"
   ]
  },
  {
   "cell_type": "markdown",
   "metadata": {},
   "source": [
    "### Logistic Regression Body(preprocessing - classification report)"
   ]
  },
  {
   "cell_type": "code",
   "execution_count": 40,
   "metadata": {},
   "outputs": [
    {
     "name": "stdout",
     "output_type": "stream",
     "text": [
      "Optimization terminated successfully.\n",
      "         Current function value: 0.232856\n",
      "         Iterations 8\n"
     ]
    }
   ],
   "source": [
    "###################\n",
    "### import data ###\n",
    "###################\n",
    "import pandas as pd\n",
    "import numpy as np\n",
    "df = pd.read_csv('model_data.csv').drop(columns = ['Unnamed: 0'])\n",
    "# some values are nan, mark it as -1\n",
    "df['U_approve2now'] = df['U_approve2now'].fillna(-1)\n",
    "\n",
    "\n",
    "######################\n",
    "### data prepration###\n",
    "######################\n",
    "\n",
    "## output: applications after today\n",
    "# # Slice df by the end of this week, for predcition output\n",
    "# end_of_week = '2021-4-14'\n",
    "# convert to datetime for conditonal selection\n",
    "df['Start_Time'] = pd.to_datetime(df['Start_Time'])\n",
    "# sort by start time -> for slicing\n",
    "df = df.sort_values(by = 'Start_Time') \n",
    "# record as realdata\n",
    "realdata = df[df['Start_Time'].apply(lambda x: x > pd.to_datetime(end_of_week))]\n",
    "# record predction output rows, don't include it in tran test validation\n",
    "realdata_len = realdata.shape[0]\n",
    "# only keep status = confirmed\n",
    "realdata = realdata[realdata['status'] == 'confirmed']\n",
    "\n",
    "## Validation set: 1000 recently records\n",
    "# slice, dont include realdata\n",
    "validation = df[-1000-realdata_len : -realdata_len] # slice\n",
    "y_valid = validation['target'] # prep y\n",
    "x_valid = validation[features_colname] # prep x\n",
    "\n",
    "## Train test: main dataset - validation set - output(realdata) set\n",
    "traintest = df[:-1000-realdata_len] # slice \n",
    "X = traintest[features_colname] # prep x\n",
    "y = traintest['target'] # prep y\n",
    "# set test, train\n",
    "from sklearn.model_selection import train_test_split\n",
    "X_train, X_test, y_train, y_test = train_test_split(X, y, test_size=0.30)\n",
    "\n",
    "\n",
    "###################\n",
    "### train logit ###\n",
    "###################\n",
    "from sklearn.linear_model import LogisticRegression, LogisticRegressionCV\n",
    "# assign less punlishment for classifying 0 as 1 -> find more 1's\n",
    "weights = {0:1, 1:10}\n",
    "# class_weight = 'balanced': automatically adjust weights inversely proportional to class frequencies in the input data\n",
    "logit = LogisticRegression(solver = 'lbfgs', max_iter=100000, class_weight = weights)\n",
    "logit.fit(X_train, y_train)\n",
    "\n",
    "\n",
    "#############\n",
    "# Threshold #\n",
    "#############\n",
    "from sklearn.metrics import roc_curve\n",
    "from numpy import sqrt\n",
    "from numpy import argmax\n",
    "# predict probabilities\n",
    "yhat = logit.predict_proba(X_test)\n",
    "# keep probabilities for the positive outcome only\n",
    "yhat = yhat[:, 1]\n",
    "# calculate roc curves\n",
    "fpr, tpr, thresholds = roc_curve(y_test,yhat)\n",
    "# calculate the g-mean for each threshold\n",
    "gmeans = sqrt(tpr * (1-fpr))\n",
    "# locate the index of the largest g-mean\n",
    "ix = argmax(gmeans)\n",
    "lower_limiter = thresholds[ix]\n",
    "\n",
    "# search thresholds for imbalanced classification\n",
    "from numpy import arange\n",
    "from sklearn.datasets import make_classification\n",
    "from sklearn.metrics import f1_score\n",
    "# apply threshold to positive probabilities to create labels\n",
    "def to_labels(pos_probs, threshold):\n",
    "    return (pos_probs >= threshold).astype('int')\n",
    "# predict probabilities\n",
    "yhat = logit.predict_proba(X_test)\n",
    "# keep probabilities for the positive outcome only\n",
    "probs = yhat[:, 1]\n",
    "# define thresholds\n",
    "thresholds = arange(0, 1, 0.001)\n",
    "# evaluate each threshold\n",
    "scores = [f1_score(y_test, to_labels(probs, t)) for t in thresholds]\n",
    "# get best threshold\n",
    "ix = argmax(scores)\n",
    "higher_limiter = thresholds[ix]\n",
    "\n",
    "\n",
    "#########################\n",
    "### train test result ###\n",
    "#########################\n",
    "from sklearn.metrics import classification_report, confusion_matrix\n",
    "y_pred = logit.predict(X_test)\n",
    "Traintest_CM = confusion_matrix(y_test, y_pred)\n",
    "Traintest_CR = classification_report(y_test, y_pred)\n",
    "\n",
    "# overfit\n",
    "y_pred = logit.predict(X_train)\n",
    "overfit_CM = confusion_matrix(y_train, y_pred)\n",
    "overfit_CR = classification_report(y_train, y_pred)\n",
    "\n",
    "# logit summary\n",
    "import statsmodels.api as sm\n",
    "smlogit = sm.Logit(y_train, X_train).fit()\n",
    "logit_summary = smlogit.summary()\n",
    "\n",
    "\n",
    "#########################\n",
    "### validation result ###\n",
    "#########################\n",
    "# lower threshold\n",
    "limiter = lower_limiter\n",
    "y_prob = list(logit.predict_proba(x_valid)[:,1])\n",
    "y_pred = []\n",
    "count =0\n",
    "for prob in y_prob:\n",
    "    if prob >= limiter:\n",
    "        y_pred.append(1)\n",
    "        count+=1\n",
    "    else:\n",
    "        y_pred.append(0)\n",
    "low_vad_CM = confusion_matrix(y_valid, y_pred)\n",
    "low_vad_CR = classification_report(y_valid, y_pred)\n",
    "Dict_low_vad_CR = classification_report(y_valid, y_pred, output_dict=True)\n",
    "\n",
    "# high threshold\n",
    "limiter = higher_limiter\n",
    "y_prob = list(logit.predict_proba(x_valid)[:,1])\n",
    "y_pred = []\n",
    "count =0\n",
    "for prob in y_prob:\n",
    "    if prob >= limiter:\n",
    "        y_pred.append(1)\n",
    "        count+=1\n",
    "    else:\n",
    "        y_pred.append(0)\n",
    "high_vad_CM = confusion_matrix(y_valid, y_pred)\n",
    "high_vad_CR = classification_report(y_valid, y_pred)\n",
    "Dict_high_vad_CR = classification_report(y_valid, y_pred, output_dict=True)\n",
    "\n",
    "########################\n",
    "### excutive summary ###\n",
    "########################\n",
    "from sklearn.metrics import recall_score\n",
    "label_coverage = y_pred.count(1)/len(y_pred)\n",
    "UCW_coverage = recall_score(y_valid, y_pred)\n",
    "Excutive_Summary = 'The limiter we adopt is %.2f' % (limiter) + '. ' + 'By covering %.3f labeled as high probability of UCW, we have prepared for %.3f of real UCW' % (label_coverage,UCW_coverage)\n",
    "\n",
    "\n",
    "########################\n",
    "### output prediction ##\n",
    "########################\n",
    "# return lower_limiter, higher_limiter, Traintest_CM, Traintest_CR, overfit_CM, overfit_CR, \n",
    "# low_vad_CM, low_vad_CR, low_vad_CR, low_vad_CR, logit_summary, logit, Excutive_Summary\n",
    "\n"
   ]
  },
  {
   "cell_type": "markdown",
   "metadata": {},
   "source": [
    "### Logistic Regression Summary"
   ]
  },
  {
   "cell_type": "code",
   "execution_count": 41,
   "metadata": {
    "scrolled": true
   },
   "outputs": [
    {
     "name": "stdout",
     "output_type": "stream",
     "text": [
      "                           Logit Regression Results                           \n",
      "==============================================================================\n",
      "Dep. Variable:                 target   No. Observations:                45344\n",
      "Model:                          Logit   Df Residuals:                    45328\n",
      "Method:                           MLE   Df Model:                           15\n",
      "Date:                Mon, 26 Apr 2021   Pseudo R-squ.:                 0.06480\n",
      "Time:                        20:31:44   Log-Likelihood:                -10559.\n",
      "converged:                       True   LL-Null:                       -11290.\n",
      "Covariance Type:            nonrobust   LLR p-value:                4.372e-303\n",
      "=====================================================================================\n",
      "                        coef    std err          z      P>|z|      [0.025      0.975]\n",
      "-------------------------------------------------------------------------------------\n",
      "prev_CW/SA_rate       2.2580      0.265      8.535      0.000       1.739       2.777\n",
      "U_create2now         -0.0100      0.007     -1.515      0.130      -0.023       0.003\n",
      "U_approve2now        -0.0179      0.008     -2.361      0.018      -0.033      -0.003\n",
      "prev_CW x SA_rate   9.16e-05   3.53e-05      2.594      0.009    2.24e-05       0.000\n",
      "type_RN              -3.2133      0.174    -18.503      0.000      -3.554      -2.873\n",
      "type_LVN+LPN         -1.2617      0.078    -16.205      0.000      -1.414      -1.109\n",
      "segmentName_d         0.4563      0.097      4.700      0.000       0.266       0.647\n",
      "areaName_houston     -4.2932      0.141    -30.405      0.000      -4.570      -4.016\n",
      "areaName_no          -4.3680      0.153    -28.618      0.000      -4.667      -4.069\n",
      "areaName_dfw         -4.3712      0.151    -29.005      0.000      -4.667      -4.076\n",
      "areaName_austin      -4.1359      0.163    -25.343      0.000      -4.456      -3.816\n",
      "areaName_san         -4.1381      0.166    -24.871      0.000      -4.464      -3.812\n",
      "net_pay               0.0926      0.004     22.114      0.000       0.084       0.101\n",
      "CW_in_a_month         0.1552      0.046      3.355      0.001       0.065       0.246\n",
      "count_prev_SA        -0.0017      0.000     -6.360      0.000      -0.002      -0.001\n",
      "count_prev_CW         0.0607      0.010      5.898      0.000       0.041       0.081\n",
      "=====================================================================================\n"
     ]
    }
   ],
   "source": [
    "print(logit_summary)"
   ]
  },
  {
   "cell_type": "markdown",
   "metadata": {},
   "source": [
    "## Classification Report"
   ]
  },
  {
   "cell_type": "markdown",
   "metadata": {},
   "source": [
    "### Train Test"
   ]
  },
  {
   "cell_type": "code",
   "execution_count": 42,
   "metadata": {
    "scrolled": true
   },
   "outputs": [
    {
     "name": "stdout",
     "output_type": "stream",
     "text": [
      "[[14413  3721]\n",
      " [  670   630]]\n",
      "\n",
      "\n",
      "              precision    recall  f1-score   support\n",
      "\n",
      "           0       0.96      0.79      0.87     18134\n",
      "           1       0.14      0.48      0.22      1300\n",
      "\n",
      "    accuracy                           0.77     19434\n",
      "   macro avg       0.55      0.64      0.55     19434\n",
      "weighted avg       0.90      0.77      0.82     19434\n",
      "\n"
     ]
    }
   ],
   "source": [
    "print(Traintest_CM)\n",
    "print('\\n')\n",
    "print(Traintest_CR)"
   ]
  },
  {
   "cell_type": "markdown",
   "metadata": {},
   "source": [
    "### Overfit"
   ]
  },
  {
   "cell_type": "code",
   "execution_count": 43,
   "metadata": {
    "scrolled": true
   },
   "outputs": [
    {
     "name": "stdout",
     "output_type": "stream",
     "text": [
      "[[33528  8723]\n",
      " [ 1588  1505]]\n",
      "\n",
      "\n",
      "              precision    recall  f1-score   support\n",
      "\n",
      "           0       0.95      0.79      0.87     42251\n",
      "           1       0.15      0.49      0.23      3093\n",
      "\n",
      "    accuracy                           0.77     45344\n",
      "   macro avg       0.55      0.64      0.55     45344\n",
      "weighted avg       0.90      0.77      0.82     45344\n",
      "\n"
     ]
    }
   ],
   "source": [
    "print(overfit_CM)\n",
    "print('\\n')\n",
    "print(overfit_CR)"
   ]
  },
  {
   "cell_type": "markdown",
   "metadata": {},
   "source": [
    "### Validation\n",
    "#### <font color = Blue> Lower"
   ]
  },
  {
   "cell_type": "code",
   "execution_count": 44,
   "metadata": {},
   "outputs": [
    {
     "name": "stdout",
     "output_type": "stream",
     "text": [
      "Applying lower(for Recall) threshhold of 0.4419578428184474\n",
      "\n",
      "\n",
      "[[416 489]\n",
      " [ 16  79]]\n",
      "\n",
      "\n",
      "              precision    recall  f1-score   support\n",
      "\n",
      "           0       0.96      0.46      0.62       905\n",
      "           1       0.14      0.83      0.24        95\n",
      "\n",
      "    accuracy                           0.49      1000\n",
      "   macro avg       0.55      0.65      0.43      1000\n",
      "weighted avg       0.88      0.49      0.59      1000\n",
      "\n"
     ]
    }
   ],
   "source": [
    "print('Applying lower(for Recall) threshhold of {}'.format(lower_limiter))\n",
    "print('\\n')\n",
    "print(low_vad_CM)\n",
    "print('\\n')\n",
    "print(low_vad_CR)"
   ]
  },
  {
   "cell_type": "markdown",
   "metadata": {},
   "source": [
    "#### <font color = Blue> Higher"
   ]
  },
  {
   "cell_type": "code",
   "execution_count": 45,
   "metadata": {},
   "outputs": [
    {
     "name": "stdout",
     "output_type": "stream",
     "text": [
      "Applying higher(for precision) threshhold of 0.5660000000000001\n",
      "\n",
      "\n",
      "[[700 205]\n",
      " [ 41  54]]\n",
      "\n",
      "\n",
      "              precision    recall  f1-score   support\n",
      "\n",
      "           0       0.94      0.77      0.85       905\n",
      "           1       0.21      0.57      0.31        95\n",
      "\n",
      "    accuracy                           0.75      1000\n",
      "   macro avg       0.58      0.67      0.58      1000\n",
      "weighted avg       0.87      0.75      0.80      1000\n",
      "\n"
     ]
    }
   ],
   "source": [
    "print('Applying higher(for precision) threshhold of {}'.format(higher_limiter))\n",
    "print('\\n')\n",
    "print(high_vad_CM)\n",
    "print('\\n')\n",
    "print(high_vad_CR)"
   ]
  },
  {
   "cell_type": "markdown",
   "metadata": {},
   "source": [
    "### Excutive Summary"
   ]
  },
  {
   "cell_type": "code",
   "execution_count": 101,
   "metadata": {},
   "outputs": [
    {
     "name": "stdout",
     "output_type": "stream",
     "text": [
      "By setting limiter to 0.442. We Can prepare for 83.16% of real UCW, by marking 54.30% labeled as high probability of UCW。\n",
      "\n",
      "\n",
      "By setting limiter to 0.566. We Can prepare for 56.84% of real UCW, by marking 25.90% labeled as high probability of UCW。\n"
     ]
    }
   ],
   "source": [
    "high_label_coverage = (high_vad_CM[0][1]+high_vad_CM[1][1])/1000\n",
    "high_UCW_coverage = Dict_high_vad_CR['1']['recall']\n",
    "low_label_coverage = (low_vad_CM[0][1]+high_vad_CM[1][1])/1000\n",
    "low_UCW_coverage = Dict_low_vad_CR['1']['recall']\n",
    "\n",
    "print('By setting limiter to %.3f' % (lower_limiter) + '. ' \n",
    "      +'We Can prepare for {:.2%} of real UCW, by marking {:.2%} labeled as high probability of UCW。'.format(low_UCW_coverage, low_label_coverage))\n",
    "print('\\n')\n",
    "print('By setting limiter to %.3f' % (higher_limiter) + '. ' \n",
    "      +'We Can prepare for {:.2%} of real UCW, by marking {:.2%} labeled as high probability of UCW。'.format(high_UCW_coverage, high_label_coverage))\n"
   ]
  },
  {
   "cell_type": "markdown",
   "metadata": {},
   "source": [
    "### CM"
   ]
  },
  {
   "cell_type": "code",
   "execution_count": 70,
   "metadata": {},
   "outputs": [
    {
     "data": {
      "image/png": "[encoded data removed]",
      "text/plain": [
       "<Figure size 432x288 with 2 Axes>"
      ]
     },
     "metadata": {
      "needs_background": "light"
     },
     "output_type": "display_data"
    }
   ],
   "source": [
    "import cf_matrix\n",
    "labels = ['True Neg','False Pos','False Neg','True Pos']\n",
    "categories = ['Zero', 'One']\n",
    "cf_matrix.make_confusion_matrix(confusion_matrix(y_valid, y_pred), group_names=labels,categories=categories)"
   ]
  },
  {
   "cell_type": "code",
   "execution_count": null,
   "metadata": {},
   "outputs": [],
   "source": []
  },
  {
   "cell_type": "code",
   "execution_count": null,
   "metadata": {},
   "outputs": [],
   "source": []
  },
  {
   "cell_type": "code",
   "execution_count": null,
   "metadata": {},
   "outputs": [],
   "source": []
  },
  {
   "cell_type": "code",
   "execution_count": null,
   "metadata": {},
   "outputs": [],
   "source": []
  },
  {
   "cell_type": "markdown",
   "metadata": {},
   "source": [
    "# Fit real data in this model"
   ]
  },
  {
   "cell_type": "code",
   "execution_count": 32,
   "metadata": {},
   "outputs": [],
   "source": [
    "# set input\n",
    "real_X = realdata.drop(['id','user_id', 'shift_id', 'status', 'target', 'sa_create', 'Start_Time'], axis = 1)"
   ]
  },
  {
   "cell_type": "code",
   "execution_count": 33,
   "metadata": {},
   "outputs": [
    {
     "data": {
      "text/plain": [
       "Index(['prev_CW/SA_rate', 'U_create2now', 'U_approve2now', 'prev_CW x SA_rate',\n",
       "       'type_RN', 'type_LVN+LPN', 'segmentName_d', 'areaName_houston',\n",
       "       'areaName_no', 'areaName_dfw', 'areaName_austin', 'areaName_san',\n",
       "       'net_pay', 'CW_in_a_month', 'count_prev_SA', 'count_prev_CW'],\n",
       "      dtype='object')"
      ]
     },
     "execution_count": 33,
     "metadata": {},
     "output_type": "execute_result"
    }
   ],
   "source": [
    "X.columns"
   ]
  },
  {
   "cell_type": "code",
   "execution_count": 34,
   "metadata": {},
   "outputs": [
    {
     "data": {
      "text/plain": [
       "Index(['prev_CW/SA_rate', 'S_create2SA_Create', 'S_Create2Start_Time',\n",
       "       'SA_Create2Start_Time', 'U_create2now', 'U_approve2now',\n",
       "       'prev_CW x SA_rate', 'type_RN', 'type_LVN+LPN', 'segmentName_d',\n",
       "       'areaName_houston', 'areaName_no', 'areaName_dfw', 'areaName_austin',\n",
       "       'areaName_san', 'net_pay', 'CW_in_a_month', 'count_prev_SA',\n",
       "       'count_prev_CW', 'high_ucw_facilitites', 'reliabilityRating',\n",
       "       'low_ucw_facilitites', 'days_of_week', 'sunday_or_not',\n",
       "       'Start_time_of_the_day'],\n",
       "      dtype='object')"
      ]
     },
     "execution_count": 34,
     "metadata": {},
     "output_type": "execute_result"
    }
   ],
   "source": [
    "real_X.columns"
   ]
  },
  {
   "cell_type": "code",
   "execution_count": 35,
   "metadata": {
    "scrolled": true
   },
   "outputs": [
    {
     "ename": "ValueError",
     "evalue": "could not convert string to float: 'Excellent'",
     "output_type": "error",
     "traceback": [
      "\u001b[0;31m---------------------------------------------------------------------------\u001b[0m",
      "\u001b[0;31mValueError\u001b[0m                                Traceback (most recent call last)",
      "\u001b[0;32m<ipython-input-35-9a31911fc355>\u001b[0m in \u001b[0;36m<module>\u001b[0;34m\u001b[0m\n\u001b[1;32m      1\u001b[0m \u001b[0;31m# concat predicted prob with data\u001b[0m\u001b[0;34m\u001b[0m\u001b[0;34m\u001b[0m\u001b[0;34m\u001b[0m\u001b[0m\n\u001b[0;32m----> 2\u001b[0;31m \u001b[0mrealdata\u001b[0m\u001b[0;34m[\u001b[0m\u001b[0;34m'prob'\u001b[0m\u001b[0;34m]\u001b[0m \u001b[0;34m=\u001b[0m \u001b[0mlist\u001b[0m\u001b[0;34m(\u001b[0m\u001b[0mlogit\u001b[0m\u001b[0;34m.\u001b[0m\u001b[0mpredict_proba\u001b[0m\u001b[0;34m(\u001b[0m\u001b[0mreal_X\u001b[0m\u001b[0;34m)\u001b[0m\u001b[0;34m[\u001b[0m\u001b[0;34m:\u001b[0m\u001b[0;34m,\u001b[0m\u001b[0;36m1\u001b[0m\u001b[0;34m]\u001b[0m\u001b[0;34m)\u001b[0m\u001b[0;34m\u001b[0m\u001b[0;34m\u001b[0m\u001b[0m\n\u001b[0m",
      "\u001b[0;32m~/anaconda3/lib/python3.8/site-packages/sklearn/linear_model/_logistic.py\u001b[0m in \u001b[0;36mpredict_proba\u001b[0;34m(self, X)\u001b[0m\n\u001b[1;32m   1466\u001b[0m                                                 self.solver == 'liblinear')))\n\u001b[1;32m   1467\u001b[0m         \u001b[0;32mif\u001b[0m \u001b[0movr\u001b[0m\u001b[0;34m:\u001b[0m\u001b[0;34m\u001b[0m\u001b[0;34m\u001b[0m\u001b[0m\n\u001b[0;32m-> 1468\u001b[0;31m             \u001b[0;32mreturn\u001b[0m \u001b[0msuper\u001b[0m\u001b[0;34m(\u001b[0m\u001b[0;34m)\u001b[0m\u001b[0;34m.\u001b[0m\u001b[0m_predict_proba_lr\u001b[0m\u001b[0;34m(\u001b[0m\u001b[0mX\u001b[0m\u001b[0;34m)\u001b[0m\u001b[0;34m\u001b[0m\u001b[0;34m\u001b[0m\u001b[0m\n\u001b[0m\u001b[1;32m   1469\u001b[0m         \u001b[0;32melse\u001b[0m\u001b[0;34m:\u001b[0m\u001b[0;34m\u001b[0m\u001b[0;34m\u001b[0m\u001b[0m\n\u001b[1;32m   1470\u001b[0m             \u001b[0mdecision\u001b[0m \u001b[0;34m=\u001b[0m \u001b[0mself\u001b[0m\u001b[0;34m.\u001b[0m\u001b[0mdecision_function\u001b[0m\u001b[0;34m(\u001b[0m\u001b[0mX\u001b[0m\u001b[0;34m)\u001b[0m\u001b[0;34m\u001b[0m\u001b[0;34m\u001b[0m\u001b[0m\n",
      "\u001b[0;32m~/anaconda3/lib/python3.8/site-packages/sklearn/linear_model/_base.py\u001b[0m in \u001b[0;36m_predict_proba_lr\u001b[0;34m(self, X)\u001b[0m\n\u001b[1;32m    319\u001b[0m         \u001b[0mmulticlass\u001b[0m \u001b[0;32mis\u001b[0m \u001b[0mhandled\u001b[0m \u001b[0mby\u001b[0m \u001b[0mnormalizing\u001b[0m \u001b[0mthat\u001b[0m \u001b[0mover\u001b[0m \u001b[0mall\u001b[0m \u001b[0mclasses\u001b[0m\u001b[0;34m.\u001b[0m\u001b[0;34m\u001b[0m\u001b[0;34m\u001b[0m\u001b[0m\n\u001b[1;32m    320\u001b[0m         \"\"\"\n\u001b[0;32m--> 321\u001b[0;31m         \u001b[0mprob\u001b[0m \u001b[0;34m=\u001b[0m \u001b[0mself\u001b[0m\u001b[0;34m.\u001b[0m\u001b[0mdecision_function\u001b[0m\u001b[0;34m(\u001b[0m\u001b[0mX\u001b[0m\u001b[0;34m)\u001b[0m\u001b[0;34m\u001b[0m\u001b[0;34m\u001b[0m\u001b[0m\n\u001b[0m\u001b[1;32m    322\u001b[0m         \u001b[0mexpit\u001b[0m\u001b[0;34m(\u001b[0m\u001b[0mprob\u001b[0m\u001b[0;34m,\u001b[0m \u001b[0mout\u001b[0m\u001b[0;34m=\u001b[0m\u001b[0mprob\u001b[0m\u001b[0;34m)\u001b[0m\u001b[0;34m\u001b[0m\u001b[0;34m\u001b[0m\u001b[0m\n\u001b[1;32m    323\u001b[0m         \u001b[0;32mif\u001b[0m \u001b[0mprob\u001b[0m\u001b[0;34m.\u001b[0m\u001b[0mndim\u001b[0m \u001b[0;34m==\u001b[0m \u001b[0;36m1\u001b[0m\u001b[0;34m:\u001b[0m\u001b[0;34m\u001b[0m\u001b[0;34m\u001b[0m\u001b[0m\n",
      "\u001b[0;32m~/anaconda3/lib/python3.8/site-packages/sklearn/linear_model/_base.py\u001b[0m in \u001b[0;36mdecision_function\u001b[0;34m(self, X)\u001b[0m\n\u001b[1;32m    280\u001b[0m         \u001b[0mcheck_is_fitted\u001b[0m\u001b[0;34m(\u001b[0m\u001b[0mself\u001b[0m\u001b[0;34m)\u001b[0m\u001b[0;34m\u001b[0m\u001b[0;34m\u001b[0m\u001b[0m\n\u001b[1;32m    281\u001b[0m \u001b[0;34m\u001b[0m\u001b[0m\n\u001b[0;32m--> 282\u001b[0;31m         \u001b[0mX\u001b[0m \u001b[0;34m=\u001b[0m \u001b[0mcheck_array\u001b[0m\u001b[0;34m(\u001b[0m\u001b[0mX\u001b[0m\u001b[0;34m,\u001b[0m \u001b[0maccept_sparse\u001b[0m\u001b[0;34m=\u001b[0m\u001b[0;34m'csr'\u001b[0m\u001b[0;34m)\u001b[0m\u001b[0;34m\u001b[0m\u001b[0;34m\u001b[0m\u001b[0m\n\u001b[0m\u001b[1;32m    283\u001b[0m \u001b[0;34m\u001b[0m\u001b[0m\n\u001b[1;32m    284\u001b[0m         \u001b[0mn_features\u001b[0m \u001b[0;34m=\u001b[0m \u001b[0mself\u001b[0m\u001b[0;34m.\u001b[0m\u001b[0mcoef_\u001b[0m\u001b[0;34m.\u001b[0m\u001b[0mshape\u001b[0m\u001b[0;34m[\u001b[0m\u001b[0;36m1\u001b[0m\u001b[0;34m]\u001b[0m\u001b[0;34m\u001b[0m\u001b[0;34m\u001b[0m\u001b[0m\n",
      "\u001b[0;32m~/anaconda3/lib/python3.8/site-packages/sklearn/utils/validation.py\u001b[0m in \u001b[0;36minner_f\u001b[0;34m(*args, **kwargs)\u001b[0m\n\u001b[1;32m     71\u001b[0m                           FutureWarning)\n\u001b[1;32m     72\u001b[0m         \u001b[0mkwargs\u001b[0m\u001b[0;34m.\u001b[0m\u001b[0mupdate\u001b[0m\u001b[0;34m(\u001b[0m\u001b[0;34m{\u001b[0m\u001b[0mk\u001b[0m\u001b[0;34m:\u001b[0m \u001b[0marg\u001b[0m \u001b[0;32mfor\u001b[0m \u001b[0mk\u001b[0m\u001b[0;34m,\u001b[0m \u001b[0marg\u001b[0m \u001b[0;32min\u001b[0m \u001b[0mzip\u001b[0m\u001b[0;34m(\u001b[0m\u001b[0msig\u001b[0m\u001b[0;34m.\u001b[0m\u001b[0mparameters\u001b[0m\u001b[0;34m,\u001b[0m \u001b[0margs\u001b[0m\u001b[0;34m)\u001b[0m\u001b[0;34m}\u001b[0m\u001b[0;34m)\u001b[0m\u001b[0;34m\u001b[0m\u001b[0;34m\u001b[0m\u001b[0m\n\u001b[0;32m---> 73\u001b[0;31m         \u001b[0;32mreturn\u001b[0m \u001b[0mf\u001b[0m\u001b[0;34m(\u001b[0m\u001b[0;34m**\u001b[0m\u001b[0mkwargs\u001b[0m\u001b[0;34m)\u001b[0m\u001b[0;34m\u001b[0m\u001b[0;34m\u001b[0m\u001b[0m\n\u001b[0m\u001b[1;32m     74\u001b[0m     \u001b[0;32mreturn\u001b[0m \u001b[0minner_f\u001b[0m\u001b[0;34m\u001b[0m\u001b[0;34m\u001b[0m\u001b[0m\n\u001b[1;32m     75\u001b[0m \u001b[0;34m\u001b[0m\u001b[0m\n",
      "\u001b[0;32m~/anaconda3/lib/python3.8/site-packages/sklearn/utils/validation.py\u001b[0m in \u001b[0;36mcheck_array\u001b[0;34m(array, accept_sparse, accept_large_sparse, dtype, order, copy, force_all_finite, ensure_2d, allow_nd, ensure_min_samples, ensure_min_features, estimator)\u001b[0m\n\u001b[1;32m    597\u001b[0m                     \u001b[0marray\u001b[0m \u001b[0;34m=\u001b[0m \u001b[0marray\u001b[0m\u001b[0;34m.\u001b[0m\u001b[0mastype\u001b[0m\u001b[0;34m(\u001b[0m\u001b[0mdtype\u001b[0m\u001b[0;34m,\u001b[0m \u001b[0mcasting\u001b[0m\u001b[0;34m=\u001b[0m\u001b[0;34m\"unsafe\"\u001b[0m\u001b[0;34m,\u001b[0m \u001b[0mcopy\u001b[0m\u001b[0;34m=\u001b[0m\u001b[0;32mFalse\u001b[0m\u001b[0;34m)\u001b[0m\u001b[0;34m\u001b[0m\u001b[0;34m\u001b[0m\u001b[0m\n\u001b[1;32m    598\u001b[0m                 \u001b[0;32melse\u001b[0m\u001b[0;34m:\u001b[0m\u001b[0;34m\u001b[0m\u001b[0;34m\u001b[0m\u001b[0m\n\u001b[0;32m--> 599\u001b[0;31m                     \u001b[0marray\u001b[0m \u001b[0;34m=\u001b[0m \u001b[0mnp\u001b[0m\u001b[0;34m.\u001b[0m\u001b[0masarray\u001b[0m\u001b[0;34m(\u001b[0m\u001b[0marray\u001b[0m\u001b[0;34m,\u001b[0m \u001b[0morder\u001b[0m\u001b[0;34m=\u001b[0m\u001b[0morder\u001b[0m\u001b[0;34m,\u001b[0m \u001b[0mdtype\u001b[0m\u001b[0;34m=\u001b[0m\u001b[0mdtype\u001b[0m\u001b[0;34m)\u001b[0m\u001b[0;34m\u001b[0m\u001b[0;34m\u001b[0m\u001b[0m\n\u001b[0m\u001b[1;32m    600\u001b[0m             \u001b[0;32mexcept\u001b[0m \u001b[0mComplexWarning\u001b[0m\u001b[0;34m:\u001b[0m\u001b[0;34m\u001b[0m\u001b[0;34m\u001b[0m\u001b[0m\n\u001b[1;32m    601\u001b[0m                 raise ValueError(\"Complex data not supported\\n\"\n",
      "\u001b[0;32m~/anaconda3/lib/python3.8/site-packages/numpy/core/_asarray.py\u001b[0m in \u001b[0;36masarray\u001b[0;34m(a, dtype, order)\u001b[0m\n\u001b[1;32m     83\u001b[0m \u001b[0;34m\u001b[0m\u001b[0m\n\u001b[1;32m     84\u001b[0m     \"\"\"\n\u001b[0;32m---> 85\u001b[0;31m     \u001b[0;32mreturn\u001b[0m \u001b[0marray\u001b[0m\u001b[0;34m(\u001b[0m\u001b[0ma\u001b[0m\u001b[0;34m,\u001b[0m \u001b[0mdtype\u001b[0m\u001b[0;34m,\u001b[0m \u001b[0mcopy\u001b[0m\u001b[0;34m=\u001b[0m\u001b[0;32mFalse\u001b[0m\u001b[0;34m,\u001b[0m \u001b[0morder\u001b[0m\u001b[0;34m=\u001b[0m\u001b[0morder\u001b[0m\u001b[0;34m)\u001b[0m\u001b[0;34m\u001b[0m\u001b[0;34m\u001b[0m\u001b[0m\n\u001b[0m\u001b[1;32m     86\u001b[0m \u001b[0;34m\u001b[0m\u001b[0m\n\u001b[1;32m     87\u001b[0m \u001b[0;34m\u001b[0m\u001b[0m\n",
      "\u001b[0;31mValueError\u001b[0m: could not convert string to float: 'Excellent'"
     ]
    }
   ],
   "source": [
    "# concat predicted prob with data\n",
    "realdata['prob'] = list(logit.predict_proba(real_X)[:,1])"
   ]
  },
  {
   "cell_type": "code",
   "execution_count": null,
   "metadata": {},
   "outputs": [],
   "source": [
    "# record when this prediction is ran\n",
    "from datetime import date\n",
    "time = str(date.today().year) + '-' + str(date.today().month) + '-' + str(date.today().day)\n",
    "\n",
    "realdata[['id', 'Start_Time', 'prob']].to_csv('pred_{}_Golden_Bullet.csv'.format(time), index = False)"
   ]
  },
  {
   "cell_type": "code",
   "execution_count": null,
   "metadata": {},
   "outputs": [],
   "source": [
    "# to make the prediction doesn't include today\n",
    "realdata['Start_Time']"
   ]
  },
  {
   "cell_type": "code",
   "execution_count": null,
   "metadata": {},
   "outputs": [],
   "source": []
  }
 ],
 "metadata": {
  "kernelspec": {
   "display_name": "Python 3",
   "language": "python",
   "name": "python3"
  },
  "language_info": {
   "codemirror_mode": {
    "name": "ipython",
    "version": 3
   },
   "file_extension": ".py",
   "mimetype": "text/x-python",
   "name": "python",
   "nbconvert_exporter": "python",
   "pygments_lexer": "ipython3",
   "version": "3.8.3"
  }
 },
 "nbformat": 4,
 "nbformat_minor": 4
}
